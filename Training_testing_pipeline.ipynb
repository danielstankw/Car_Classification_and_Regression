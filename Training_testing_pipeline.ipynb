{
 "cells": [
  {
   "cell_type": "code",
   "execution_count": 1,
   "id": "ab6ec3aa",
   "metadata": {},
   "outputs": [],
   "source": [
    "import numpy as np\n",
    "import pandas as pd\n",
    "import matplotlib.pyplot as plt\n",
    "import seaborn as sns\n",
    "import re\n",
    "import xgboost as xgb\n",
    "import optuna\n",
    "\n",
    "from sklearn.preprocessing import LabelEncoder\n",
    "from sklearn.model_selection import train_test_split, KFold\n",
    "from sklearn.metrics import accuracy_score, classification_report, confusion_matrix, roc_auc_score\n",
    "from sklearn.ensemble import RandomForestClassifier\n",
    "from sklearn.base import BaseEstimator, TransformerMixin\n",
    "from sklearn.preprocessing import FunctionTransformer, OneHotEncoder\n",
    "from sklearn.pipeline import Pipeline, FeatureUnion\n",
    "from sklearn.compose import ColumnTransformer"
   ]
  },
  {
   "cell_type": "code",
   "execution_count": 2,
   "id": "2fd3943f",
   "metadata": {},
   "outputs": [],
   "source": [
    "# importing transformations for feature pipeline from .py script\n",
    "from pipeline_helpers.feature_transformations import *\n",
    "from pipeline_helpers.target_transformation import *"
   ]
  },
  {
   "cell_type": "markdown",
   "id": "422ebdb8",
   "metadata": {},
   "source": [
    "### Configuration"
   ]
  },
  {
   "cell_type": "code",
   "execution_count": 3,
   "id": "0f489439",
   "metadata": {},
   "outputs": [],
   "source": [
    "# set visibility for all the columns\n",
    "pd.set_option('display.max_columns', None)"
   ]
  },
  {
   "cell_type": "code",
   "execution_count": 4,
   "id": "4e9888c6",
   "metadata": {},
   "outputs": [],
   "source": [
    "def missing_data_info(df):\n",
    "    total_missing = df.isnull().sum()\n",
    "    percent_missing = (df.isnull().sum() / df.shape[0]) * 100\n",
    "    \n",
    "    # Combine the results into a DataFrame and sort by the 'Percent' column\n",
    "    missing_data = pd.concat([total_missing, percent_missing], axis=1, keys=['Total', 'Percent'])\n",
    "    missing_data = missing_data[missing_data['Percent'] > 0].sort_values(by='Percent', ascending=False)\n",
    "    \n",
    "    return missing_data"
   ]
  },
  {
   "cell_type": "markdown",
   "id": "9dd197e7",
   "metadata": {},
   "source": [
    "### Data Loading"
   ]
  },
  {
   "cell_type": "code",
   "execution_count": 5,
   "id": "1d137d6a",
   "metadata": {},
   "outputs": [],
   "source": [
    "# Load the datasets\n",
    "train_df = pd.read_csv('data/Training_dataset.csv')\n",
    "test_df = pd.read_csv('data/Test_dataset.csv')"
   ]
  },
  {
   "cell_type": "code",
   "execution_count": 6,
   "id": "8a5161bb",
   "metadata": {
    "scrolled": false
   },
   "outputs": [
    {
     "data": {
      "text/html": [
       "<div>\n",
       "<style scoped>\n",
       "    .dataframe tbody tr th:only-of-type {\n",
       "        vertical-align: middle;\n",
       "    }\n",
       "\n",
       "    .dataframe tbody tr th {\n",
       "        vertical-align: top;\n",
       "    }\n",
       "\n",
       "    .dataframe thead th {\n",
       "        text-align: right;\n",
       "    }\n",
       "</style>\n",
       "<table border=\"1\" class=\"dataframe\">\n",
       "  <thead>\n",
       "    <tr style=\"text-align: right;\">\n",
       "      <th></th>\n",
       "      <th>Total</th>\n",
       "      <th>Percent</th>\n",
       "    </tr>\n",
       "  </thead>\n",
       "  <tbody>\n",
       "    <tr>\n",
       "      <th>VehColorInt</th>\n",
       "      <td>728</td>\n",
       "      <td>11.559225</td>\n",
       "    </tr>\n",
       "    <tr>\n",
       "      <th>Vehicle_Trim</th>\n",
       "      <td>405</td>\n",
       "      <td>6.430613</td>\n",
       "    </tr>\n",
       "    <tr>\n",
       "      <th>VehDriveTrain</th>\n",
       "      <td>401</td>\n",
       "      <td>6.367101</td>\n",
       "    </tr>\n",
       "    <tr>\n",
       "      <th>VehEngine</th>\n",
       "      <td>361</td>\n",
       "      <td>5.731978</td>\n",
       "    </tr>\n",
       "    <tr>\n",
       "      <th>VehPriceLabel</th>\n",
       "      <td>285</td>\n",
       "      <td>4.525246</td>\n",
       "    </tr>\n",
       "    <tr>\n",
       "      <th>VehFeats</th>\n",
       "      <td>275</td>\n",
       "      <td>4.366466</td>\n",
       "    </tr>\n",
       "    <tr>\n",
       "      <th>VehSellerNotes</th>\n",
       "      <td>243</td>\n",
       "      <td>3.858368</td>\n",
       "    </tr>\n",
       "    <tr>\n",
       "      <th>VehHistory</th>\n",
       "      <td>201</td>\n",
       "      <td>3.191489</td>\n",
       "    </tr>\n",
       "    <tr>\n",
       "      <th>VehTransmission</th>\n",
       "      <td>197</td>\n",
       "      <td>3.127977</td>\n",
       "    </tr>\n",
       "    <tr>\n",
       "      <th>VehColorExt</th>\n",
       "      <td>73</td>\n",
       "      <td>1.159098</td>\n",
       "    </tr>\n",
       "    <tr>\n",
       "      <th>Dealer_Listing_Price</th>\n",
       "      <td>52</td>\n",
       "      <td>0.825659</td>\n",
       "    </tr>\n",
       "    <tr>\n",
       "      <th>SellerListSrc</th>\n",
       "      <td>2</td>\n",
       "      <td>0.031756</td>\n",
       "    </tr>\n",
       "    <tr>\n",
       "      <th>SellerZip</th>\n",
       "      <td>2</td>\n",
       "      <td>0.031756</td>\n",
       "    </tr>\n",
       "    <tr>\n",
       "      <th>VehFuel</th>\n",
       "      <td>2</td>\n",
       "      <td>0.031756</td>\n",
       "    </tr>\n",
       "    <tr>\n",
       "      <th>VehListdays</th>\n",
       "      <td>2</td>\n",
       "      <td>0.031756</td>\n",
       "    </tr>\n",
       "    <tr>\n",
       "      <th>VehMileage</th>\n",
       "      <td>2</td>\n",
       "      <td>0.031756</td>\n",
       "    </tr>\n",
       "  </tbody>\n",
       "</table>\n",
       "</div>"
      ],
      "text/plain": [
       "                      Total    Percent\n",
       "VehColorInt             728  11.559225\n",
       "Vehicle_Trim            405   6.430613\n",
       "VehDriveTrain           401   6.367101\n",
       "VehEngine               361   5.731978\n",
       "VehPriceLabel           285   4.525246\n",
       "VehFeats                275   4.366466\n",
       "VehSellerNotes          243   3.858368\n",
       "VehHistory              201   3.191489\n",
       "VehTransmission         197   3.127977\n",
       "VehColorExt              73   1.159098\n",
       "Dealer_Listing_Price     52   0.825659\n",
       "SellerListSrc             2   0.031756\n",
       "SellerZip                 2   0.031756\n",
       "VehFuel                   2   0.031756\n",
       "VehListdays               2   0.031756\n",
       "VehMileage                2   0.031756"
      ]
     },
     "execution_count": 6,
     "metadata": {},
     "output_type": "execute_result"
    }
   ],
   "source": [
    "missing_data_info(train_df)"
   ]
  },
  {
   "cell_type": "markdown",
   "id": "6c86da32",
   "metadata": {},
   "source": [
    "### Preparation of target variables"
   ]
  },
  {
   "cell_type": "code",
   "execution_count": 7,
   "id": "5ef89905",
   "metadata": {},
   "outputs": [],
   "source": [
    "train_df_final = preprocessing_target_variables(train_df)"
   ]
  },
  {
   "cell_type": "markdown",
   "id": "3baece33",
   "metadata": {},
   "source": [
    "## 1. Classifier - Vehicle_Trim"
   ]
  },
  {
   "cell_type": "markdown",
   "id": "a5dec12e",
   "metadata": {},
   "source": [
    "### Training and preprocessing using pipeline"
   ]
  },
  {
   "cell_type": "code",
   "execution_count": 8,
   "id": "7bcf5b27",
   "metadata": {},
   "outputs": [],
   "source": [
    "# Label encode Vehicle_Trim\n",
    "le = LabelEncoder()\n",
    "y = le.fit_transform(train_df_final['Vehicle_Trim'])\n",
    "\n",
    "# Split data into training and test sets\n",
    "X = train_df_final.drop(['Vehicle_Trim', 'Dealer_Listing_Price'], axis=1)\n",
    "X_train, X_valid, y_train, y_valid = train_test_split(X, y, test_size=0.2, random_state=42)"
   ]
  },
  {
   "cell_type": "code",
   "execution_count": 9,
   "id": "81230dfa",
   "metadata": {},
   "outputs": [
    {
     "name": "stdout",
     "output_type": "stream",
     "text": [
      "[0 1 2 3 4 5 6 7 8 9]\n",
      "[0 1 2 3 4 5 6 7 8 9]\n",
      "[0 1 2 3 4 5 6 7 8 9]\n"
     ]
    }
   ],
   "source": [
    "print(np.unique(y))\n",
    "print(np.unique(y_train))\n",
    "print(np.unique(y_valid))"
   ]
  },
  {
   "cell_type": "code",
   "execution_count": 10,
   "id": "0b431bdf",
   "metadata": {},
   "outputs": [],
   "source": [
    "# Define and use your transformation pipeline on X\n",
    "CURRENT_YEAR = 2023\n",
    "index_feature = ['ListingID']\n",
    "unused_features = ['VehTransmission','VehBodystyle','SellerZip','VehType','VehSellerNotes',\n",
    "                       'VehPriceLabel','VehModel','SellerIsPriv','SellerName','SellerCity']\n",
    "\n",
    "log_transform_features = ['SellerRevCnt', 'VehListdays']\n",
    "boolean_feature = ['VehCertified']\n",
    "one_hot_features = ['SellerListSrc', 'SellerState', 'VehFuel', 'VehDrive','BasicExtColor','Engine_Category']\n",
    "\n",
    "preprocessing_pipeline = Pipeline([\n",
    "    (\"set_index\", SetIndex(index_feature=index_feature)),\n",
    "    (\"drop_unused\", DropUnused(features=unused_features)),\n",
    "    (\"log_transform\", LogTransform(features=log_transform_features)),\n",
    "    (\"age_feature\", AgeFeatureTransform(current_year=CURRENT_YEAR)),\n",
    "    (\"boolean_encode\", BooleanEncoding(features=boolean_feature)),\n",
    "    ('veh_drive_train_transform', VehDriveTrainTransform()),\n",
    "    ('veh_feats_transform', VehFeatsTransform()),\n",
    "    ('veh_color_ext_transform', VehColorExtTransform()),\n",
    "    ('veh_color_int_transform', VehColorInternalTransform()),\n",
    "    ('veh_engine_transform', VehEngineTransform()),\n",
    "    ('veh_make_transform', VehMakeTransform()),\n",
    "    ('veh_mileage_transform', VehMileageTransform()),\n",
    "    ('veh_history_transform', VehHistoryTransform()),\n",
    "    (\"column_transformer\", ColumnTransformer([\n",
    "        (\"one_hot_encode\", OneHotEncoder(handle_unknown='ignore', dtype=int), \n",
    "         one_hot_features)], remainder='passthrough'))])"
   ]
  },
  {
   "cell_type": "markdown",
   "id": "f646b965",
   "metadata": {},
   "source": [
    "- `remainder=passthrough` argument ensures that columns not explicitly specified in the transformer list are left unchanged.\n",
    "- `handle_unknown=ignore` ensures that unseen categories in the test set won't cause errors and will be ignored. This is essential to handle potential differences in categories between the training and test datasets."
   ]
  },
  {
   "cell_type": "code",
   "execution_count": 11,
   "id": "12606434",
   "metadata": {
    "scrolled": false
   },
   "outputs": [],
   "source": [
    "# Transform the train and validation data\n",
    "X_train_transformed = preprocessing_pipeline.fit_transform(X_train)\n",
    "X_valid_transformed = preprocessing_pipeline.transform(X_valid)"
   ]
  },
  {
   "cell_type": "code",
   "execution_count": 12,
   "id": "5d317d34",
   "metadata": {},
   "outputs": [
    {
     "name": "stdout",
     "output_type": "stream",
     "text": [
      "Original X_train shape: (4642, 27)\n",
      "Transformed X_train shape: (4642, 94)\n",
      "y_train shape: (4642,)\n"
     ]
    }
   ],
   "source": [
    "print('Original X_train shape:',X_train.shape)\n",
    "print('Transformed X_train shape:',X_train_transformed.shape)\n",
    "print('y_train shape:',y_train.shape)"
   ]
  },
  {
   "cell_type": "markdown",
   "id": "20687aa4",
   "metadata": {},
   "source": [
    "#### Classifier Baseling Model Training"
   ]
  },
  {
   "cell_type": "code",
   "execution_count": 13,
   "id": "e13d9d82",
   "metadata": {},
   "outputs": [
    {
     "name": "stdout",
     "output_type": "stream",
     "text": [
      "ROC Score:  0.9392575340413764\n",
      "              precision    recall  f1-score   support\n",
      "\n",
      "           0       0.51      0.24      0.33        92\n",
      "           1       0.61      0.52      0.56        42\n",
      "           2       0.57      0.42      0.48       150\n",
      "           3       0.64      0.88      0.74       380\n",
      "           4       0.56      0.69      0.62       123\n",
      "           5       0.61      0.42      0.50       121\n",
      "           6       0.81      0.68      0.74        37\n",
      "           7       0.80      0.71      0.75       147\n",
      "           8       1.00      1.00      1.00        23\n",
      "           9       0.70      0.50      0.58        46\n",
      "\n",
      "    accuracy                           0.65      1161\n",
      "   macro avg       0.68      0.61      0.63      1161\n",
      "weighted avg       0.64      0.65      0.63      1161\n",
      "\n"
     ]
    },
    {
     "data": {
      "image/png": "[encoded data removed]",
      "text/plain": [
       "<Figure size 800x600 with 2 Axes>"
      ]
     },
     "metadata": {},
     "output_type": "display_data"
    }
   ],
   "source": [
    "model = xgb.XGBClassifier(use_label_encoder=False, eval_metric='merror')\n",
    "model.fit(X_train_transformed, y_train) \n",
    "\n",
    "# Predictions\n",
    "y_valid_prob  = model.predict_proba(X_valid_transformed)\n",
    "y_valid_label = np.argmax(y_valid_prob, axis=1)\n",
    "\n",
    "roc_auc = roc_auc_score(y_valid, y_valid_prob, multi_class='ovr')\n",
    "\n",
    "print('ROC Score: ',roc_auc)\n",
    "\n",
    "report = classification_report(y_valid, y_valid_label)\n",
    "print(report)\n",
    "\n",
    "cm = confusion_matrix(y_valid, y_valid_label)\n",
    "plt.figure(figsize=(8,6))\n",
    "sns.heatmap(cm, annot=True, fmt=\"d\", cmap=\"Blues\")\n",
    "plt.ylabel('True Label')\n",
    "plt.xlabel('Predicted Label')\n",
    "plt.show()"
   ]
  },
  {
   "cell_type": "markdown",
   "id": "ea7d4d07",
   "metadata": {},
   "source": [
    "### Hyperparameter Tunning using Optuna"
   ]
  },
  {
   "cell_type": "code",
   "execution_count": 15,
   "id": "704108c8",
   "metadata": {},
   "outputs": [],
   "source": [
    "def objective(trial):\n",
    "    # Define hyperparameter search space\n",
    "    print('Trial: ', trial.number)\n",
    "\n",
    "        \n",
    "    param = {\n",
    "        'n_estimators': trial.suggest_int('n_estimators', 100, 1000),\n",
    "        'max_depth': trial.suggest_int('max_depth', 3, 9),\n",
    "        'learning_rate': trial.suggest_float('learning_rate', 0.005, 0.5, log=True),\n",
    "        'subsample': trial.suggest_float('subsample', 0.5, 1),\n",
    "        'colsample_bytree': trial.suggest_float('colsample_bytree', 0.5, 1),\n",
    "        'gamma': trial.suggest_float('gamma', 0, 0.5),\n",
    "        'lambda': trial.suggest_float('lambda', 1e-8, 1.0, log=True),\n",
    "        'alpha': trial.suggest_float('alpha', 1e-8, 1.0, log=True),\n",
    "        'min_child_weight': trial.suggest_int('min_child_weight', 1, 10),\n",
    "        'use_label_encoder': False,\n",
    "        'eval_metric': 'merror'\n",
    "    }\n",
    "\n",
    "    # Initialize and train classifier\n",
    "    model = xgb.XGBClassifier(**param)\n",
    "    model.fit(X_train_transformed, y_train, eval_set=[(X_valid_transformed, y_valid)], verbose=False)\n",
    "\n",
    "    # Predictions\n",
    "    y_valid_prob  = model.predict_proba(X_valid_transformed)\n",
    "    y_valid_label = np.argmax(y_valid_prob, axis=1)\n",
    "\n",
    "    roc_auc = roc_auc_score(y_valid, y_valid_prob, multi_class='ovr')\n",
    "\n",
    "    # Return AUC\n",
    "    return roc_auc"
   ]
  },
  {
   "cell_type": "code",
   "execution_count": 16,
   "id": "f28f9b4a",
   "metadata": {},
   "outputs": [
    {
     "name": "stderr",
     "output_type": "stream",
     "text": [
      "[I 2023-10-26 11:59:11,696] A new study created in memory with name: no-name-88d3a4ba-4fad-49b7-b42d-0916056c1e2c\n"
     ]
    },
    {
     "name": "stdout",
     "output_type": "stream",
     "text": [
      "Trial:  0\n"
     ]
    },
    {
     "name": "stderr",
     "output_type": "stream",
     "text": [
      "[I 2023-10-26 11:59:13,389] Trial 0 finished with value: 0.9343284603295745 and parameters: {'n_estimators': 184, 'max_depth': 7, 'learning_rate': 0.20801540858510095, 'subsample': 0.7790570514833028, 'colsample_bytree': 0.8666208615355606, 'gamma': 0.1652390606905048, 'lambda': 0.08699160504393891, 'alpha': 0.00012048685617050913, 'min_child_weight': 7}. Best is trial 0 with value: 0.9343284603295745.\n"
     ]
    },
    {
     "name": "stdout",
     "output_type": "stream",
     "text": [
      "Trial:  1\n"
     ]
    },
    {
     "name": "stderr",
     "output_type": "stream",
     "text": [
      "[I 2023-10-26 11:59:20,107] Trial 1 finished with value: 0.9362333893642584 and parameters: {'n_estimators': 801, 'max_depth': 9, 'learning_rate': 0.39601121987977494, 'subsample': 0.7650159265566437, 'colsample_bytree': 0.6273346226955602, 'gamma': 0.10202640804337887, 'lambda': 0.01997463980098406, 'alpha': 1.2683410353550242e-08, 'min_child_weight': 1}. Best is trial 1 with value: 0.9362333893642584.\n"
     ]
    },
    {
     "name": "stdout",
     "output_type": "stream",
     "text": [
      "Trial:  2\n"
     ]
    },
    {
     "name": "stderr",
     "output_type": "stream",
     "text": [
      "[I 2023-10-26 11:59:26,124] Trial 2 finished with value: 0.9360699869761987 and parameters: {'n_estimators': 325, 'max_depth': 9, 'learning_rate': 0.10975716677532411, 'subsample': 0.5104383346628856, 'colsample_bytree': 0.9297716683863197, 'gamma': 0.16840630457856298, 'lambda': 9.591265648797883e-05, 'alpha': 1.6353143570297765e-06, 'min_child_weight': 1}. Best is trial 1 with value: 0.9362333893642584.\n"
     ]
    },
    {
     "name": "stdout",
     "output_type": "stream",
     "text": [
      "Trial:  3\n"
     ]
    },
    {
     "name": "stderr",
     "output_type": "stream",
     "text": [
      "[I 2023-10-26 11:59:35,347] Trial 3 finished with value: 0.9353057097405321 and parameters: {'n_estimators': 570, 'max_depth': 7, 'learning_rate': 0.0052797577098333374, 'subsample': 0.7746808767128921, 'colsample_bytree': 0.5976373765384495, 'gamma': 0.13062136736410251, 'lambda': 3.728684556334089e-07, 'alpha': 0.0047486993125976235, 'min_child_weight': 7}. Best is trial 1 with value: 0.9362333893642584.\n"
     ]
    },
    {
     "name": "stdout",
     "output_type": "stream",
     "text": [
      "Trial:  4\n"
     ]
    },
    {
     "name": "stderr",
     "output_type": "stream",
     "text": [
      "[I 2023-10-26 11:59:38,471] Trial 4 finished with value: 0.9385495054063785 and parameters: {'n_estimators': 202, 'max_depth': 8, 'learning_rate': 0.03772422362383541, 'subsample': 0.7877151952304214, 'colsample_bytree': 0.735922547889562, 'gamma': 0.07579306701012806, 'lambda': 1.610815709269123e-05, 'alpha': 8.19233708623463e-06, 'min_child_weight': 10}. Best is trial 4 with value: 0.9385495054063785.\n"
     ]
    },
    {
     "name": "stdout",
     "output_type": "stream",
     "text": [
      "Trial:  5\n"
     ]
    },
    {
     "name": "stderr",
     "output_type": "stream",
     "text": [
      "[I 2023-10-26 11:59:50,471] Trial 5 finished with value: 0.9358854363896464 and parameters: {'n_estimators': 891, 'max_depth': 8, 'learning_rate': 0.11007202291646828, 'subsample': 0.8286542801819421, 'colsample_bytree': 0.8851902127087519, 'gamma': 0.09853087697641105, 'lambda': 2.38519338277534e-05, 'alpha': 4.6743428538427764e-08, 'min_child_weight': 5}. Best is trial 4 with value: 0.9385495054063785.\n"
     ]
    },
    {
     "name": "stdout",
     "output_type": "stream",
     "text": [
      "Trial:  6\n"
     ]
    },
    {
     "name": "stderr",
     "output_type": "stream",
     "text": [
      "[I 2023-10-26 11:59:51,705] Trial 6 finished with value: 0.9391311339253695 and parameters: {'n_estimators': 110, 'max_depth': 6, 'learning_rate': 0.369124703659327, 'subsample': 0.9401069732556883, 'colsample_bytree': 0.7109187895427591, 'gamma': 0.3806574389570756, 'lambda': 3.167780550949483e-05, 'alpha': 8.976130225489175e-05, 'min_child_weight': 2}. Best is trial 6 with value: 0.9391311339253695.\n"
     ]
    },
    {
     "name": "stdout",
     "output_type": "stream",
     "text": [
      "Trial:  7\n"
     ]
    },
    {
     "name": "stderr",
     "output_type": "stream",
     "text": [
      "[I 2023-10-26 11:59:57,489] Trial 7 finished with value: 0.9418972044013983 and parameters: {'n_estimators': 368, 'max_depth': 8, 'learning_rate': 0.03357107206875864, 'subsample': 0.934323784634609, 'colsample_bytree': 0.8021900331755882, 'gamma': 0.43104549562855793, 'lambda': 5.897496138692197e-05, 'alpha': 0.41653420328823987, 'min_child_weight': 6}. Best is trial 7 with value: 0.9418972044013983.\n"
     ]
    },
    {
     "name": "stdout",
     "output_type": "stream",
     "text": [
      "Trial:  8\n"
     ]
    },
    {
     "name": "stderr",
     "output_type": "stream",
     "text": [
      "[I 2023-10-26 12:00:08,904] Trial 8 finished with value: 0.9375194364571341 and parameters: {'n_estimators': 732, 'max_depth': 5, 'learning_rate': 0.05587686576374841, 'subsample': 0.5763810578117787, 'colsample_bytree': 0.9166762657948937, 'gamma': 0.15946639083351144, 'lambda': 0.035556342018008516, 'alpha': 0.13313179151433943, 'min_child_weight': 1}. Best is trial 7 with value: 0.9418972044013983.\n"
     ]
    },
    {
     "name": "stdout",
     "output_type": "stream",
     "text": [
      "Trial:  9\n"
     ]
    },
    {
     "name": "stderr",
     "output_type": "stream",
     "text": [
      "[I 2023-10-26 12:00:17,523] Trial 9 finished with value: 0.9349622875082396 and parameters: {'n_estimators': 574, 'max_depth': 5, 'learning_rate': 0.012983699299847851, 'subsample': 0.5999618596024573, 'colsample_bytree': 0.9946464146898829, 'gamma': 0.4560172640553016, 'lambda': 2.7526006349105397e-07, 'alpha': 2.704962568461496e-08, 'min_child_weight': 8}. Best is trial 7 with value: 0.9418972044013983.\n"
     ]
    },
    {
     "name": "stdout",
     "output_type": "stream",
     "text": [
      "Number of finished trials: 10\n",
      "\n",
      "Best trial parameters: {'n_estimators': 368, 'max_depth': 8, 'learning_rate': 0.03357107206875864, 'subsample': 0.934323784634609, 'colsample_bytree': 0.8021900331755882, 'gamma': 0.43104549562855793, 'lambda': 5.897496138692197e-05, 'alpha': 0.41653420328823987, 'min_child_weight': 6}\n",
      "\n",
      "Best AUC: 0.9418972044013983\n"
     ]
    }
   ],
   "source": [
    "# Initiate the optimizer\n",
    "study = optuna.create_study(direction='maximize')\n",
    "study.optimize(objective, n_trials=10)\n",
    "\n",
    "# Results\n",
    "print(f\"Number of finished trials: {len(study.trials)}\\n\")\n",
    "print(f\"Best trial parameters: {study.best_trial.params}\\n\")\n",
    "print(f\"Best AUC: {study.best_value}\")"
   ]
  },
  {
   "cell_type": "markdown",
   "id": "67a2cb1d",
   "metadata": {},
   "source": [
    "#### Classification on unseen test set"
   ]
  },
  {
   "cell_type": "code",
   "execution_count": 17,
   "id": "1b3cbec3",
   "metadata": {},
   "outputs": [],
   "source": [
    "X_test_transformed = preprocessing_pipeline.transform(test_df)"
   ]
  },
  {
   "cell_type": "code",
   "execution_count": 18,
   "id": "a7b79d29",
   "metadata": {},
   "outputs": [
    {
     "name": "stdout",
     "output_type": "stream",
     "text": [
      "Original X_train shape: (4642, 27)\n",
      "Transformed X_train shape: (4642, 94)\n",
      "y_train shape: (4642,)\n",
      "\n",
      "Original X_test shape: (1000, 27)\n",
      "Transformed X_test shape: (1000, 94)\n"
     ]
    }
   ],
   "source": [
    "print('Original X_train shape:',X_train.shape)\n",
    "print('Transformed X_train shape:',X_train_transformed.shape)\n",
    "print('y_train shape:',y_train.shape)\n",
    "print()\n",
    "print('Original X_test shape:',test_df.shape)\n",
    "print('Transformed X_test shape:',X_test_transformed.shape)"
   ]
  },
  {
   "cell_type": "code",
   "execution_count": 19,
   "id": "bcc01f79",
   "metadata": {},
   "outputs": [],
   "source": [
    "# Predictions\n",
    "y_test_prob  = model.predict_proba(X_test_transformed)\n",
    "y_test_label = np.argmax(y_test_prob, axis=1)"
   ]
  },
  {
   "cell_type": "code",
   "execution_count": 20,
   "id": "8f83856a",
   "metadata": {},
   "outputs": [
    {
     "data": {
      "text/plain": [
       "array([7, 3, 0, 3, 4], dtype=int64)"
      ]
     },
     "execution_count": 20,
     "metadata": {},
     "output_type": "execute_result"
    }
   ],
   "source": [
    "y_test_label[:5]"
   ]
  },
  {
   "cell_type": "code",
   "execution_count": null,
   "id": "18971377",
   "metadata": {},
   "outputs": [],
   "source": []
  },
  {
   "cell_type": "code",
   "execution_count": null,
   "id": "73e5b72e",
   "metadata": {},
   "outputs": [],
   "source": []
  },
  {
   "cell_type": "code",
   "execution_count": null,
   "id": "120e7add",
   "metadata": {},
   "outputs": [],
   "source": []
  }
 ],
 "metadata": {
  "kernelspec": {
   "display_name": "Python 3 (ipykernel)",
   "language": "python",
   "name": "python3"
  },
  "language_info": {
   "codemirror_mode": {
    "name": "ipython",
    "version": 3
   },
   "file_extension": ".py",
   "mimetype": "text/x-python",
   "name": "python",
   "nbconvert_exporter": "python",
   "pygments_lexer": "ipython3",
   "version": "3.10.9"
  }
 },
 "nbformat": 4,
 "nbformat_minor": 5
}
