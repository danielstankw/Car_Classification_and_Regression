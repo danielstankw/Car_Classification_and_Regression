{
 "cells": [
  {
   "cell_type": "code",
   "execution_count": 1,
   "id": "83acc28b",
   "metadata": {},
   "outputs": [],
   "source": [
    "import numpy as np\n",
    "import pandas as pd\n",
    "import matplotlib.pyplot as plt\n",
    "import seaborn as sns\n",
    "import re\n",
    "import xgboost as xgb\n",
    "import optuna\n",
    "\n",
    "from sklearn.preprocessing import LabelEncoder\n",
    "from sklearn.model_selection import train_test_split, KFold\n",
    "from sklearn.metrics import accuracy_score, classification_report, confusion_matrix, roc_auc_score"
   ]
  },
  {
   "cell_type": "code",
   "execution_count": 2,
   "id": "5db72519",
   "metadata": {},
   "outputs": [],
   "source": [
    "# set visibility for all the columns\n",
    "pd.set_option('display.max_columns', None)"
   ]
  },
  {
   "cell_type": "code",
   "execution_count": 3,
   "id": "73f84de0",
   "metadata": {},
   "outputs": [],
   "source": [
    "# Load the datasets\n",
    "df = pd.read_csv('data/Training_dataset.csv')\n",
    "test_df = pd.read_csv('data/Test_dataset.csv')"
   ]
  },
  {
   "cell_type": "code",
   "execution_count": 4,
   "id": "e0b5390f",
   "metadata": {},
   "outputs": [],
   "source": [
    "def missing_data_info(df):\n",
    "    total_missing = df.isnull().sum()\n",
    "    percent_missing = (df.isnull().sum() / df.shape[0]) * 100\n",
    "    \n",
    "    # Combine the results into a DataFrame and sort by the 'Percent' column\n",
    "    missing_data = pd.concat([total_missing, percent_missing], axis=1, keys=['Total', 'Percent'])\n",
    "    missing_data = missing_data[missing_data['Percent'] > 0].sort_values(by='Percent', ascending=False)\n",
    "    \n",
    "    return missing_data"
   ]
  },
  {
   "cell_type": "code",
   "execution_count": 5,
   "id": "09a6aa83",
   "metadata": {},
   "outputs": [
    {
     "data": {
      "text/html": [
       "<div>\n",
       "<style scoped>\n",
       "    .dataframe tbody tr th:only-of-type {\n",
       "        vertical-align: middle;\n",
       "    }\n",
       "\n",
       "    .dataframe tbody tr th {\n",
       "        vertical-align: top;\n",
       "    }\n",
       "\n",
       "    .dataframe thead th {\n",
       "        text-align: right;\n",
       "    }\n",
       "</style>\n",
       "<table border=\"1\" class=\"dataframe\">\n",
       "  <thead>\n",
       "    <tr style=\"text-align: right;\">\n",
       "      <th></th>\n",
       "      <th>Total</th>\n",
       "      <th>Percent</th>\n",
       "    </tr>\n",
       "  </thead>\n",
       "  <tbody>\n",
       "    <tr>\n",
       "      <th>VehColorInt</th>\n",
       "      <td>108</td>\n",
       "      <td>10.8</td>\n",
       "    </tr>\n",
       "    <tr>\n",
       "      <th>VehDriveTrain</th>\n",
       "      <td>64</td>\n",
       "      <td>6.4</td>\n",
       "    </tr>\n",
       "    <tr>\n",
       "      <th>VehEngine</th>\n",
       "      <td>58</td>\n",
       "      <td>5.8</td>\n",
       "    </tr>\n",
       "    <tr>\n",
       "      <th>VehSellerNotes</th>\n",
       "      <td>41</td>\n",
       "      <td>4.1</td>\n",
       "    </tr>\n",
       "    <tr>\n",
       "      <th>VehPriceLabel</th>\n",
       "      <td>38</td>\n",
       "      <td>3.8</td>\n",
       "    </tr>\n",
       "    <tr>\n",
       "      <th>VehFeats</th>\n",
       "      <td>37</td>\n",
       "      <td>3.7</td>\n",
       "    </tr>\n",
       "    <tr>\n",
       "      <th>VehHistory</th>\n",
       "      <td>27</td>\n",
       "      <td>2.7</td>\n",
       "    </tr>\n",
       "    <tr>\n",
       "      <th>VehTransmission</th>\n",
       "      <td>27</td>\n",
       "      <td>2.7</td>\n",
       "    </tr>\n",
       "    <tr>\n",
       "      <th>VehColorExt</th>\n",
       "      <td>7</td>\n",
       "      <td>0.7</td>\n",
       "    </tr>\n",
       "    <tr>\n",
       "      <th>VehMileage</th>\n",
       "      <td>1</td>\n",
       "      <td>0.1</td>\n",
       "    </tr>\n",
       "  </tbody>\n",
       "</table>\n",
       "</div>"
      ],
      "text/plain": [
       "                 Total  Percent\n",
       "VehColorInt        108     10.8\n",
       "VehDriveTrain       64      6.4\n",
       "VehEngine           58      5.8\n",
       "VehSellerNotes      41      4.1\n",
       "VehPriceLabel       38      3.8\n",
       "VehFeats            37      3.7\n",
       "VehHistory          27      2.7\n",
       "VehTransmission     27      2.7\n",
       "VehColorExt          7      0.7\n",
       "VehMileage           1      0.1"
      ]
     },
     "execution_count": 5,
     "metadata": {},
     "output_type": "execute_result"
    }
   ],
   "source": [
    "missing_data_info(test_df)"
   ]
  },
  {
   "cell_type": "code",
   "execution_count": 6,
   "id": "9d5b21f4",
   "metadata": {},
   "outputs": [],
   "source": [
    "imputation_features = ['VehColorExt','VehColorInt','VehDriveTrain','VehEngine','VehFeats','VehHistory','VehMileage',\n",
    "                      'VehPriceLabel','VehSellerNotes','VehTransmission']"
   ]
  },
  {
   "cell_type": "code",
   "execution_count": 7,
   "id": "18bf0acd",
   "metadata": {},
   "outputs": [
    {
     "data": {
      "text/plain": [
       "(1000, 27)"
      ]
     },
     "execution_count": 7,
     "metadata": {},
     "output_type": "execute_result"
    }
   ],
   "source": [
    "test_df.shape"
   ]
  },
  {
   "cell_type": "markdown",
   "id": "93a940a6",
   "metadata": {},
   "source": [
    "# Frame the problem\n",
    "The problem is:\n",
    "- Regression: predict the price at which car was listed by the dealer\n",
    "- Classification: classify the value of the trim\n",
    "\n",
    "We are dealing with:\n",
    "- [Cadillac XT5](https://en.wikipedia.org/wiki/Cadillac_XT5) </br>\n",
    "- [Jeep Grand Cherokee (WK2)](https://en.wikipedia.org/wiki/Jeep_Grand_Cherokee_%28WK2%29)"
   ]
  },
  {
   "cell_type": "markdown",
   "id": "35c5b24a",
   "metadata": {},
   "source": [
    "### Small Theory"
   ]
  },
  {
   "cell_type": "markdown",
   "id": "02d9876a",
   "metadata": {},
   "source": [
    "#### Cadilac XT5\n",
    "1. Trim levels ( 4 kinds)\n",
    "- Base\n",
    "- Luxury\n",
    "- Premium Luxury\n",
    "- Platinum\n",
    "\n",
    "#### Jeep Cherokee\n",
    "2. Trim levels (many)\n",
    "- Laredo\n",
    "- Laredo E\n",
    "- Upland\n",
    "- Laredo X\n",
    "- Trail Hawk\n",
    "- Limited\n",
    "- Sterling Edition\n",
    "- Overland\n",
    "- Overland Summit/ Summit\n",
    "- SRT\n",
    "- Trackhawk"
   ]
  },
  {
   "cell_type": "markdown",
   "id": "2038575b",
   "metadata": {},
   "source": [
    "- Regression: RMSE\n",
    "- Classification: AUC"
   ]
  },
  {
   "cell_type": "markdown",
   "id": "ff699d28",
   "metadata": {},
   "source": [
    "# Data Exploration - train/ validation data"
   ]
  },
  {
   "cell_type": "code",
   "execution_count": 8,
   "id": "36016ce1",
   "metadata": {},
   "outputs": [
    {
     "data": {
      "text/plain": [
       "(6298, 29)"
      ]
     },
     "execution_count": 8,
     "metadata": {},
     "output_type": "execute_result"
    }
   ],
   "source": [
    "df.shape"
   ]
  },
  {
   "cell_type": "code",
   "execution_count": 9,
   "id": "539ae5aa",
   "metadata": {
    "scrolled": true
   },
   "outputs": [
    {
     "data": {
      "text/html": [
       "<div>\n",
       "<style scoped>\n",
       "    .dataframe tbody tr th:only-of-type {\n",
       "        vertical-align: middle;\n",
       "    }\n",
       "\n",
       "    .dataframe tbody tr th {\n",
       "        vertical-align: top;\n",
       "    }\n",
       "\n",
       "    .dataframe thead th {\n",
       "        text-align: right;\n",
       "    }\n",
       "</style>\n",
       "<table border=\"1\" class=\"dataframe\">\n",
       "  <thead>\n",
       "    <tr style=\"text-align: right;\">\n",
       "      <th></th>\n",
       "      <th>ListingID</th>\n",
       "      <th>SellerCity</th>\n",
       "      <th>SellerIsPriv</th>\n",
       "      <th>SellerListSrc</th>\n",
       "      <th>SellerName</th>\n",
       "      <th>SellerRating</th>\n",
       "      <th>SellerRevCnt</th>\n",
       "      <th>SellerState</th>\n",
       "      <th>SellerZip</th>\n",
       "      <th>VehBodystyle</th>\n",
       "      <th>VehCertified</th>\n",
       "      <th>VehColorExt</th>\n",
       "      <th>VehColorInt</th>\n",
       "      <th>VehDriveTrain</th>\n",
       "      <th>VehEngine</th>\n",
       "      <th>VehFeats</th>\n",
       "      <th>VehFuel</th>\n",
       "      <th>VehHistory</th>\n",
       "      <th>VehListdays</th>\n",
       "      <th>VehMake</th>\n",
       "      <th>VehMileage</th>\n",
       "      <th>VehModel</th>\n",
       "      <th>VehPriceLabel</th>\n",
       "      <th>VehSellerNotes</th>\n",
       "      <th>VehType</th>\n",
       "      <th>VehTransmission</th>\n",
       "      <th>VehYear</th>\n",
       "      <th>Vehicle_Trim</th>\n",
       "      <th>Dealer_Listing_Price</th>\n",
       "    </tr>\n",
       "  </thead>\n",
       "  <tbody>\n",
       "    <tr>\n",
       "      <th>0</th>\n",
       "      <td>3287</td>\n",
       "      <td>Warren</td>\n",
       "      <td>False</td>\n",
       "      <td>Inventory Command Center</td>\n",
       "      <td>Prime Motorz</td>\n",
       "      <td>5.0</td>\n",
       "      <td>32</td>\n",
       "      <td>MI</td>\n",
       "      <td>48091.0</td>\n",
       "      <td>SUV</td>\n",
       "      <td>False</td>\n",
       "      <td>White</td>\n",
       "      <td>Black</td>\n",
       "      <td>4X4</td>\n",
       "      <td>3.6L V6</td>\n",
       "      <td>['Adaptive Cruise Control', 'Antilock Brakes',...</td>\n",
       "      <td>Gasoline</td>\n",
       "      <td>1 Owner, Non-Personal Use Reported, Buyback Pr...</td>\n",
       "      <td>8.600069</td>\n",
       "      <td>Jeep</td>\n",
       "      <td>39319.0</td>\n",
       "      <td>Grand Cherokee</td>\n",
       "      <td>Fair Price</td>\n",
       "      <td>NaN</td>\n",
       "      <td>Used</td>\n",
       "      <td>Automatic 8-Speed</td>\n",
       "      <td>2015</td>\n",
       "      <td>High Altitude</td>\n",
       "      <td>30990.0</td>\n",
       "    </tr>\n",
       "    <tr>\n",
       "      <th>1</th>\n",
       "      <td>3920</td>\n",
       "      <td>Fargo</td>\n",
       "      <td>False</td>\n",
       "      <td>Cadillac Certified Program</td>\n",
       "      <td>Gateway Chevrolet Cadillac</td>\n",
       "      <td>4.8</td>\n",
       "      <td>1456</td>\n",
       "      <td>ND</td>\n",
       "      <td>58103.0</td>\n",
       "      <td>SUV</td>\n",
       "      <td>True</td>\n",
       "      <td>Black</td>\n",
       "      <td>NaN</td>\n",
       "      <td>NaN</td>\n",
       "      <td>NaN</td>\n",
       "      <td>NaN</td>\n",
       "      <td>Gasoline</td>\n",
       "      <td>1 Owner, Buyback Protection Eligible</td>\n",
       "      <td>2.920127</td>\n",
       "      <td>Cadillac</td>\n",
       "      <td>30352.0</td>\n",
       "      <td>XT5</td>\n",
       "      <td>Good Deal</td>\n",
       "      <td>Come take a look at our great pre-owned invent...</td>\n",
       "      <td>Used</td>\n",
       "      <td>NaN</td>\n",
       "      <td>2017</td>\n",
       "      <td>NaN</td>\n",
       "      <td>34860.0</td>\n",
       "    </tr>\n",
       "  </tbody>\n",
       "</table>\n",
       "</div>"
      ],
      "text/plain": [
       "   ListingID SellerCity  SellerIsPriv               SellerListSrc  \\\n",
       "0       3287     Warren         False    Inventory Command Center   \n",
       "1       3920      Fargo         False  Cadillac Certified Program   \n",
       "\n",
       "                   SellerName  SellerRating  SellerRevCnt SellerState  \\\n",
       "0                Prime Motorz           5.0            32          MI   \n",
       "1  Gateway Chevrolet Cadillac           4.8          1456          ND   \n",
       "\n",
       "   SellerZip VehBodystyle  VehCertified VehColorExt VehColorInt VehDriveTrain  \\\n",
       "0    48091.0          SUV         False       White       Black           4X4   \n",
       "1    58103.0          SUV          True       Black         NaN           NaN   \n",
       "\n",
       "  VehEngine                                           VehFeats   VehFuel  \\\n",
       "0   3.6L V6  ['Adaptive Cruise Control', 'Antilock Brakes',...  Gasoline   \n",
       "1       NaN                                                NaN  Gasoline   \n",
       "\n",
       "                                          VehHistory  VehListdays   VehMake  \\\n",
       "0  1 Owner, Non-Personal Use Reported, Buyback Pr...     8.600069      Jeep   \n",
       "1               1 Owner, Buyback Protection Eligible     2.920127  Cadillac   \n",
       "\n",
       "   VehMileage        VehModel VehPriceLabel  \\\n",
       "0     39319.0  Grand Cherokee    Fair Price   \n",
       "1     30352.0             XT5     Good Deal   \n",
       "\n",
       "                                      VehSellerNotes VehType  \\\n",
       "0                                                NaN    Used   \n",
       "1  Come take a look at our great pre-owned invent...    Used   \n",
       "\n",
       "     VehTransmission  VehYear   Vehicle_Trim  Dealer_Listing_Price  \n",
       "0  Automatic 8-Speed     2015  High Altitude               30990.0  \n",
       "1                NaN     2017            NaN               34860.0  "
      ]
     },
     "execution_count": 9,
     "metadata": {},
     "output_type": "execute_result"
    }
   ],
   "source": [
    "df.head(2)"
   ]
  },
  {
   "cell_type": "code",
   "execution_count": 10,
   "id": "c0060960",
   "metadata": {},
   "outputs": [],
   "source": [
    "df.set_index('ListingID', inplace=True)"
   ]
  },
  {
   "cell_type": "code",
   "execution_count": 11,
   "id": "2fa7a577",
   "metadata": {
    "scrolled": true
   },
   "outputs": [
    {
     "data": {
      "text/plain": [
       "Index(['SellerCity', 'SellerIsPriv', 'SellerListSrc', 'SellerName',\n",
       "       'SellerRating', 'SellerRevCnt', 'SellerState', 'SellerZip',\n",
       "       'VehBodystyle', 'VehCertified', 'VehColorExt', 'VehColorInt',\n",
       "       'VehDriveTrain', 'VehEngine', 'VehFeats', 'VehFuel', 'VehHistory',\n",
       "       'VehListdays', 'VehMake', 'VehMileage', 'VehModel', 'VehPriceLabel',\n",
       "       'VehSellerNotes', 'VehType', 'VehTransmission', 'VehYear',\n",
       "       'Vehicle_Trim', 'Dealer_Listing_Price'],\n",
       "      dtype='object')"
      ]
     },
     "execution_count": 11,
     "metadata": {},
     "output_type": "execute_result"
    }
   ],
   "source": [
    "df.columns"
   ]
  },
  {
   "cell_type": "code",
   "execution_count": 12,
   "id": "70e082ba",
   "metadata": {},
   "outputs": [
    {
     "name": "stdout",
     "output_type": "stream",
     "text": [
      "<class 'pandas.core.frame.DataFrame'>\n",
      "Int64Index: 6298 entries, 3287 to 8620012\n",
      "Data columns (total 28 columns):\n",
      " #   Column                Non-Null Count  Dtype  \n",
      "---  ------                --------------  -----  \n",
      " 0   SellerCity            6298 non-null   object \n",
      " 1   SellerIsPriv          6298 non-null   bool   \n",
      " 2   SellerListSrc         6296 non-null   object \n",
      " 3   SellerName            6298 non-null   object \n",
      " 4   SellerRating          6298 non-null   float64\n",
      " 5   SellerRevCnt          6298 non-null   int64  \n",
      " 6   SellerState           6298 non-null   object \n",
      " 7   SellerZip             6296 non-null   float64\n",
      " 8   VehBodystyle          6298 non-null   object \n",
      " 9   VehCertified          6298 non-null   bool   \n",
      " 10  VehColorExt           6225 non-null   object \n",
      " 11  VehColorInt           5570 non-null   object \n",
      " 12  VehDriveTrain         5897 non-null   object \n",
      " 13  VehEngine             5937 non-null   object \n",
      " 14  VehFeats              6023 non-null   object \n",
      " 15  VehFuel               6296 non-null   object \n",
      " 16  VehHistory            6097 non-null   object \n",
      " 17  VehListdays           6296 non-null   float64\n",
      " 18  VehMake               6298 non-null   object \n",
      " 19  VehMileage            6296 non-null   float64\n",
      " 20  VehModel              6298 non-null   object \n",
      " 21  VehPriceLabel         6013 non-null   object \n",
      " 22  VehSellerNotes        6055 non-null   object \n",
      " 23  VehType               6298 non-null   object \n",
      " 24  VehTransmission       6101 non-null   object \n",
      " 25  VehYear               6298 non-null   int64  \n",
      " 26  Vehicle_Trim          5893 non-null   object \n",
      " 27  Dealer_Listing_Price  6246 non-null   float64\n",
      "dtypes: bool(2), float64(5), int64(2), object(19)\n",
      "memory usage: 1.3+ MB\n"
     ]
    }
   ],
   "source": [
    "df.info()"
   ]
  },
  {
   "cell_type": "code",
   "execution_count": 13,
   "id": "b9185ede",
   "metadata": {},
   "outputs": [
    {
     "name": "stdout",
     "output_type": "stream",
     "text": [
      "There are 0 duplicate rows.\n"
     ]
    }
   ],
   "source": [
    "duplicate_count = df[df.duplicated()].shape[0]\n",
    "print(f\"There are {duplicate_count} duplicate rows.\")"
   ]
  },
  {
   "cell_type": "markdown",
   "id": "545cc730",
   "metadata": {},
   "source": [
    "# 1.Target variables\n",
    "- show missing values\n",
    "- delete missing values"
   ]
  },
  {
   "cell_type": "code",
   "execution_count": 14,
   "id": "958c6cac",
   "metadata": {},
   "outputs": [],
   "source": [
    "target_variables = ['Vehicle_Trim','Dealer_Listing_Price']"
   ]
  },
  {
   "cell_type": "code",
   "execution_count": 15,
   "id": "93251b9b",
   "metadata": {},
   "outputs": [
    {
     "data": {
      "text/html": [
       "<div>\n",
       "<style scoped>\n",
       "    .dataframe tbody tr th:only-of-type {\n",
       "        vertical-align: middle;\n",
       "    }\n",
       "\n",
       "    .dataframe tbody tr th {\n",
       "        vertical-align: top;\n",
       "    }\n",
       "\n",
       "    .dataframe thead th {\n",
       "        text-align: right;\n",
       "    }\n",
       "</style>\n",
       "<table border=\"1\" class=\"dataframe\">\n",
       "  <thead>\n",
       "    <tr style=\"text-align: right;\">\n",
       "      <th></th>\n",
       "      <th>Total</th>\n",
       "      <th>Percent</th>\n",
       "    </tr>\n",
       "  </thead>\n",
       "  <tbody>\n",
       "    <tr>\n",
       "      <th>VehColorInt</th>\n",
       "      <td>728</td>\n",
       "      <td>11.559225</td>\n",
       "    </tr>\n",
       "    <tr>\n",
       "      <th>Vehicle_Trim</th>\n",
       "      <td>405</td>\n",
       "      <td>6.430613</td>\n",
       "    </tr>\n",
       "    <tr>\n",
       "      <th>VehDriveTrain</th>\n",
       "      <td>401</td>\n",
       "      <td>6.367101</td>\n",
       "    </tr>\n",
       "    <tr>\n",
       "      <th>VehEngine</th>\n",
       "      <td>361</td>\n",
       "      <td>5.731978</td>\n",
       "    </tr>\n",
       "    <tr>\n",
       "      <th>VehPriceLabel</th>\n",
       "      <td>285</td>\n",
       "      <td>4.525246</td>\n",
       "    </tr>\n",
       "    <tr>\n",
       "      <th>VehFeats</th>\n",
       "      <td>275</td>\n",
       "      <td>4.366466</td>\n",
       "    </tr>\n",
       "    <tr>\n",
       "      <th>VehSellerNotes</th>\n",
       "      <td>243</td>\n",
       "      <td>3.858368</td>\n",
       "    </tr>\n",
       "    <tr>\n",
       "      <th>VehHistory</th>\n",
       "      <td>201</td>\n",
       "      <td>3.191489</td>\n",
       "    </tr>\n",
       "    <tr>\n",
       "      <th>VehTransmission</th>\n",
       "      <td>197</td>\n",
       "      <td>3.127977</td>\n",
       "    </tr>\n",
       "    <tr>\n",
       "      <th>VehColorExt</th>\n",
       "      <td>73</td>\n",
       "      <td>1.159098</td>\n",
       "    </tr>\n",
       "    <tr>\n",
       "      <th>Dealer_Listing_Price</th>\n",
       "      <td>52</td>\n",
       "      <td>0.825659</td>\n",
       "    </tr>\n",
       "    <tr>\n",
       "      <th>SellerListSrc</th>\n",
       "      <td>2</td>\n",
       "      <td>0.031756</td>\n",
       "    </tr>\n",
       "    <tr>\n",
       "      <th>SellerZip</th>\n",
       "      <td>2</td>\n",
       "      <td>0.031756</td>\n",
       "    </tr>\n",
       "    <tr>\n",
       "      <th>VehFuel</th>\n",
       "      <td>2</td>\n",
       "      <td>0.031756</td>\n",
       "    </tr>\n",
       "    <tr>\n",
       "      <th>VehListdays</th>\n",
       "      <td>2</td>\n",
       "      <td>0.031756</td>\n",
       "    </tr>\n",
       "    <tr>\n",
       "      <th>VehMileage</th>\n",
       "      <td>2</td>\n",
       "      <td>0.031756</td>\n",
       "    </tr>\n",
       "  </tbody>\n",
       "</table>\n",
       "</div>"
      ],
      "text/plain": [
       "                      Total    Percent\n",
       "VehColorInt             728  11.559225\n",
       "Vehicle_Trim            405   6.430613\n",
       "VehDriveTrain           401   6.367101\n",
       "VehEngine               361   5.731978\n",
       "VehPriceLabel           285   4.525246\n",
       "VehFeats                275   4.366466\n",
       "VehSellerNotes          243   3.858368\n",
       "VehHistory              201   3.191489\n",
       "VehTransmission         197   3.127977\n",
       "VehColorExt              73   1.159098\n",
       "Dealer_Listing_Price     52   0.825659\n",
       "SellerListSrc             2   0.031756\n",
       "SellerZip                 2   0.031756\n",
       "VehFuel                   2   0.031756\n",
       "VehListdays               2   0.031756\n",
       "VehMileage                2   0.031756"
      ]
     },
     "execution_count": 15,
     "metadata": {},
     "output_type": "execute_result"
    }
   ],
   "source": [
    "missing_data_info(df)"
   ]
  },
  {
   "cell_type": "code",
   "execution_count": 16,
   "id": "3d6fb7f5",
   "metadata": {},
   "outputs": [],
   "source": [
    "# dropping target NaN's as we cant do anything about them \n",
    "df = df.dropna(subset=['Vehicle_Trim', 'Dealer_Listing_Price'])"
   ]
  },
  {
   "cell_type": "code",
   "execution_count": 17,
   "id": "b0e3f64d",
   "metadata": {},
   "outputs": [],
   "source": [
    "y = df[target_variables]"
   ]
  },
  {
   "cell_type": "code",
   "execution_count": 18,
   "id": "5d633a17",
   "metadata": {},
   "outputs": [
    {
     "data": {
      "text/html": [
       "<div>\n",
       "<style scoped>\n",
       "    .dataframe tbody tr th:only-of-type {\n",
       "        vertical-align: middle;\n",
       "    }\n",
       "\n",
       "    .dataframe tbody tr th {\n",
       "        vertical-align: top;\n",
       "    }\n",
       "\n",
       "    .dataframe thead th {\n",
       "        text-align: right;\n",
       "    }\n",
       "</style>\n",
       "<table border=\"1\" class=\"dataframe\">\n",
       "  <thead>\n",
       "    <tr style=\"text-align: right;\">\n",
       "      <th></th>\n",
       "      <th>Vehicle_Trim</th>\n",
       "      <th>Dealer_Listing_Price</th>\n",
       "    </tr>\n",
       "    <tr>\n",
       "      <th>ListingID</th>\n",
       "      <th></th>\n",
       "      <th></th>\n",
       "    </tr>\n",
       "  </thead>\n",
       "  <tbody>\n",
       "    <tr>\n",
       "      <th>3287</th>\n",
       "      <td>High Altitude</td>\n",
       "      <td>30990.0</td>\n",
       "    </tr>\n",
       "    <tr>\n",
       "      <th>4777</th>\n",
       "      <td>Laredo</td>\n",
       "      <td>23249.0</td>\n",
       "    </tr>\n",
       "    <tr>\n",
       "      <th>6242</th>\n",
       "      <td>Limited</td>\n",
       "      <td>31977.0</td>\n",
       "    </tr>\n",
       "    <tr>\n",
       "      <th>7108</th>\n",
       "      <td>Luxury</td>\n",
       "      <td>33495.0</td>\n",
       "    </tr>\n",
       "  </tbody>\n",
       "</table>\n",
       "</div>"
      ],
      "text/plain": [
       "            Vehicle_Trim  Dealer_Listing_Price\n",
       "ListingID                                     \n",
       "3287       High Altitude               30990.0\n",
       "4777              Laredo               23249.0\n",
       "6242             Limited               31977.0\n",
       "7108              Luxury               33495.0"
      ]
     },
     "execution_count": 18,
     "metadata": {},
     "output_type": "execute_result"
    }
   ],
   "source": [
    "y.head(4)"
   ]
  },
  {
   "cell_type": "code",
   "execution_count": 19,
   "id": "e21299f2",
   "metadata": {},
   "outputs": [
    {
     "data": {
      "text/plain": [
       "(5841, 28)"
      ]
     },
     "execution_count": 19,
     "metadata": {},
     "output_type": "execute_result"
    }
   ],
   "source": [
    "df.shape"
   ]
  },
  {
   "cell_type": "markdown",
   "id": "c983309b",
   "metadata": {},
   "source": [
    "# 2. EDA - target variables"
   ]
  },
  {
   "cell_type": "markdown",
   "id": "10c151a6",
   "metadata": {},
   "source": [
    "### Target variables - `Vehicle_Trim`"
   ]
  },
  {
   "cell_type": "code",
   "execution_count": 20,
   "id": "37027e17",
   "metadata": {},
   "outputs": [],
   "source": [
    "# Get unique trims for Jeep\n",
    "jeep_trims = df[df['VehMake'] == 'Jeep']['Vehicle_Trim'].unique()\n",
    "jeep_trims_df = pd.DataFrame({'Jeep Trims' : pd.Series(jeep_trims)})\n",
    "\n",
    "# Get unique trims for Cadillac\n",
    "cadillac_trims = df[df['VehMake'] == 'Cadillac']['Vehicle_Trim'].unique()\n",
    "cadilac_trims_df = pd.DataFrame({'Jeep Trims' : pd.Series(cadillac_trims)})\n",
    "\n",
    "def value_counts_info(df):\n",
    "    all_data = []\n",
    "    \n",
    "    for column in df.columns:\n",
    "        counts = df[column].value_counts()\n",
    "        percent = (df[column].value_counts() / df.shape[0]) * 100\n",
    "        \n",
    "        data = pd.concat([counts, percent], axis=1, keys=['Counts', 'Percent']).reset_index()\n",
    "        data.rename(columns={'index': 'Value'}, inplace=True)\n",
    "        data['Column'] = column\n",
    "        all_data.append(data)\n",
    "        print('Total count: ',counts.sum())\n",
    "        \n",
    "    final_df = pd.concat(all_data, axis=0, ignore_index=True).pivot_table(index=['Column', 'Value'], values=['Counts', 'Percent'], aggfunc='first')\n",
    "    final_df = final_df.sort_values(by='Percent', ascending=False)\n",
    "\n",
    "    return final_df"
   ]
  },
  {
   "cell_type": "markdown",
   "id": "26dce89b",
   "metadata": {},
   "source": [
    "### 2.1. Jeeps\n",
    "\n",
    "#### Jeep Cherokee\n",
    "1. Trim levels (many)\n",
    "- Laredo\n",
    "- Laredo E\n",
    "- Upland\n",
    "- Laredo X\n",
    "- Trail Hawk\n",
    "- Limited\n",
    "- Sterling Edition\n",
    "- Overland\n",
    "- Overland Summit/ Summit\n",
    "- SRT\n",
    "- Trackhawk"
   ]
  },
  {
   "cell_type": "code",
   "execution_count": 21,
   "id": "2ea9b646",
   "metadata": {
    "scrolled": false
   },
   "outputs": [
    {
     "data": {
      "text/html": [
       "<div>\n",
       "<style scoped>\n",
       "    .dataframe tbody tr th:only-of-type {\n",
       "        vertical-align: middle;\n",
       "    }\n",
       "\n",
       "    .dataframe tbody tr th {\n",
       "        vertical-align: top;\n",
       "    }\n",
       "\n",
       "    .dataframe thead th {\n",
       "        text-align: right;\n",
       "    }\n",
       "</style>\n",
       "<table border=\"1\" class=\"dataframe\">\n",
       "  <thead>\n",
       "    <tr style=\"text-align: right;\">\n",
       "      <th></th>\n",
       "      <th>Jeep Trims</th>\n",
       "    </tr>\n",
       "  </thead>\n",
       "  <tbody>\n",
       "    <tr>\n",
       "      <th>0</th>\n",
       "      <td>High Altitude</td>\n",
       "    </tr>\n",
       "    <tr>\n",
       "      <th>1</th>\n",
       "      <td>Laredo</td>\n",
       "    </tr>\n",
       "    <tr>\n",
       "      <th>2</th>\n",
       "      <td>Limited</td>\n",
       "    </tr>\n",
       "    <tr>\n",
       "      <th>3</th>\n",
       "      <td>Limited 4x4</td>\n",
       "    </tr>\n",
       "    <tr>\n",
       "      <th>4</th>\n",
       "      <td>Altitude</td>\n",
       "    </tr>\n",
       "    <tr>\n",
       "      <th>5</th>\n",
       "      <td>Overland</td>\n",
       "    </tr>\n",
       "    <tr>\n",
       "      <th>6</th>\n",
       "      <td>Summit</td>\n",
       "    </tr>\n",
       "    <tr>\n",
       "      <th>7</th>\n",
       "      <td>SRT</td>\n",
       "    </tr>\n",
       "    <tr>\n",
       "      <th>8</th>\n",
       "      <td>Trailhawk</td>\n",
       "    </tr>\n",
       "    <tr>\n",
       "      <th>9</th>\n",
       "      <td>Sterling Edition</td>\n",
       "    </tr>\n",
       "    <tr>\n",
       "      <th>10</th>\n",
       "      <td>Laredo E</td>\n",
       "    </tr>\n",
       "    <tr>\n",
       "      <th>11</th>\n",
       "      <td>Trackhawk</td>\n",
       "    </tr>\n",
       "    <tr>\n",
       "      <th>12</th>\n",
       "      <td>75th Anniversary</td>\n",
       "    </tr>\n",
       "    <tr>\n",
       "      <th>13</th>\n",
       "      <td>SRT Night</td>\n",
       "    </tr>\n",
       "    <tr>\n",
       "      <th>14</th>\n",
       "      <td>Limited 75th Anniversary Edition</td>\n",
       "    </tr>\n",
       "    <tr>\n",
       "      <th>15</th>\n",
       "      <td>75th Anniversary Edition</td>\n",
       "    </tr>\n",
       "    <tr>\n",
       "      <th>16</th>\n",
       "      <td>Limited 75th Anniversary</td>\n",
       "    </tr>\n",
       "    <tr>\n",
       "      <th>17</th>\n",
       "      <td>Upland</td>\n",
       "    </tr>\n",
       "    <tr>\n",
       "      <th>18</th>\n",
       "      <td>Limited X</td>\n",
       "    </tr>\n",
       "  </tbody>\n",
       "</table>\n",
       "</div>"
      ],
      "text/plain": [
       "                          Jeep Trims\n",
       "0                      High Altitude\n",
       "1                             Laredo\n",
       "2                            Limited\n",
       "3                        Limited 4x4\n",
       "4                           Altitude\n",
       "5                           Overland\n",
       "6                             Summit\n",
       "7                                SRT\n",
       "8                          Trailhawk\n",
       "9                   Sterling Edition\n",
       "10                          Laredo E\n",
       "11                         Trackhawk\n",
       "12                  75th Anniversary\n",
       "13                         SRT Night\n",
       "14  Limited 75th Anniversary Edition\n",
       "15          75th Anniversary Edition\n",
       "16          Limited 75th Anniversary\n",
       "17                            Upland\n",
       "18                         Limited X"
      ]
     },
     "execution_count": 21,
     "metadata": {},
     "output_type": "execute_result"
    }
   ],
   "source": [
    "jeep_trims_df"
   ]
  },
  {
   "cell_type": "code",
   "execution_count": 22,
   "id": "c9088658",
   "metadata": {
    "scrolled": false
   },
   "outputs": [
    {
     "name": "stdout",
     "output_type": "stream",
     "text": [
      "Total count:  4030\n"
     ]
    },
    {
     "data": {
      "text/html": [
       "<div>\n",
       "<style scoped>\n",
       "    .dataframe tbody tr th:only-of-type {\n",
       "        vertical-align: middle;\n",
       "    }\n",
       "\n",
       "    .dataframe tbody tr th {\n",
       "        vertical-align: top;\n",
       "    }\n",
       "\n",
       "    .dataframe thead th {\n",
       "        text-align: right;\n",
       "    }\n",
       "</style>\n",
       "<table border=\"1\" class=\"dataframe\">\n",
       "  <thead>\n",
       "    <tr style=\"text-align: right;\">\n",
       "      <th></th>\n",
       "      <th></th>\n",
       "      <th>Counts</th>\n",
       "      <th>Percent</th>\n",
       "    </tr>\n",
       "    <tr>\n",
       "      <th>Column</th>\n",
       "      <th>Value</th>\n",
       "      <th></th>\n",
       "      <th></th>\n",
       "    </tr>\n",
       "  </thead>\n",
       "  <tbody>\n",
       "    <tr>\n",
       "      <th rowspan=\"19\" valign=\"top\">Vehicle_Trim</th>\n",
       "      <th>Limited</th>\n",
       "      <td>1912</td>\n",
       "      <td>47.444169</td>\n",
       "    </tr>\n",
       "    <tr>\n",
       "      <th>Laredo</th>\n",
       "      <td>704</td>\n",
       "      <td>17.468983</td>\n",
       "    </tr>\n",
       "    <tr>\n",
       "      <th>Overland</th>\n",
       "      <td>381</td>\n",
       "      <td>9.454094</td>\n",
       "    </tr>\n",
       "    <tr>\n",
       "      <th>Altitude</th>\n",
       "      <td>325</td>\n",
       "      <td>8.064516</td>\n",
       "    </tr>\n",
       "    <tr>\n",
       "      <th>Summit</th>\n",
       "      <td>242</td>\n",
       "      <td>6.004963</td>\n",
       "    </tr>\n",
       "    <tr>\n",
       "      <th>Trailhawk</th>\n",
       "      <td>178</td>\n",
       "      <td>4.416873</td>\n",
       "    </tr>\n",
       "    <tr>\n",
       "      <th>High Altitude</th>\n",
       "      <td>86</td>\n",
       "      <td>2.133995</td>\n",
       "    </tr>\n",
       "    <tr>\n",
       "      <th>SRT</th>\n",
       "      <td>76</td>\n",
       "      <td>1.885856</td>\n",
       "    </tr>\n",
       "    <tr>\n",
       "      <th>Laredo E</th>\n",
       "      <td>47</td>\n",
       "      <td>1.166253</td>\n",
       "    </tr>\n",
       "    <tr>\n",
       "      <th>Trackhawk</th>\n",
       "      <td>30</td>\n",
       "      <td>0.744417</td>\n",
       "    </tr>\n",
       "    <tr>\n",
       "      <th>Sterling Edition</th>\n",
       "      <td>26</td>\n",
       "      <td>0.645161</td>\n",
       "    </tr>\n",
       "    <tr>\n",
       "      <th>75th Anniversary</th>\n",
       "      <td>8</td>\n",
       "      <td>0.198511</td>\n",
       "    </tr>\n",
       "    <tr>\n",
       "      <th>Limited 75th Anniversary Edition</th>\n",
       "      <td>5</td>\n",
       "      <td>0.124069</td>\n",
       "    </tr>\n",
       "    <tr>\n",
       "      <th>SRT Night</th>\n",
       "      <td>3</td>\n",
       "      <td>0.074442</td>\n",
       "    </tr>\n",
       "    <tr>\n",
       "      <th>Upland</th>\n",
       "      <td>3</td>\n",
       "      <td>0.074442</td>\n",
       "    </tr>\n",
       "    <tr>\n",
       "      <th>Limited X</th>\n",
       "      <td>1</td>\n",
       "      <td>0.024814</td>\n",
       "    </tr>\n",
       "    <tr>\n",
       "      <th>75th Anniversary Edition</th>\n",
       "      <td>1</td>\n",
       "      <td>0.024814</td>\n",
       "    </tr>\n",
       "    <tr>\n",
       "      <th>Limited 75th Anniversary</th>\n",
       "      <td>1</td>\n",
       "      <td>0.024814</td>\n",
       "    </tr>\n",
       "    <tr>\n",
       "      <th>Limited 4x4</th>\n",
       "      <td>1</td>\n",
       "      <td>0.024814</td>\n",
       "    </tr>\n",
       "  </tbody>\n",
       "</table>\n",
       "</div>"
      ],
      "text/plain": [
       "                                               Counts    Percent\n",
       "Column       Value                                              \n",
       "Vehicle_Trim Limited                             1912  47.444169\n",
       "             Laredo                               704  17.468983\n",
       "             Overland                             381   9.454094\n",
       "             Altitude                             325   8.064516\n",
       "             Summit                               242   6.004963\n",
       "             Trailhawk                            178   4.416873\n",
       "             High Altitude                         86   2.133995\n",
       "             SRT                                   76   1.885856\n",
       "             Laredo E                              47   1.166253\n",
       "             Trackhawk                             30   0.744417\n",
       "             Sterling Edition                      26   0.645161\n",
       "             75th Anniversary                       8   0.198511\n",
       "             Limited 75th Anniversary Edition       5   0.124069\n",
       "             SRT Night                              3   0.074442\n",
       "             Upland                                 3   0.074442\n",
       "             Limited X                              1   0.024814\n",
       "             75th Anniversary Edition               1   0.024814\n",
       "             Limited 75th Anniversary               1   0.024814\n",
       "             Limited 4x4                            1   0.024814"
      ]
     },
     "execution_count": 22,
     "metadata": {},
     "output_type": "execute_result"
    }
   ],
   "source": [
    "# Jeep\n",
    "value_counts_info(pd.DataFrame(df[df['VehMake'] == 'Jeep']['Vehicle_Trim']))"
   ]
  },
  {
   "cell_type": "code",
   "execution_count": 23,
   "id": "f7720b79",
   "metadata": {},
   "outputs": [
    {
     "name": "stdout",
     "output_type": "stream",
     "text": [
      "38\n"
     ]
    }
   ],
   "source": [
    "# Mapping dictionary\n",
    "mapping = {\n",
    "    'Limited 75th Anniversary Edition': 'Limited',\n",
    "    'Limited X': 'Limited',\n",
    "    'Limited 4x4': 'Limited',\n",
    "    'Limited 75th Anniversary': 'Limited',\n",
    "\n",
    "    'Laredo E': 'Laredo',\n",
    "\n",
    "    'SRT Night': 'SRT',\n",
    "    \n",
    "    'Summit': 'Overland',\n",
    "\n",
    "    'Trackhawk': 'Trailhawk',\n",
    "    \n",
    "    'High Altitude': 'Altitude'}\n",
    "\n",
    "# Replace and groupby\n",
    "df['Vehicle_Trim'] = df['Vehicle_Trim'].replace(mapping)\n",
    "# dropping \n",
    "jeep_drop_trims = ['75th Anniversary Edition', 'Upland','75th Anniversary','Sterling Edition']\n",
    "\n",
    "original_row_count = len(df)\n",
    "df = df[~df['Vehicle_Trim'].isin(jeep_drop_trims)]\n",
    "\n",
    "# Calculate the number of removed rows\n",
    "removed_rows_count = original_row_count - len(df)\n",
    "print(removed_rows_count)"
   ]
  },
  {
   "cell_type": "code",
   "execution_count": 24,
   "id": "12c0d302",
   "metadata": {
    "scrolled": true
   },
   "outputs": [
    {
     "name": "stdout",
     "output_type": "stream",
     "text": [
      "Total count:  3992\n"
     ]
    },
    {
     "data": {
      "text/html": [
       "<div>\n",
       "<style scoped>\n",
       "    .dataframe tbody tr th:only-of-type {\n",
       "        vertical-align: middle;\n",
       "    }\n",
       "\n",
       "    .dataframe tbody tr th {\n",
       "        vertical-align: top;\n",
       "    }\n",
       "\n",
       "    .dataframe thead th {\n",
       "        text-align: right;\n",
       "    }\n",
       "</style>\n",
       "<table border=\"1\" class=\"dataframe\">\n",
       "  <thead>\n",
       "    <tr style=\"text-align: right;\">\n",
       "      <th></th>\n",
       "      <th></th>\n",
       "      <th>Counts</th>\n",
       "      <th>Percent</th>\n",
       "    </tr>\n",
       "    <tr>\n",
       "      <th>Column</th>\n",
       "      <th>Value</th>\n",
       "      <th></th>\n",
       "      <th></th>\n",
       "    </tr>\n",
       "  </thead>\n",
       "  <tbody>\n",
       "    <tr>\n",
       "      <th rowspan=\"6\" valign=\"top\">Vehicle_Trim</th>\n",
       "      <th>Limited</th>\n",
       "      <td>1920</td>\n",
       "      <td>48.096192</td>\n",
       "    </tr>\n",
       "    <tr>\n",
       "      <th>Laredo</th>\n",
       "      <td>751</td>\n",
       "      <td>18.812625</td>\n",
       "    </tr>\n",
       "    <tr>\n",
       "      <th>Overland</th>\n",
       "      <td>623</td>\n",
       "      <td>15.606212</td>\n",
       "    </tr>\n",
       "    <tr>\n",
       "      <th>Altitude</th>\n",
       "      <td>411</td>\n",
       "      <td>10.295591</td>\n",
       "    </tr>\n",
       "    <tr>\n",
       "      <th>Trailhawk</th>\n",
       "      <td>208</td>\n",
       "      <td>5.210421</td>\n",
       "    </tr>\n",
       "    <tr>\n",
       "      <th>SRT</th>\n",
       "      <td>79</td>\n",
       "      <td>1.978958</td>\n",
       "    </tr>\n",
       "  </tbody>\n",
       "</table>\n",
       "</div>"
      ],
      "text/plain": [
       "                        Counts    Percent\n",
       "Column       Value                       \n",
       "Vehicle_Trim Limited      1920  48.096192\n",
       "             Laredo        751  18.812625\n",
       "             Overland      623  15.606212\n",
       "             Altitude      411  10.295591\n",
       "             Trailhawk     208   5.210421\n",
       "             SRT            79   1.978958"
      ]
     },
     "execution_count": 24,
     "metadata": {},
     "output_type": "execute_result"
    }
   ],
   "source": [
    "value_counts_info(pd.DataFrame(df[df['VehMake'] == 'Jeep']['Vehicle_Trim']))"
   ]
  },
  {
   "cell_type": "code",
   "execution_count": 25,
   "id": "151981b3",
   "metadata": {},
   "outputs": [
    {
     "data": {
      "image/png": "[encoded data removed]",
      "text/plain": [
       "<Figure size 800x500 with 1 Axes>"
      ]
     },
     "metadata": {},
     "output_type": "display_data"
    }
   ],
   "source": [
    "jeep_trims = df[df['VehMake'] == 'Jeep']['Vehicle_Trim'].value_counts()\n",
    "\n",
    "# Plotting the bar chart\n",
    "ax = jeep_trims.plot(kind='bar', color='skyblue', figsize=(8,5))\n",
    "plt.xlabel('Vehicle Trim')\n",
    "plt.ylabel('Counts')\n",
    "plt.title('Jeep Vehicle Trim Distribution')\n",
    "plt.grid()\n",
    "plt.xticks(rotation=45)\n",
    "\n",
    "# Adding count annotations to each bar\n",
    "for p in ax.patches:\n",
    "    ax.annotate(str(p.get_height()), (p.get_x() + p.get_width() / 2., p.get_height()),\n",
    "                ha='center', va='center', xytext=(0, 10), textcoords='offset points')\n",
    "\n",
    "plt.show()"
   ]
  },
  {
   "cell_type": "markdown",
   "id": "d1e96829",
   "metadata": {},
   "source": [
    "### 2.2. Cadillac\n",
    "\n",
    "#### Cadillac XT5\n",
    "1. Trim levels ( 4 kinds)\n",
    "- Base\n",
    "- Luxury\n",
    "- Premium Luxury\n",
    "- Platinum\n"
   ]
  },
  {
   "cell_type": "code",
   "execution_count": 26,
   "id": "a297d009",
   "metadata": {},
   "outputs": [
    {
     "data": {
      "text/html": [
       "<div>\n",
       "<style scoped>\n",
       "    .dataframe tbody tr th:only-of-type {\n",
       "        vertical-align: middle;\n",
       "    }\n",
       "\n",
       "    .dataframe tbody tr th {\n",
       "        vertical-align: top;\n",
       "    }\n",
       "\n",
       "    .dataframe thead th {\n",
       "        text-align: right;\n",
       "    }\n",
       "</style>\n",
       "<table border=\"1\" class=\"dataframe\">\n",
       "  <thead>\n",
       "    <tr style=\"text-align: right;\">\n",
       "      <th></th>\n",
       "      <th>Jeep Trims</th>\n",
       "    </tr>\n",
       "  </thead>\n",
       "  <tbody>\n",
       "    <tr>\n",
       "      <th>0</th>\n",
       "      <td>Luxury</td>\n",
       "    </tr>\n",
       "    <tr>\n",
       "      <th>1</th>\n",
       "      <td>Premium Luxury</td>\n",
       "    </tr>\n",
       "    <tr>\n",
       "      <th>2</th>\n",
       "      <td>Base</td>\n",
       "    </tr>\n",
       "    <tr>\n",
       "      <th>3</th>\n",
       "      <td>FWD</td>\n",
       "    </tr>\n",
       "    <tr>\n",
       "      <th>4</th>\n",
       "      <td>Luxury AWD</td>\n",
       "    </tr>\n",
       "    <tr>\n",
       "      <th>5</th>\n",
       "      <td>Platinum</td>\n",
       "    </tr>\n",
       "    <tr>\n",
       "      <th>6</th>\n",
       "      <td>Luxury FWD</td>\n",
       "    </tr>\n",
       "    <tr>\n",
       "      <th>7</th>\n",
       "      <td>Premium Luxury FWD</td>\n",
       "    </tr>\n",
       "    <tr>\n",
       "      <th>8</th>\n",
       "      <td>Platinum AWD</td>\n",
       "    </tr>\n",
       "    <tr>\n",
       "      <th>9</th>\n",
       "      <td>Premium Luxury AWD</td>\n",
       "    </tr>\n",
       "  </tbody>\n",
       "</table>\n",
       "</div>"
      ],
      "text/plain": [
       "           Jeep Trims\n",
       "0              Luxury\n",
       "1      Premium Luxury\n",
       "2                Base\n",
       "3                 FWD\n",
       "4          Luxury AWD\n",
       "5            Platinum\n",
       "6          Luxury FWD\n",
       "7  Premium Luxury FWD\n",
       "8        Platinum AWD\n",
       "9  Premium Luxury AWD"
      ]
     },
     "execution_count": 26,
     "metadata": {},
     "output_type": "execute_result"
    }
   ],
   "source": [
    "cadilac_trims_df"
   ]
  },
  {
   "cell_type": "code",
   "execution_count": 27,
   "id": "6474d645",
   "metadata": {},
   "outputs": [
    {
     "name": "stdout",
     "output_type": "stream",
     "text": [
      "Total count:  1811\n"
     ]
    },
    {
     "data": {
      "text/html": [
       "<div>\n",
       "<style scoped>\n",
       "    .dataframe tbody tr th:only-of-type {\n",
       "        vertical-align: middle;\n",
       "    }\n",
       "\n",
       "    .dataframe tbody tr th {\n",
       "        vertical-align: top;\n",
       "    }\n",
       "\n",
       "    .dataframe thead th {\n",
       "        text-align: right;\n",
       "    }\n",
       "</style>\n",
       "<table border=\"1\" class=\"dataframe\">\n",
       "  <thead>\n",
       "    <tr style=\"text-align: right;\">\n",
       "      <th></th>\n",
       "      <th></th>\n",
       "      <th>Counts</th>\n",
       "      <th>Percent</th>\n",
       "    </tr>\n",
       "    <tr>\n",
       "      <th>Column</th>\n",
       "      <th>Value</th>\n",
       "      <th></th>\n",
       "      <th></th>\n",
       "    </tr>\n",
       "  </thead>\n",
       "  <tbody>\n",
       "    <tr>\n",
       "      <th rowspan=\"10\" valign=\"top\">Vehicle_Trim</th>\n",
       "      <th>Premium Luxury</th>\n",
       "      <td>733</td>\n",
       "      <td>40.474876</td>\n",
       "    </tr>\n",
       "    <tr>\n",
       "      <th>Luxury</th>\n",
       "      <td>622</td>\n",
       "      <td>34.345665</td>\n",
       "    </tr>\n",
       "    <tr>\n",
       "      <th>Base</th>\n",
       "      <td>154</td>\n",
       "      <td>8.503589</td>\n",
       "    </tr>\n",
       "    <tr>\n",
       "      <th>Platinum</th>\n",
       "      <td>127</td>\n",
       "      <td>7.012700</td>\n",
       "    </tr>\n",
       "    <tr>\n",
       "      <th>FWD</th>\n",
       "      <td>49</td>\n",
       "      <td>2.705687</td>\n",
       "    </tr>\n",
       "    <tr>\n",
       "      <th>Luxury FWD</th>\n",
       "      <td>49</td>\n",
       "      <td>2.705687</td>\n",
       "    </tr>\n",
       "    <tr>\n",
       "      <th>Premium Luxury FWD</th>\n",
       "      <td>35</td>\n",
       "      <td>1.932634</td>\n",
       "    </tr>\n",
       "    <tr>\n",
       "      <th>Luxury AWD</th>\n",
       "      <td>20</td>\n",
       "      <td>1.104362</td>\n",
       "    </tr>\n",
       "    <tr>\n",
       "      <th>Platinum AWD</th>\n",
       "      <td>13</td>\n",
       "      <td>0.717835</td>\n",
       "    </tr>\n",
       "    <tr>\n",
       "      <th>Premium Luxury AWD</th>\n",
       "      <td>9</td>\n",
       "      <td>0.496963</td>\n",
       "    </tr>\n",
       "  </tbody>\n",
       "</table>\n",
       "</div>"
      ],
      "text/plain": [
       "                                 Counts    Percent\n",
       "Column       Value                                \n",
       "Vehicle_Trim Premium Luxury         733  40.474876\n",
       "             Luxury                 622  34.345665\n",
       "             Base                   154   8.503589\n",
       "             Platinum               127   7.012700\n",
       "             FWD                     49   2.705687\n",
       "             Luxury FWD              49   2.705687\n",
       "             Premium Luxury FWD      35   1.932634\n",
       "             Luxury AWD              20   1.104362\n",
       "             Platinum AWD            13   0.717835\n",
       "             Premium Luxury AWD       9   0.496963"
      ]
     },
     "execution_count": 27,
     "metadata": {},
     "output_type": "execute_result"
    }
   ],
   "source": [
    "# Cadilac\n",
    "value_counts_info(pd.DataFrame(df[df['VehMake'] == 'Cadillac']['Vehicle_Trim']))"
   ]
  },
  {
   "cell_type": "code",
   "execution_count": 28,
   "id": "aa685981",
   "metadata": {},
   "outputs": [],
   "source": [
    "# Mapping dictionary\n",
    "mapping = {\n",
    "    'Premium Luxury AWD': 'Premium',\n",
    "    'Premium Luxury FWD': 'Premium',\n",
    "    'Premium Luxury': 'Premium',\n",
    "    \n",
    "    'Luxury FWD': 'Luxury',\n",
    "    'Luxury': 'Luxury',\n",
    "    'Luxury AWD': 'Luxury',\n",
    "    \n",
    "    'Base': 'Base',\n",
    "    'FWD': 'Base',\n",
    "    \n",
    "    'Platinum': 'Platinum',\n",
    "    'Platinum AWD': 'Platinum'}\n",
    "\n",
    "# Replace and groupby\n",
    "df['Vehicle_Trim'] = df['Vehicle_Trim'].replace(mapping)\n",
    "\n",
    "# dropping \n",
    "# cadillac_drop_trims = ['NaN']\n",
    "\n",
    "# original_row_count = len(df)\n",
    "# df = df[~df['Vehicle_Trim'].isin(cadillac_drop_trims)]\n",
    "\n",
    "# # Calculate the number of removed rows\n",
    "# removed_rows_count = original_row_count - len(df)\n",
    "# print(removed_rows_count)"
   ]
  },
  {
   "cell_type": "code",
   "execution_count": 29,
   "id": "e98e7c82",
   "metadata": {},
   "outputs": [
    {
     "name": "stdout",
     "output_type": "stream",
     "text": [
      "Total count:  1811\n"
     ]
    },
    {
     "data": {
      "text/html": [
       "<div>\n",
       "<style scoped>\n",
       "    .dataframe tbody tr th:only-of-type {\n",
       "        vertical-align: middle;\n",
       "    }\n",
       "\n",
       "    .dataframe tbody tr th {\n",
       "        vertical-align: top;\n",
       "    }\n",
       "\n",
       "    .dataframe thead th {\n",
       "        text-align: right;\n",
       "    }\n",
       "</style>\n",
       "<table border=\"1\" class=\"dataframe\">\n",
       "  <thead>\n",
       "    <tr style=\"text-align: right;\">\n",
       "      <th></th>\n",
       "      <th></th>\n",
       "      <th>Counts</th>\n",
       "      <th>Percent</th>\n",
       "    </tr>\n",
       "    <tr>\n",
       "      <th>Column</th>\n",
       "      <th>Value</th>\n",
       "      <th></th>\n",
       "      <th></th>\n",
       "    </tr>\n",
       "  </thead>\n",
       "  <tbody>\n",
       "    <tr>\n",
       "      <th rowspan=\"4\" valign=\"top\">Vehicle_Trim</th>\n",
       "      <th>Premium</th>\n",
       "      <td>777</td>\n",
       "      <td>42.904473</td>\n",
       "    </tr>\n",
       "    <tr>\n",
       "      <th>Luxury</th>\n",
       "      <td>691</td>\n",
       "      <td>38.155715</td>\n",
       "    </tr>\n",
       "    <tr>\n",
       "      <th>Base</th>\n",
       "      <td>203</td>\n",
       "      <td>11.209277</td>\n",
       "    </tr>\n",
       "    <tr>\n",
       "      <th>Platinum</th>\n",
       "      <td>140</td>\n",
       "      <td>7.730536</td>\n",
       "    </tr>\n",
       "  </tbody>\n",
       "</table>\n",
       "</div>"
      ],
      "text/plain": [
       "                       Counts    Percent\n",
       "Column       Value                      \n",
       "Vehicle_Trim Premium      777  42.904473\n",
       "             Luxury       691  38.155715\n",
       "             Base         203  11.209277\n",
       "             Platinum     140   7.730536"
      ]
     },
     "execution_count": 29,
     "metadata": {},
     "output_type": "execute_result"
    }
   ],
   "source": [
    "value_counts_info(pd.DataFrame(df[df['VehMake'] == 'Cadillac']['Vehicle_Trim']))"
   ]
  },
  {
   "cell_type": "code",
   "execution_count": 30,
   "id": "ce996bf4",
   "metadata": {},
   "outputs": [
    {
     "data": {
      "image/png": "[encoded data removed]",
      "text/plain": [
       "<Figure size 800x500 with 1 Axes>"
      ]
     },
     "metadata": {},
     "output_type": "display_data"
    }
   ],
   "source": [
    "jeep_trims = df[df['VehMake'] == 'Cadillac']['Vehicle_Trim'].value_counts()\n",
    "\n",
    "# Plotting the bar chart\n",
    "ax = jeep_trims.plot(kind='bar', color='skyblue', figsize=(8,5))\n",
    "plt.xlabel('Vehicle Trim')\n",
    "plt.ylabel('Counts')\n",
    "plt.title('Cadillac Vehicle Trim Distribution')\n",
    "plt.grid()\n",
    "plt.xticks(rotation=45)\n",
    "\n",
    "# Adding count annotations to each bar\n",
    "for p in ax.patches:\n",
    "    ax.annotate(str(p.get_height()), (p.get_x() + p.get_width() / 2., p.get_height()),\n",
    "                ha='center', va='center', xytext=(0, 10), textcoords='offset points')\n",
    "\n",
    "plt.show()"
   ]
  },
  {
   "cell_type": "code",
   "execution_count": 31,
   "id": "1682f3a2",
   "metadata": {},
   "outputs": [
    {
     "data": {
      "text/plain": [
       "(5803, 28)"
      ]
     },
     "execution_count": 31,
     "metadata": {},
     "output_type": "execute_result"
    }
   ],
   "source": [
    "df.shape"
   ]
  },
  {
   "cell_type": "code",
   "execution_count": 32,
   "id": "5a662041",
   "metadata": {},
   "outputs": [
    {
     "name": "stdout",
     "output_type": "stream",
     "text": [
      "Total count:  5803\n"
     ]
    },
    {
     "data": {
      "text/html": [
       "<div>\n",
       "<style scoped>\n",
       "    .dataframe tbody tr th:only-of-type {\n",
       "        vertical-align: middle;\n",
       "    }\n",
       "\n",
       "    .dataframe tbody tr th {\n",
       "        vertical-align: top;\n",
       "    }\n",
       "\n",
       "    .dataframe thead th {\n",
       "        text-align: right;\n",
       "    }\n",
       "</style>\n",
       "<table border=\"1\" class=\"dataframe\">\n",
       "  <thead>\n",
       "    <tr style=\"text-align: right;\">\n",
       "      <th></th>\n",
       "      <th></th>\n",
       "      <th>Counts</th>\n",
       "      <th>Percent</th>\n",
       "    </tr>\n",
       "    <tr>\n",
       "      <th>Column</th>\n",
       "      <th>Value</th>\n",
       "      <th></th>\n",
       "      <th></th>\n",
       "    </tr>\n",
       "  </thead>\n",
       "  <tbody>\n",
       "    <tr>\n",
       "      <th rowspan=\"10\" valign=\"top\">Vehicle_Trim</th>\n",
       "      <th>Limited</th>\n",
       "      <td>1920</td>\n",
       "      <td>33.086335</td>\n",
       "    </tr>\n",
       "    <tr>\n",
       "      <th>Premium</th>\n",
       "      <td>777</td>\n",
       "      <td>13.389626</td>\n",
       "    </tr>\n",
       "    <tr>\n",
       "      <th>Laredo</th>\n",
       "      <td>751</td>\n",
       "      <td>12.941582</td>\n",
       "    </tr>\n",
       "    <tr>\n",
       "      <th>Luxury</th>\n",
       "      <td>691</td>\n",
       "      <td>11.907634</td>\n",
       "    </tr>\n",
       "    <tr>\n",
       "      <th>Overland</th>\n",
       "      <td>623</td>\n",
       "      <td>10.735826</td>\n",
       "    </tr>\n",
       "    <tr>\n",
       "      <th>Altitude</th>\n",
       "      <td>411</td>\n",
       "      <td>7.082544</td>\n",
       "    </tr>\n",
       "    <tr>\n",
       "      <th>Trailhawk</th>\n",
       "      <td>208</td>\n",
       "      <td>3.584353</td>\n",
       "    </tr>\n",
       "    <tr>\n",
       "      <th>Base</th>\n",
       "      <td>203</td>\n",
       "      <td>3.498191</td>\n",
       "    </tr>\n",
       "    <tr>\n",
       "      <th>Platinum</th>\n",
       "      <td>140</td>\n",
       "      <td>2.412545</td>\n",
       "    </tr>\n",
       "    <tr>\n",
       "      <th>SRT</th>\n",
       "      <td>79</td>\n",
       "      <td>1.361365</td>\n",
       "    </tr>\n",
       "  </tbody>\n",
       "</table>\n",
       "</div>"
      ],
      "text/plain": [
       "                        Counts    Percent\n",
       "Column       Value                       \n",
       "Vehicle_Trim Limited      1920  33.086335\n",
       "             Premium       777  13.389626\n",
       "             Laredo        751  12.941582\n",
       "             Luxury        691  11.907634\n",
       "             Overland      623  10.735826\n",
       "             Altitude      411   7.082544\n",
       "             Trailhawk     208   3.584353\n",
       "             Base          203   3.498191\n",
       "             Platinum      140   2.412545\n",
       "             SRT            79   1.361365"
      ]
     },
     "execution_count": 32,
     "metadata": {},
     "output_type": "execute_result"
    }
   ],
   "source": [
    "value_counts_info(pd.DataFrame(df[['Vehicle_Trim']]))"
   ]
  },
  {
   "cell_type": "code",
   "execution_count": 33,
   "id": "10932efb",
   "metadata": {},
   "outputs": [
    {
     "data": {
      "text/plain": [
       "0"
      ]
     },
     "execution_count": 33,
     "metadata": {},
     "output_type": "execute_result"
    }
   ],
   "source": [
    "df['Vehicle_Trim'].isnull().sum()"
   ]
  },
  {
   "cell_type": "markdown",
   "id": "cb01bd53",
   "metadata": {},
   "source": [
    "### Target Variable - `Dealer_Listing_Price`"
   ]
  },
  {
   "cell_type": "code",
   "execution_count": 34,
   "id": "ea0b0d7d",
   "metadata": {},
   "outputs": [
    {
     "data": {
      "text/plain": [
       "count     5841.000000\n",
       "mean     32059.815614\n",
       "std       7568.389098\n",
       "min      18289.000000\n",
       "25%      26750.000000\n",
       "50%      30996.000000\n",
       "75%      35873.000000\n",
       "max      89500.000000\n",
       "Name: Dealer_Listing_Price, dtype: float64"
      ]
     },
     "execution_count": 34,
     "metadata": {},
     "output_type": "execute_result"
    }
   ],
   "source": [
    "y.Dealer_Listing_Price.describe()"
   ]
  },
  {
   "cell_type": "code",
   "execution_count": 35,
   "id": "4297ad0c",
   "metadata": {},
   "outputs": [],
   "source": [
    "cad_price = df[df['VehMake'] == 'Cadillac']['Dealer_Listing_Price']\n",
    "jeep_price = df[df['VehMake'] == 'Jeep']['Dealer_Listing_Price']"
   ]
  },
  {
   "cell_type": "code",
   "execution_count": 36,
   "id": "47ed5aaa",
   "metadata": {},
   "outputs": [
    {
     "data": {
      "image/png": "[encoded data removed]",
      "text/plain": [
       "<Figure size 640x480 with 1 Axes>"
      ]
     },
     "metadata": {},
     "output_type": "display_data"
    }
   ],
   "source": [
    "plt.figure()\n",
    "sns.histplot(cad_price, label='Cadillac', alpha=0.6)\n",
    "sns.histplot(jeep_price, label='Jeep',alpha=0.6)\n",
    "plt.legend()\n",
    "plt.grid()\n",
    "plt.show()"
   ]
  },
  {
   "cell_type": "markdown",
   "id": "2bdd0c27",
   "metadata": {},
   "source": [
    "# 3. EDA - features"
   ]
  },
  {
   "cell_type": "code",
   "execution_count": 37,
   "id": "fa362c56",
   "metadata": {},
   "outputs": [
    {
     "data": {
      "text/plain": [
       "['Vehicle_Trim', 'Dealer_Listing_Price']"
      ]
     },
     "execution_count": 37,
     "metadata": {},
     "output_type": "execute_result"
    }
   ],
   "source": [
    "target_variables"
   ]
  },
  {
   "cell_type": "code",
   "execution_count": 38,
   "id": "73f86fdc",
   "metadata": {},
   "outputs": [
    {
     "data": {
      "text/plain": [
       "(5803, 28)"
      ]
     },
     "execution_count": 38,
     "metadata": {},
     "output_type": "execute_result"
    }
   ],
   "source": [
    "df.shape"
   ]
  },
  {
   "cell_type": "code",
   "execution_count": 39,
   "id": "4a8c393d",
   "metadata": {},
   "outputs": [
    {
     "data": {
      "text/html": [
       "<div>\n",
       "<style scoped>\n",
       "    .dataframe tbody tr th:only-of-type {\n",
       "        vertical-align: middle;\n",
       "    }\n",
       "\n",
       "    .dataframe tbody tr th {\n",
       "        vertical-align: top;\n",
       "    }\n",
       "\n",
       "    .dataframe thead th {\n",
       "        text-align: right;\n",
       "    }\n",
       "</style>\n",
       "<table border=\"1\" class=\"dataframe\">\n",
       "  <thead>\n",
       "    <tr style=\"text-align: right;\">\n",
       "      <th></th>\n",
       "      <th>SellerCity</th>\n",
       "      <th>SellerIsPriv</th>\n",
       "      <th>SellerListSrc</th>\n",
       "      <th>SellerName</th>\n",
       "      <th>SellerRating</th>\n",
       "      <th>SellerRevCnt</th>\n",
       "      <th>SellerState</th>\n",
       "      <th>SellerZip</th>\n",
       "      <th>VehBodystyle</th>\n",
       "      <th>VehCertified</th>\n",
       "      <th>VehColorExt</th>\n",
       "      <th>VehColorInt</th>\n",
       "      <th>VehDriveTrain</th>\n",
       "      <th>VehEngine</th>\n",
       "      <th>VehFeats</th>\n",
       "      <th>VehFuel</th>\n",
       "      <th>VehHistory</th>\n",
       "      <th>VehListdays</th>\n",
       "      <th>VehMake</th>\n",
       "      <th>VehMileage</th>\n",
       "      <th>VehModel</th>\n",
       "      <th>VehPriceLabel</th>\n",
       "      <th>VehSellerNotes</th>\n",
       "      <th>VehType</th>\n",
       "      <th>VehTransmission</th>\n",
       "      <th>VehYear</th>\n",
       "      <th>Vehicle_Trim</th>\n",
       "      <th>Dealer_Listing_Price</th>\n",
       "    </tr>\n",
       "    <tr>\n",
       "      <th>ListingID</th>\n",
       "      <th></th>\n",
       "      <th></th>\n",
       "      <th></th>\n",
       "      <th></th>\n",
       "      <th></th>\n",
       "      <th></th>\n",
       "      <th></th>\n",
       "      <th></th>\n",
       "      <th></th>\n",
       "      <th></th>\n",
       "      <th></th>\n",
       "      <th></th>\n",
       "      <th></th>\n",
       "      <th></th>\n",
       "      <th></th>\n",
       "      <th></th>\n",
       "      <th></th>\n",
       "      <th></th>\n",
       "      <th></th>\n",
       "      <th></th>\n",
       "      <th></th>\n",
       "      <th></th>\n",
       "      <th></th>\n",
       "      <th></th>\n",
       "      <th></th>\n",
       "      <th></th>\n",
       "      <th></th>\n",
       "      <th></th>\n",
       "    </tr>\n",
       "  </thead>\n",
       "  <tbody>\n",
       "    <tr>\n",
       "      <th>3287</th>\n",
       "      <td>Warren</td>\n",
       "      <td>False</td>\n",
       "      <td>Inventory Command Center</td>\n",
       "      <td>Prime Motorz</td>\n",
       "      <td>5.0</td>\n",
       "      <td>32</td>\n",
       "      <td>MI</td>\n",
       "      <td>48091.0</td>\n",
       "      <td>SUV</td>\n",
       "      <td>False</td>\n",
       "      <td>White</td>\n",
       "      <td>Black</td>\n",
       "      <td>4X4</td>\n",
       "      <td>3.6L V6</td>\n",
       "      <td>['Adaptive Cruise Control', 'Antilock Brakes',...</td>\n",
       "      <td>Gasoline</td>\n",
       "      <td>1 Owner, Non-Personal Use Reported, Buyback Pr...</td>\n",
       "      <td>8.600069</td>\n",
       "      <td>Jeep</td>\n",
       "      <td>39319.0</td>\n",
       "      <td>Grand Cherokee</td>\n",
       "      <td>Fair Price</td>\n",
       "      <td>NaN</td>\n",
       "      <td>Used</td>\n",
       "      <td>Automatic 8-Speed</td>\n",
       "      <td>2015</td>\n",
       "      <td>Altitude</td>\n",
       "      <td>30990.0</td>\n",
       "    </tr>\n",
       "    <tr>\n",
       "      <th>4777</th>\n",
       "      <td>Waukesha</td>\n",
       "      <td>False</td>\n",
       "      <td>Jeep Certified Program</td>\n",
       "      <td>Wilde Chrysler Jeep Dodge Ram &amp;amp; Subaru</td>\n",
       "      <td>4.8</td>\n",
       "      <td>1405</td>\n",
       "      <td>WI</td>\n",
       "      <td>53186.0</td>\n",
       "      <td>SUV</td>\n",
       "      <td>True</td>\n",
       "      <td>Brilliant Black Crystal Pearlcoat</td>\n",
       "      <td>Black</td>\n",
       "      <td>4x4/4WD</td>\n",
       "      <td>Regular Unleaded V-6 3.6 L/220</td>\n",
       "      <td>['18 WHEEL &amp;amp; 8.4 RADIO GROUP-inc: Nav-Capa...</td>\n",
       "      <td>Gasoline</td>\n",
       "      <td>1 Owner, Buyback Protection Eligible</td>\n",
       "      <td>28.107014</td>\n",
       "      <td>Jeep</td>\n",
       "      <td>38957.0</td>\n",
       "      <td>Grand Cherokee</td>\n",
       "      <td>Good Deal</td>\n",
       "      <td>Backed by a rigorous 125-point inspection by f...</td>\n",
       "      <td>Used</td>\n",
       "      <td>8-Speed Automatic w/OD</td>\n",
       "      <td>2015</td>\n",
       "      <td>Laredo</td>\n",
       "      <td>23249.0</td>\n",
       "    </tr>\n",
       "  </tbody>\n",
       "</table>\n",
       "</div>"
      ],
      "text/plain": [
       "          SellerCity  SellerIsPriv             SellerListSrc  \\\n",
       "ListingID                                                      \n",
       "3287          Warren         False  Inventory Command Center   \n",
       "4777        Waukesha         False    Jeep Certified Program   \n",
       "\n",
       "                                           SellerName  SellerRating  \\\n",
       "ListingID                                                             \n",
       "3287                                     Prime Motorz           5.0   \n",
       "4777       Wilde Chrysler Jeep Dodge Ram &amp; Subaru           4.8   \n",
       "\n",
       "           SellerRevCnt SellerState  SellerZip VehBodystyle  VehCertified  \\\n",
       "ListingID                                                                   \n",
       "3287                 32          MI    48091.0          SUV         False   \n",
       "4777               1405          WI    53186.0          SUV          True   \n",
       "\n",
       "                                 VehColorExt VehColorInt VehDriveTrain  \\\n",
       "ListingID                                                                \n",
       "3287                                   White       Black           4X4   \n",
       "4777       Brilliant Black Crystal Pearlcoat       Black       4x4/4WD   \n",
       "\n",
       "                                VehEngine  \\\n",
       "ListingID                                   \n",
       "3287                              3.6L V6   \n",
       "4777       Regular Unleaded V-6 3.6 L/220   \n",
       "\n",
       "                                                    VehFeats   VehFuel  \\\n",
       "ListingID                                                                \n",
       "3287       ['Adaptive Cruise Control', 'Antilock Brakes',...  Gasoline   \n",
       "4777       ['18 WHEEL &amp; 8.4 RADIO GROUP-inc: Nav-Capa...  Gasoline   \n",
       "\n",
       "                                                  VehHistory  VehListdays  \\\n",
       "ListingID                                                                   \n",
       "3287       1 Owner, Non-Personal Use Reported, Buyback Pr...     8.600069   \n",
       "4777                    1 Owner, Buyback Protection Eligible    28.107014   \n",
       "\n",
       "          VehMake  VehMileage        VehModel VehPriceLabel  \\\n",
       "ListingID                                                     \n",
       "3287         Jeep     39319.0  Grand Cherokee    Fair Price   \n",
       "4777         Jeep     38957.0  Grand Cherokee     Good Deal   \n",
       "\n",
       "                                              VehSellerNotes VehType  \\\n",
       "ListingID                                                              \n",
       "3287                                                     NaN    Used   \n",
       "4777       Backed by a rigorous 125-point inspection by f...    Used   \n",
       "\n",
       "                  VehTransmission  VehYear Vehicle_Trim  Dealer_Listing_Price  \n",
       "ListingID                                                                      \n",
       "3287            Automatic 8-Speed     2015     Altitude               30990.0  \n",
       "4777       8-Speed Automatic w/OD     2015       Laredo               23249.0  "
      ]
     },
     "execution_count": 39,
     "metadata": {},
     "output_type": "execute_result"
    }
   ],
   "source": [
    "df.head(2)"
   ]
  },
  {
   "cell_type": "code",
   "execution_count": 40,
   "id": "c002d489",
   "metadata": {},
   "outputs": [],
   "source": [
    "x = df.copy()#.drop(columns=target_variables)"
   ]
  },
  {
   "cell_type": "code",
   "execution_count": 41,
   "id": "7b3d4d77",
   "metadata": {
    "scrolled": false
   },
   "outputs": [
    {
     "data": {
      "text/html": [
       "<div>\n",
       "<style scoped>\n",
       "    .dataframe tbody tr th:only-of-type {\n",
       "        vertical-align: middle;\n",
       "    }\n",
       "\n",
       "    .dataframe tbody tr th {\n",
       "        vertical-align: top;\n",
       "    }\n",
       "\n",
       "    .dataframe thead th {\n",
       "        text-align: right;\n",
       "    }\n",
       "</style>\n",
       "<table border=\"1\" class=\"dataframe\">\n",
       "  <thead>\n",
       "    <tr style=\"text-align: right;\">\n",
       "      <th></th>\n",
       "      <th>Total</th>\n",
       "      <th>Percent</th>\n",
       "    </tr>\n",
       "  </thead>\n",
       "  <tbody>\n",
       "    <tr>\n",
       "      <th>VehColorInt</th>\n",
       "      <td>421</td>\n",
       "      <td>7.254868</td>\n",
       "    </tr>\n",
       "    <tr>\n",
       "      <th>VehPriceLabel</th>\n",
       "      <td>233</td>\n",
       "      <td>4.015165</td>\n",
       "    </tr>\n",
       "    <tr>\n",
       "      <th>VehHistory</th>\n",
       "      <td>197</td>\n",
       "      <td>3.394796</td>\n",
       "    </tr>\n",
       "    <tr>\n",
       "      <th>VehSellerNotes</th>\n",
       "      <td>74</td>\n",
       "      <td>1.275202</td>\n",
       "    </tr>\n",
       "    <tr>\n",
       "      <th>VehDriveTrain</th>\n",
       "      <td>68</td>\n",
       "      <td>1.171808</td>\n",
       "    </tr>\n",
       "    <tr>\n",
       "      <th>VehColorExt</th>\n",
       "      <td>42</td>\n",
       "      <td>0.723764</td>\n",
       "    </tr>\n",
       "    <tr>\n",
       "      <th>VehTransmission</th>\n",
       "      <td>32</td>\n",
       "      <td>0.551439</td>\n",
       "    </tr>\n",
       "    <tr>\n",
       "      <th>VehEngine</th>\n",
       "      <td>28</td>\n",
       "      <td>0.482509</td>\n",
       "    </tr>\n",
       "    <tr>\n",
       "      <th>VehFeats</th>\n",
       "      <td>23</td>\n",
       "      <td>0.396347</td>\n",
       "    </tr>\n",
       "    <tr>\n",
       "      <th>SellerListSrc</th>\n",
       "      <td>2</td>\n",
       "      <td>0.034465</td>\n",
       "    </tr>\n",
       "    <tr>\n",
       "      <th>SellerZip</th>\n",
       "      <td>2</td>\n",
       "      <td>0.034465</td>\n",
       "    </tr>\n",
       "    <tr>\n",
       "      <th>VehFuel</th>\n",
       "      <td>2</td>\n",
       "      <td>0.034465</td>\n",
       "    </tr>\n",
       "    <tr>\n",
       "      <th>VehListdays</th>\n",
       "      <td>2</td>\n",
       "      <td>0.034465</td>\n",
       "    </tr>\n",
       "  </tbody>\n",
       "</table>\n",
       "</div>"
      ],
      "text/plain": [
       "                 Total   Percent\n",
       "VehColorInt        421  7.254868\n",
       "VehPriceLabel      233  4.015165\n",
       "VehHistory         197  3.394796\n",
       "VehSellerNotes      74  1.275202\n",
       "VehDriveTrain       68  1.171808\n",
       "VehColorExt         42  0.723764\n",
       "VehTransmission     32  0.551439\n",
       "VehEngine           28  0.482509\n",
       "VehFeats            23  0.396347\n",
       "SellerListSrc        2  0.034465\n",
       "SellerZip            2  0.034465\n",
       "VehFuel              2  0.034465\n",
       "VehListdays          2  0.034465"
      ]
     },
     "execution_count": 41,
     "metadata": {},
     "output_type": "execute_result"
    }
   ],
   "source": [
    "missing_data_info(x)"
   ]
  },
  {
   "cell_type": "code",
   "execution_count": 42,
   "id": "389029a9",
   "metadata": {},
   "outputs": [
    {
     "name": "stdout",
     "output_type": "stream",
     "text": [
      "(5012, 28)\n"
     ]
    }
   ],
   "source": [
    "x = x.dropna()\n",
    "print(x.shape)"
   ]
  },
  {
   "cell_type": "code",
   "execution_count": 43,
   "id": "bf3e81b7",
   "metadata": {},
   "outputs": [
    {
     "data": {
      "text/html": [
       "<div>\n",
       "<style scoped>\n",
       "    .dataframe tbody tr th:only-of-type {\n",
       "        vertical-align: middle;\n",
       "    }\n",
       "\n",
       "    .dataframe tbody tr th {\n",
       "        vertical-align: top;\n",
       "    }\n",
       "\n",
       "    .dataframe thead th {\n",
       "        text-align: right;\n",
       "    }\n",
       "</style>\n",
       "<table border=\"1\" class=\"dataframe\">\n",
       "  <thead>\n",
       "    <tr style=\"text-align: right;\">\n",
       "      <th></th>\n",
       "      <th>Total</th>\n",
       "      <th>Percent</th>\n",
       "    </tr>\n",
       "  </thead>\n",
       "  <tbody>\n",
       "  </tbody>\n",
       "</table>\n",
       "</div>"
      ],
      "text/plain": [
       "Empty DataFrame\n",
       "Columns: [Total, Percent]\n",
       "Index: []"
      ]
     },
     "execution_count": 43,
     "metadata": {},
     "output_type": "execute_result"
    }
   ],
   "source": [
    "missing_data_info(x)"
   ]
  },
  {
   "cell_type": "code",
   "execution_count": 44,
   "id": "2626159e",
   "metadata": {},
   "outputs": [
    {
     "name": "stdout",
     "output_type": "stream",
     "text": [
      "<class 'pandas.core.frame.DataFrame'>\n",
      "Int64Index: 5012 entries, 4777 to 8620012\n",
      "Data columns (total 28 columns):\n",
      " #   Column                Non-Null Count  Dtype  \n",
      "---  ------                --------------  -----  \n",
      " 0   SellerCity            5012 non-null   object \n",
      " 1   SellerIsPriv          5012 non-null   bool   \n",
      " 2   SellerListSrc         5012 non-null   object \n",
      " 3   SellerName            5012 non-null   object \n",
      " 4   SellerRating          5012 non-null   float64\n",
      " 5   SellerRevCnt          5012 non-null   int64  \n",
      " 6   SellerState           5012 non-null   object \n",
      " 7   SellerZip             5012 non-null   float64\n",
      " 8   VehBodystyle          5012 non-null   object \n",
      " 9   VehCertified          5012 non-null   bool   \n",
      " 10  VehColorExt           5012 non-null   object \n",
      " 11  VehColorInt           5012 non-null   object \n",
      " 12  VehDriveTrain         5012 non-null   object \n",
      " 13  VehEngine             5012 non-null   object \n",
      " 14  VehFeats              5012 non-null   object \n",
      " 15  VehFuel               5012 non-null   object \n",
      " 16  VehHistory            5012 non-null   object \n",
      " 17  VehListdays           5012 non-null   float64\n",
      " 18  VehMake               5012 non-null   object \n",
      " 19  VehMileage            5012 non-null   float64\n",
      " 20  VehModel              5012 non-null   object \n",
      " 21  VehPriceLabel         5012 non-null   object \n",
      " 22  VehSellerNotes        5012 non-null   object \n",
      " 23  VehType               5012 non-null   object \n",
      " 24  VehTransmission       5012 non-null   object \n",
      " 25  VehYear               5012 non-null   int64  \n",
      " 26  Vehicle_Trim          5012 non-null   object \n",
      " 27  Dealer_Listing_Price  5012 non-null   float64\n",
      "dtypes: bool(2), float64(5), int64(2), object(19)\n",
      "memory usage: 1.0+ MB\n"
     ]
    }
   ],
   "source": [
    "x.info()"
   ]
  },
  {
   "cell_type": "code",
   "execution_count": 45,
   "id": "a21b564e",
   "metadata": {},
   "outputs": [],
   "source": [
    "X_LEN = len(x)"
   ]
  },
  {
   "cell_type": "code",
   "execution_count": 46,
   "id": "85a21574",
   "metadata": {},
   "outputs": [],
   "source": [
    "numerical_features = []\n",
    "categorical_features = []"
   ]
  },
  {
   "cell_type": "code",
   "execution_count": 47,
   "id": "e94ffb34",
   "metadata": {},
   "outputs": [],
   "source": [
    "def feature_analyzer(feature: str):\n",
    "    if x[feature].dtype == 'O':\n",
    "        print('Categorical feature')\n",
    "        print('Number of Unique values:',len(x[feature].unique()))\n",
    "        print(f'Missing values {x[feature].isnull().sum()}, % missing values {np.round(x[feature].isnull().sum()/X_LEN*100, 2)}')\n",
    "        print()\n",
    "        print('Unique Values:')\n",
    "        print(x[feature].unique())\n",
    "        \n",
    "    elif x[feature].dtype == 'bool':\n",
    "            print('Boolean feature')\n",
    "            print(f'Missing values {x[feature].isnull().sum()}, % missing values {np.round(x[feature].isnull().sum()/X_LEN*100, 2)}')\n",
    "            print(f\"False count {len(x[feature])-x[feature].sum()}, True count {x[feature].sum()}\")\n",
    "    else:\n",
    "        print('Numerical Feature')\n",
    "        plt.figure()\n",
    "        plt.title(feature)\n",
    "        sns.histplot(x[feature], label=feature)\n",
    "        plt.legend()\n",
    "        plt.grid()\n",
    "        plt.show()\n",
    "        \n",
    "        \n",
    "def single_value_counts_info(feature):\n",
    "    \n",
    "    df = pd.DataFrame(x[feature])\n",
    "    all_data = []\n",
    "    \n",
    "    for column in df.columns:\n",
    "        counts = df[column].value_counts()\n",
    "        percent = (df[column].value_counts() / df.shape[0]) * 100\n",
    "        \n",
    "        data = pd.concat([counts, percent], axis=1, keys=['Counts', 'Percent']).reset_index()\n",
    "        data.rename(columns={'index': 'Value'}, inplace=True)\n",
    "        data['Column'] = column\n",
    "        all_data.append(data)\n",
    "        print('Total count: ',counts.sum())\n",
    "        \n",
    "    final_df = pd.concat(all_data, axis=0, ignore_index=True).pivot_table(index=['Column', 'Value'], values=['Counts', 'Percent'], aggfunc='first')\n",
    "    final_df = final_df.sort_values(by='Percent', ascending=False)\n",
    "\n",
    "    return final_df"
   ]
  },
  {
   "cell_type": "markdown",
   "id": "b6fa96a4",
   "metadata": {},
   "source": [
    "#### Going through each and every feature"
   ]
  },
  {
   "cell_type": "markdown",
   "id": "8fd6b193",
   "metadata": {},
   "source": [
    "1. `SellerCity`\n",
    "- DROP: too many values "
   ]
  },
  {
   "cell_type": "code",
   "execution_count": 48,
   "id": "04f11139",
   "metadata": {},
   "outputs": [
    {
     "name": "stdout",
     "output_type": "stream",
     "text": [
      "Categorical feature\n",
      "Number of Unique values: 1129\n",
      "Missing values 0, % missing values 0.0\n",
      "\n",
      "Unique Values:\n",
      "['Waukesha' 'Wentzville' 'Fayetteville' ... 'Sicklerville' 'Woodville'\n",
      " 'Vincennes']\n"
     ]
    }
   ],
   "source": [
    "feature_analyzer('SellerCity')"
   ]
  },
  {
   "cell_type": "markdown",
   "id": "94406fbd",
   "metadata": {},
   "source": [
    "2. `SellerIsPriv`\n",
    "- DROP: has only one value"
   ]
  },
  {
   "cell_type": "code",
   "execution_count": 49,
   "id": "f6c1a5af",
   "metadata": {},
   "outputs": [
    {
     "name": "stdout",
     "output_type": "stream",
     "text": [
      "Boolean feature\n",
      "Missing values 0, % missing values 0.0\n",
      "False count 5012, True count 0\n"
     ]
    }
   ],
   "source": [
    "feature_analyzer('SellerIsPriv')"
   ]
  },
  {
   "cell_type": "markdown",
   "id": "8cf4f643",
   "metadata": {},
   "source": [
    "3. SellerListSrc\n",
    "- Added to categorical: one hot encoding"
   ]
  },
  {
   "cell_type": "code",
   "execution_count": 50,
   "id": "c6542ef4",
   "metadata": {
    "scrolled": true
   },
   "outputs": [
    {
     "name": "stdout",
     "output_type": "stream",
     "text": [
      "Categorical feature\n",
      "Number of Unique values: 5\n",
      "Missing values 0, % missing values 0.0\n",
      "\n",
      "Unique Values:\n",
      "['Jeep Certified Program' 'Inventory Command Center' 'HomeNet Automotive'\n",
      " 'Digital Motorworks (DMi)' 'My Dealer Center']\n"
     ]
    }
   ],
   "source": [
    "feature_analyzer('SellerListSrc')"
   ]
  },
  {
   "cell_type": "code",
   "execution_count": 51,
   "id": "846060e9",
   "metadata": {},
   "outputs": [
    {
     "name": "stdout",
     "output_type": "stream",
     "text": [
      "Total count:  5012\n"
     ]
    },
    {
     "data": {
      "text/html": [
       "<div>\n",
       "<style scoped>\n",
       "    .dataframe tbody tr th:only-of-type {\n",
       "        vertical-align: middle;\n",
       "    }\n",
       "\n",
       "    .dataframe tbody tr th {\n",
       "        vertical-align: top;\n",
       "    }\n",
       "\n",
       "    .dataframe thead th {\n",
       "        text-align: right;\n",
       "    }\n",
       "</style>\n",
       "<table border=\"1\" class=\"dataframe\">\n",
       "  <thead>\n",
       "    <tr style=\"text-align: right;\">\n",
       "      <th></th>\n",
       "      <th></th>\n",
       "      <th>Counts</th>\n",
       "      <th>Percent</th>\n",
       "    </tr>\n",
       "    <tr>\n",
       "      <th>Column</th>\n",
       "      <th>Value</th>\n",
       "      <th></th>\n",
       "      <th></th>\n",
       "    </tr>\n",
       "  </thead>\n",
       "  <tbody>\n",
       "    <tr>\n",
       "      <th rowspan=\"5\" valign=\"top\">SellerListSrc</th>\n",
       "      <th>Digital Motorworks (DMi)</th>\n",
       "      <td>2639</td>\n",
       "      <td>52.653631</td>\n",
       "    </tr>\n",
       "    <tr>\n",
       "      <th>Inventory Command Center</th>\n",
       "      <td>947</td>\n",
       "      <td>18.894653</td>\n",
       "    </tr>\n",
       "    <tr>\n",
       "      <th>HomeNet Automotive</th>\n",
       "      <td>928</td>\n",
       "      <td>18.515563</td>\n",
       "    </tr>\n",
       "    <tr>\n",
       "      <th>Jeep Certified Program</th>\n",
       "      <td>478</td>\n",
       "      <td>9.537111</td>\n",
       "    </tr>\n",
       "    <tr>\n",
       "      <th>My Dealer Center</th>\n",
       "      <td>20</td>\n",
       "      <td>0.399042</td>\n",
       "    </tr>\n",
       "  </tbody>\n",
       "</table>\n",
       "</div>"
      ],
      "text/plain": [
       "                                        Counts    Percent\n",
       "Column        Value                                      \n",
       "SellerListSrc Digital Motorworks (DMi)    2639  52.653631\n",
       "              Inventory Command Center     947  18.894653\n",
       "              HomeNet Automotive           928  18.515563\n",
       "              Jeep Certified Program       478   9.537111\n",
       "              My Dealer Center              20   0.399042"
      ]
     },
     "execution_count": 51,
     "metadata": {},
     "output_type": "execute_result"
    }
   ],
   "source": [
    "single_value_counts_info('SellerListSrc')"
   ]
  },
  {
   "cell_type": "code",
   "execution_count": 52,
   "id": "77aab7ed",
   "metadata": {},
   "outputs": [],
   "source": [
    "categorical_features.append('SellerListSrc')"
   ]
  },
  {
   "cell_type": "markdown",
   "id": "31324237",
   "metadata": {},
   "source": [
    "4. SellerName\n",
    "- DROP"
   ]
  },
  {
   "cell_type": "code",
   "execution_count": 53,
   "id": "2054bb4d",
   "metadata": {},
   "outputs": [
    {
     "name": "stdout",
     "output_type": "stream",
     "text": [
      "Categorical feature\n",
      "Number of Unique values: 1964\n",
      "Missing values 0, % missing values 0.0\n",
      "\n",
      "Unique Values:\n",
      "['Wilde Chrysler Jeep Dodge Ram &amp; Subaru'\n",
      " 'Century Dodge Chrysler Jeep RAM' 'Superior Buick GMC of Fayetteville'\n",
      " ... 'Community Auto Sales' 'Cadillac of Dublin'\n",
      " 'Foster Chevrolet Cadillac']\n"
     ]
    }
   ],
   "source": [
    "feature_analyzer('SellerName')"
   ]
  },
  {
   "cell_type": "markdown",
   "id": "190c6ef8",
   "metadata": {},
   "source": [
    "5. SellerRating\n",
    "- added to numerical"
   ]
  },
  {
   "cell_type": "code",
   "execution_count": 54,
   "id": "ee67eea5",
   "metadata": {},
   "outputs": [
    {
     "name": "stdout",
     "output_type": "stream",
     "text": [
      "Numerical Feature\n"
     ]
    },
    {
     "data": {
      "image/png": "[encoded data removed]",
      "text/plain": [
       "<Figure size 640x480 with 1 Axes>"
      ]
     },
     "metadata": {},
     "output_type": "display_data"
    }
   ],
   "source": [
    "feature_analyzer('SellerRating')"
   ]
  },
  {
   "cell_type": "code",
   "execution_count": 55,
   "id": "f66d9ebb",
   "metadata": {},
   "outputs": [],
   "source": [
    "numerical_features.append('SellerRating')"
   ]
  },
  {
   "cell_type": "markdown",
   "id": "6ef2c703",
   "metadata": {},
   "source": [
    "6. SellerRevCnt\n",
    "- use log transform and add that as numerical"
   ]
  },
  {
   "cell_type": "code",
   "execution_count": 56,
   "id": "4c7cf341",
   "metadata": {},
   "outputs": [
    {
     "name": "stdout",
     "output_type": "stream",
     "text": [
      "Numerical Feature\n"
     ]
    },
    {
     "data": {
      "image/png": "[encoded data removed]",
      "text/plain": [
       "<Figure size 640x480 with 1 Axes>"
      ]
     },
     "metadata": {},
     "output_type": "display_data"
    }
   ],
   "source": [
    "feature_analyzer('SellerRevCnt')"
   ]
  },
  {
   "cell_type": "code",
   "execution_count": 57,
   "id": "abc0f161",
   "metadata": {},
   "outputs": [],
   "source": [
    "x['SellerRevCnt_log'] = np.log1p(x['SellerRevCnt']+1)"
   ]
  },
  {
   "cell_type": "code",
   "execution_count": 58,
   "id": "9efa93f2",
   "metadata": {
    "scrolled": false
   },
   "outputs": [
    {
     "name": "stdout",
     "output_type": "stream",
     "text": [
      "Numerical Feature\n"
     ]
    },
    {
     "data": {
      "image/png": "[encoded data removed]",
      "text/plain": [
       "<Figure size 640x480 with 1 Axes>"
      ]
     },
     "metadata": {},
     "output_type": "display_data"
    }
   ],
   "source": [
    "feature_analyzer('SellerRevCnt_log')"
   ]
  },
  {
   "cell_type": "code",
   "execution_count": 59,
   "id": "e5516978",
   "metadata": {},
   "outputs": [],
   "source": [
    "numerical_features.append('SellerRevCnt')"
   ]
  },
  {
   "cell_type": "markdown",
   "id": "3a7e5730",
   "metadata": {},
   "source": [
    "7. SellerState\n",
    "- one hot"
   ]
  },
  {
   "cell_type": "code",
   "execution_count": 60,
   "id": "15c7ad80",
   "metadata": {},
   "outputs": [
    {
     "name": "stdout",
     "output_type": "stream",
     "text": [
      "Categorical feature\n",
      "Number of Unique values: 49\n",
      "Missing values 0, % missing values 0.0\n",
      "\n",
      "Unique Values:\n",
      "['WI' 'MO' 'AR' 'NY' 'IL' 'KY' 'MD' 'LA' 'FL' 'TX' 'TN' 'OH' 'MI' 'IN'\n",
      " 'NC' 'IA' 'UT' 'PA' 'OK' 'GA' 'VA' 'CO' 'MN' 'WV' 'KS' 'NJ' 'MA' 'DE'\n",
      " 'SC' 'CA' 'AL' 'AK' 'CT' 'WA' 'SD' 'ID' 'NV' 'AZ' 'VT' 'MS' 'OR' 'NE'\n",
      " 'NM' 'NH' 'MT' 'ME' 'ND' 'RI' 'HI']\n"
     ]
    }
   ],
   "source": [
    "feature_analyzer('SellerState')"
   ]
  },
  {
   "cell_type": "code",
   "execution_count": 61,
   "id": "5056d40b",
   "metadata": {},
   "outputs": [
    {
     "name": "stdout",
     "output_type": "stream",
     "text": [
      "Total count:  5012\n"
     ]
    },
    {
     "data": {
      "text/html": [
       "<div>\n",
       "<style scoped>\n",
       "    .dataframe tbody tr th:only-of-type {\n",
       "        vertical-align: middle;\n",
       "    }\n",
       "\n",
       "    .dataframe tbody tr th {\n",
       "        vertical-align: top;\n",
       "    }\n",
       "\n",
       "    .dataframe thead th {\n",
       "        text-align: right;\n",
       "    }\n",
       "</style>\n",
       "<table border=\"1\" class=\"dataframe\">\n",
       "  <thead>\n",
       "    <tr style=\"text-align: right;\">\n",
       "      <th></th>\n",
       "      <th></th>\n",
       "      <th>Counts</th>\n",
       "      <th>Percent</th>\n",
       "    </tr>\n",
       "    <tr>\n",
       "      <th>Column</th>\n",
       "      <th>Value</th>\n",
       "      <th></th>\n",
       "      <th></th>\n",
       "    </tr>\n",
       "  </thead>\n",
       "  <tbody>\n",
       "    <tr>\n",
       "      <th rowspan=\"49\" valign=\"top\">SellerState</th>\n",
       "      <th>IL</th>\n",
       "      <td>613</td>\n",
       "      <td>12.230646</td>\n",
       "    </tr>\n",
       "    <tr>\n",
       "      <th>OH</th>\n",
       "      <td>483</td>\n",
       "      <td>9.636872</td>\n",
       "    </tr>\n",
       "    <tr>\n",
       "      <th>MI</th>\n",
       "      <td>456</td>\n",
       "      <td>9.098164</td>\n",
       "    </tr>\n",
       "    <tr>\n",
       "      <th>WI</th>\n",
       "      <td>351</td>\n",
       "      <td>7.003192</td>\n",
       "    </tr>\n",
       "    <tr>\n",
       "      <th>PA</th>\n",
       "      <td>266</td>\n",
       "      <td>5.307263</td>\n",
       "    </tr>\n",
       "    <tr>\n",
       "      <th>NY</th>\n",
       "      <td>242</td>\n",
       "      <td>4.828412</td>\n",
       "    </tr>\n",
       "    <tr>\n",
       "      <th>IN</th>\n",
       "      <td>233</td>\n",
       "      <td>4.648843</td>\n",
       "    </tr>\n",
       "    <tr>\n",
       "      <th>TX</th>\n",
       "      <td>231</td>\n",
       "      <td>4.608939</td>\n",
       "    </tr>\n",
       "    <tr>\n",
       "      <th>VA</th>\n",
       "      <td>195</td>\n",
       "      <td>3.890662</td>\n",
       "    </tr>\n",
       "    <tr>\n",
       "      <th>MD</th>\n",
       "      <td>188</td>\n",
       "      <td>3.750998</td>\n",
       "    </tr>\n",
       "    <tr>\n",
       "      <th>FL</th>\n",
       "      <td>184</td>\n",
       "      <td>3.671189</td>\n",
       "    </tr>\n",
       "    <tr>\n",
       "      <th>MO</th>\n",
       "      <td>165</td>\n",
       "      <td>3.292099</td>\n",
       "    </tr>\n",
       "    <tr>\n",
       "      <th>NC</th>\n",
       "      <td>158</td>\n",
       "      <td>3.152434</td>\n",
       "    </tr>\n",
       "    <tr>\n",
       "      <th>MN</th>\n",
       "      <td>146</td>\n",
       "      <td>2.913009</td>\n",
       "    </tr>\n",
       "    <tr>\n",
       "      <th>KY</th>\n",
       "      <td>141</td>\n",
       "      <td>2.813248</td>\n",
       "    </tr>\n",
       "    <tr>\n",
       "      <th>GA</th>\n",
       "      <td>141</td>\n",
       "      <td>2.813248</td>\n",
       "    </tr>\n",
       "    <tr>\n",
       "      <th>TN</th>\n",
       "      <td>130</td>\n",
       "      <td>2.593775</td>\n",
       "    </tr>\n",
       "    <tr>\n",
       "      <th>IA</th>\n",
       "      <td>113</td>\n",
       "      <td>2.254589</td>\n",
       "    </tr>\n",
       "    <tr>\n",
       "      <th>CA</th>\n",
       "      <td>86</td>\n",
       "      <td>1.715882</td>\n",
       "    </tr>\n",
       "    <tr>\n",
       "      <th>NJ</th>\n",
       "      <td>65</td>\n",
       "      <td>1.296887</td>\n",
       "    </tr>\n",
       "    <tr>\n",
       "      <th>CO</th>\n",
       "      <td>41</td>\n",
       "      <td>0.818037</td>\n",
       "    </tr>\n",
       "    <tr>\n",
       "      <th>SC</th>\n",
       "      <td>40</td>\n",
       "      <td>0.798085</td>\n",
       "    </tr>\n",
       "    <tr>\n",
       "      <th>WV</th>\n",
       "      <td>35</td>\n",
       "      <td>0.698324</td>\n",
       "    </tr>\n",
       "    <tr>\n",
       "      <th>OK</th>\n",
       "      <td>31</td>\n",
       "      <td>0.618516</td>\n",
       "    </tr>\n",
       "    <tr>\n",
       "      <th>WA</th>\n",
       "      <td>27</td>\n",
       "      <td>0.538707</td>\n",
       "    </tr>\n",
       "    <tr>\n",
       "      <th>AL</th>\n",
       "      <td>26</td>\n",
       "      <td>0.518755</td>\n",
       "    </tr>\n",
       "    <tr>\n",
       "      <th>LA</th>\n",
       "      <td>26</td>\n",
       "      <td>0.518755</td>\n",
       "    </tr>\n",
       "    <tr>\n",
       "      <th>AZ</th>\n",
       "      <td>25</td>\n",
       "      <td>0.498803</td>\n",
       "    </tr>\n",
       "    <tr>\n",
       "      <th>MA</th>\n",
       "      <td>21</td>\n",
       "      <td>0.418994</td>\n",
       "    </tr>\n",
       "    <tr>\n",
       "      <th>AR</th>\n",
       "      <td>20</td>\n",
       "      <td>0.399042</td>\n",
       "    </tr>\n",
       "    <tr>\n",
       "      <th>UT</th>\n",
       "      <td>19</td>\n",
       "      <td>0.379090</td>\n",
       "    </tr>\n",
       "    <tr>\n",
       "      <th>NV</th>\n",
       "      <td>15</td>\n",
       "      <td>0.299282</td>\n",
       "    </tr>\n",
       "    <tr>\n",
       "      <th>MS</th>\n",
       "      <td>14</td>\n",
       "      <td>0.279330</td>\n",
       "    </tr>\n",
       "    <tr>\n",
       "      <th>CT</th>\n",
       "      <td>14</td>\n",
       "      <td>0.279330</td>\n",
       "    </tr>\n",
       "    <tr>\n",
       "      <th>ID</th>\n",
       "      <td>13</td>\n",
       "      <td>0.259377</td>\n",
       "    </tr>\n",
       "    <tr>\n",
       "      <th>SD</th>\n",
       "      <td>10</td>\n",
       "      <td>0.199521</td>\n",
       "    </tr>\n",
       "    <tr>\n",
       "      <th>KS</th>\n",
       "      <td>9</td>\n",
       "      <td>0.179569</td>\n",
       "    </tr>\n",
       "    <tr>\n",
       "      <th>OR</th>\n",
       "      <td>8</td>\n",
       "      <td>0.159617</td>\n",
       "    </tr>\n",
       "    <tr>\n",
       "      <th>NH</th>\n",
       "      <td>6</td>\n",
       "      <td>0.119713</td>\n",
       "    </tr>\n",
       "    <tr>\n",
       "      <th>DE</th>\n",
       "      <td>5</td>\n",
       "      <td>0.099761</td>\n",
       "    </tr>\n",
       "    <tr>\n",
       "      <th>NM</th>\n",
       "      <td>4</td>\n",
       "      <td>0.079808</td>\n",
       "    </tr>\n",
       "    <tr>\n",
       "      <th>NE</th>\n",
       "      <td>4</td>\n",
       "      <td>0.079808</td>\n",
       "    </tr>\n",
       "    <tr>\n",
       "      <th>VT</th>\n",
       "      <td>3</td>\n",
       "      <td>0.059856</td>\n",
       "    </tr>\n",
       "    <tr>\n",
       "      <th>AK</th>\n",
       "      <td>3</td>\n",
       "      <td>0.059856</td>\n",
       "    </tr>\n",
       "    <tr>\n",
       "      <th>RI</th>\n",
       "      <td>2</td>\n",
       "      <td>0.039904</td>\n",
       "    </tr>\n",
       "    <tr>\n",
       "      <th>ND</th>\n",
       "      <td>1</td>\n",
       "      <td>0.019952</td>\n",
       "    </tr>\n",
       "    <tr>\n",
       "      <th>MT</th>\n",
       "      <td>1</td>\n",
       "      <td>0.019952</td>\n",
       "    </tr>\n",
       "    <tr>\n",
       "      <th>ME</th>\n",
       "      <td>1</td>\n",
       "      <td>0.019952</td>\n",
       "    </tr>\n",
       "    <tr>\n",
       "      <th>HI</th>\n",
       "      <td>1</td>\n",
       "      <td>0.019952</td>\n",
       "    </tr>\n",
       "  </tbody>\n",
       "</table>\n",
       "</div>"
      ],
      "text/plain": [
       "                   Counts    Percent\n",
       "Column      Value                   \n",
       "SellerState IL        613  12.230646\n",
       "            OH        483   9.636872\n",
       "            MI        456   9.098164\n",
       "            WI        351   7.003192\n",
       "            PA        266   5.307263\n",
       "            NY        242   4.828412\n",
       "            IN        233   4.648843\n",
       "            TX        231   4.608939\n",
       "            VA        195   3.890662\n",
       "            MD        188   3.750998\n",
       "            FL        184   3.671189\n",
       "            MO        165   3.292099\n",
       "            NC        158   3.152434\n",
       "            MN        146   2.913009\n",
       "            KY        141   2.813248\n",
       "            GA        141   2.813248\n",
       "            TN        130   2.593775\n",
       "            IA        113   2.254589\n",
       "            CA         86   1.715882\n",
       "            NJ         65   1.296887\n",
       "            CO         41   0.818037\n",
       "            SC         40   0.798085\n",
       "            WV         35   0.698324\n",
       "            OK         31   0.618516\n",
       "            WA         27   0.538707\n",
       "            AL         26   0.518755\n",
       "            LA         26   0.518755\n",
       "            AZ         25   0.498803\n",
       "            MA         21   0.418994\n",
       "            AR         20   0.399042\n",
       "            UT         19   0.379090\n",
       "            NV         15   0.299282\n",
       "            MS         14   0.279330\n",
       "            CT         14   0.279330\n",
       "            ID         13   0.259377\n",
       "            SD         10   0.199521\n",
       "            KS          9   0.179569\n",
       "            OR          8   0.159617\n",
       "            NH          6   0.119713\n",
       "            DE          5   0.099761\n",
       "            NM          4   0.079808\n",
       "            NE          4   0.079808\n",
       "            VT          3   0.059856\n",
       "            AK          3   0.059856\n",
       "            RI          2   0.039904\n",
       "            ND          1   0.019952\n",
       "            MT          1   0.019952\n",
       "            ME          1   0.019952\n",
       "            HI          1   0.019952"
      ]
     },
     "execution_count": 61,
     "metadata": {},
     "output_type": "execute_result"
    }
   ],
   "source": [
    "single_value_counts_info('SellerState')"
   ]
  },
  {
   "cell_type": "code",
   "execution_count": 62,
   "id": "f10c21b7",
   "metadata": {},
   "outputs": [],
   "source": [
    "categorical_features.append('SellerState')"
   ]
  },
  {
   "cell_type": "markdown",
   "id": "a5bcee30",
   "metadata": {},
   "source": [
    "8. SellerZip\n",
    "- drop, we already have the state "
   ]
  },
  {
   "cell_type": "code",
   "execution_count": 63,
   "id": "ad2bb089",
   "metadata": {},
   "outputs": [
    {
     "name": "stdout",
     "output_type": "stream",
     "text": [
      "Numerical Feature\n"
     ]
    },
    {
     "data": {
      "image/png": "[encoded data removed]",
      "text/plain": [
       "<Figure size 640x480 with 1 Axes>"
      ]
     },
     "metadata": {},
     "output_type": "display_data"
    }
   ],
   "source": [
    "feature_analyzer('SellerZip')"
   ]
  },
  {
   "cell_type": "markdown",
   "id": "9e0105f9",
   "metadata": {},
   "source": [
    "9. VehBodystyle\n",
    "- DROP: has one value only"
   ]
  },
  {
   "cell_type": "code",
   "execution_count": 64,
   "id": "5be87dc7",
   "metadata": {},
   "outputs": [
    {
     "name": "stdout",
     "output_type": "stream",
     "text": [
      "Categorical feature\n",
      "Number of Unique values: 1\n",
      "Missing values 0, % missing values 0.0\n",
      "\n",
      "Unique Values:\n",
      "['SUV']\n"
     ]
    }
   ],
   "source": [
    "feature_analyzer('VehBodystyle')"
   ]
  },
  {
   "cell_type": "markdown",
   "id": "31efeac8",
   "metadata": {},
   "source": [
    " 10. VehCertified\n",
    " - bool added \n"
   ]
  },
  {
   "cell_type": "code",
   "execution_count": 65,
   "id": "33e42aae",
   "metadata": {},
   "outputs": [
    {
     "name": "stdout",
     "output_type": "stream",
     "text": [
      "Boolean feature\n",
      "Missing values 0, % missing values 0.0\n",
      "False count 4102, True count 910\n"
     ]
    }
   ],
   "source": [
    "feature_analyzer('VehCertified')"
   ]
  },
  {
   "cell_type": "code",
   "execution_count": 66,
   "id": "0b88e5d4",
   "metadata": {},
   "outputs": [],
   "source": [
    "categorical_features.append('VehCertified')"
   ]
  },
  {
   "cell_type": "markdown",
   "id": "d6adcf8d",
   "metadata": {},
   "source": [
    " 10. VehColorExt\n",
    " - categorical added, but extracted colors"
   ]
  },
  {
   "cell_type": "code",
   "execution_count": 67,
   "id": "53c95c75",
   "metadata": {},
   "outputs": [
    {
     "name": "stdout",
     "output_type": "stream",
     "text": [
      "Categorical feature\n",
      "Number of Unique values: 142\n",
      "Missing values 0, % missing values 0.0\n",
      "\n",
      "Unique Values:\n",
      "['Brilliant Black Crystal Pearlcoat' 'Diamond Black Crystal Pearlcoat'\n",
      " 'Radiant Silver Metallic' 'Billet Silver Metallic Clearcoat'\n",
      " 'True Blue Pearlcoat' 'Red' 'Bright White Clearcoat'\n",
      " 'Billet Silver Metallic' 'Dark Granite Metallic' 'Crystal White Tricoat'\n",
      " 'White' 'Red Passion Tintcoat' 'Granite Crystal Clearcoat Metallic'\n",
      " 'Velvet Red Pearlcoat' 'Stellar Black Metallic' 'Gray'\n",
      " 'Crystal White Tri-Coat' 'True Blue' 'Black'\n",
      " 'Brilliant Black Crystal Pearl Coat' 'Granite Crystal Metallic Clearcoat'\n",
      " 'Walnut Brown' 'Diamond Black' 'Maximum Steel Metallic Clearcoat'\n",
      " 'Charcoal' 'Silver' 'Deep Cherry Red Crystal Pearlcoat'\n",
      " 'Maximum Steel Metallic' 'Silver Black' 'Dark Adriatic Blue Metallic'\n",
      " 'Velvet Red Pearl Coat' 'Blue' 'Bright White' 'Harbor Blue Metallic'\n",
      " 'Deep Cherry Red Crystal' 'Maximum Steel'\n",
      " 'Granite Crystal Metallic Clear Coat' 'Walnut Brown Metallic Clearcoat'\n",
      " 'Black Metallic' 'Velvet' 'Bronze Dune Metallic' 'Dk. Gray'\n",
      " 'Certified Camera Bluetooth Alloys' 'Bright White Clear Coat'\n",
      " 'Rhino Clearcoat' 'Redline 2 Coat Pearl' 'Silver Coast Metallic'\n",
      " 'Granite Crystal' 'True Blue Pearl Coat' 'Blue Metallic' 'Red Line'\n",
      " 'Brown' 'Crystal White' 'Green Clearcoat' 'Ivory 3-Coat'\n",
      " 'Deep Amethyst Metallic' 'Billet Silver Metallic Clear Coat'\n",
      " 'Sangria Metallic' 'Brilliant Black Crystal Pearl' 'Red Horizon Tintcoat'\n",
      " 'Maroon' 'Granite' 'Cashmere' 'Radiant Silver' 'Ivory'\n",
      " 'Light Brownstone Pearlcoat' 'Brilliant Black Crystal Clear'\n",
      " 'Diamond Black Crystal Pearl Coat' 'Certified Hemi Lthr Pano Roof Nav'\n",
      " 'Cashmere Pearlcoat' 'Black Forest Green Pearlcoat' 'Purple'\n",
      " 'Maximum Steel Metallic Clear Coat' 'Silver Metallic'\n",
      " 'Certified Lthr Roof Nav Camera' 'Sangria Metallic Clear Coat' 'Burgundy'\n",
      " 'Black Limited' 'Redline Pearl Coat' 'Dark Blue' 'Pearl White'\n",
      " 'Deep Auburn Pearlcoat' 'Velvet Red' 'Dark Granite' 'Gold' 'Grey'\n",
      " 'Steel Metallic' 'Recon Green Clearcoat' 'Billet Silver M'\n",
      " 'Brilliant Black Crystal P' 'Granite Chrystal Metallic Clearcoat'\n",
      " 'Silver Moonlight Metallic' 'Billet Silver Clearcoat Metallic'\n",
      " 'Midnight Sky' 'Sangria Metallic Clearcoat' 'Dark Gray'\n",
      " 'Luxury Brown Pearlcoat' 'Beige' 'True Blue Pearl' 'Stellar Black'\n",
      " 'Diamond Black Crystal' 'Tan' 'Cashmere Pearl Coat'\n",
      " 'Certified Lthr Pano Roof Nav Camera' 'Maximum Steel Clearcoat Metallic'\n",
      " 'Db Black' 'Granite Crystal Metallic Clearcoat - Gray' 'Brilliant Black'\n",
      " 'Billett Silver Clearcoat Metallic' 'Steel' 'Dark Adriatic Blue'\n",
      " 'Silver Coast' 'Ruby Red Metallic' 'Silver Awd Pano Roof Loaded'\n",
      " 'Brilliant Silver' 'Silver Coast Me' 'Diamond Black Crystal P/C'\n",
      " 'Steel Metallic Clearcoat' 'Red Passion Tc' 'Pewter'\n",
      " 'Dark Mocha Metallic' 'Billiet Silver' 'Shadow Metallic'\n",
      " 'Black Forest Green Pearl Coat' 'Bronze'\n",
      " 'Certified Lthr Pano Roof Hot Cold Seats'\n",
      " 'Deep Cherry Red Crystal Pearl Coat'\n",
      " 'Redline 2 Coat Pearl **Night Edition**' 'Pink' 'Billet'\n",
      " 'Billet Silver Metallic Clearcoat - Silver' 'Summit White'\n",
      " 'Certified Roof Camera Htd Seats' 'Granite Crystal Metallic' 'White '\n",
      " 'Midnight Sky Metallic' 'Black Forest Green'\n",
      " 'Diamond Black Crystal Pearl-Coat' 'Maximum Steel M'\n",
      " 'Granite Crystal Gray' 'Bright Sil' 'Stellar Black M']\n"
     ]
    }
   ],
   "source": [
    "feature_analyzer('VehColorExt')"
   ]
  },
  {
   "cell_type": "code",
   "execution_count": 68,
   "id": "b2b0ba90",
   "metadata": {},
   "outputs": [],
   "source": [
    "def basic_color(color):\n",
    "    base_colors = ['Black', 'White', 'Red', 'Silver', 'Blue', 'Gray', 'Brown', 'Gold' ]\n",
    "    for base in base_colors:\n",
    "        if base.lower() in color.lower():\n",
    "            return base\n",
    "    return 'Other'\n",
    "\n",
    "x['BasicExtColor'] = x['VehColorExt'].apply(basic_color)"
   ]
  },
  {
   "cell_type": "code",
   "execution_count": 69,
   "id": "291b6585",
   "metadata": {},
   "outputs": [
    {
     "name": "stdout",
     "output_type": "stream",
     "text": [
      "Total count:  5012\n"
     ]
    },
    {
     "data": {
      "text/html": [
       "<div>\n",
       "<style scoped>\n",
       "    .dataframe tbody tr th:only-of-type {\n",
       "        vertical-align: middle;\n",
       "    }\n",
       "\n",
       "    .dataframe tbody tr th {\n",
       "        vertical-align: top;\n",
       "    }\n",
       "\n",
       "    .dataframe thead th {\n",
       "        text-align: right;\n",
       "    }\n",
       "</style>\n",
       "<table border=\"1\" class=\"dataframe\">\n",
       "  <thead>\n",
       "    <tr style=\"text-align: right;\">\n",
       "      <th></th>\n",
       "      <th></th>\n",
       "      <th>Counts</th>\n",
       "      <th>Percent</th>\n",
       "    </tr>\n",
       "    <tr>\n",
       "      <th>Column</th>\n",
       "      <th>Value</th>\n",
       "      <th></th>\n",
       "      <th></th>\n",
       "    </tr>\n",
       "  </thead>\n",
       "  <tbody>\n",
       "    <tr>\n",
       "      <th rowspan=\"9\" valign=\"top\">BasicExtColor</th>\n",
       "      <th>Black</th>\n",
       "      <td>1247</td>\n",
       "      <td>24.880287</td>\n",
       "    </tr>\n",
       "    <tr>\n",
       "      <th>White</th>\n",
       "      <td>1035</td>\n",
       "      <td>20.650439</td>\n",
       "    </tr>\n",
       "    <tr>\n",
       "      <th>Other</th>\n",
       "      <td>930</td>\n",
       "      <td>18.555467</td>\n",
       "    </tr>\n",
       "    <tr>\n",
       "      <th>Silver</th>\n",
       "      <td>811</td>\n",
       "      <td>16.181165</td>\n",
       "    </tr>\n",
       "    <tr>\n",
       "      <th>Red</th>\n",
       "      <td>533</td>\n",
       "      <td>10.634477</td>\n",
       "    </tr>\n",
       "    <tr>\n",
       "      <th>Blue</th>\n",
       "      <td>241</td>\n",
       "      <td>4.808460</td>\n",
       "    </tr>\n",
       "    <tr>\n",
       "      <th>Gray</th>\n",
       "      <td>155</td>\n",
       "      <td>3.092578</td>\n",
       "    </tr>\n",
       "    <tr>\n",
       "      <th>Brown</th>\n",
       "      <td>55</td>\n",
       "      <td>1.097366</td>\n",
       "    </tr>\n",
       "    <tr>\n",
       "      <th>Gold</th>\n",
       "      <td>5</td>\n",
       "      <td>0.099761</td>\n",
       "    </tr>\n",
       "  </tbody>\n",
       "</table>\n",
       "</div>"
      ],
      "text/plain": [
       "                      Counts    Percent\n",
       "Column        Value                    \n",
       "BasicExtColor Black     1247  24.880287\n",
       "              White     1035  20.650439\n",
       "              Other      930  18.555467\n",
       "              Silver     811  16.181165\n",
       "              Red        533  10.634477\n",
       "              Blue       241   4.808460\n",
       "              Gray       155   3.092578\n",
       "              Brown       55   1.097366\n",
       "              Gold         5   0.099761"
      ]
     },
     "execution_count": 69,
     "metadata": {},
     "output_type": "execute_result"
    }
   ],
   "source": [
    "single_value_counts_info('BasicExtColor')"
   ]
  },
  {
   "cell_type": "code",
   "execution_count": 70,
   "id": "afa23199",
   "metadata": {},
   "outputs": [],
   "source": [
    "categorical_features.append('VehColorExt')"
   ]
  },
  {
   "cell_type": "markdown",
   "id": "0284888c",
   "metadata": {},
   "source": [
    " 11. VehColorInt\n",
    " - changed to boolean whether has leather or not\n"
   ]
  },
  {
   "cell_type": "code",
   "execution_count": 71,
   "id": "c8f6ef6e",
   "metadata": {},
   "outputs": [
    {
     "name": "stdout",
     "output_type": "stream",
     "text": [
      "Categorical feature\n",
      "Number of Unique values: 95\n",
      "Missing values 0, % missing values 0.0\n",
      "\n",
      "Unique Values:\n",
      "['Black' 'Cirrus' 'Jet Black' 'Lt Frost Beige/Black' 'Tan' 'Black Leather'\n",
      " 'Black / Dark Sienna Brown' 'Light Frost Beige / Black' 'Sahara Beige'\n",
      " 'Shara Beige' 'TAN' 'lt frost beige black' 'Light Frost Beige'\n",
      " 'Light Frost/Brown' 'black' 'BEIGE' 'Sepia / Black' 'Light Frost'\n",
      " 'Beige Leather' 'Maple Sugar' 'Jet Black Lunar Brushed Aluminium Trim'\n",
      " 'Beige' 'jet black' 'sahara beige' 'Sepia/Black' 'Ruby Red' 'JET BLACK'\n",
      " 'Blue' 'Ruby Red/Black' 'JET BLACK BRONZE CARBON FIBER TRIM'\n",
      " 'Sahara Beige w/ Jet Black Accent' 'Brown' 'Sahara Beige Leather'\n",
      " 'Black/Dark Sienna Brown' 'Light Frost Beige/Black'\n",
      " 'SAHARA BEIGE/JET BLACK ACCENTS NATURAL SAPELE HIGH' 'Brown/Indigo Blue'\n",
      " 'Gray' 'Black / Light Frost Beige' 'Charcoal' 'Carbon Plum'\n",
      " 'BLACK LEATHER' 'Other' 'Carbon' 'Ski Gray' 'Ski Gray/Indigo' 'BLACK'\n",
      " 'BLACK/LIGHT FROST' 'Indigo Blue / Brown'\n",
      " 'JET BLACK LUNAR BRUSHED ALUMINIUM TRIM'\n",
      " 'Cirrus w/Dark Titanium Accents w/Leather Seating S' 'Dark Ruby Red'\n",
      " 'Black/Ruby Red' 'Sport' 'Red / Black' 'Ruby Red/Black Leather'\n",
      " 'CHARCOAL' 'Jet Black Leather' 'Light Frost / Brown'\n",
      " 'SUGAR MAPLE LEATHER' 'Black / Ruby Red' 'Cirrus w/dark atmosphere'\n",
      " 'Brown Leather' 'Beige Cloth' 'Dark Ruby Red/Black'\n",
      " 'Black/Light Frost Beige' 'Pewter' 'Ruby Red/Black Leather/Suede'\n",
      " 'GREY,LEATHER' 'Red' 'Tan Leather' 'Light Frost Beige Black'\n",
      " 'Black Cloth' 'brown'\n",
      " 'SAHARA BEIGE/JET BLACK ACCENTS OKAPI STRIPE DESIGN' 'SIENNA BROWN'\n",
      " 'Jet Black, premium leather'\n",
      " 'Jet Black w/Full Leather Seats w/Mini Perforated I'\n",
      " 'Sahara Beige W/ Jet Black Accent' 'Graphite' 'Dark Granite' 'Cream'\n",
      " 'Sienna Brown' 'light frost brown'\n",
      " 'CIRRUS W/ DARK TITANIUM ACCENTS DIAMOND CUT ALUMIN' 'Bronze' 'CIRRUS'\n",
      " 'Jet Black W/Leather Seating Surfaces W/Mini Perfor' 'Red/Black'\n",
      " 'Jet Black w/Leather Seating Surfaces w/Mini Perfor'\n",
      " 'Cirrus w/Dark Titanium Accents w/Full Leather Seat' 'Ruby Red/black'\n",
      " 'JET BLACK, LEATHER SEATING SURFACES WITH MINI-PERF'\n",
      " 'Black/Lt. Frost Beige' 'Black, cloth']\n"
     ]
    }
   ],
   "source": [
    "feature_analyzer('VehColorInt')"
   ]
  },
  {
   "cell_type": "code",
   "execution_count": 72,
   "id": "8f6aff0a",
   "metadata": {},
   "outputs": [],
   "source": [
    "x['ContainsLeather'] = x['VehColorInt'].str.contains('leather', case=False).astype(bool)"
   ]
  },
  {
   "cell_type": "code",
   "execution_count": 73,
   "id": "fe0e82cf",
   "metadata": {},
   "outputs": [
    {
     "name": "stdout",
     "output_type": "stream",
     "text": [
      "Boolean feature\n",
      "Missing values 0, % missing values 0.0\n",
      "False count 4892, True count 120\n"
     ]
    }
   ],
   "source": [
    "feature_analyzer('ContainsLeather')"
   ]
  },
  {
   "cell_type": "code",
   "execution_count": 74,
   "id": "0fab7db3",
   "metadata": {},
   "outputs": [],
   "source": [
    "categorical_features.append('VehColorInt')"
   ]
  },
  {
   "cell_type": "markdown",
   "id": "bb8bf731",
   "metadata": {},
   "source": [
    " 12. VehDriveTrain\n"
   ]
  },
  {
   "cell_type": "code",
   "execution_count": 75,
   "id": "ee414192",
   "metadata": {},
   "outputs": [
    {
     "name": "stdout",
     "output_type": "stream",
     "text": [
      "Categorical feature\n",
      "Number of Unique values: 15\n",
      "Missing values 0, % missing values 0.0\n",
      "\n",
      "Unique Values:\n",
      "['4x4/4WD' '4WD' 'FWD' 'AWD' '4x4' 'Four Wheel Drive' '4X4'\n",
      " 'All Wheel Drive'\n",
      " 'ALL-WHEEL DRIVE WITH LOCKING AND LIMITED-SLIP DIFFERENTIAL' 'AWD or 4x4'\n",
      " 'Front Wheel Drive' 'All-wheel Drive' 'ALL WHEEL' 'AllWheelDrive'\n",
      " '4WD/AWD']\n"
     ]
    }
   ],
   "source": [
    "feature_analyzer('VehDriveTrain')"
   ]
  },
  {
   "cell_type": "code",
   "execution_count": 76,
   "id": "260b6fe6",
   "metadata": {},
   "outputs": [],
   "source": [
    "drivetrain_mapping = {\n",
    "    '4x4/4WD': 'all_drive',\n",
    "    '4WD': 'all_drive',\n",
    "    'FWD': 'front_drive',\n",
    "    'AWD': 'all_drive',\n",
    "    '4x4': 'all_drive',\n",
    "    'Four Wheel Drive': 'all_drive',\n",
    "    '4X4': 'all_drive',\n",
    "    'All Wheel Drive': 'all_drive',\n",
    "    'ALL-WHEEL DRIVE WITH LOCKING AND LIMITED-SLIP DIFFERENTIAL': 'all_drive',\n",
    "    'AWD or 4x4': 'all_drive',\n",
    "    'Front Wheel Drive': 'all_drive',\n",
    "    'All-wheel Drive': 'all_drive',\n",
    "    'ALL WHEEL': 'all_drive',\n",
    "    'AllWheelDrive': 'all_drive',\n",
    "    '4WD/AWD': 'all_drive'\n",
    "}\n",
    "\n",
    "x['Drivetrain'] = x['VehDriveTrain'].replace(drivetrain_mapping).astype('O')"
   ]
  },
  {
   "cell_type": "code",
   "execution_count": 77,
   "id": "335074fb",
   "metadata": {},
   "outputs": [
    {
     "name": "stdout",
     "output_type": "stream",
     "text": [
      "Categorical feature\n",
      "Number of Unique values: 2\n",
      "Missing values 0, % missing values 0.0\n",
      "\n",
      "Unique Values:\n",
      "['all_drive' 'front_drive']\n"
     ]
    }
   ],
   "source": [
    "feature_analyzer('Drivetrain')"
   ]
  },
  {
   "cell_type": "code",
   "execution_count": 78,
   "id": "d137dfdf",
   "metadata": {},
   "outputs": [
    {
     "name": "stdout",
     "output_type": "stream",
     "text": [
      "Total count:  5012\n"
     ]
    },
    {
     "data": {
      "text/html": [
       "<div>\n",
       "<style scoped>\n",
       "    .dataframe tbody tr th:only-of-type {\n",
       "        vertical-align: middle;\n",
       "    }\n",
       "\n",
       "    .dataframe tbody tr th {\n",
       "        vertical-align: top;\n",
       "    }\n",
       "\n",
       "    .dataframe thead th {\n",
       "        text-align: right;\n",
       "    }\n",
       "</style>\n",
       "<table border=\"1\" class=\"dataframe\">\n",
       "  <thead>\n",
       "    <tr style=\"text-align: right;\">\n",
       "      <th></th>\n",
       "      <th></th>\n",
       "      <th>Counts</th>\n",
       "      <th>Percent</th>\n",
       "    </tr>\n",
       "    <tr>\n",
       "      <th>Column</th>\n",
       "      <th>Value</th>\n",
       "      <th></th>\n",
       "      <th></th>\n",
       "    </tr>\n",
       "  </thead>\n",
       "  <tbody>\n",
       "    <tr>\n",
       "      <th rowspan=\"2\" valign=\"top\">Drivetrain</th>\n",
       "      <th>all_drive</th>\n",
       "      <td>4062</td>\n",
       "      <td>81.045491</td>\n",
       "    </tr>\n",
       "    <tr>\n",
       "      <th>front_drive</th>\n",
       "      <td>950</td>\n",
       "      <td>18.954509</td>\n",
       "    </tr>\n",
       "  </tbody>\n",
       "</table>\n",
       "</div>"
      ],
      "text/plain": [
       "                        Counts    Percent\n",
       "Column     Value                         \n",
       "Drivetrain all_drive      4062  81.045491\n",
       "           front_drive     950  18.954509"
      ]
     },
     "execution_count": 78,
     "metadata": {},
     "output_type": "execute_result"
    }
   ],
   "source": [
    "single_value_counts_info('Drivetrain')"
   ]
  },
  {
   "cell_type": "code",
   "execution_count": 79,
   "id": "246d1d4d",
   "metadata": {},
   "outputs": [],
   "source": [
    "categorical_features.append('VehDriveTrain')"
   ]
  },
  {
   "cell_type": "markdown",
   "id": "02d01b75",
   "metadata": {},
   "source": [
    " 13. VehEngine\n"
   ]
  },
  {
   "cell_type": "code",
   "execution_count": 80,
   "id": "1e73873b",
   "metadata": {},
   "outputs": [
    {
     "name": "stdout",
     "output_type": "stream",
     "text": [
      "Categorical feature\n",
      "Number of Unique values: 82\n",
      "Missing values 0, % missing values 0.0\n",
      "\n",
      "Unique Values:\n",
      "['Regular Unleaded V-6 3.6 L/220' '3.6L V6' 'Gas V6 3.6L/222.6'\n",
      " '3.6L V6 24V MPFI DOHC' 'V6 Cylinder Engine 3.0L' '3.6L V6 GAS'\n",
      " 'Gas V6 3.6L/222' '3.6L V6 24V GDI DOHC' '3.6L V6 DI VVT'\n",
      " '5.7L V8 16V MPFI OHV' '3.6L V6 24V MPFI DOHC Flexible Fuel' 'V-8 cyl'\n",
      " 'V6 Cylinder Engine 3.6L' '3.6L' '6 Cylinder' '3.6L V6 24V VVT'\n",
      " '3.6L V6 DOHC 24V' 'Regular Unleaded V-8 5.7 L/345' '3.6 L'\n",
      " '6.4L V8 16V MPFI OHV' '3.6L V6 Cylinder Engine'\n",
      " 'Intercooled Turbo Diesel V-6 3.0 L/182'\n",
      " '6.2L V8 16V MPFI OHV Supercharged' '3.6L V6 295hp 260ft. lbs.'\n",
      " '3.6L V6 CYLINDER' '6.4L 8 Cyl.' '5.7L V8' 'V6 Cylinder Engine' '5.7 L'\n",
      " '3.6L V6 290hp 260ft. lbs.' 'Premium Unleaded V-8 6.4 L/392'\n",
      " '3.0L V6 Turbodiesel' '6.4L 8-Cyl Engine' '3.0L V6'\n",
      " '3.0L V6 24V DDI DOHC Turbo Diesel'\n",
      " 'Supercharger Premium Unleaded V-8 6.2 L/376' '5.7L V8 OHV 16V'\n",
      " '3.6L V6 24V VVT Engine Upg I w/ESS' '5.7L V8 HEMI'\n",
      " '3.6L V6 DI VVT Engine' 'V6 3.6L Natural Aspiration'\n",
      " '3.0L V6 DOHC 24V DIESEL' '5.7L V8 Multi Displacement VVT' 'V-6 cyl'\n",
      " '3.6L 6 cyl Fuel Injected' 'Regular Unleaded V-8 HEMI 5.7 L/345'\n",
      " '6.4L 8 Cylinder Engine' '6.4L V8' '3.6L V6 310HP'\n",
      " 'V6,3.6L(220 CID),DOHC' '3.6L 6 Cylinders' 'SRT HEMI 6.4L V8 MDS' '3.6'\n",
      " '3.6L 6 cyl' 'V6, 3.6L' '3.6L V6 Cylinder' '5.7L 8 Cyl.' 'V6 3.6 Liter'\n",
      " 'Gas V6' '6.4L HEMI V8' '3.6L V-6 295 HP' '3.0L V6 CYLINDER'\n",
      " 'Gas V6 3.6L/222.6 CU.IN.' '3.6L 6 CYL. GAS'\n",
      " 'V8, HEMI, Supercharged, 6.2 Liter' 'V8, 5.7L'\n",
      " 'Regular Unleaded V-8 5.7 L'\n",
      " '3.6L V6 DI VVT with Automatic Stop/Start (310 hp'\n",
      " '6.2L HEMI SUPERCHARGED V8' '6.4L 8 CYLINDER'\n",
      " 'HEMI 6.4L V8 475hp 470ft. lbs.' 'Regular Unleaded V-6 3.6 L' 'HEMI'\n",
      " '3.0 L' '8 Cylinder' '3.6L V6 Natural Aspiration' '3.6L V-6 293 HP'\n",
      " '3.6L V6, DI, VVT, WITH AUTOMATIC STOP/START' '3.6 L V6' 'V6, 3.6 Liter'\n",
      " '8 Cylinder Engine' '6.2L 8 Cyl.']\n"
     ]
    }
   ],
   "source": [
    "feature_analyzer('VehEngine')"
   ]
  },
  {
   "cell_type": "code",
   "execution_count": 81,
   "id": "86310af0",
   "metadata": {},
   "outputs": [],
   "source": [
    "import re\n",
    "x['Displacement'] = x['VehEngine'].apply(lambda x: float(re.search(r'(\\d+\\.\\d+)', x).group(1)) if re.search(r'(\\d+\\.\\d+)', x) else 0)\n",
    "\n",
    "engine_types = ['turbo', 'supercharged', 'diesel', 'hemi']\n",
    "\n",
    "def categorize_engine(engine):\n",
    "    for etype in engine_types:\n",
    "        if etype in engine.lower():\n",
    "            return etype.capitalize()\n",
    "    return 'Other'\n",
    "\n",
    "# Apply function to the 'VehEngine' column\n",
    "x['Engine_Category'] = x['VehEngine'].apply(categorize_engine)"
   ]
  },
  {
   "cell_type": "code",
   "execution_count": 82,
   "id": "72fde072",
   "metadata": {},
   "outputs": [
    {
     "name": "stdout",
     "output_type": "stream",
     "text": [
      "Categorical feature\n",
      "Number of Unique values: 5\n",
      "Missing values 0, % missing values 0.0\n",
      "\n",
      "Unique Values:\n",
      "['Other' 'Turbo' 'Supercharged' 'Hemi' 'Diesel']\n"
     ]
    }
   ],
   "source": [
    "feature_analyzer('Engine_Category')"
   ]
  },
  {
   "cell_type": "code",
   "execution_count": 83,
   "id": "be1eeb80",
   "metadata": {},
   "outputs": [
    {
     "name": "stdout",
     "output_type": "stream",
     "text": [
      "Total count:  5012\n"
     ]
    },
    {
     "data": {
      "text/html": [
       "<div>\n",
       "<style scoped>\n",
       "    .dataframe tbody tr th:only-of-type {\n",
       "        vertical-align: middle;\n",
       "    }\n",
       "\n",
       "    .dataframe tbody tr th {\n",
       "        vertical-align: top;\n",
       "    }\n",
       "\n",
       "    .dataframe thead th {\n",
       "        text-align: right;\n",
       "    }\n",
       "</style>\n",
       "<table border=\"1\" class=\"dataframe\">\n",
       "  <thead>\n",
       "    <tr style=\"text-align: right;\">\n",
       "      <th></th>\n",
       "      <th></th>\n",
       "      <th>Counts</th>\n",
       "      <th>Percent</th>\n",
       "    </tr>\n",
       "    <tr>\n",
       "      <th>Column</th>\n",
       "      <th>Value</th>\n",
       "      <th></th>\n",
       "      <th></th>\n",
       "    </tr>\n",
       "  </thead>\n",
       "  <tbody>\n",
       "    <tr>\n",
       "      <th rowspan=\"5\" valign=\"top\">Engine_Category</th>\n",
       "      <th>Other</th>\n",
       "      <td>4942</td>\n",
       "      <td>98.603352</td>\n",
       "    </tr>\n",
       "    <tr>\n",
       "      <th>Turbo</th>\n",
       "      <td>30</td>\n",
       "      <td>0.598563</td>\n",
       "    </tr>\n",
       "    <tr>\n",
       "      <th>Hemi</th>\n",
       "      <td>21</td>\n",
       "      <td>0.418994</td>\n",
       "    </tr>\n",
       "    <tr>\n",
       "      <th>Supercharged</th>\n",
       "      <td>17</td>\n",
       "      <td>0.339186</td>\n",
       "    </tr>\n",
       "    <tr>\n",
       "      <th>Diesel</th>\n",
       "      <td>2</td>\n",
       "      <td>0.039904</td>\n",
       "    </tr>\n",
       "  </tbody>\n",
       "</table>\n",
       "</div>"
      ],
      "text/plain": [
       "                              Counts    Percent\n",
       "Column          Value                          \n",
       "Engine_Category Other           4942  98.603352\n",
       "                Turbo             30   0.598563\n",
       "                Hemi              21   0.418994\n",
       "                Supercharged      17   0.339186\n",
       "                Diesel             2   0.039904"
      ]
     },
     "execution_count": 83,
     "metadata": {},
     "output_type": "execute_result"
    }
   ],
   "source": [
    "single_value_counts_info('Engine_Category')"
   ]
  },
  {
   "cell_type": "code",
   "execution_count": 84,
   "id": "2aa1db7e",
   "metadata": {},
   "outputs": [],
   "source": [
    "categorical_features.append('VehEngine')"
   ]
  },
  {
   "cell_type": "markdown",
   "id": "152e0775",
   "metadata": {},
   "source": [
    " 14. VehFeats\n",
    " - too many features, so will combine them and return count of features\n"
   ]
  },
  {
   "cell_type": "code",
   "execution_count": 85,
   "id": "98fa5005",
   "metadata": {
    "scrolled": true
   },
   "outputs": [
    {
     "name": "stdout",
     "output_type": "stream",
     "text": [
      "Categorical feature\n",
      "Number of Unique values: 691\n",
      "Missing values 0, % missing values 0.0\n",
      "\n",
      "Unique Values:\n",
      "[\"['18 WHEEL &amp; 8.4 RADIO GROUP-inc: Nav-Capable! See Dealer for DetailsRear View Auto Dim Mirror w/MicrophoneHigh Pressure Tires TrackingTires: P265/60R18 BSW AS On/Off Road LRUconnect Access6 Month Trial (Registration Required)For Details Visit DriveUconnect.com8.4 Touchscreen DisplayRoadside Assistance &amp; 9-1-1 CallWheels: 18 x 8.0 AluminumRadio: Uconnect 8.4', '4-Wheel Disc Brakes', 'ABS', 'Adjustable Steering Wheel', 'Aluminum Wheels', 'AM/FM Stereo', 'Automatic Headlights', 'Auxiliary Audio Input']\"\n",
      " \"['Android Auto', 'Antilock Brakes', 'Apple CarPlay', 'Audio Controls On Steering Wheel', 'Auxiliary Input', 'Backup Camera', 'Bluetooth', 'Brake Assist']\"\n",
      " \"['4-Wheel Disc Brakes', 'ABS', 'Adjustable Steering Wheel', 'Aluminum Wheels', 'AM/FM Stereo', 'AUDIO SYSTEM FEATUREBOSE STUDIO SURROUND SOUND 14-SPEAKER SYSTEMwith surround amplifier', 'Auto-Dimming Rearview Mirror', 'Automatic Headlights']\"\n",
      " \"['1st and 2nd row curtain head airbags', '4-wheel ABS Brakes', 'ABS and Driveline Traction Control', 'Anti-theft alarm system', 'Audio controls on steering wheel', 'Auxilliary engine cooler', 'Braking Assist', 'Bucket front seats']\"\n",
      " \"['1st and 2nd row curtain head airbags', '4-wheel ABS Brakes', 'ABS and Driveline Traction Control', 'AM/FM/Satellite-prep Radio', 'Audio controls on steering wheel', 'Audio system memory card slot', 'Automatic front air conditioning', 'Auxilliary engine cooler']\"\n",
      " \"['A/C,8-Speed A/T,4x4,4-Wheel Disc Brakes,4-Wheel ABS', 'Adjustable Steering Wheel', 'AM/FM Stereo', 'Audio Controls On Steering Wheel', 'Auto Transmission w/Manual Mode', 'Auto-Off Headlights', 'Auxiliary Input', 'Backup Camera']\"\n",
      " \"['1st and 2nd row curtain head airbags', '4-wheel ABS Brakes', 'ABS and Driveline Traction Control', 'Anti-theft alarm system', 'Audio controls on steering wheel', 'Audio system memory card slot', 'Auxilliary engine cooler', 'Braking Assist']\"\n",
      " \"['Alloy Wheels', 'Antilock Brakes', 'Audio Controls On Steering Wheel', 'Auto Leveling Headlights', 'Auxiliary Input', 'Backup Camera', 'BILLET SILVER METALLIC CLEARCOAT,', 'Bluetooth']\"\n",
      " \"['20 Inch Alloy Wheels', '3.6L V6 Engine', 'Android Auto', 'Apple CarPlay', 'Audio Steering Wheel Controls', 'Automatic Climate Control', 'Automatic High Beams', 'Auxiliary Input Jack']\"\n",
      " \"['ABS', 'Aluminum Wheels', 'AUDIO SYSTEM FEATUREBOSE STUDIO SURROUND SOUND 14-SPEAKER SYSTEMwith surround amplifier', 'Automatic Headlights', 'Auxiliary Audio Input', 'Bluetooth Connection', 'Brake Assist', 'CADILLAC USER EXPERIENCE WITH EMBEDDED NAVIGATIONAM/FM STEREOwith 8 diagonal color information displayfour USB portstwo auxiliary power outletsauxiliary input jackNatural Voice RecognitionPhone Integration for Apple CarPlay and Android Auto capability for compatible phoneConnected Apps and Teen Driver']\"\n",
      " \"['3.45 REAR AXLE RATIO(STD)', '4-Wheel Disc Brakes', 'ABS', 'Adjustable Steering Wheel', 'Aluminum Wheels', 'AM/FM Stereo', 'Auto-Dimming Rearview Mirror', 'Automatic Headlights']\"\n",
      " \"['1st and 2nd row curtain head airbags', '4-wheel ABS Brakes', 'ABS and Driveline Traction Control', 'Audio controls on steering wheel', 'Audio System Premium Brand Speakers: Bose', 'Automatic front air conditioning', 'Bluetooth wireless phone connectivity', 'Braking Assist']\"\n",
      " \"['1st and 2nd row curtain head airbags', '4-wheel ABS Brakes', 'ABS and Driveline Traction Control', 'Aluminum door trim', 'Audio controls on steering wheel', 'Audio System Premium Brand Speakers: Bose Studio Surround', 'Audio system security', 'Beverage cooler in glovebox']\"\n",
      " \"['All Wheel Drive', 'Alloy Wheels', 'Android Auto', 'Antilock Brakes', 'Apple CarPlay', 'Auxiliary Input', 'Backup Camera', 'Blind Spot Monitor']\"\n",
      " \"['1st and 2nd row curtain head airbags', '4-wheel ABS Brakes', 'ABS and Driveline Traction Control', 'Adaptive cruise control', 'Anti-theft alarm system', 'Audio controls on steering wheel', 'Audio system memory card slot', 'Braking Assist']\"\n",
      " \"['Alloy Wheels', 'Antilock Brakes', 'Audio Controls On Steering Wheel', 'Auxiliary Input', 'Backup Camera', 'Bluetooth', 'Brake Assist', 'Child Safety Locks']\"\n",
      " \"['1st and 2nd row curtain head airbags', '4-wheel ABS Brakes', 'ABS and Driveline Traction Control', 'Adaptive cruise control', 'Aluminum center console trim', 'Anti-theft alarm system', 'Audio controls on steering wheel', 'Audio System Premium Brand Speakers: harman/kardon']\"\n",
      " \"['Adaptive Cruise Control', 'Antilock Brakes', 'Audio Controls On Steering Wheel', 'Auto Leveling Headlights', 'Auxiliary Input', 'Backup Camera', 'Blind Spot Monitor', 'Bluetooth']\"\n",
      " \"['4-Wheel Disc Brakes', 'ABS', 'Adjustable Steering Wheel', 'Aluminum Wheels', 'AM/FM Stereo', 'Automatic Headlights', 'Auxiliary Audio Input', 'Back-Up Camera']\"\n",
      " \"['4-Wheel Disc Brakes', 'ABS', 'Active Suspension', 'Adjustable Steering Wheel', 'Aluminum Wheels', 'AM/FM Stereo', 'Auto-Dimming Rearview Mirror', 'Automatic Headlights']\"\n",
      " \"['A/C,8-Speed A/T,4x4,4-Wheel Disc Brakes,4-Wheel ABS', 'Adjustable Steering Wheel', 'Alloy Wheels', 'Aluminum Wheels', 'AM/FM Stereo', 'Antilock Brakes', 'Audio Controls On Steering Wheel', 'Auto Transmission w/Manual Mode']\"\n",
      " \"['1st and 2nd row curtain head airbags', '4-wheel ABS Brakes', 'ABS and Driveline Traction Control', 'Audio controls on steering wheel', 'Audio System Premium Brand Speakers: Bose', 'Audio system security', 'Automatic front air conditioning', 'Beverage cooler in glovebox']\"\n",
      " \"['Android Auto', 'Antilock Brakes', 'Apple CarPlay', 'Auxiliary Input', 'Backup Camera', 'Child Safety Locks', 'Dual Climate Control', 'Keyless Entry']\"\n",
      " \"['ABS Brake', 'Air Conditioning - Front - Automatic Climate Control', 'Air Conditioning - Front - Dual Zones', 'Airbags - Driver - Knee', 'Airbags - Front - Dual', 'Airbags - Front - Side', 'Airbags - Front - Side Curtain', 'Airbags - Passenger - Occupant Sensing Deactivation']\"\n",
      " \"['20 Inch Alloy Wheels', '3.6L V6 MPI Engine', 'Automatic Transmission w/Steering Wheel Mounted Paddle Shifters', 'Bi-Xenon HID Headlights', 'Bluetooth', 'Cruise Control', 'Driver Seat Memory Settings', 'Dual-Pane Panoramic Sunroof']\"\n",
      " \"['1st and 2nd row curtain head airbags', '4-wheel ABS Brakes', 'ABS and Driveline Traction Control', 'Audio controls on steering wheel', 'Audio System Premium Brand Speakers: Bose', 'Bluetooth wireless phone connectivity', 'Braking Assist', 'Bucket front seats']\"\n",
      " \"['Alloy Wheels', 'Antilock Brakes', 'Audio Controls On Steering Wheel', 'Auto Leveling Headlights', 'Auxiliary Input', 'Backup Camera', 'Blind Spot Monitor', 'Bluetooth']\"\n",
      " \"['Antilock Brakes', 'Audio Controls On Steering Wheel', 'Auxiliary Input', 'Backup Camera', 'Bluetooth', 'Brake Assist', 'Child Safety Locks', 'Dr']\"\n",
      " \"['20 Inch Alloy Wheels', '3.6L V6 Engine', 'Audio Steering Wheel Controls', 'Automatic Climate Control', 'Blind Spot and Cross Path Detection', 'Bluetooth', 'Control', 'Cruise']\"\n",
      " \"['18 Inch Alloy Wheels', '3.6L V6 MPI Engine', 'Automatic Transmission w/Steering Wheel Mounted Paddle Shifters', 'Bi-Xenon HID Headlights', 'Bluetooth', 'Cruise Control', 'Driver Seat Memory Settings', 'Dual-Zone Automatic Climate Control']\"\n",
      " \"['3.45 REAR AXLE RATIO(STD)', '4-Wheel Disc Brakes', '9 AMPLIFIED SPEAKERS W/SUBWOOFER', 'ABS', 'Aluminum Wheels', 'AM/FM Stereo', 'Automatic Headlights', 'Auxiliary Audio Input']\"\n",
      " \"['20 Inch Alloy Wheels', '3.6L V6 DI Engine', 'AM/FM/CD Stereo System', 'Blind Spot Monitoring', 'Bluetooth', 'Bose Premium Audio System', 'Cruise Control', 'Dual-Zone Automatic Climate Control']\"\n",
      " \"['AIR CONDITIONING,', 'Alloy Wheels', 'ALLOY WHEELS', 'Antilock Brakes', 'Audio Controls On Steering Wheel', 'Auxiliary Input', 'Backup Camera', 'Bluetooth']\"\n",
      " \"['Antilock Brakes', 'Audio Controls On Steering Wheel', 'Auxiliary Input', 'Backup Camera', 'Bluetooth', 'Brake Assist', 'BRIGHT WHITE CLEARCOAT,', 'Child Safety Locks']\"\n",
      " \"['Alloy Wheels', 'Antilock Brakes', 'Audio Controls On Steering Wheel', 'Auxiliary Input', 'Backup Camera', 'Bluetooth', 'Brake Assist', 'BRIGHT WHITE CLEARCOAT,']\"\n",
      " \"['Air Conditioning', 'Alloy Wheels', 'Alloy Wheels', 'Antilock Brakes', 'Audio Controls On Steering Wheel', 'Automatic Headlights', 'Auxiliary Input', 'Backup Camera']\"\n",
      " \"['3.09 REAR AXLE RATIO', 'BLIND SPOT &amp; CROSS PATH DETECTION', 'Body-Colored Front Bumper w/Black Rub Strip/Fascia AccentChrome Bumper Insert and 2 Tow Hooks', 'Body-Colored Grille', 'Body-Colored Rear Step Bumper w/Black Rub Strip/Fascia Accent and Chrome Bumper Insert', 'BRIGHT WHITE CLEARCOAT', 'Chrome Bodyside InsertRocker Panel Extensions and Body-Colored Fender Flares', 'Chrome Door Handles']\"\n",
      " \"['ABS brakes,8.4in Touchscreen Display,6 Month Trial (Registration Required),4-Wheel Disc Brakes,18in x 8.0in Aluminum Wheels,18in Wheel &amp; 8.4in Radio Group', 'Air Conditioning', 'AM/FM radio', 'Anti-whiplash front head restraints', 'Antilock Brakes', 'Audio Controls On Steering Wheel', 'Automatic temperature control', 'Auxiliary Input']\"\n",
      " \"['18 Inch Alloy Wheels', '3.6L V6 MPI Engine', 'Automatic Transmission w/Steering Wheel Mounted Paddle Shifters', 'Bluetooth', 'Cruise Control', 'Driver Seat Memory Settings', 'Dual-Zone Automatic Climate Control', 'Fog Lights']\"\n",
      " \"['ABS,4-Wheel Disc Brakes', 'Adjustable Steering Wheel', 'Alloy Wheels', 'Aluminum Wheels', 'AM/FM Stereo', 'Antilock Brakes', 'Audio Controls On Steering Wheel', 'Automatic Headlights']\"\n",
      " \"['4-Wheel Disc Brakes', '9 AMPLIFIED SPEAKERS W/SUBWOOFER', 'ABS', 'Adjustable Steering Wheel', 'ALTITUDE III PACKAGE-inc: Black Roof MoldingMIC Black BezelsDark Lens TaillampsDelete Laredo Badge', 'Aluminum Wheels', 'AM/FM Stereo', 'Automatic Headlights']\"\n",
      " \"['ABS brakes,4-Wheel Disc Brakes,4 WHEEL DRIVE,17in x 8.0in Aluminum Wheels', 'Air Conditioning', 'ALLOYS', 'AM/FM radio', 'AND MORE!', 'Anti-whiplash front head restraints', 'Antilock Brakes', 'Audio Controls On Steering Wheel']\"\n",
      " \"['1st and 2nd row curtain head airbags', '4-wheel ABS Brakes', 'ABS and Driveline Traction Control', 'Audio controls on steering wheel', 'Audio System Premium Brand Speakers: Bose Studio Surround', 'Bluetooth wireless phone connectivity', 'Braking Assist', 'Bucket']\"\n",
      " \"['Adaptive Cruise Control', 'Advanced Technology Group', 'Alloy Wheels', 'Antilock Brakes', 'Audio Controls On Steering Wheel', 'Auto Leveling Headlights', 'Auxiliary Input', 'Backup Camera']\"\n",
      " \"['1st and 2nd row curtain head airbags', '4-wheel ABS Brakes', 'ABS and Driveline Traction Control', 'Adaptive cruise control', 'Aluminum center console trim', 'Aluminum/carbon fibre dash trim', 'Anti-theft alarm system', 'Audio controls on steering wheel']\"\n",
      " \"['3.09 REAR AXLE RATIO.....', 'BLACKLEATHER TRIMMED HEATED FRONT BUCKET SEATS.....2nd Row Heated Seats....', 'Cruise Control....', 'NORMAL DUTY SUSPENSION ......', 'POWER SUNROOF.......', 'RADIO: UCONNECT 3C W/8.4 DISPLAY....NAVIGATION..... 8.4 Touchscreen DisplayRoadside Assistance &amp; 9-1-1 CallIntegrated Voice Command w/Bluetooth.......', 'REAR VIEW CAMERA--Remote Start.......Remote Entry']\"\n",
      " \"['4-Wheel Disc Brakes', 'ABS', 'Adjustable Steering Wheel', 'All Wheel Drive', 'Aluminum Wheels', 'AM/FM Stereo', 'AUDIO SYSTEM FEATUREBOSE STUDIO SURROUND SOUND 14-SPEAKER SYSTEMwith surround amplifier', 'Auto-Dimming Rearview Mirror']\"\n",
      " \"['A/C,8-Speed A/T,4x4,4-Wheel Disc Brakes,4-Wheel ABS', 'Adjustable Steering Wheel', 'Alloy Wheels', 'Aluminum Wheels', 'AM/FM Stereo', 'Antilock Brakes', 'Audio Controls On Steering Wheel', 'Auto-Off Headlights']\"\n",
      " \"['1st and 2nd row curtain head airbags', '4-wheel ABS Brakes', 'ABS and Driveline Traction Control', 'Aluminum door trim', 'Audio controls on steering wheel', 'Audio System Premium Brand Speakers: Bose', 'Audio system security', 'Beverage cooler in glovebox']\"\n",
      " \"['1st and 2nd row curtain head airbags', '4-wheel ABS Brakes', 'ABS and Driveline Traction Control', 'Anti-theft alarm system,', 'Audio controls on steering wheel', 'Audio System Premium Brand Speakers: Bose Studio Surround', 'Bluetooth wireless phone connectivity', 'Braking Assist']\"\n",
      " \"['1st and 2nd row curtain head airbags', '4-wheel ABS Brakes', 'ABS and Driveline Traction Control', 'Anti-theft alarm system', 'Audio controls on steering wheel', 'Audio system memory card slot', 'Braking Assist', 'Bucket front seats']\"\n",
      " \"['3.45 REAR AXLE RATIO(STD)', '9 AMPLIFIED SPEAKERS W/SUBWOOFER', 'BLACKLEATHER TRIMMED SEATS W/PERFORATED INSERTS', 'Body-Colored Grille w/Chrome Accents', 'Chrome Door Handles', 'Chrome Power w/Tilt Down Heated Side Mirrors w/Driver Auto DimmingManual Folding and Turn Signal Indicator', 'Chrome Side Windows Trim and Black Front Windshield Trim', 'Clearcoat Paint']\"\n",
      " \"['Air Conditioning - Front - Automatic Climate', 'Air Conditioning - Front - Dual Zones', 'Airbags - Driver - Knee', 'Airbags - Front - Dual', 'Airbags - Front - Side', 'Airbags - Front - Side Curtain', 'Airbags - Passenger - Occupant Sensing Deactivation', 'Airbags - Rear - Side Curtain']\"\n",
      " \"['3.45 REAR AXLE RATIO(STD)', '4-Wheel Disc Brakes', '9 AMPLIFIED SPEAKERS W/SUBWOOFER-inc: 506 Watt AmplifierActive Noise Control System', 'ABS', 'Aluminum Wheels', 'AM/FM Stereo', 'Automatic Headlights', 'Auxiliary Audio Input']\"\n",
      " \"['A/C,8-Speed A/T,4x4,4-Wheel Disc Brakes,4-Wheel ABS', 'Adjustable Steering Wheel', 'Alloy Wheels', 'Aluminum Wheels', 'AM/FM Stereo', 'Android Auto', 'Antilock Brakes', 'Apple CarPlay']\"\n",
      " \"['Antilock Brakes', 'Audio Controls On Steering Wheel', 'Auxiliary Input', 'Backup Camera', 'Bluetooth', 'Brake Assist', 'Child Safety Locks', 'Dual Climate Control']\"\n",
      " \"['4-Wheel Disc Brakes', '9 AMPLIFIED SPEAKERS W/SUBWOOFER', 'ABS', 'Adjustable Steering Wheel', 'ALTITUDE PACKAGE-inc: Black Roof MoldingMIC Black BezelsDark Lens TaillampsDelete Laredo Badge', 'Aluminum Wheels', 'AM/FM Stereo', 'Automatic Headlights']\"\n",
      " \"['Adaptive Cruise Control', 'Alloy Wheels', 'Antilock Brakes', 'Audio Controls On Steering Wheel', 'Auto Leveling Headlights', 'Auxiliary Input', 'Backup Camera', 'Bluetooth']\"\n",
      " \"['18 Inch Alloy Wheels', '3.6L V6 Engine', 'Apple CarPlay and Android Auto', 'Audio Steering Wheel Controls', 'Automatic Climate Control', 'Bluetooth', 'Cruise Control', 'Heated Front Seats']\"\n",
      " \"['18 WHEEL &amp; 8.4 RADIO GROUP-inc: Nav-Capable! See Dealer for DetailsRear View Auto Dim Mirror w/MicrophoneUconnect Access6 Month Trial (Registration Required)8.4 Touchscreen DisplayRoadside Assistance &amp; 9-1-1 CallWheels: 18 x 8.0 AluminumInstrument Cluster w/Off-Road DispPagesRadio: Uconnect 8.4', '4-Wheel Disc Brakes', 'ABS', 'Adjustable Steering Wheel', 'Aluminum Wheels', 'AM/FM Stereo', 'Automatic Headlights', 'Auxiliary Audio Input']\"\n",
      " \"['All Wheel Drive', 'Alloy Wheels', 'Android Auto', 'Antilock Brakes', 'Apple CarPlay', 'Automatic Emergency Braking', 'Auxiliary Input', 'Backup Camera']\"\n",
      " \"['All Wheel Drive', 'Android Auto', 'Antilock Brakes', 'Apple CarPlay', 'Auxiliary Input', 'Backup Camera', 'Blind Spot Monitor', 'Brake Assist']\"\n",
      " \"['Air Conditioning,4x4', 'Alarm System', 'AM/FM', 'Android Auto', 'Anti-Lock Brakes', 'Antilock Brakes', 'Apple CarPlay', 'Audio Controls On Steering Wheel']\"\n",
      " \"['3.45 REAR AXLE RATIO(STD)', '4-Wheel Disc Brakes', '9 AMPLIFIED SPEAKERS W/SUBWOOFER', 'ABS', 'Aluminum Wheels', 'AM/FM Stereo', 'Automatic Headlights', 'BILLET SILVER METALLIC CLEARCOAT']\"\n",
      " \"['3.45 REAR AXLE RATIO(STD)', '4-Wheel Disc Brakes', 'ABS', 'Adjustable Steer', 'Air Suspension', 'Aluminum Wheels', 'AM/FM Stereo', 'Automatic Headlights']\"\n",
      " \"['Alloy Wheels', 'Antilock Brakes', 'Apple CarPlay', 'Audio Controls On Steering Wheel', 'Auxiliary Input', 'Backup Camera', 'Bluetooth', 'Brake Assist']\"\n",
      " \"['Antilock Brakes', 'Audio Controls On Steering Wheel', 'Auxiliary Input', 'Backup Camera', 'Blind Spot Monitor', 'Bluetooth', 'Brake Assist', 'Child Safety Locks']\"\n",
      " \"['17 Inch Alloy Wheels', '3.6L V6 MPI Engine', 'Automatic Transmission w/Steering Wheel Mounted Paddle Shifters', 'Bluetooth', 'Cloth Seats', 'Cruise Control', 'Dual-Zone Automatic Climate Control', 'Fog Lights']\"\n",
      " \"['Antilock Brakes', 'Audio Controls On Steering Wheel', 'Auxiliary Input', 'Backup Camera', 'Bluetooth', 'Brake Assist', 'Child Safety Locks', 'Compact Spare Tire Mounted In']\"\n",
      " \"['3.45 REAR AXLE RATIO(STD)', '4-Wheel Disc Brakes', 'ABS', 'Adjustable Steering Wheel', 'Air Suspension', 'Aluminum Wheels', 'AM/FM Stereo', 'Auto-Dimming Rearview Mirror']\"\n",
      " \"['All Wheel Drive', 'Android Auto', 'Antilock Brakes', 'Apple CarPlay', 'Auxiliary Input', 'Backup Camera', 'Blind Spot Monitor', 'Bluetooth']\"\n",
      " \"['ABS Brakes', 'Adjustable Foot Pedals', 'Air Conditioning', 'Alloy Wheels', 'AM/FM Radio', 'Antilock Brakes', 'Audio Controls On Steering Wheel', 'Auxiliary Input']\"\n",
      " \"['Antilock Brakes', 'Auxiliary Input', 'Backup Camera', 'Bluetooth', 'Brake Assist', 'Child Safety Locks', 'Convenience Group -inc: Heated Front Seats Universal Garage Door Opener 115V Auxiliary Power Outlet Remote Start System Power Liftgate Heated Steering Wheel Security Alarm', 'Dual Climate Control']\"\n",
      " \"['18 STEEL COMPACT SPARE WHEEL', '4-Wheel Disc Brakes', '9 AMPLIFIED SPEAKERS W/SUBWOOFER', 'ABS', 'Adjustable Steering Wheel', 'Aluminum Wheels', 'AM/FM Stereo', 'Automatic Headlights']\"\n",
      " \"['4-Wheel Disc Brakes', 'ABS', 'Aluminum Wheels', 'AM/FM Stereo', 'AUDIO SYSTEM FEATUREBOSE STUDIO SURROUND SOUND 14-SPEAKER SYSTEMwith surround amplifier', 'Automatic Headlights', 'Auxiliary Audio Input', 'Bucket Seats']\"\n",
      " \"['Alloy Wheels', 'Android Auto', 'Antilock Brakes', 'Apple CarPlay', 'Auxiliary Input', 'Backup Camera', 'Blind Spot Monitor', 'Brake Assist']\"\n",
      " \"['18 Inch Alloy Wheels', '3.6L V6 Engine', 'Android Auto', 'Apple CarPlay', 'Audio Steering Wheel Controls', 'Automatic Climate Control', 'Cruise Control', 'Driver Seat Memory']\"\n",
      " \"['Antilock Brakes', 'Audio Controls On Steering Wheel', 'Auto Leveling Headlights', 'Auxiliary Input', 'Backup Camera', 'Bluetooth', 'Brake Assist', 'Child Safety Locks']\"\n",
      " \"['4-Wheel Disc Brakes', 'ABS', 'Adjustable Steering Wheel', 'Aluminum Wheels', 'AM/FM Stereo', 'Automatic Headlights', 'Auxiliary Audio Input', 'BLACK BLACK SUEDE SEATS W/BLACK STITCHING']\"\n",
      " \"['1st and 2nd row curtain head airbags', '4-wheel ABS Brakes', 'ABS and Driveline Traction Control', 'Anti-theft alarm system', 'Audio controls on steering wheel', 'Audio System Premium Brand Speakers: Alpine', 'Braking Assist', 'Bucket front seats']\"\n",
      " \"['18 Inch Alloy Wheels', '3.6L V6 Engine', 'Android Auto', 'Apple CarPlay', 'Audio Steering Wheel Controls', 'Automatic Climate Control', 'Blind-Spot Monitoring', 'Bluetooth Connectivity']\"\n",
      " \"['3.6 liter V6 DOHC engine 310 hp horsepower 4 Doors 4-wheel ABS brakes 8-way power adjustable drivers seat Air conditioning with dual zone climate control All-wheel drive Audio controls on steering wheel Automatic Transmission Bluetooth Clock - In-radio display Compass Cruise control Cylinder Deactivation Daytime running lights Driver memory seats Dusk sensing headlights External temperature display Fuel economy EPA highway (mpg): 25 and EPA city (mpg): 18 Head airbags - Curtain 1st and 2nd row Heated drivers seat Heated passenger seat Heated steering wheel Interior air filtration Knee airbags - Driver Leather seats Memory settings for 2 drivers Multi-function remote - Trunk/hatch/door/tailgate', 'AUDIO SYSTEM FEATUREBOSE STUDIO SURROUND SOUND 14-SPEAKER SYSTEMwith sur', 'CADILLAC USER EXPERIENCE WITH EMBEDDED NAVIGATIONAM/FM STEREOwith 8 diagonal color information displayfour USB portstwo auxiliary power outletsauxiliary input jackNatural Voice Recognition and Phone Integration for Apple CarPlay and Android Auto capability for compatible phone', 'ENGINE3.6L V6DIVVTWITH AUTOMATIC STOP/START(310 hp [231 kW] @ 6600 rpm271 lb-ft of torque [366 N-m] @ 5000 rpm) (STD)', 'HARBOR BLUE METALLIC', 'LICENSE PLATE BRACKETFRONT', 'LUXURY PREFERRED EQUIPMENT GROUPIncludes Standard Equipment', 'remote engine start Passenger Airbag Power heated mirrors Power windows with 4 one-touch Rear spoiler - Lip Remote engine start Remote power door locks Remote window operation Stability control Sunroof - Express open/close glass Tachometer Tilt and telescopic steering wheel Traction control - ABS and driveline Transmission hill holder Trip computer Universal remote transmitter']\"\n",
      " \"['Android Auto', 'Antilock Brakes', 'Apple CarPlay', 'Auxiliary Input', 'Backup Camera', 'Blind Spot Monitor', 'Child Safety Locks', 'Dual Climate Control']\"\n",
      " \"['Alloy Wheels', 'Android Auto', 'Antilock Brakes', 'Apple CarPlay', 'Automatic Emergency Braking', 'Auxiliary Input', 'Backup Camera', 'Blind Spot Monitor']\"\n",
      " \"['1st and 2nd row curtain head airbags', '4-wheel ABS Brakes', 'ABS and Driveline Traction Control', 'Audio controls on steering wheel', 'Audio System Premium Brand Speakers: Bose Studio Surround', 'Audio system security', 'Beverage cooler in glovebox', 'Bluetooth wireless phone connectivity']\"\n",
      " \"['Air Condit', 'Alloy Wheels', 'AM/FM radio: SiriusXM', 'Anti-whiplash front head restraints', 'Antilock Brakes', 'Audio Controls On Steering Wheel', 'Audio memory', 'Auto-dimming door mirrors']\"\n",
      " \"['18 Inch Alloy Wheels', '3.6L V6 Engine', 'Apple CarPlay and Android Auto', 'Audio Steering Wheel Controls', 'Automatic Climate Control', 'Bluetooth', 'Bose Audio System', 'Cruise Control']\"\n",
      " \"['1st and 2nd row curtain head airbags', '4-wheel ABS Brakes', 'ABS and Driveline Traction Control', 'AM/FM/Satellite-prep Radio', 'Audio controls on steering wheel', 'Automatic front air conditioning', 'Auxilliary engine cooler', 'Braking Assist']\"\n",
      " \"['Android Auto', 'Antilock Brakes', 'Apple CarPlay', 'Automatic Emergency Braking', 'Auxiliary Input', 'Backup Camera', 'Blind Spot Monitor', 'Brake Assist']\"\n",
      " \"['3.45 REAR AXLE RATIO(STD)', '4-Wheel Disc Brakes', 'ABS', 'Adjustable Steering Wheel', 'Aluminum Wheels', 'AM/FM Stereo', 'Automatic Headlights', 'Auxiliary Audio Input']\"\n",
      " \"['4-Wheel Disc Brakes', 'ABS', 'Active Suspension', 'All Wheel Drive', 'Aluminum Wheels', 'AM/FM Stereo', 'AUTOMATIC COLLISION BRAKING', 'Automatic Headlights']\"\n",
      " \"['ABS BRAKES', 'AIR CONDITIONING', 'All Wheel Drive', 'AM/FM', 'Android Auto', 'Antilock Brakes', 'Apple CarPlay', 'Auxiliary Input']\"\n",
      " \"['Antilock Brakes', 'Audio Controls On Steering Wheel', 'Auto Leveling Headlights', 'Auxiliary Input', 'Backup Camera', 'Blind Spot Monitor', 'Bluetooth', 'Brake Assist']\"\n",
      " \"['18 Inch Alloy Wheels', '3.6L V6 Engine', 'Automatic Climate Control', 'Bluetooth', 'Cruise Control', 'Driver Seat Memory', 'Heated Front and Rear Seats', 'Heated Steering Wheel']\"\n",
      " \"['abs brakes,4-wheel disc brakes,20 inch factory a', 'air conditioning', 'Alloy Wheels', 'am/fm radio: siriusxm', 'anti-whiplash front head restraints', 'Antilock Brakes', 'Audio Controls On Steering Wheel', 'audio memory']\"\n",
      " \"['4-Wheel Disc Brakes', 'ABS', 'Active Suspension', 'Adjustable Steering Wheel', 'All Wheel Drive', 'Aluminum Wheels', 'AM/FM Stereo', 'Auto-Dimming']\"\n",
      " \"['**Accident-Free Unit**', '**Non-Smoker Unit**', '**One Owner Unit**', '**Park-Assist Pkg**', '**Rear Back-Up Camera**', '*1-OWNER CARFAX*', '*4X4*', '*BLUETOOTH*']\"\n",
      " \"['1st and 2nd row curtain head airbags', '4-wheel ABS Brakes', 'ABS and Driveline Traction Control', 'Anti-theft alarm system', 'Audio controls on steering wheel', 'Braking Assist', 'Bucket front seats', 'Compass']\"\n",
      " \"['Alloy Wheels', 'Audio Controls On Steering Wheel', 'Auxiliary Input', 'Backup Camera', 'Bluetooth', 'Child Safety Locks', 'Climate control', 'Clock - In-radio display']\"\n",
      " \"['Adjustable Steering Wheel', 'Air Conditioning', 'AM/FM Stereo', 'Automatic Headlights', 'Brakes ABS', 'Drivetrain Four Wheel Drive', 'Engine Displacement 3.6 L/220', 'Engine V6 Cylinder Engine']\"\n",
      " \"['ABS Brakes,4WD/AWD', 'Air Conditioning', 'Alloy Wheels', 'Alloy Wheels', 'Antilock Brakes', 'Audio Controls On Steering Wheel', 'Automatic Headlights', 'Auxiliary Input']\"\n",
      " \"['All Wheel Drive', 'Android Auto', 'Antilock Brakes', 'Apple CarPlay', 'Auxiliary Input', 'Backup Camera', 'Blind Spot Monitor', 'Child Safety Locks']\"\n",
      " \"['SiriusXM Satellite Radio is standard on nearly all 2018 GM models. Enjoy a 3-month All Access trial subscription with over 150 channels including commercial-free music plus sports news and entertainment. Plus listening on the app and online is included so you&#x27;ll hear the best SiriusXM has to offer anywhere life takes you. Welcome to the world of SiriusXM (IMPORTANT: The SiriusXM Satellite Radio trial package is not provided on vehicles that are ordered for Fleet Daily Rental (FDR) use. If you decide to continue service after your trial the subscription plan you choose will automatically renew thereafter and you will be charged according to your chosen payment method at then-current rates. Fees and taxes app', 'Spoiler rear', 'Steering column power tilt and telescoping', 'Steering Electric Power Steering (EPS) assist', 'Steering wheel heated automatic', 'Steering wheel leather-wrapped', 'Sunroof power UltraView double-sized glass roof that opens over first row tilt-sliding with Express-Open and power sunshade', 'Suspension 4-wheel independent']\"\n",
      " \"['A/C,8-Speed A/T,4x4,4-Wheel Disc Brakes,4-Wheel ABS', 'Adjustable Steering Wheel', 'AM/FM Stereo', 'Antilock Brakes', 'Audio Controls On Steering Wheel', 'Auto Transmission w/Manual Mode', 'Auto-Off Headlights', 'Auxiliary Input']\"\n",
      " \"['4-Wheel Disc Brakes', 'ABS', 'Active Suspension', 'ADVANCED SECURITY PACKAGEincludes (N06) locking steering column(NWM) door lock and latch shields(UTR) self-powered Theft-Deterrent Alarm System(UTU) inclination sensor(UTV) vehicle interior movement sensor and (PB4) locking wheel lugs', 'Aluminum Wheels', 'Automatic Headlights', 'Brake Assist', 'CADILLAC CUE INFORMATION AND MEDIA CONTROL SYSTEM WITH EMBEDDED NAVIGATIONAM/FM STEREOwith 8 diagonal color information displayfour USB portstwo auxiliary power outletsauxiliary input jackNatural Voice Recognition and Phone Integration for Apple CarPlay and Android Auto capability for compatible phone']\"\n",
      " \"['active suspension system,8-speed a/t,4-wheel disc brakes,4-wheel abs', 'adjustable steering wheel', 'All Wheel Drive', 'all wheel drive', 'Alloy Wheels', 'aluminum wheels', 'am/fm stereo', 'Android Auto']\"\n",
      " \"['Air Conditioning', 'Alloy Wheels', 'Antilock Brakes', 'Audio Controls On Steering Wheel', 'Automatic Headlights', 'Auxiliary Input', 'Backup Camera', 'Bluetooth']\"\n",
      " \"['Android Auto', 'Antilock Brakes', 'Apple CarPlay', 'Auxiliary Input', 'Backup Camera', 'Blind Spot Monitor', 'Brake Assist', 'Child Safety Locks']\"\n",
      " \"['air vents rear (deleted when (cj4) tri-zon', 'All Wheel Drive', 'all wheel drive', 'all-wheel drive with twin-clutch system with driv', 'Android Auto', 'Antilock Brakes', 'Apple CarPlay', 'auto-dimming rearview mirror']\"\n",
      " \"['ABS brakes,8.4in Touchscreen Display,6 Speakers,6 Month Trial (Registration Required),4-Wheel Disc Brakes,3.45 Rear Axle R', 'Air Conditioning', 'Alloy Wheels', 'AM/FM radio', 'Anti-whiplash front head restraints', 'Antilock Brakes', 'Audio Controls On Steering Wheel', 'Automatic temperature control']\"\n",
      " \"['ACTIVE SUSPENSION SYSTEM,8-SPEED A/T,4-WHEEL DISC BRAKES,4-WHEEL ABS', 'ADJUSTABLE STEERING WHEEL', 'All Wheel Drive', 'ALL WHEEL DRIVE', 'AM/FM STEREO', 'Android Auto', 'Antilock Brakes', 'Apple CarPlay']\"\n",
      " \"['4-Wheel Disc Brakes', 'ABS', 'Adjustable Steering Wheel', 'Aluminum Wheels', 'AM/FM Stereo', 'Automatic Headlights', 'Auxiliary Audio Input', 'BILLET SILVER METALLIC CLEARCOAT']\"\n",
      " \"['4WD/AWD', 'A/C Seat(s)', 'ABS Brakes', 'Adjustable Suspension', 'Air Conditioning', 'Alloy Wheels', 'AM/FM Stereo', 'Automatic Transmission']\"\n",
      " \"['Alloy Wheels', 'Antilock Brakes', 'Audio Controls On Steering Wheel', 'Auxiliary Input', 'Backup Camera', 'Blind Spot Monitor', 'Bluetooth', 'Brake Assist']\"\n",
      " \"['ABS brakes', 'Air Conditioning', 'AM/FM radio: SiriusXM', 'Anti-whiplash front head restraints', 'Audio memory', 'Auto High-beam Headlights', 'Auto-dimming door mirrors', 'Auto-dimming Rear-View mirror']\"\n",
      " \"['Adaptive Cruise Control', 'Alloy Wheels', 'Backup Camera', 'Bluetooth', 'Brake Assist', 'Heated Seats', 'Heated Steering Wheel,', 'HID headlights']\"\n",
      " \"['18 Inch Alloy Wheels', '3.6L V6 Engine', 'Audio Steering Wheel Controls', 'Automatic Climate Control', 'Bluetooth', 'Cruise Control', 'Driver Seat Memory', 'Fog Lights']\"\n",
      " \"['A/C,8-SPEED A/T,4-WHEEL DISC BRAKES,4-WHEEL ABS,', 'ADJUSTABLE STEERING WHEEL', 'ALL WHEEL DRIVE', 'Alloy Wheels', 'ALUMINUM WHEELS', 'AM/FM STEREO', 'Android Auto', 'Apple CarPlay']\"\n",
      " \"['Airbag Occupancy Sensor', 'Curtain 1st And 2nd Row Airbags', 'Driver Knee Airbag', 'Dual Stage Driver And Passenger Front Airbags', 'Dual Stage Driver And Passenger Seat-Mounted Side Airbags', 'Electronic Stability Control (ESC) And Roll Stability Control (RSC)', 'Outboard Front Lap And Shoulder Safety Belts -inc: Rear Center 3 PointHeight Adjusters and Pretensioners', 'ParkSense Rear Parking Sensors']\"\n",
      " \"['3.45 REAR AXLE RATIO(STD)', '4-Wheel Disc Brakes', '9 AMPLIFIED SPEAKERS W/SUBWOOFER', 'ABS', 'Aluminum Wheels', 'AM/FM Stereo', 'Automatic Headlights', 'BLACKLEATHER TRIMMED SEATS W/PERFORATED INSERTS']\"\n",
      " \"['20 Inch Alloy Wheels', '3.6L V6 Engine', 'Audio Steering Wheel Controls', 'Automatic Climate Control', 'Bluetooth', 'Cruise Control', 'Driver Seat Memory', 'Fog Lights']\"\n",
      " \"['ABS,4-Wheel Disc Brakes', 'Adjustable Steering Wheel', 'Aluminum Wheels', 'AM/FM Stereo', 'Antilock Brakes', 'Audio Controls On Steering Wheel', 'Automatic Headlights', 'Auxiliary Audio Input']\"\n",
      " \"['adjustable steering wheel,8-speed a/t,4-wheel disc brakes,4-wheel abs', 'All Wheel Drive', 'all wheel drive', 'Alloy Wheels', 'aluminum wheels', 'am/fm stereo', 'Android Auto', 'Antilock Brakes']\"\n",
      " \"['18 Inch Alloy Wheels', '3.6L V6 MPI Engine', 'Adaptive Cruise Control', 'Advanced Brake Assist', 'Advanced Technology Group', 'Automatic Transmission w/Steering Wheel Mounted Paddle Shifters', 'Bi-Xenon HID Headlights', 'Blind Spot Monitoring']\"\n",
      " \"['Alloy Wheels', 'Antilock Brakes', 'Audio Controls On Steering Wheel', 'Auto Leveling Headlights', 'Auxiliary Input', 'Backup Camera', 'Bluetooth', 'Brake Assist']\"\n",
      " \"['19 SPEAKERS HIGH PERFORMANCE AUDIO-inc: 825 Watt Amplifier', '3.09 REAR AXLE RATIO', 'BLACKNAPPA LEATHER TRIMMED BUCKET SEATS-inc: #5 Seat Foam Cushion', 'BRIGHT WHITE CLEARCOAT', 'Clearcoat Paint', 'Deep Tinted Glass', 'ENGINE BLOCK HEATER', 'ENGINE: 5.7L V8 MDS VVT-inc: GVWR: 6 800 lbs230MM Rear Axle3.09 Rear Axle Ratio700 Amp Maintenance Free BatteryAnti-Lock 4-Wheel Disc HD Brakes']\"\n",
      " \"['1st and 2nd row curtain head airbags', '4-wheel ABS Brakes', 'ABS and Driveline Traction Control', 'Anti-theft alarm system', 'Audio controls on steering wheel', 'Audio System Premium Brand Speakers: Alpine', 'Braking Assist', 'Bucket front seats,']\"\n",
      " \"['3.45 REAR AXLE RATIO(STD)', '4-Wheel Disc Brakes', 'ABS', 'Adjustable Steering Wheel', 'Air Suspension', 'Aluminum Wheels', 'AM/FM Stereo', 'Automatic Headlights']\"\n",
      " \"['Antilock Brakes', 'Audio Controls On Steering Wheel', 'Auxiliary Input', 'Bluetooth', 'Body Side Moldings - Body-Color', 'Brake Assist', 'Child Safety Locks', 'Dual Climate Control']\"\n",
      " \"['4-Wheel Disc Brakes', 'ABS', 'Active Suspension', 'Adjustable Steering Wheel', 'Aluminum Wheels', 'AM/FM Stereo', 'Auto-Dimming Rear', 'Automatic Headlights']\"\n",
      " \"['20 Inch Wheels', '3.6L V6 Engine', 'Audio Steering Wheel Controls', 'Automatic Climate Control', 'Blind Spot Monitor System', 'Bluetooth Connectivity', 'Bose Audio', 'Cruise Control']\"\n",
      " \"['Alloy Wheels', 'Antilock Brakes', 'Au', 'Audio Controls On Steering Wheel', 'Auxiliary Input', 'Back-Up Camera', 'Backup Camera', 'Blind Spot Monitor']\"\n",
      " \"['4-Wheel Disc Brakes', 'ABS', 'Active Suspension', 'Adjustable Steering Wheel', 'Aluminum Wheels', 'AM/FM Stereo', 'Automatic Headlights', 'Auxiliary Audio Input']\"\n",
      " \"['Antilock Brakes', 'Audio Controls On Steering Wheel', 'Auxiliary Input', 'Backup Camera', 'Bluetooth', 'Brake Assist', 'Cargo', 'Cargo Space Lights']\"\n",
      " \"['3.45 REAR AXLE RATIO(STD)', '4-Wheel Disc Brakes', 'ABS', 'Adaptive Cruise Control', 'Adjustable Steering Wheel', 'Air Suspension', 'Aluminum Wheels', 'AM/FM Stereo']\"\n",
      " \"['Air Bag - Driver,9 AMPLIFIED SPEAKERS W/SUBWOOFER ,500 LBS ,4 Wheel Drive,4 Wheel Disc Brakes,3.45 REAR AXLE RATIO', 'Air Bag - Passenger', 'Air Bag - Side', 'Air Bag-Side-Head only-Rear', 'Air Bags - Head', 'Air Conditioning', 'AM/FM Stereo', 'Audio-Satellite Radio']\"\n",
      " \"['Alloy Wheels', 'Android Auto', 'Antilock Brakes', 'Apple CarPlay', 'Audio Controls On Steering Wheel', 'Auxiliary Input', 'Backup Camera', 'Bluetooth']\"\n",
      " \"['Adaptive Cruise Control', 'Air Conditioning,4x4', 'Alloy Wheels', 'AM/FM', 'Antilock Brakes', 'Audio Controls On Steering Wheel', 'Auto Leveling Headlights', 'Automatic Climate Control']\"\n",
      " \"['3.09 REAR AXLE RATIO', '4-Wheel Disc Brakes', 'ABS', 'Adjustable Steering Wheel', 'Air Suspension', 'Aluminum Wheels', 'AM/FM Stereo', 'Automatic Headlights']\"\n",
      " \"['19 SPEAKERS HIGH PERFORMANCE AUDIO-inc: 825 Watt Amplifier', '3.45 REAR AXLE RATIO(STD)', '4-Wheel Disc Brakes', 'ABS', 'Adjustable Steering Wheel', 'Air Suspension', 'Aluminum Wheels', 'AM/FM Stereo']\"\n",
      " \"['18 WHEEL &amp; 8.4 RADIO GROUP-inc: Nav-Capable! See Dealer for DetailsWheels: 18 x 8.0 Satin Silver AluminumTires: P265/60R18 BSW AS All TerrainRear View Auto Dim MirrorUconnect Access (subscription required)For Details Visit DriveUconnect.com8.4 Touchscreen DisplayRoadside Assistance &amp; 9-1-1 CallInstrument Cluster w/Off-Road DispPagesRadio: Uconnect 3C w/8.4 DisplaySiriusXM Satellite Radio (subscription required)For More InfoCall 800-643-2112', '4-Wheel Disc Brakes', 'ABS', 'Adjustable Steering Wheel', 'Aluminum Wheels', 'AM/FM Stereo', 'Automatic Headlights', 'Auxiliary Audio Input']\"\n",
      " \"['Air Conditio', 'Air Conditioning', 'Alloy Wheels', 'Alloy Wheels', 'Antilock Brakes', 'Audio Controls On Steering Wheel', 'Auto Leveling Headlights', 'Automatic Headlights']\"\n",
      " \"['17 Inch Alloy Wheels', '3.6L V6 Engine', 'Audio Steering Wheel Controls', 'Automatic Climate Control', 'Bluetooth', 'Cloth Seats', 'Cruise Control', 'Fog Lights']\"\n",
      " \"['All Wheel Drive,8 SPEAKERS', 'Android Auto', 'Antilock Brakes', 'Apple CarPlay', 'Automatic Emergency Braking', 'Auxiliary Input', 'Backup Camera', 'Blind Spot Monitor']\"\n",
      " \"['Alloy Wheels', 'Android Auto', 'Antilock Brakes', 'Apple CarPlay', 'Auxiliary Input', 'Backup Camera', 'Blind Spot Monitor', 'Bluetooth']\"\n",
      " \"['A/C,8-Speed A/T,4x4,4-Wheel Disc Brakes,4-Wheel ABS', 'Adjustable Steering Wheel', 'AM/FM Stereo', 'Antilock Brakes', 'Audio Controls On Steering Wheel', 'Auto-Off Headlights', 'Auxiliary Input', 'Backup Camera']\"\n",
      " \"['4-Wheel Disc Brakes', 'ABS', 'All Wheel Drive', 'Aluminum Wheels', 'AM/FM Stereo', 'AUDIO SYSTEM FEATUREBOSE STUDIO SURROUND SOUND 14-SPEAKER SYSTEMwith surround amplifier', 'Automatic Headlights', 'Auxiliary Audi']\"\n",
      " \"['Alloy Wheels', 'Antilock Brakes', 'Audio Controls On Steering Wheel', 'Auto', 'Auto-dimming Rear-View mirror', 'Automatic temperature control', 'Auxiliary Input', 'Backup Camera']\"\n",
      " \"['Antilock Brakes', 'Audio Controls On Steering Wheel', 'Auxiliary Input', 'Backup Camera', 'Bluetooth', 'Body Side Moldings - Body-Color', 'Brake Assist', 'Child Safety Locks']\"\n",
      " \"['4-Wheel Disc Brakes', '9 AMPLIFIED SPEAKERS W/SUBWOOFER', 'ABS', 'ALTITUDE III PACKAGE-inc: Black Roof MoldingMIC Black BezelsDark Lens TaillampsDelete Laredo Badge', 'Aluminum Wheels', 'AM/FM Stereo', 'Automatic Headlights', 'Auxiliary Audio Input']\"\n",
      " \"['Alloy Wheels', 'Antilock Brakes', 'Audio Controls On Steering Wheel', 'Auxiliary Input', 'Bluetooth', 'Brake Assist', 'Child Safety Locks', 'Dual Climate Control']\"\n",
      " \"['Antilock Brakes', 'Audio Controls On Steering Wheel', 'Auxiliary Input', 'Bluetooth', 'Brake Assist', 'Child Safety Locks', 'DEEP CHERRY RED CRYSTAL PEARLCOAT,', 'Dual Climate Control']\"\n",
      " \"['Adaptive Cruise Control', 'Antilock Brakes', 'Audio Controls On Steering Wheel', 'Auto Leveling Headlights', 'Automatic Emergency Braking', 'Auxiliary Input', 'Backup Camera', 'Blind Spot Monitor']\"\n",
      " \"['4-Wheel Disc Brakes', 'ABS', 'Adjustable Steering Wheel', 'Aluminum Wheels', 'AM/FM Stereo', 'Auto-Dimming Rearview Mirror', 'Automatic Headlights', 'Auxiliary Audio Input']\"\n",
      " \"['3.45 REAR AXLE RATIO(STD)', 'Alloy Wheels', 'BLACKLEATHER TRIM SEATS W/EDGE WELTING', 'BLIND SPOT &amp; CROSS PATH DETECTION', 'Bluetooth', 'Body-Colored Front Bumper w/Black Rub Strip/Fascia AccentChrome Bumper Insert and 2 Tow Hooks', 'Body-Colored Grille w/Chrome Accents', 'Body-Colored Rear Step Bumper w/Black Rub Strip/Fascia Accent and Chrome Bumper Insert']\"\n",
      " \"['Antilock Brakes', 'Audio Controls On Steering Wheel', 'Auxiliary Input', 'Bluetooth', 'Brake Assist', 'Child Safety Locks', 'Dual Climate Control', 'ENGINE: 3.6L V6 24V VVT UPG I W/ESS,']\"\n",
      " \"['3.09 REAR AXLE RATIO', '9 AMPLIFIED SPEAKERS W/SUBWOOFER-inc: 506 Watt AmplifierActive Noise Control System', 'BLACKLEATHER TRIMMED SEATS W/PERFORATED INSERTS', 'BLIND SPOT &amp; CROSS PATH DETECTION-inc: Auto Dim Exterior Passenger Mirror', 'BRIGHT WHITE CLEARCOAT', 'Compact Spare Tire Mounted Inside Under Cargo', 'Deep Tinted Glass', 'ENGINE BLOCK HEATER']\"\n",
      " \"['AUDIO SYSTEM FEATUREBOSE STUDIO SURROUND SOUND 14-SPEAKER SYSTEMwith surround amplifier', 'BRONZE DUNE METALLIC', 'CADILLAC USER EXPERIENCE WITH EMBEDDED NAVIGATIONAM/FM STEREOwith 8 diagonal color information displayfour USB portstwo auxiliary power outletsauxiliary input jackNatural Voice Recognition and Phone Integration for Apple CarPlay and Android Auto capability for compatible phone', 'CARGO NETLATERAL MESH', 'CLIMATE CONTROLTRI-ZONE AUTOMATICwith individual climate settings for driverright-front passenger and rear passengers (includes rear air vents) Includes (KA6) heated rear seats.)', 'DRIVER AWARENESS PACKAGEincludes (HS1) Safety Alert Seat(UEU) Forward Collision Alert(UE4) Following Distance Indicator(UHX) Lane Keep Assist with Lane Departure Warning(UKJ) Front Pedestrian Braking(UHY) Low Speed Forward Automatic Braking and (TQ5) IntelliBeam', 'ENGINE3.6L V6DIVVTWITH AUTOMATIC STOP/START(310 hp [231 kW] @ 6600 rpm271 lb-ft of torque [366 N-m] @ 5000 rpm) (STD)', 'FOLLOWING DISTANCE INDICATOR']\"\n",
      " \"['3.45 REAR AXLE RATIO(STD)', '4-Wheel Disc Brakes', 'ABS', 'Adjustable Steering Wheel', 'Aluminum Wheels', 'AM/FM Stereo', 'Auto-Dimming Rearview Mirror,', 'Automatic Headlights']\"\n",
      " \"['ABS', 'All Wheel Drive', 'ALTERNATOR170 AMPS', 'Aluminum Wheels', 'AUDIO SYSTEM FEATUREBOSE STUDIO SURROUND SOUND 14-SPEAKER SYSTEMwith surround amplifier', 'Auto-Dimming Rearview Mirror', 'Automatic Headlights', 'Auxiliary Audio Input']\"\n",
      " \"['Antilock Brakes', 'Audio Controls On Steering Wheel', 'Auto Leveling Headlights', 'Auxiliary Input', 'Back-Up Camera,500 lbs,50 State Emissions,4-Wheel Disc Brakes w/4-Wheel ABS,24.6 Gal. Fuel Tank,12-Way Power Passenger Seat -inc: Power Recline,12-Way Power Driver Seat -inc: Power Recline', 'Backup Camera', 'Blind Spot Monitor', 'Bluetooth']\"\n",
      " \"['AC,4X4', 'Alloy Wheels', 'ALLOY WHEELS', 'Audio Controls On Steering Wheel', 'Auto Leveling Headlights', 'Auxiliary Input', 'Backup Camera', 'Bluetooth']\"\n",
      " \"['Air Conditioning', 'AM/FM', 'Antilock Brakes', 'Audio Controls On Steering Wheel', 'Auxiliary Input', 'Backup Camera', 'Bluetooth', 'Bluetooth']\"\n",
      " \"['ABS brakes', 'Air Conditioning', 'All-Weather Floor Mats', 'AM/FM radio: SiriusXM', 'Automatic temperature control', 'Bodyside moldings', 'Bose Premium 8-Speaker Audio System Feature', 'Brake assist']\"\n",
      " \"['4-Wheel Disc Brakes', 'ABS', 'Active Suspension', 'Adaptive Cruise Control', 'Adjustable Steering Wheel', 'Aluminum Wheels', 'AM/FM Stereo', 'Automatic Headlights']\"\n",
      " \"['A', 'Alloy Wheels', 'AM/FM radio', 'Anti-whiplash front head restraints', 'Antilock Brakes', 'Audio Controls On Steering Wheel', 'AutoCheck 1 Owner', 'Automatic temperature control']\"\n",
      " \"['ABS brakes,8.4in Touchscreen Display,6 Month Trial (Registration Required),4-Wheel Disc Brakes,18in x 8.0in Aluminum Wheels,18in Wheel &amp; 8.4in Radio Group', 'Air Conditioning', 'Alloy Wheels', 'Alloy wheels', 'AM/FM radio', 'Anti-whiplash front head restraints', 'Antilock Brakes', 'Audio Controls On Steering Wheel']\"\n",
      " \"['All Wheel Drive', 'Android Auto', 'Antilock Brakes', 'Apple CarPlay', 'Automatic Emergency Braking', 'Auxiliary Input', 'Backup Camera', 'Blind Spot Monitor']\"\n",
      " \"['3.09 REAR AXLE RATIO', '9 AMPLIFIED SPEAKERS W/SUBWOOFER-inc: 506 Watt AmplifierActive Noise Control System', 'BLACKLEATHER TRIMMED SEATS W/PERFORATED INSERTS', 'BLIND SPOT &amp; CROSS PATH DETECTION-inc: Auto Dim Exterior Passenger Mirror', 'Compact Spare Tire Mounted Inside Under Cargo', 'Deep Tinted Glass', 'ENGINE: 5.7L V8 MDS VVT-inc: GVWR: 6 800 lbs230MM Rear Axle3.09 Rear Axle Ratio700 Amp Maintenance Free BatteryAnti-Lock 4-Wheel Disc HD BrakesDual Bright Exhaust Tips', 'FULL SIZE SPARE TIRE-inc: Steel Spare Wheel']\"\n",
      " \"['Air Conditioning,4WD,3 Passenger Rear Seat,12V Power Outlet', 'Alloy Wheels', 'AM/FM Stereo Radio', 'Anti-Lock Braking System', 'Antilock Brakes', 'Audio Controls On Steering Wheel', 'Auxiliary Input', 'Back Up Camera']\"\n",
      " \"['20 Inch Alloy Wheels', '3.6L V6 DI Engine', '8 Inch Touchscreen', 'Adaptive Suspension', 'Apple CarPlay &amp; Android Auto Smartphone Integration', 'Blind Spot Monitoring', 'Bluetooth', 'Bose Surround Sound System']\"\n",
      " \"['4-Wheel Disc Brakes', 'ABS', 'Active Suspension', 'Adjustable Steering Wheel', 'All Wheel Drive', 'Aluminum Wheels', 'AM/FM Stereo', 'Automatic Headlights']\"\n",
      " \"['3.45 REAR AXLE RATIO(STD)', '4-Wheel Disc Brakes', 'ABS', 'Adjustable Steering Wheel', 'ADVANCED TECHNOLOGY GROUP-inc: Advanced Brake AssistAdaptive Cruise Control w/StopBlind Spot &amp; Cross Path DetectionForward Collision Warning Plus', 'Air Suspension', 'Aluminum Wheels', 'AM/FM Stereo']\"\n",
      " \"['3.6 liter V6 DOHC engine', '4 Doors', '4-wheel ABS brakes', '8-way power adjustable drivers seat', 'Air conditioning with dual zone climate control', 'Antilock Brakes', 'Audio Controls On Steering Wheel', 'Audio controls on steering wheel']\"\n",
      " \"['Adjustable Foot Pedals', 'Air Conditioning', 'Alloy Wheels', 'Audio Controls On Steering Wheel', 'Auxiliary Input', 'Backup Camera', 'Bluetooth', 'BRIGHT WHITE CLEARCOAT,']\"\n",
      " \"['(0 P) Velvet Red Pearlcoat', '295 hp horsepower', '3.6 liter V6 DOHC engine', '4 Doors', '4-wheel ABS brakes', 'Air conditioning with dual zone climate control', 'Android Auto', 'Antilock Brakes']\"\n",
      " \"['4-Wheel Disc Brakes', 'ABS', 'All Wheel Drive', 'Aluminum Wheels', 'AUDIO SYSTEM FEATUREBOSE STUDIO SURROUND SOUND 14-SPEAKER SYSTEMwith surround amplifier', 'Automatic Headlights', 'CADILLAC CUE INFORMATION AND MEDIA CONTROL SYSTEM WITH EMBEDDED NAVIGATIONAM/FM STEREOwith 8 diagonal color information displayfour USB portstwo auxiliary power outletsauxiliary input jackNatural Voice Recognition and Phone Integration for Apple CarPlay and Android Auto capability for compatible phone', 'CARGO NETLATERAL MESH']\"\n",
      " \"['18 Inch Off Road Aluminum Wheels', '3.6L V6 24V VVT Engine', '8.4 Touchscreen Display', 'Apple CarPlay', 'Google Android Auto', 'Heated and Ventilated Front Seats', 'Heated Steering Wheel', 'Keyless Enter-N-Go']\"\n",
      " \"['Android Auto', 'Anti-whiplash f', 'Antilock Brakes', 'Apple CarPlay', 'Audio Controls On Steering Wheel', 'Audio memory', 'Auto-dimming door mirrors', 'Auto-dimming Rear-View mirror']\"\n",
      " \"['Alloy Wheels', 'Antilock Brakes', 'Audio Controls On Steering Wheel', 'Auxiliary Input', 'Backup Camera', 'Bluetooth', 'Child Safety Locks', 'Clock - In-radio display,']\"\n",
      " \"['Android Auto', 'Antilock Brakes', 'Apple CarPlay', 'Auxiliary Input', 'Backup Camera', 'Bluetooth', 'Brake Assist', 'Child Safety Locks']\"\n",
      " \"['Android Auto', 'Antilock Brakes', 'Apple CarPlay', 'Auxiliary Input', 'Backup Camera', 'Blind Spot Monitor', 'Child Safety Locks', 'driver &amp; front pass']\"\n",
      " \"['Alarm System,4x4', 'Alloy Wheels', 'Alloy Wheels', 'AM/FM', 'Antilock Brakes', 'Audio Controls On Steering Wheel', 'Automatic Climate Control', 'Automatic Headlights']\"\n",
      " \"['ACTIVE SUSPENSION SYSTEM,8-SPEED A/T,4-WHEEL DISC BRAKES,4-WHE', 'Adaptive Cruise Control', 'ADAPTIVE CRUISE CONTROL', 'ADJUSTABLE STEERING WHEEL', 'All Wheel Drive', 'ALL WHEEL DRIVE', 'Alloy Wheels', 'ALUMINUM WHEELS']\"\n",
      " \"['ABS Brakes', 'Adaptive headlights', 'Air Conditioned Seats', 'Air Conditioning', 'AM/FM', 'Antilock Brakes', 'Audio Controls On Steering Wheel', 'Auto Leveling Headlights']\"\n",
      " \"['ABS BRAKES', 'ADJUSTABLE FOOT PEDALS', 'AIR CONDITIONING', 'Alloy Wheels', 'ALLOY WHEELS', 'AM/FM', 'AM/FM RADIO', 'Android Auto']\"\n",
      " \"['Adaptive Cruise Control', 'Alloy Wheels', 'Antilock Brakes', 'Audio Controls On Steering Wheel', 'Auto Leveling Headlights', 'Auxiliary Input', 'Backup Camera', 'Blind Spot Monitor']\"\n",
      " \"['Alloy Wheels', 'Android Auto', 'Apple CarPlay', 'Audio Controls On Steering Wheel', 'Auxiliary Input', 'Backup Camera', 'Bluetooth', 'Brake Assist']\"\n",
      " \"['3.45 REAR AXLE RATIO (STD)', '4-Wheel Disc Brakes', '9 AMPLIFIED SPEAKERS W/SUBWOOFER -inc: 506 Watt Amplifier Active Noise Control System', 'ABS', 'Adjustable Steering Wheel', 'Aluminum Wheels', 'AM/FM Stereo', 'Automatic Headlights']\"\n",
      " \"['4-Wheel Disc Brakes', '9 AMPLIFIED SPEAKERS W/SUBWOOFER-inc: 506 Watt Amplifier', 'ABS', 'Adjustable Steering Wheel', 'AM/FM Stereo', 'Automatic Headlights', 'Auxiliary Audio Input', 'BLACKBLACK SUEDE SEATS W/BLACK STITCHING']\"\n",
      " \"['abs brakes,8.4in touchscreen display,5-year siriusxm travel link service,5-year siriusxm traffic service,4-wheel disc brakes,18in wheel &amp; 8.4in radio group', 'air conditioning', 'Alloy Wheels', 'alloy wheels', 'am/fm radio', 'Android Auto', 'anti-whiplash front head restraints', 'Antilock Brakes']\"\n",
      " \"['ABS Brakes', 'Air Conditioning', 'Alloy Wheels', 'AM/FM', 'Android Auto', 'Antilock Brakes', 'Apple CarPlay', 'Audio Controls On Steering Wheel']\"\n",
      " \"['4-Wheel ABS', '4-Wheel Disc Brakes', 'Active Suspension System', 'Ad', 'Aluminum Wheels', 'AM/FM Stereo', 'Auto-Off Headlights', 'Back-Up Camera']\"\n",
      " \"['Air Conditioning,4x4', 'Alarm System', 'Alloy Wheels', 'Alloy Wheels', 'AM/FM', 'Anti-Lock Brakes', 'Audio Controls On Steering Wheel', 'Automatic Headlights']\"\n",
      " \"['(0 p) stellar black metallic', 'air conditioning with dual zone climate control,8-way power adjustable drivers seat,4-wheel abs brakes,4 doors,310 hp horsepower,3.6 liter v6 dohc engine', 'All Wheel Drive', 'all-wheel drive', 'Android Auto', 'Antilock Brakes', 'Apple CarPlay', 'audio controls on steering wheel']\"\n",
      " \"['4-Wheel Disc Brakes', 'ABS', 'Active Suspension', 'Adjustable Steering Wheel', 'Aluminum Wheels', 'AM/FM Stereo', 'Auto', 'Automatic Headlights']\"\n",
      " \"['3.45 REAR AXLE RATIO(STD)', '4-Wheel Disc Brakes', '9 AMPLIFIED SPEAKERS W/SUBWOOFER', 'A', 'ABS', 'Aluminum Wheels', 'Automatic Headlights', 'BILLET SILVER METALLIC CLEARCOAT']\"\n",
      " \"['3.45 REAR AXLE RATIO(STD)', '3.6 liter V6 DOHC engine 4 Doors 4-wheel ABS brakes 8-way power adjustable drivers seat AC power outlet - 1 Air conditioning with dual zone climate control Audio controls on steering wheel Automatic Transmission Bluetooth Clock - In-radio display Compass Driver memory seats External temperature display Four-wheel drive Front fog/driving lights Head airbags - Curtain 1st and 2nd row Heated drivers seat Heated passenger seat Heated steering wheel Knee airbags - Driver Leather seats Memory settings for 2 drivers Multi-function remote - Trunk/hatch/door/tailgate', '4-Wheel Disc Brakes', 'ABS', 'Air Suspension', 'Aluminum Wheels', 'BLACKLEATHER TRIM SEATS W/EDGE WELTING', 'Brake Assist']\"\n",
      " \"['..a/c..', '..aluminum wheels..', '..auto-off headlights..', '..back-up camera..', '..cruise control..', '..daytime running lights..', '..driver air bag..', '..heated driver seat..']\"\n",
      " \"['ABS brakes', 'Air Conditioning', 'All-Weather Floor Mats', 'AM/FM radio: SiriusXM', 'Auto High-beam Headlights', 'Auto-dimming door mirrors', 'Auto-dimming Rear-View mirror', 'Automatic Dual-Zone Climate Control']\"\n",
      " \"['Antilock Brakes', 'Audio Controls On Steering Wheel', 'Auxiliary Input', 'Backup Camera', 'Bluetooth', 'Brake Assist', 'Child Safety Locks', 'Cooled Driver Seat']\"\n",
      " \"['All Wheel Drive', 'Android Auto', 'Antilock Brakes', 'Apple CarPlay', 'AUTOMATIC DUAL ZONE CLIMATE CONTROL,8-WAY POWER FRONT PASSENGER SEAT ADJUSTER,2-WAY POWER PASSENGER LUMBAR CONTROL SEAT ADJUSTER,2-WAY POWER DRIVER LUMBAR CONTROL SEAT ADJUSTER', 'Auxiliary Input', 'Backup Camera', 'BLACK MOLDED SPLASH GUARDS']\"\n",
      " \"['abs,4-wheel disc', 'adjustable steering wheel', 'aluminum wheels', 'am/fm stereo', 'Android Auto', 'Antilock Brakes', 'Apple CarPlay', 'automatic headlights']\"\n",
      " \"['230MM Rear Axle', '3.09 REAR AXLE RATIO', 'Auto Dim Exterior Passenger Mirror', 'Bl', 'Black Side Windows Trim and Black Front Windshield Trim', 'BLIND SPOT &amp; CROSS PATH DETECTION', 'Body-Colored Front Bumper w/Black Rub Strip/Fascia AccentMetal-Look Bumper Insert and 2 Tow Hooks', 'Body-Colored Rear Step Bumper w/Black Rub Strip/Fascia Accent and Black Bumper Insert']\"\n",
      " \"['Air Conditioning,4x4', 'Alarm System', 'Alloy Wheels', 'AM/FM', 'Anti-Lock Brakes', 'Antilock Brakes', 'Audio Controls On Steering Wheel', 'Automatic Climate Control']\"\n",
      " \"['3.45 REAR AXLE RATIO', '75', '9 AMPLIFIED SPEAKERS W/SUBWOOFER', 'DIAMOND BLACK CRYSTAL PEARLCOAT', 'ENG:3.6L V624V VVT UPG I W/ESS', 'ENGINE: 3.6L V6 24V VVT UPG I W/ESS', 'FULL SIZE SPARE TIRE-inc: Steel Spare Wheel', 'GVWR: 6 500 LBS']\"\n",
      " \"['ABS brakes,6 Speakers,4x4,4-Wheel Disc Brakes,3.45 Rear Axle Ratio,17in x 8.0in Aluminum Wheels', 'Air Conditioning', 'Alloy Wheels', 'AM/FM radio', 'Anti-whiplash front head restraints', 'Antilock Brakes', 'Audio Controls On Steering Wheel', 'Automatic temperature control']\"\n",
      " \"['ABS brakes', 'Active Noise Control System', 'Air Conditioning', 'Alloy wheels', 'AM/FM radio: Sir', 'Anti-whiplash front head restraints', 'Apple CarPlay', 'Audio memory']\"\n",
      " \"['18 Inch Alloy Wheels', '3.6L V6 Engine', 'Automatic Climate Control', 'Bluetooth', 'Cruise Control', 'Driver Seat Memory', 'Fog Lights', 'Keyless Entry/Ignition']\"\n",
      " \"['All Wheel Drive', 'Android Auto', 'Antilock Brakes', 'Auxiliary Input', 'Back Up Camera', 'Blind Spot Monitor', 'Bluetooth', 'Brake Assist']\"\n",
      " \"['ABS brakes', 'Air Conditioning', 'AM/FM radio: SiriusXM', 'Auto High-beam Headlights', 'Auto-dimming door mirrors', 'Auto-dimming Rear-View mirror', 'Automatic temperature control', 'Blind spot sensor: Lane Change Alert with Side Blind Zone Alert warning']\"\n",
      " \"['Alloy Wheels', 'Antilock Brakes', 'Auxiliary Input', 'Backup Camera', 'Bluetooth', 'Brake Assist', 'Child Safety Locks', 'Dark Day Light Ope']\"\n",
      " \"['Apple CarPlay', 'Backup Camera', 'Bluetooth', 'Brake Assist', 'DUAL F', 'DUAL FRONT SIDE IMPACT AIRBAGS', 'ELECTRONIC STABILITY CONTROL', 'EMERGENCY COMMUNICATION SYSTEM']\"\n",
      " \"['3.09 REAR AXLE RATIO', '4-Wheel Disc Brakes', 'A/C', 'ABS', 'Adjustable Steering Wheel', 'Aluminum Wheels', 'AM/FM Stereo', 'Automatic Headlights']\"\n",
      " \"['4-Wheel Disc Brakes', '9 AMPLIFIED SPEAKERS W/SUBWOOFER', 'ABS', 'Adjustable Steering Wheel', 'Aluminum Wheels', 'AM/FM Stereo', 'Automatic Headlights', 'Auxiliary Audio Input']\"\n",
      " \"['Alloy Wheels', 'Antilock Brakes', 'Audio Controls On Steering Wheel', 'Auxiliary Input', 'Backup Camera', 'Bluetooth', 'Brake Assist', 'Bu']\"\n",
      " \"['4-Wheel Disc Brakes', 'ABS', 'Active Suspension', 'Adaptive Cruise Control', 'Adjustable Steering Wheel', 'Aluminum Wheels', 'AM/FM Stereo', 'Auto-Dimming Rearview Mirror']\"\n",
      " \"['abs brakes,8 speakers,4-wheel independent suspension,4-', 'air conditioning', 'am/fm radio: siriusxm', 'Android Auto', 'Antilock Brakes', 'Apple CarPlay', 'automatic temperature control', 'Auxiliary Input']\"\n",
      " \"['abs brakes,12v power outlet', 'adaptive headlights', 'air conditioned seats', 'air conditioning', 'all weather floor mats', 'Alloy Wheels', 'am/fm', 'anti-theft']\"\n",
      " \"['4-Wheel Disc Brakes', 'ABS', 'Active Suspension', 'Adjustable Steering Wheel', 'All Wheel Drive', 'Aluminum Wheels', 'AM/FM Stereo', 'Auto-Dimming Rearview Mirror']\"\n",
      " \"['Alloy Wheels', 'Antilock Brakes', 'Audio Controls On Steering Wheel', 'Auxiliary Input', 'Backup Camera', 'Bluetooth', 'Brake Assist', 'Bumpers: b']\"\n",
      " \"['18 Inch Alloy Wheels', '3.6L V6 Engine', 'Audio Steering Wheel Controls', 'Automatic Climate Control', 'Bluetooth Connectivity', 'Cruise Control', 'Driver Memory Seat', 'Fog Lights']\"\n",
      " \"['ABS BRAKES,7 &amp; 4 PIN WIRING HARNESS,4-WHEEL DISC BRAKES,17&#x27;&#x27; X 8.0&#x27;&#x27; ALUMINUM WHEELS', 'AIR CONDITIONING', 'AM/FM RADIO', 'ANTI-WHIPLASH FRONT HEAD RESTRAINTS', 'Antilock Brakes', 'AUTOMATIC TEMPERATURE CONTROL', 'Auxiliary Input', 'Backup Camera']\"\n",
      " \"['18 Inch Alloy Wheel', '3.6L V6 Engine', '8.4 Touchscreen Display', 'Android Auto', 'Apple CarPlay', 'Audio Steering Wheel Controls', 'Automatic Climate Control', 'Blind Spot Monitoring System']\"\n",
      " \"['3.45 REAR AXLE RATIO (STD)', '4-Wheel Disc Brakes', 'ABS', 'Adjustable Steering Wheel', 'Aluminum Wheels', 'AM/FM Stereo', 'Automatic Headlights', 'Auxiliary Audio Input']\"\n",
      " \"['Adaptive Cruise Control', 'adaptive cruise control,8-way power adjustable drivers seat,6.4 liter v8 engine,475 hp horsepower,4-wheel abs brakes', 'air conditioning with dual zone climate control', 'Alloy Wheels', 'Antilock Brakes', 'Audio Controls On Steering Wheel', 'audio controls on steering wheel', 'Auto Leveling Headlights']\"\n",
      " \"['ABS Brakes', 'Air Conditioning', 'Alloy Wheels', 'Antilock Brakes', 'Audio Controls On Steering Wheel', 'Automatic Headlights', 'Auxiliary Input', 'Backup Camera']\"\n",
      " \"['(*23H)LIMITED-inc: Engine: 3.6L V6 24V VVT UPG I w/ESSTransmission: 8-Speed Automatic (845RE)', '(PAINT)BRIGHT WHITE CLEARCOAT (WHITE KNUCKLE CLEARCOAT)', '(SEATS)BLACKPREMIUM LEATHER TRIMMED BUCKET SEATS', '-RADIO W/ NAV: UCONNECT 8.4 NAV-inc: GPS NavigationHD RadioUconnect AccessFor Details Visit DriveUconnect.com8.4 Touchscreen DisplayRoadside Assistance &amp; 9-1-1 CallIntegrated Voice Command w/BluetoothSiriusXM Satellite Radio1 year SiriusXM Radio ServiceFor more informationcall 800-643-2112NOT AVAILABLE in AlaskaHawaiiPuerto RicoStThomas/Virgin IslandsBarbadosDominican Republic and Guam', '4-Wheel Disc Brakes', 'ABS', 'Adjustable Steering Wheel', 'Aluminum Wheels']\"\n",
      " \"['4-Wheel Disc Brakes', 'ABS', 'Active Suspension', 'All Wheel Drive', 'Aluminum Wheels', 'AUTOMATIC COLLISION BRAKING', 'AUTOMATIC PARKING ASSISTincludes frontrearlateral-front parking assist and semi-automatic steering', 'AUTOMATIC SAFETY BELT TIGHTENING']\"\n",
      " \"['18 STEEL COMPACT SPARE WHEEL', '4-Wheel Disc Brakes', 'ABS', 'Adjustable Steering Wheel', 'Aluminum Wheels', 'AM/FM Stereo', 'Automatic Headlights', 'Auxiliary Audio Input']\"\n",
      " \"['Adaptive Cruise Control', 'Alloy Wheels', 'Antilock Brakes', 'Apple CarPlay', 'Audio Controls On Steering Wheel', 'Auxiliary Input', 'Backup Camera', 'Bluetooth']\"\n",
      " \"['ABS brakes,6 Speakers,4-Wheel Disc Brakes,3.45 Rear Axle Ratio,17in x 8.0in Aluminum Wheels,1-Yr. SIRIUSXM Radio Service', 'Air Conditioning', 'Alloy Wheels', 'Alloy wheels', 'AM/FM radio', 'Anti-whiplash front head restraints', 'Antilock Brakes', 'Audio Controls On Steering Wheel']\"\n",
      " \"['Antilock Brakes', 'Audio Controls On Steering Wheel', 'Auxiliary Input', 'Backup Camera', 'Bluetooth', 'Brake Assist', 'Child Safety Locks', 'Dri']\"\n",
      " \"['Adaptive Cruise Control', 'air conditioning', 'All Wheel Drive', 'alloy wheels', 'Android Auto', 'Antilock Brakes', 'Apple CarPlay', 'Auxiliary Input']\"\n",
      " \"['Antilock Brakes', 'Audio Controls On Steering Wheel', 'Auxiliary Input', 'Backup Camera', 'Bluetooth', 'Brake Assist', 'Child Safety Locks', 'Com']\"\n",
      " \"['Adaptive Cruise Control', 'Antilock Brakes', 'Audio Controls On Steering Wheel', 'Auxiliary Input', 'Backup Camera', 'Bluetooth', 'Brake Assist', 'Child Safety Locks']\"\n",
      " \"['Antilock Brakes', 'Audio Controls On Steering Wheel', 'Auxiliary Input', 'Backup Camera', 'Black Suede Seats w/Black St', 'Bluetooth', 'Body Color Claddings', 'Body Color Grille w/Platinum Accent']\"\n",
      " \"['&lt;b&gt;Still under Manufacturers Warranty!&lt;b&gt;', 'ABS brakes,6 Speakers,4-Wheel Disc Brakes,3.45 Rear Axle Ratio,17in x 8.0in Aluminum Wheels,1-Yr. SIRIUSXM Radio Service', 'Air Conditioning', 'Alloy Wheels', 'Alloy wheels', 'AM/FM radio', 'Anti-whiplash front head restraints', 'Antilock Brakes']\"\n",
      " \"['AIR CONDITIONING', 'ALLOY WHEELS', 'ALPINE AUDIO', 'AM/FM STEREO', 'Antilock Brakes', 'Audio Controls On Steering Wheel', 'Auxiliary Input', 'Backup Camera']\"\n",
      " \"['ABS brakes,6 Speakers,4-Wheel Disc Brakes,3.45 Rear Axle Ratio', 'Air Conditioning', 'AM/FM radio', 'Android Auto', 'Anti-whiplash front head restraints', 'Antilock Brakes', 'Apple CarPlay', 'Apple CarPlay']\"\n",
      " \"['Android Auto', 'Antilock Brakes', 'Apple CarPlay', 'Auxiliary Input', 'Backup Camera', 'Blind Spot Monitor', 'Child Safety Locks', 'CRYSTAL WHITE TRICOAT,']\"\n",
      " \"['2 Seatback Storage Pockets', '4-Wheel Disc Brakes', 'ABS', 'Adjustable Steering Wheel', 'Aluminum Wheels', 'AM/FM Stereo', 'Automatic Headlights', 'Auxiliary Audio Input']\"\n",
      " \"['18 Inch Alloy Wheels', '3.6L V6 MPI Engine', '8.4-Inch Touchscreen Display', 'Automatic Transmission w/Steering Wheel Mounted Paddle Shifters', 'Bluetooth', 'Cruise Control', 'Driver Seat Memory Settings', 'Dual-Zone Automatic Climate Control']\"\n",
      " \"['Active Suspension', 'Adaptive Cruise Control', 'Alloy Wheels', 'Alloy Wheels', 'Anti Theft System', 'Anti-Lock Brakes', 'Antilock Brakes', 'Audio Controls On Steering Wheel']\"\n",
      " \"['4-Wheel Disc Brakes', 'ABS', 'Adjustable Steering Wheel', 'ALL WEATHER TRAIL RATED PACKAGE -inc: Engine Block Heater Fuel Tank Skid Plate Shield Transfer Case Skid Plate Shield Underbody Skid Plate MOPAR Cargo Area Liner Front Suspension Skid Plate Tow Hooks Heated Steering Wheel Selec-Terrain System Quadra-Trac II 4WD System MOPAR Slush Mats Heated Front Seats Skid Plate Group Remote Start System Hill Descent Control Trail Rated Badge Full Size Spare Tire Steel Spare Wheel', 'Aluminum Wheels', 'AM/FM Stereo', 'Automatic Headlights', 'Auxiliary Audio Input']\"\n",
      " \"['4-Wheel Disc Brakes', 'ABS', 'Adjustable Steering Wheel', 'Air Suspension', 'Aluminum Wheels', 'AM/FM Stereo', 'Auto-Dimming Rearview Mirror', 'Automatic Headlights']\"\n",
      " \"['Audio - Antenna: Diversity', 'Audio - Antenna: Mast', 'Audio Auxiliary Input: IPod/IPhone Integration', 'Audio Auxiliary Input: Jack', 'Audio Auxiliary Input: USB', 'Back Up Camera', 'Blind Spot Sensor', 'Clock']\"\n",
      " \"['4-Wheel Disc Brakes', 'ABS', 'Adjustable Steering Wheel', 'All Wheel Drive', 'Aluminum Wheels', 'AM/FM Stereo', 'AUDIO SYSTEM FEATUREBOSE STUDIO SURROUND SOUND 14-SPEAKER SYSTEMwith surround amplifier', 'Auto-Dimming Re']\"\n",
      " \"['4-Wheel Disc Brakes', 'ABS', 'Adjustable Steering Wheel', 'All Wheel Drive', 'Aluminum Wheels', 'AM/FM Stereo', 'AUDIO SYSTEM FEATUREBOSE STUDIO SURROUND SOUND 14-SPEAKER SYSTEMwith surround amplifier', 'Auto-Dimming R']\"\n",
      " \"['Antilock Brakes', 'Audio Controls On Steering Wheel', 'Auxiliary Input', 'Bluetooth', 'Brake Assist', 'Child Safety Locks', 'Dual Climate Control', 'Four Wheel Drive']\"\n",
      " \"['ABS BRAKES,8-WAY POWER FRONT PA', 'AIR CONDITIONING', 'All Wheel Drive', 'Android Auto', 'Antilock Brakes', 'Apple CarPlay', 'AUTO HIGH-BEAM HEADLIGHTS', 'AUTO-DIMMING DOOR MIRRORS']\"\n",
      " \"['ABS brakes,4-Wheel Disc Brakes', 'Air Conditioning', 'Alloy wheels', 'AM/FM radio: SiriusXM', 'Anti-whiplash front head restraints', 'Antilock Brakes', 'Audio Controls On Steering Wheel', 'Audio memory']\"\n",
      " \"['4-wheel ABS brakes', '5.7 liter V8 engine', 'Air conditioning with dual zone climate control', 'Alloy Wheels', 'Antilock Brakes', 'Audio Controls On Steering Wheel', 'Audio controls on steering wheel', 'Automatic Transmission']\"\n",
      " \"['ABS brakes,6 Speakers,4X4 FOUR WHEEL DRIVE,4-Wheel Disc Brakes,3.45 Rear Axle Ratio,17in x 8.0in Aluminum Wheels,17in ALUMINUM WHEELS,000 MILE WARRANTY', 'Air Conditioning', 'Alloy Wheels', 'AM/FM radio', 'Anti-whiplash front head restraints', 'Antilock Brakes', 'Audio Controls On Steering Wheel', 'Automatic temperature control']\"\n",
      " \"['ABS brakes,6 Speakers,4-Wheel Disc Brakes,3.45 Rear Axle Ratio,17&#x27; x 8.0&#x27; Aluminum Wheels', 'Air Conditioning', 'Alloy Wheels', 'Alloy wheels', 'AM/FM radio', 'Anti-whiplash front head restraints', 'Antilock Brakes', 'Audio Controls On Steering Wheel']\"\n",
      " \"['4-Wheel Disc Brakes', 'ABS', 'Aluminum Wheels', 'AM/FM Stereo', 'Automatic Headlights', 'Auxiliary Audio Input', 'Bucket Seats', 'CADILLAC CUE INFORMATION AND MEDIA CONTROL SYSTEMAM/FM STEREOwith 8 diagonal color information displayfour USB portstwo auxiliary power outletsauxiliary input jackNatural Voice Recognition and Phone Integration for Apple CarPlay and Android Auto capability for compatible phone']\"\n",
      " \"['4-Wheel Disc Brakes', 'ABS', 'Active Suspension', 'Adjustable Steering Wheel', 'Aluminum Wheels', 'AM/FM Stereo', 'Auto-Dimmi', 'Automatic Headlights']\"\n",
      " \"['3.45 REAR AXLE RATIO(STD)', '9 AMPLIFIED SPEAKERS W/SUBWOOFER', 'BILLET SILVER METALLIC CLEARCOAT', 'BLACKLEATHER TRIMMED SEATS W/PERFORATED INSERTS', 'Body-Colored Grille w/Chrome Accents', 'Chrome Door Handles', 'Chrome Power w/Tilt Down Heated Side Mirrors w/Driver Auto DimmingManual Folding and Turn Signal Indicator', 'Chrome Side Windows Trim and Black Front Windshield Trim']\"\n",
      " \"['4-Wheel Disc Brakes', 'ABS', 'Adjustable Steering Wheel', 'Aluminum Wheels', 'AM/FM Stereo', 'Automatic Headlights', 'Auxiliary Audio Input', 'Bucket Seats']\"\n",
      " \"['18&#x27; Wheel &amp; 8.4&#x27; Radio Group', '293 hp horsepower', '3.6 liter V6 DOHC engine', '4 Doors', '4-wheel ABS brakes', '4WD Type - Automatic full-time', '4X4', 'Air conditioning with dual zone climate control']\"\n",
      " \"['4-Wheel Disc Brakes', 'ABS', 'Adjustable Steering Wheel', 'All Wheel Drive', 'Aluminum Wheels', 'AM/FM Stereo', 'Auto-Dimming Rearview Mirror', 'Automatic Headlights']\"\n",
      " \"['4WD/AWD', 'ABS Brakes', 'Air Conditioning', 'Alloy Wheels', 'AM/FM Stereo', 'Automatic Transmission', 'Auxiliary Audio Input', 'Bluetooth']\"\n",
      " \"['AUDIO SYSTEM FEATUREBOSE STUDIO SURROUND SOUND 14-SPEAKER SYSTEMwith surround amplifier', 'CADILLAC USER EXPERIENCE WITH EMBEDDED NAVIGATIONAM/FM STEREOwith 8 diagonal color information displayfour USB portstwo auxiliary power outletsauxiliary input jackNatural Voice Recognition and Phone Integration for Apple CarPlay and Android Auto capability for compatible phone', 'CARGO NETLATERAL MESH', 'CLIMATE CONTROLTRI-ZONE AUTOMATICwith individual climate settings for driverright-front passenger and rear passengers (includes rear air vents) Includes (KA6) heated rear seats.)', 'DARK GRANITE METALLIC', 'DRIVER AWARENESS PACKAGEincludes (HS1) Safety Alert Seat(UEU) Forward Collision Alert(UE4) Following Distance Indicator(UHX) Lane Keep Assist with Lane Departure Warning(UKJ) Front Pedestrian Braking(UHY) Low Speed Forward Automatic Braking and (TQ5) IntelliBeam', 'ENGINE3.6L V6DIVVTWITH AUTOMATIC STOP/START(310 hp [231 kW] @ 6600 rpm271 lb-ft of torque [366 N-m] @ 5000 rpm) (STD)', 'FOLLOWING DISTANCE INDICATOR']\"\n",
      " \"['4-Wheel Disc Brakes', 'ABS', 'Active Suspension', 'Adjustable Steering Wheel', 'All Wheel Drive', 'Aluminum Wheels', 'AM/FM Stereo', 'Auto-Dimming R']\"\n",
      " \"['3.45 REAR AXLE RATIO(STD)', '4-Wheel Disc Brakes', 'A/C', 'ABS', 'Adaptive Cruise Control', 'Air Suspension', 'Aluminum Wheels', 'AM/FM Stereo']\"\n",
      " \"['4-Wheel Disc Brakes', 'ABS', 'Active Suspension', 'Adjustable Steering Wheel', 'Aluminum Wheels', 'AM/FM Stereo', 'AUTOMATIC COLLISION BRAKING', 'Automatic Headlights']\"\n",
      " \"['ABS brakes', 'Adaptive Full-Speed Range Cruise Control', 'Adaptive suspension', 'Advanced Security Package', 'Air Conditioning', 'Auto-dimming door mirrors', 'Automatic Collision Braking,8 Color Driver Information Center Display', 'Automatic Parking Assist']\"\n",
      " \"['18 Inch Alloy Wheels', '3.6L V6 Engine', 'Audio Steering Whee Controls', 'Automatic Climate Control', 'Bluetooth', 'Cruise Control', 'Driver Seat Memory', 'Fog Lights']\"\n",
      " \"['Adjustable Steering Wheel', 'Air Conditioning', 'AM/FM Stereo', 'Automatic HeadlightsOPTIONS 5 Passenger Seating 50 State Emissions A/C AM/FM Radio Automatic Headlights Bucket Seats Cargo Shade Child Safety Locks Climate Control Cruise Control Daytime Running Lights Driver Adjustable Lumbar Driver Air Bag Dual Air Bags Electrochromic Rearview Mirror Engine Immobilizer Front Floor Mats Front Head Air Bag Heated Steering Wheel Intermittent Wipers Keyless Entry Keyless Start Knee Air Bag Leather Steering Wheel Passenger Adjustable Lumbar Passenger Air Bag Sensor Power Folding Mirrors Power Locks Power Mirrors Power Windows Pwr Seats - Both Pwr Steering Rain Sensing Wipers Rear Bench Seat Rear Defrost Rear Spoiler Side Air Bags Smart Device Integration Tilt Steering Tilt Steering Wheel Tinted Windows Tire Pressure Monitor System Traction Control Universal Garage Door Opener Variable Speed Intermittent Wi MECHANICAL 6 Cylinder Gas Automatic AWD Automatic Transmission Anti-lock Brakes 3.6 L INTERIOR Odometer - DigitsAnalog -Operable Leather Int Odor: OK TIRES AND WHEELS Wheels: Alloy Tire Tread Depth Brand Size Left Front: 9/32 Michelin 235/65R18 Left Rear: 8/32 Michelin 235/65R18 Right Front: 7/32 Michelin 235/65R18 Right Rear: 8/32 Michelin 235/65R18 Spare: N/A (Mini) N/A KEYS Smart Key - 1', 'Brakes ABS', 'Drivetrain All Wheel Drive', 'Engine Displacement 3.6L/222.6', 'Engine V6 Cylinder Engine']\"\n",
      " \"['Alloy Wheels', 'Antilock Brakes', 'Audio Controls On Steering Wheel', 'Auxiliary Input', 'Backup Camera', 'Bluetooth', 'Child Safety Locks', 'Daytime running']\"\n",
      " \"['ABS brakes,8.4in Touchscreen Display,6 Speakers,6 Month Trial (Registration Required),4-Wheel Disc Brakes,3.45 Rear Axle Ratio,18in x 8.0in Aluminum Wheels,1', 'Air Conditioning', 'Alloy Wheels', 'AM/FM radio', 'Anti-whiplash front head restraints', 'Antilock Brakes', 'Audio Controls On Steering Wheel', 'Automatic temperature control']\"\n",
      " \"['Adaptive Cruise Control', 'Alloy Wheels', 'Antilock Brakes', 'Apple CarPlay', 'Audio Controls On Steering Wheel', 'Auto Leveling Headlights', 'Auxiliary Input', 'Backup Camera']\"\n",
      " \"['3.6 liter V6 DOHC engine', '4-wheel ABS brakes', '8-way power adjustable drivers seat', 'Adaptive Cruise Control', 'Adaptive cruise control', 'Air conditioning with dual zone climate control', 'Antilock Brakes', 'Audio Controls On Steering Wheel']\"\n",
      " \"['4-Wheel Disc Brakes', '9 AMPLIFIED SPEAKERS W/SUBWOOFER -inc: 506 Watt Amplifier', 'ABS', 'Adjustable Steering Wheel', 'AM/FM Stereo', 'Automatic Headlights', 'Auxiliary Audio Input', 'BLACK BLACK SUEDE SEATS W/BLACK STITCHING']\"\n",
      " \"['Ad', 'Alloy Wheels', 'Aluminum Wheels', 'AM/FM Stereo', 'Android Auto', 'Antilock Brakes', 'Apple CarPlay', 'Audio Controls On Steering Wheel']\"\n",
      " \"['ABS', 'Air Conditioning', 'Alloy Wheels', 'AM/FM radio', 'Anti-whiplash front head restraints', 'Antilock Brakes', 'Auto-Dimming Rear-View Mirror', 'Automatic temperature control']\"\n",
      " \"['Adaptive Cruise Control', 'Antilock Brakes', 'Audio Controls On Steering Wheel', 'Auxiliary Input', 'Backup Camera', 'Bluetooth', 'Child Safety Locks', 'Cooled Driver Seat']\"\n",
      " \"['293 hp horsepower', '3.6 liter V6 DOHC engine', '4 Doors', '4-wheel ABS brakes', '4WD Type - Automatic full-time', 'Air conditioning with dual zone climate control', 'Alloy Wheels', 'Antilock Brakes']\"\n",
      " \"['abs brakes,8 speakers,4-wheel independent suspension,', 'air conditioning', 'am/fm radio: siriusxm', 'Android Auto', 'Antilock Brakes', 'Apple CarPlay', 'automatic temperature control', 'Auxiliary Input']\"\n",
      " \"['1st and 2nd row curtain head airbags', '4-wheel ABS Brakes', 'ABS and Driveline Traction Control', 'Adaptive cruise control', 'Audio controls on steering wheel', 'Audio System Premium Brand Speakers: Bose Studio Surround', 'Audio system security', 'Beverage cooler in glovebox']\"\n",
      " \"['18 Inch Alloy Wheels', '3.6L V6 Engine', 'Audio Steering Wheel Controls', 'Automatic Climate Control', 'Bluetooth', 'Cruise Control', 'Driver Seat Memory', 'Heated and Ventilated Front Seats']\"\n",
      " \"['3.45 REAR AXLE RATIO(STD)', '9 AMPLIFIED SPEAKERS W/SUBWOOFER-inc: 506 Watt AmplifierActive Noise Control System', 'BLACKLEATHER TRIMMED SEATS W/PERFORATED INSERTS', 'BLIND SPOT &amp; CROSS PATH DETECTION-inc: Auto Dim Exterior Passenger Mirror', 'Chrome Side Windows Trim and Black Front Windshield', 'Compact Spare Tire Mounted Inside Under Cargo', 'Deep Tinted Glass', 'DIAMOND BLACK CRYSTAL PEARLCOAT']\"\n",
      " \"['Android Auto', 'Antilock Brakes', 'Apple CarPlay', 'Automatic Emergency Braking', 'Auxiliary Input', 'Backup Camera', 'Blind Spot Monitor', 'Bluetooth']\"\n",
      " \"['Alloy Wheels', 'Antilock Brakes', 'Audio Controls On Steering Wheel', 'Auto-dim', 'Auto-dimming Rear-View mirror', 'Automatic temperature control', 'Auxiliary Input', 'Backup Camera']\"\n",
      " \"['4-Wheel Disc Brakes', 'ABS', 'Aluminum Wheels', 'AM/FM Stereo', 'AUDIO SYSTEM FEATUREBOSE STUDIO SURROUND SOUND 14-SPEAKER SYSTEMwith surround amplifier', 'Automatic Headlights', 'Auxiliary Audio Input', 'CADILLAC CUE INFORMATION AND MEDIA CONTROL SYSTEM WITH EMBEDDED NAVIGATIONAM/FM STEREOwith 8 diagonal color information displayfour USB portstwo auxiliary power outletsauxiliary input jackNatural Voice Recognition and Phone Integration for Apple CarPlay and Android Auto capability for compatible phone']\"\n",
      " \"['Antilock Brakes', 'Audio Controls On Steering Wheel', 'Auto Leveling Headlights', 'Auxiliary Input', 'Backup Camera', 'Bluetooth', 'Body-Colored Front Bumper w/Gray Rub Strip/Fascia Accent$COMMA Chrome Bumper Insert and 2 Tow Hooks,8.4 Touchscreen Display', 'Brake Assist']\"\n",
      " \"['Air Conditioning', 'Alloy Wheels', 'Alloy Wheels', 'AM/FM RADIO', 'Antilock Brakes', 'Audio Controls On Steering Wheel', 'Auxiliary Input', 'Backup Camera']\"\n",
      " \"['Android Auto', 'Antilock Brakes', 'Apple CarPlay', 'Auxiliary Input', 'Backup Camera', 'Blind Spot Monitor', 'Bluetooth', 'Brake Assist']\"\n",
      " \"['ABS brakes', 'Adaptive suspension', 'Air Conditioning', 'AM/FM radio: SiriusXM', 'Anti-whiplash front head restraints', 'Audio memory', 'Auto High-beam Headlights', 'Auto-dimming door mirrors']\"\n",
      " \"['3.45 REAR AXLE RATIO(STD)', '4-Wheel Disc Brakes', 'ABS', 'Air Suspension', 'Aluminum Wheels', 'AM/FM Stereo', 'Automatic Headlights', 'Auxiliary Audio Input']\"\n",
      " \"['A/C,8-Speed A/T,4x4,4-Wheel Disc Brakes,4-Wheel ABS', 'Adjustable Steering Wheel', 'Alloy Wheels', 'ALTITUDE III PACKAGE,', 'Aluminum Wheels', 'AM/FM Stereo', 'Antilock Brakes', 'Audio Controls On Steering Wheel']\"\n",
      " \"['20 Inch Alloy Wheels', '3.6L V6 MPI Engine', 'Automatic Transmission w/Steering Wheel Mounted Paddle Shifters', 'Blind Spot and Cross Path Detection', 'Bluetooth', 'Cruise Control', 'Driver Seat Memory Settings', 'Dual-Zone Automatic Climate Control']\"\n",
      " \"['3.45 REAR AXLE RATIO(STD)', '4-Wheel Disc Brakes', '9 AMPLIFIED SPEAKERS W/SUBWOOFER', 'ABS', 'Adjustable Steering Wheel', 'Aluminum Wheels', 'AM/FM Stereo', 'Auto-Dimming Rearview Mirror']\"\n",
      " \"['4-Wheel Disc Brakes', 'ABS', 'Active Suspension', 'Adjustable Steering Wheel', 'Air filtercabin', 'All Wheel Drive', 'Aluminum Wheels', 'AM/FM Stereo']\"\n",
      " \"['ABS Brakes', 'Adjustable Foot Pedals', 'Air Conditioning', 'Alloy Wheels', 'AM/FM', 'AM/FM Radio', 'Anti-Lock Brakes', 'Antilock Brakes']\"\n",
      " \"['4-Wheel Disc Brakes', 'ABS', 'Aluminum Wheels', 'AM/FM Stereo', 'AUDIO SYSTEM FEATUREBOSE STUDIO SURROUND SOUND 14-SPEAKER SYSTEMwith surround amplifier', 'Automatic Headlights', 'Auxiliary Audio Input', 'Bluetooth Connection']\"\n",
      " \"['a/c,8-speed a/t,4-wheel disc brakes,4-wheel abs,2nd row bench seat', 'a/t', 'adjustable steering wheel', 'alarm', 'aluminum wheels', 'am/fm stereo', 'Antilock Brakes', 'Audio Controls On Steering Wheel']\"\n",
      " \"['3.45 REAR AXLE RATIO...', 'ENGINE: 3.6L V6 24V .....', 'LT FROST BEIGE/BLACKHEATED PREMIUM LEATHER TRIMMED BUCKET SEATS...', 'POWER SUNROOF.......', 'RADIO: UCONNECT 8.4 NAVIGATION..SiriusXM Travel LinkHD RadioGPS NavigationUconnect Access8.4 Touchscreen DisplayRoadside Assistance &amp; 9-1-1 CallIntegrated Voice Command w/BluetoothSIRIUSXM Traffic.....', 'TRANSMISSION: 8-SPEED AUTOMATIC ...']\"\n",
      " \"['4-Wheel Disc Brakes', 'ABS', 'Adjustable Steering Wheel', 'All Wheel Drive', 'Aluminum Wheels', 'AM/FM Stereo', 'AUDIO SYSTEM FEATUREBOSE STUDIO SURROUND SOUND 14-SPEAKER SYSTEMwith surround amplifier', 'Automatic Headlights']\"\n",
      " \"['3.09 REAR AXLE RATIO', '4-Wheel Disc Brakes', 'ABS', 'Adju', 'Air Suspension', 'Aluminum Wheels', 'AM/FM Stereo', 'Automatic Headlights']\"\n",
      " \"['**low low miles**,', '**new car trade**', '**one owner**', 'abs brakes,8 speakers,4-wheel independent suspension,4-wheel disc brakes,3.20 axle ratio', 'air conditioning', 'am/fm radio: siriusxm', 'Android Auto', 'Antilock Brakes']\"\n",
      " \"['AC Outlet', 'Adaptive Cruise Control', 'Air Conditioning', 'Alloy Wheels', 'Alloy Wheels', 'AM/FM Stereo Radio', 'Anti-Lock Braking System', 'Antilock Brakes']\"\n",
      " \"['ABS brakes', 'Air Conditioning', 'AM/FM radio: SiriusXM', 'Anti-whiplash front head restraints', 'Audio memory', 'Auto-dimming door mirrors', 'Auto-Dimming Exterior Passenger Mirror', 'Auto-dimming Rear-View mirror']\"\n",
      " \"['4-Wheel Disc Brakes', 'ABS', 'Active Suspension', 'ADAPTIVE CRUISE CONTROL-ADVANCED', 'Aluminum Wheels', 'AM/FM Stereo', 'Automatic Headlights', 'AUTOMATIC PARKING ASSISTincludes frontrearlateral-front parking assist and semi-automatic steering']\"\n",
      " \"['3.09 REAR AXLE RATIO', '4-Wheel Disc Brakes', 'ABS', 'Adjustable Steering Wheel', 'Air Suspension', 'Aluminum Wheels', 'AM/FM Stereo', 'Auto-Dimming Rearview Mirror']\"\n",
      " \"['4-Wheel Disc Brakes', 'ABS', 'Active Suspension', 'Adjustable Steering Wheel', 'Aluminum Wheels', 'AM/FM Stereo', 'Auto-Dimmin', 'Automatic Headlights']\"\n",
      " \"['Adaptive Remote Start', 'Air ventsrear (Deleted when (CJ4) tri-zone automatic climate control is ordered.)', 'Audio system featureBose premium 8-speaker system (Upgradeable to (UQS) Bose Studio Surround Sound 14-speaker system.)', 'Climate controldual-zone automatic with individual climate settings for driver and front passenger (Upgradeable to (CJ4) tri-zone automatic climate control.)', 'Cruise controlelectronic with set and resume speed', 'Defoggerrear-window electric with front and side window outlets for the driver and right-front passenger', 'Door handlesbody-color with chrome strip', 'Door lockspower programmable includes lockout protection and delayed locking']\"\n",
      " \"['All Wheel Drive', 'Android Auto', 'Antilock Brakes', 'Apple CarPlay', 'Auxiliary Input', 'Backup Camera', 'Blind Spot Monitor', 'bumpers: b']\"\n",
      " \"['Al', 'Alloy Wheels', 'AM/FM Stereo', 'Android Auto', 'Antilock Brakes', 'Apple CarPlay', 'Audio Controls On Steering Wheel', 'Auto Leveling Headlights']\"\n",
      " \"['4-Wheel Disc Brakes', 'ABS', 'Active Suspension', 'Aluminum Wheels', 'AUTOMATIC COLLISION BRAKING', 'Automatic Headlights', 'AUTOMATIC PARKING ASSISTincludes frontrearlateral-front parking assist and semi-automatic steering', 'AUTOMATIC SAFETY BELT TIGHTENING']\"\n",
      " \"['4-Wheel Disc Brakes', 'ABS', 'Active Suspension', 'Adjustable Steering Wheel', 'All Wheel Drive', 'ALTERNATOR170 AMPS', 'Aluminum Wheels', 'AM/FM Stereo']\"\n",
      " \"['Adaptive Cruise Control', 'Antilock Brakes', 'Audio Controls On Steering Wheel', 'Auto Leveling Headlights', 'Auxiliary Input', 'Backup Camera', 'Bluetooth', 'Brake Assist']\"\n",
      " \"['abs brakes', 'air conditioned seats', 'air conditioning', 'All Wheel Drive', 'Alloy Wheels', 'am/fm', 'Android Auto', 'Antilock Brakes']\"\n",
      " \"['Alloy Wheels', 'Antilock Brakes', 'Audio Controls On Steering Wheel', 'Auto-dimming R', 'Automatic temperature control', 'Auxiliary Input', 'Backup Camera', 'Bluetooth']\"\n",
      " \"['Adaptive Cruise Control', 'Antilock Brakes', 'Audio Controls On Steering Wheel', 'Automatic Emergency Braking', 'Auxiliary Input', 'Backup Camera', 'Bluetooth', 'Brake Assist']\"\n",
      " \"['abs brakes', 'air conditioned seats', 'air conditioning', 'am/fm', 'Android Auto', 'Antilock Brakes', 'Apple CarPlay', 'Automatic Emergency Braking']\"\n",
      " \"['ABS', 'Active Suspension', 'Aluminum Wheels', 'Auto-Dimming Rearview Mirror', 'Automatic Headlights', 'Auxiliary Audio Input', 'Back-Up Camera', 'Blind Spot Monitor']\"\n",
      " \"['4-Wheel Disc Brakes', 'ABS', 'All Wheel Drive', 'Aluminum Wheels', 'AM/FM Stereo', 'AUDIO SYSTEM FEATUREBOSE STUDIO SURROUND SOUND 14-SPEAKER SYSTEMwith surround amplifier', 'Automatic Headlights', 'Auxiliary Audio Input']\"\n",
      " \"['4-Wheel Disc Brakes', 'ABS', 'Adjustable Steering Wheel', 'All Wheel Drive', 'Aluminum Wheels', 'AM/FM Stereo', 'AUDIO SYSTEM FEATUREBOSE STUDIO SURROUND SOUND 14-SPEAKER SYSTEMwith surround amplifier', 'Auto-Dimming']\"\n",
      " \"['abs brakes', 'air conditioning', 'All Wheel Drive', 'am/fm', 'Android Auto', 'Antilock Brakes', 'Apple CarPlay', 'Auxiliary Input']\"\n",
      " \"['Alloy Wheels', 'Antilock Brakes', 'Audio Controls On Steering Wheel', 'Auto-dimming Rear-V', 'Automatic temperature control', 'Auxiliary Input', 'Backup Camera', 'Bluetooth']\"\n",
      " \"['3.45 REAR AXLE RATIO(STD)', 'Alloy Wheels', 'AM/FM Stereo', 'Auto Climate Control', 'Automatic Headlights', 'Black Grille w/Metal-Look Accents', 'Black Side Windows Trim and Black Front Windshield Trim', 'Bluetooth Connection']\"\n",
      " \"['A/C Front', 'Adaptive Cruise Control', 'Adaptive Cruise Control', 'All Wheel Drive', 'Alloy Wheels', 'Alloy Wheels', 'AM/FM Stereo', 'Anti-Lock Brakes']\"\n",
      " \"['12v Power Outlet', 'ABS Brakes', 'Air Conditioning', 'AM/FM', 'Antilock Brakes', 'Audio Controls On Steering Wheel', 'Aux. Audio Input', 'Auxiliary Input']\"\n",
      " \"['Antilock Brakes', 'Audio Controls On Steering Wheel', 'Auxiliary Input', 'Backup Camera', 'Bluetooth', 'Child Safety Locks', 'Cooled Driver Seat', 'Dua']\"\n",
      " \"['Antilock Brakes', 'Audio Controls On Steering Wheel', 'Auxiliary Input', 'Backup Camera', 'Bluetooth', 'Brake Assist', 'Child Safety Locks', 'Chrome Power w/Tilt Down Heated Side Mirrors w/Driver Auto Dimming$COMMA Manual Folding and Turn Signal Indicator']\"\n",
      " \"['3.45 rear axle ratio', '60-40 Folding Split-Bench Front Facing Heated Manual Reclining Fold Forward Seatback Leather Rear Seat', '9 amplified speakers w/subwoofer ($595.00 Value When New)Chrome Power w/Tilt Down Heated Side Mirrors w/Driver Auto DimmingManual Folding and Turn Signal Indicator', 'Engine: 3.6l v6 24v vvt upg i w/ess', 'Fixed Rear Window w/Fixed Interval WiperHeated Wiper Park and Defroster', 'Granite crystal metallic clearcoat', 'Gvwr: 6 500 lbs', 'Heated Leather/Metal-Look Steering Wheel']\"\n",
      " \"['ABS BRAKES', 'AIR CONDITIONED SEATS', 'AIR CONDITIONING', 'All Wheel Drive', 'AM/FM', 'Android Auto', 'Antilock Brakes', 'Apple CarPlay']\"\n",
      " \"['Anti-whipl', 'Antilock Brakes', 'Audio Controls On Steering Wheel', 'Audio memory', 'Auto-dimming door mirrors', 'Auto-dimming Rear-View mirror', 'Automatic temperature control', 'Auxiliary Input']\"\n",
      " \"['A/C,4-Wheel Disc Brakes,4-Wheel ABS', 'Adjustable Steering Wheel', 'Air Suspension', 'Alloy Wheels', 'Aluminum Wheels', 'AM/FM Stereo', 'Antilock Brakes', 'Audio Controls On Steering Wheel']\"\n",
      " \"['4-Wheel Disc Brakes', 'ABS', 'Adjustable Steering Wheel', 'Aluminum Wheels', 'AM/FM Stereo', 'Automatic Headlights', 'Auxiliary Audio Input', 'BLACKCLOTH LOW BACK BUCKET SEATS']\"\n",
      " \"['18 WHEEL &amp; 8.4 RADIO GROUP-inc: Nav-Capable! See Dealer for DetailsWheels: 18 x 8.0 Satin Silver AluminumTires: P265/60R18 BSW AS All TerrainRear View Auto Dim MirrorUconnect Access6 Month Trial (Registration Required)For Details Visit DriveUconnect.com8.4 Touchscreen DisplayRoadside Assistance &amp; 9-1-1 CallInstrument Cluster w/Off-Road DispPagesRadio: Uconnect 3C w/8.4 DisplaySiriusXM Satellite RadioFor More InfoCall 800-643-21121-Year SiriusXM Radio Service', '4-Wheel Disc Brakes', 'ABS', 'Adjustable Steering Wheel', 'Aluminum Wheels', 'AM/FM Stereo', 'Automatic Headlights', 'Auxiliary Audio Input']\"\n",
      " \"['Antilock Brakes', 'Audio Controls On Steering Wheel', 'Auto Leveling Headlights', 'auto transmission w/manual', 'auto-off headlights', 'Auxiliary Input', 'Backup Camera', 'Bluetooth']\"\n",
      " \"['3.45 REAR AXLE RATIO', '4-Wheel Disc Brakes', 'ABS', 'Air Suspension', 'AM/FM Stereo', 'Automatic Headlights', 'Auxiliary Audio Input', 'BLACKNAPPA LEATHER TRIMMED BUCKET SEATS-inc: #5 Seat Foam Cushion']\"\n",
      " \"['ABS brakes,6 Speakers,4WD,4-Wheel Disc Brakes,3.45 Rear Axle Ratio,18 x 8.0 Aluminum Wheels,18 Wheel &amp; 8.4 Radio Gr', 'Air Conditioning', 'Alloy Wheels', 'Alloy wheels', 'AM/FM radio', 'Anti-whiplash front head restraints', 'Antilock Brakes', 'AT DIXON FORD VW']\"\n",
      " \"['3.45 REAR AXLE RATIO(STD)', '4-Wheel Disc Brakes', '9 AMPLIFIED SPEAKERS W/SUBWOOFER', 'ABS', 'Aluminum Wheels', 'AM/FM Stere', 'Automatic Headlights', 'BLACKLEATHER TRIMMED SEATS W/PERFORATED INSERTS']\"\n",
      " \"['3.45 REAR AXLE RATIO...', 'BLACKPREMIUM LEATHER TRIMMED HEATEDBUCKET SEATS.....', 'NORMAL DUTY SUSPENSION ......', 'ParkSense Rear Parking Sensors......', 'ParkView BACK-UP CAMERA.......', 'POWER SUNROOF.......', 'QUICK ORDER PACKAGE 23H-inc: Engine: 3.6L V6Transmission: 8-Speed Automatic...', 'RADIO: UCONNECT 3C W/8.4 DISPLAY....NAVIGATION..... 8.4 Touchscreen DisplayRoadside Assistance &amp; 9-1-1 CallIntegrated Voice Command w/Bluetooth.......']\"\n",
      " \"['Air bagPassenger Sensing System (Always use safety belts and child restraints. Children are safer when properly secured in a rear seat in the appropriate child restraint. See the Owner&#x27;s Manual for more information.)', 'Air bagsdriver and front passenger frontal (dual stage for passenger)front and rear head curtaindriver side knee (Always use safety belts and child restraints. Children are safer when properly secured in a rear seat in the appropriate child restraint. See the Owner&#x27;s Manual for more information.)', 'Daytime Running LampsLED', 'Door locksrear child security', 'Electric Parking Brake', 'Front and Rear Park Assist', 'Horndual note tone', 'OnStar Basic Plan for 5 years includes limited vehicle mobile app featuresMonthly Diagnostics Report and Dealer Maintenance Notification (Basic Plan available for 5 years from the date of vehicle delivery and is transferable. Does not include EmergencySecurity or Navigation services.)']\"\n",
      " \"['Air Conditioned Seats,4x4', 'Air Conditioning', 'Alarm System', 'Alloy Wheels', 'Alloy Wheels', 'AM/FM', 'Anti-Lock Brakes', 'Antilock Brakes']\"\n",
      " \"['2 LCD Monitors In The Front', '2 Seatback Storage Pockets', '3 12V DC Power Outlets', '4-Way Driver Seat -inc: Manual Recline and Fore/Aft Movement', '4-Way Passenger Seat -inc: Manual ReclineFore/Aft Movement and Fold Flat', '6 Speakers', '60-40 Folding Split-Bench Front Facing Manual Reclining Fold Forward Seatback Cloth Rear Seat', 'Cargo Area Concealed Storage']\"\n",
      " \"['adjustable steering wheel,8-speed a/t,4-wheel disc brakes,4-wheel abs', 'Alloy Wheels', 'aluminum wheels', 'am/fm stereo', 'Android Auto', 'Antilock Brakes', 'Apple CarPlay', 'auto-off headlights']\"\n",
      " \"['Airbag Occupancy Sensor', 'Back-Up Camera', 'Curtain 1st And 2nd Row Airbags', 'Driver Knee Airbag', 'Dual Stage Driver And Passenger Front Airbags', 'Dual Stage Driver And Passenger Seat-Mounted Side Airbags', 'Electronic Stability Control (ESC) And Roll Stability Control (RSC)', 'Outboard Front Lap And Shoulder Safety Belts -inc: Rear Center 3 PointHeight Adjusters and Pretensioners']\"\n",
      " \"['Antilock Brakes', 'Audio Controls On Steering Wheel', 'Auxiliary Input', 'Backup Camera', 'Bluetooth', 'Child Safety Locks', 'Cooled Driver Seat', 'Dual Climate Control']\"\n",
      " \"['4-Wheel Disc Brakes', 'ABS', 'Active Suspension', 'Adjustable Steering Wheel', 'Aluminum Wheels', 'AM/FM Stereo', 'Auto-', 'Automatic Headlights']\"\n",
      " \"['ABS BRAKES', 'AIR CONDITIONING', 'AM/FM', 'Android Auto', 'Antilock Brakes', 'Apple CarPlay', 'Auxiliary Input', 'Backup Camera']\"\n",
      " \"['abs brakes,4-wheel disc brakes', 'air conditioning', 'alloy wheels', 'am/fm radio: siriusxm', 'anti-whiplash front head restraints', 'Antilock Brakes', 'Audio Controls On Steering Wheel', 'audio memory']\"\n",
      " \"['ABS brakes,6 Speakers,4-Wheel Disc Brakes,3.45 Rear Axle Ratio', 'Air Conditioning', 'Alloy Wheels', 'Alloy wheels', 'AM/FM radio', 'Anti-whiplash front head restraints', 'Antilock Brakes', 'Audio Controls On Steering Wheel']\"\n",
      " \"['ABS (4-WHEEL)', 'AIR BAGS (SIDE): FRONT', 'AIR BAGS: DUAL FRONT', 'AIR BAGS: F&amp;R HEAD CURTAIN', 'AIR BAGS: KNEE', 'AIR CONDITIONING', 'AIR CONDITIONING: REAR', 'Alloy Wheels']\"\n",
      " \"['18 WHEEL &amp; 8.4 RADIO GROUP-inc: Nav-Capable! See Dealer for DetailsRear View Auto Dim Mirror w/MicrophoneHigh Pressure Tires TrackingTires: P265/60R18 BSW AS On/Off Road LRUconnect Access (subscription required)For Details Visit DriveUconnect.com8.4 Touchscreen DisplayRoadside Assistance &amp; 9-1-1 CallWheels: 18 x 8.0 AluminumRadio: Uconnect 8.4', '4-Wheel Disc Brakes', 'ABS', 'Adjustable Steering Wheel', 'ALL WEATHER CAPABILITY GROUP-inc: Quadra-Trac II 4WD SystemEngine Block HeaterHeated Front SeatsMOPAR Slush MatsHill Descent ControlMOPAR Cargo Area LinerRemote Start SystemTow HooksHeated Steering WheelSelec-Terrain System', 'Aluminum Wheels', 'AM/FM Stereo', 'Automatic Headlights']\"\n",
      " \"['18 Inch Alloy Wheels', '3.6L V6 Engine', 'Audio Steering Wheel Controls', 'Automatic Climate Control', 'Cruise Control', 'Driver Seat Memory', 'HD Radio', 'Heated Front Seats']\"\n",
      " \"['3.09 REAR AXLE RATIO', '4-Wheel Disc Brakes', 'ABS', 'Adjustable Steering Wheel', 'Aluminum Wheels', 'AM/FM Stereo', 'Automatic Headlights', 'Auxiliary Audio Input']\"\n",
      " \"['3.45 REAR AXLE RATIO', '75TH ANNIVERSARY LUXURY GROUP-inc: Ventilated Front SeatsNav-Capable! See Dealer for DetailsBi-Xenon HID HeadlampsAuto High Beam Headlamp ControlRear Accent/Body Color FasciaRain Sensitive Wind', '9 AMPLIFIED SPEAKERS W/SUBWOOFER', 'ENGINE: 3.6L V6 24V VVT UPG I W/ESS', 'GVWR: 6 500 LBS', 'JEEP ACTIVE SAFETY GROUP-inc: Lane Departure Warning PlusParallel &amp; Perp Park Assist w/StopRain Sensitive Windshield WipersAdvanced Brake AssistFull Speed FWD Collision Warn PlusAdaptive Cruise Control w/Stop', 'LT FROST BEIGE/BLACKLEATHER TRIMMED SEATS W/PERFORATED INSERTS (AM)', 'MANUFACTURER&#x27;S STATEMENT OF ORIGIN']\"\n",
      " \"['ABS BRAKES', 'ADAPTIVE SUSPENSION', 'AIR CONDITIONING', 'All Wheel Drive', 'AM/FM RADIO: SIRIUSXM', 'Android Auto', 'Antilock Brakes', 'Apple CarPlay']\"\n",
      " \"['3.45 REAR AXLE RATIO(STD)', '4-Wheel Disc Brakes', '9 AMPLIFIED SPEAKERS W/SUBWOOFER', 'ABS', 'Aluminum Wheels', 'Brake Assist', 'BRIGHT WHITE CLEARCOAT', 'ENGINE: 3.6L V6 24V VVT UPG I W/ESS(STD)']\"\n",
      " \"['Air Conditioning - Air Filtration', 'Air Conditioning - Front - Automatic Climate Control', 'Air Conditioning - Front - Dual Zones', 'Airbags - Passenger - Occupant Sensing Deac', 'Audio - Antenna: Diversity', 'Audio - Antenna: Mast', 'Audio Auxiliary Input: IPod/IPhone Integration', 'Audio Auxiliary Input: Jack']\"\n",
      " \"['18 Inch Alloy Wheels', '3.6L V6 MPI Engine', 'Automatic Transmission w/Steering Wheel Mounted Paddle Shifters', 'Blind Spot and Cross Path Detection', 'Bluetooth', 'Cruise Control', 'Driver Seat Memory Settings', 'Dual-Zone Automatic Climate Control']\"\n",
      " \"['ABS brakes', 'Air Conditioning', 'AM/FM radio: SiriusXM', 'Auto-dimming door mirrors', 'Auto-dimming Rear-View mirror', 'Automatic Dual-Zone Climate Control', 'Automatic temperature control', 'Blind spot sensor: Lane Change Alert with Side Blind Zone Alert warning']\"\n",
      " \"['Alloy Wheels', 'Audio Controls On Steering Wheel', 'Auto Leveling Headlights', 'Auxiliary Input', 'Backup Camera', 'Bluetooth', 'Brake Assist', 'Child Safety Locks']\"\n",
      " \"['Anti-whiplash front head restrai', 'Antilock Brakes', 'Audio Controls On Steering Wheel', 'Audio memory', 'Auto-dimming door mirrors', 'Auto-dimming Rear-View mirror', 'Automatic temperature control', 'Auxiliary Input']\"\n",
      " \"['Adaptive Cruise Control', 'All Wheel Drive', 'Android Auto', 'Antilock Brakes', 'Apple CarPlay', 'Auxiliary Input', 'Backup Camera', 'Blind Spot Monitor']\"\n",
      " \"['**Clean CarFax Record**', '**U-Connect**', 'ABS brakes,6 Speakers,4-Wheel Disc Brakes,3.45 Rear Axle Ratio,17in x 8.0in Aluminum Wheels', 'Air Conditioning', 'Alloy Wheels', 'AM/FM radio', 'Anti-whiplash front head restraints', 'Antilock Brakes']\"\n",
      " \"['Antilock Brakes', 'Audio Controls On Steering Wheel', 'Auxiliary Input', 'Backup Camera', 'BLACK CLOTH LOW BACK BUCKET SEATS', 'Bluetooth', 'Brake Assist', 'Bright Side Roof Rails']\"\n",
      " \"['Antilock Brakes', 'Audio Controls On Steering Wheel', 'Automati', 'Auxiliary Input', 'Backup Camera', 'Bluetooth', 'Brake Assist', 'Brake assist']\"\n",
      " \"['4-Wheel Disc Brakes', 'ABS', 'Aluminum Wheels', 'AM/FM Stereo', 'AUDIO SYSTEM FEATUREBOSE STUDIO SURROUND SOUND 14-SPEAKER SYSTEMwith surround amplifier', 'Automatic Headlights', 'Auxiliary Audio Input', 'CADILLAC USER EXPERIENCE WITH EMBEDDED NAVIGATIONAM/FM STEREOwith 8 diagonal color information displayfour USB portstwo auxiliary power outletsauxiliary input jackNatural Voice Recognition and Phone Integration for Apple CarPlay and Android Auto capability for compatible phone']\"\n",
      " \"['Alloy Wheels', 'Antilock Brakes', 'Audio Controls On Steering Wheel', 'Aut', 'Automatic temperature control', 'Auxiliary Input', 'AVAILABLE AT RHINELANDER CHRYSLER', 'Bluetooth']\"\n",
      " \"['4-Wheel Disc Brakes', 'ABS', 'Active Suspension', 'Adjustable Steering Wheel', 'Aluminum Wheels', 'AM/FM Stereo', 'Auto-D', 'Automatic Headlights']\"\n",
      " \"['ABS Brakes,4x4', 'Air Conditioning', 'Alloy Wheels', 'AM/FM', 'Android Auto', 'Anti-Lock Brakes', 'Antilock Brakes', 'Apple CarPlay']\"\n",
      " \"['3.45 REAR AXLE RATIO(STD)', '9 AMPLIFIED SPEAKERS W/SUBWOOFER', 'BLIND SPOT &amp; CROSS PATH DETECTION-inc: Auto Dim Exterior Passenger Mirror', 'DEEP CHERRY RED CRYSTAL PEARLCOAT', 'ENGINE: 3.6L V6 24V VVT(STD)', 'GVWR: 6 500 LBS(STD)', 'LT FROST BEIGE/BLACKLEATHER TRIMMED SEATS W/PERFORATED INSERTS', 'Luggage Rack']\"\n",
      " \"['Alloy Wheels', 'Antilock Brakes', 'Audio Controls On Steering Wheel', 'Auxiliary Input', 'Backup Camera', 'Bluetooth', 'Body Side Moldings - Body-Color', 'Brake Assist']\"\n",
      " \"['ABS', 'Active Suspension', 'All Wheel Drive', 'Aluminum Wheels', 'Automatic Headlights', 'Auxiliary Audio Input', 'Brake Assist', 'CADILLAC USER EXPERIENCE WITH EMBEDDED NAVIGATIONAM/FM STEREOwith 8 diagonal color information displayfour USB portstwo auxiliary power outletsauxiliary input jackNatural Voice Recognition and Phone Integration for Apple CarPlay and Android Auto capability for compatible phone (STD)']\"\n",
      " \"['All Wheel Drive', 'Alloy Wheels', 'ALLOY WHEELS', 'Android Auto', 'Antilock Brakes', 'Apple CarPlay', 'Auxiliary Input', 'Backup Camera']\"\n",
      " \"['295 hp horsepower', '3.6 liter V6 DOHC engine', '4 Doors', '4-wheel ABS brakes', '4WD Type - Automatic full-time', 'Air conditioning with dual zone climate control', 'Alloy Wheels', 'Android Auto']\"\n",
      " \"['4-Wheel Disc Brakes', 'ABS', 'Adjustable Steering Wheel', 'Air Suspension', 'AM/FM Stereo', 'Auto-Dimming Rearview Mirror', 'Automatic Headlights', 'Auxiliary Audio Input']\"\n",
      " \"['4-Wheel Disc Brakes', 'ABS', 'Active Suspension', 'Adj', 'Aluminum Wheels', 'AM/FM Stereo', 'Automatic Headlights', 'Auxiliary Audio Input']\"\n",
      " \"['Antilock Brakes', 'Audio Controls On Steering Wheel', 'Auto-dimming d', 'Auto-dimming Rear-View mirror', 'Automatic temperature control', 'Auxiliary Input', 'Backup Camera', 'Bluetooth']\"\n",
      " \"['Antilock Brakes', 'Audio Controls On Steering Wheel', 'Auto Leveling Headlights', 'Auto-Off Headligh', 'Auxiliary Input', 'Back-Up Camera', 'Backup Camera', 'Bluetooth']\"\n",
      " \"['19 SPEAKERS HIGH PERFORMANCE AUDIO-inc: 825 Watt Amplifier', '3.45 REAR AXLE RATIO', '4-Wheel Disc Brakes', 'ABS', 'Air Suspension', 'BLACKNAPPA LEATHER TRIMMED BUCKET SEATS-inc: #5 Seat Foam Cushion', 'Conventional Spare Tire', 'Daytime Running Lights']\"\n",
      " \"['ABS Brakes,4x4,4WD/AWD', 'Air Conditioning', 'Alloy Wheels', 'Antilock Brakes', 'Audio Controls On Steering Wheel', 'Automatic Headlights', 'Auxiliary Input', 'Bluetooth']\"\n",
      " \"['Adaptive Remote Start', 'Audio system featureBose premium 8-speaker system (Upgradeable to (UQS) Bose Studio Surround Sound 14-speaker system.)', 'Climate controldual-zone automatic with individual climate settings for driver and front passenger (Upgradeable to (CJ4) tri-zone automatic climate control.)', 'Cruise controlelectronic with set and resume speed', 'Defoggerrear-window electric with front and side window outlets for the driver and right-front passenger', 'Door lockspower programmable includes lockout protection and delayed locking', 'Headlampsautomatic on/off', 'Headlampshalogen']\"\n",
      " \"['Backup Camera', 'Black Leather trimmed seats w/perforated inserts,9 amplified speakers w/subwoofer ($595.00 Value When New)Chrome Power w/Tilt Down Heated Side', 'Bluetooth', 'Brake Assist', 'Engine: 3.6l v6 24v vvt upg i w/ess', 'Fixed Rear Window w/Fixed Interval Wiper Heated Wiper Park and Defroster', 'Granite crystal metallic clearcoat', 'Gvwr: 6 500 lbs']\"\n",
      " \"['ABS brakes,4-Wheel Disc Brakes,18in x 8.0', 'Air Conditioning', 'AM/FM radio: SiriusXM', 'Anti-whiplash front head restraints', 'Antilock Brakes', 'Audio Controls On Steering Wheel', 'Audio memory', 'Auto-dimming door mirrors']\"\n",
      " \"['A/C,8-SPEED A/T,4-WHEEL DISC BRAKES,4-WHEEL ABS', 'ADJUSTABLE STEERING WHEEL', 'Alloy Wheels', 'ALUMINUM WHEELS', 'AM/FM STEREO', 'Android Auto', 'Antilock Brakes', 'Apple CarPlay']\"\n",
      " \"['active suspension system,8-speed a/t,4-wheel disc brakes,4-wheel abs', 'Adaptive Cruise Control', 'adaptive cruise control', 'adjustable steering wheel', 'All Wheel Drive', 'Alloy Wheels', 'alloy wheels', 'am/fm stereo']\"\n",
      " \"['295 hp horsepower', '3.6 liter V6 DOHC engine', '4 Doors', '4-wheel ABS brakes', '4WD Type - Automatic full-time', '4X4', 'Air conditioning with dual zone climate control', 'Alloy Wheels']\"\n",
      " \"['ABS brakes,4-Wheel Disc Brakes', 'Air Conditioning', 'AM/FM radio', 'Android Auto', 'Anti-whiplash front head restraints', 'Antilock Brakes', 'Apple CarPlay', 'Audio Controls On Steering Wheel']\"\n",
      " \"['ABS brakes', 'Air Conditioning', 'AM/FM radio: SiriusXM', 'Anti-whiplash front head restraints', 'Audio memory', 'Auto-dimming door mirrors', 'Auto-Dimming Exterior Passenger Mirror', 'Auto-dimming Rear-View mirror,10 Speakers']\"\n",
      " \"['Alloy Wheels', 'Android Auto', 'Antilock Brakes', 'Apple CarPlay', 'Audio Controls On Steering Wheel', 'Auxiliary Input', 'Backup Camera', 'Blind Spot Monitor']\"\n",
      " \"['ABS brakes', 'Air Conditioning', 'Alloy wheels', 'Altitude IV Package', 'AM/FM radio', 'Anti-whiplash front head restraints', 'Apple CarPlay', 'Automatic temperature control']\"\n",
      " \"['ABS brakes', 'Air Conditioning', 'AM/FM radio: SiriusXM', 'Auto-dimming door mirrors', 'Auto-dimming Rear-View mirror', 'Automatic Dual-Zone Climate Control', 'Automatic temperature control', 'Blind spot sensor: warning']\"\n",
      " \"['ABS Brakes', 'Air Conditioning', 'AM/FM', 'Antilock Brakes', 'Audio Controls On Steering Wheel', 'Auxiliary Input', 'Backup Camera', 'Bluetooth']\"\n",
      " \"['Adjustable Steeri', 'Aluminum Wheels', 'AM/FM Stereo', 'Antilock Brakes', 'Audio Controls On Steering Wheel', 'Auto-Dimming Rearview Mirror', 'Automatic Headlights', 'Auxiliary Audio Input']\"\n",
      " \"['Antilock Brakes', 'Audio Controls On Steering Wheel', 'Auxiliary Input', 'Backup Camera', 'Bluetooth', 'Brake assi', 'Brake Assist', 'Bumpers: body-color']\"\n",
      " \"['290 hp horsepower', '3.6 liter V6 DOHC engine', '4 Doors', '4-wheel ABS brakes', '4WD Type - Automatic full-time', '4X4', 'Air conditioning with dual zone climate control', 'Alloy Wheels']\"\n",
      " \"['4-Wheel Disc Brakes', 'ABS', 'Active Suspension', 'Adjustable Steering Wheel', 'All Wheel Drive', 'Aluminum Wheels', 'AM/FM Stereo', 'Auto-Dimm']\"\n",
      " \"['2 Seatback Storage Pockets', '4-Wheel Disc Brakes', '6 Speakers', 'ABS', 'Adjustable Steering Wheel', 'Aluminum Wheels', 'AM/FM Stereo', 'Apple CarPlay']\"\n",
      " \"['ABS brakes,4-Wheel Disc Brakes,17in x 8.0in Aluminum Wheels,1-Yr. SIRIUSXM Radio Service', 'Air Conditioning', 'Alloy Wheels', 'AM/FM radio', 'Anti-whiplash front head restraints', 'Antilock Brakes', 'Audio Controls On Steering Wheel', 'Automatic temperature control']\"\n",
      " \"['Antilock Brakes', 'Audio Controls On Steering Wheel', 'Auxiliary Input', 'Bluetooth', 'Brake Assist', 'Brake Assist and Hill Hol', 'Cargo Area Concealed Storage', 'Cargo Features -inc: Cargo Tray/Organizer']\"\n",
      " \"['3.45 REAR AXLE RATIO(STD)', '4-Wheel Disc Brakes', 'A/C', 'ABS', 'Adjustable Steering Wheel', 'Aluminum Wheels', 'AM/FM Stereo', 'Auto-Dimming Rearview Mirror']\"\n",
      " \"['4-Wheel Disc Brakes', 'ABS', 'All Wheel Drive', 'Aluminum Wheels', 'AUDIO SYSTEM FEATUREBOSE STUDIO SURROUND SOUND 14-SPEAKER SYSTEMwith surround amplifier', 'CADILLAC USER EXPERIENCE WITH EMBEDDED NAVIGATIONAM/FM STEREOwith 8 diagonal color information displayfour USB portstwo auxiliary power outletsauxiliary input jackNatural Voice Recognition and Phone Integration for Apple CarPlay and Android Auto capability for compatible phone', 'CARGO NETLATERAL MESH', 'DRIVER AWARENESS PACKAGEincludes (HS1) Safety Alert Seat(UEU) Forward Collision Alert(UE4) Following Distance Indicator(UHX) Lane Keep Assist with Lane Departure Warning(UKJ) Front Pedestrian Braking(UHY) Low Speed Forward Automatic Braking and (TQ5) IntelliBeam']\"\n",
      " \"['3.45 REAR AXLE RATIO (STD)', '4-Wheel Disc Brakes', 'ABS', 'Adjustable Steering Wheel', 'Aluminum Wheels', 'AM/FM Stereo', 'Auto-Dimming Rearview Mirror', 'Automatic Headlights']\"\n",
      " \"['Air Conditioning,4x4', 'AM/FM', 'Android Auto', 'Anti-Lock Brakes', 'Antilock Brakes', 'Apple CarPlay', 'Audio Controls On Steering Wheel', 'Automatic Climate Control']\"\n",
      " \"['4-Wheel Disc Brakes', 'ABS', 'Aluminum Wheels', 'AUDIO SYSTEM FEATUREBOSE STUDIO SURROUND SOUND 14-SPEAKER SYSTEMwith surround amplifier', 'Automatic Headlights', 'CADILLAC USER EXPERIENCE WITH EMBEDDED NAVIGATIONAM/FM STEREOwith 8 diagonal color information displayfour USB portstwo auxiliary power outletsauxiliary input jackNatural Voice Recognition and Phone Integration for Apple CarPlay and Android Auto capability for compatible phone', 'CARGO NETLATERAL MESH', 'CIRRUSLEATHER SEATING SURFACES WITH MINI-PERFORATED INSERTSwith Dark Titanium accents (With Diamond Cut aluminum trim.)']\"\n",
      " \"['3.09 REAR AXLE RATIO', 'Body-Colored Grille w/Chrome Accents', 'Chrome Bodyside InsertRocker Panel Extensions and Body-Colored Fender Flares', 'Chrome Door Handles', 'Chrome Side Windows Trim and Black Front Windshield Trim', 'Clearcoat Paint', 'Deep Tinted Glass', 'ENGINE: 5.7L V8 MDS VVT-inc: Quadra-Drive II 4WD SystemGVWR: 6 800 lbs230MM Rear Axle3.09 Rear Axle Ratio700 Amp Maintenance Free BatteryAnti-Lock 4-Wheel Disc HD BrakesElectronic Limited Slip Differential Rear Axle']\"\n",
      " \"['3.6 LITER V6 DOHC ENGINE', '310 HP HORSEPOWER', '4 DOORS', '4-WHEEL ABS BRAKES', '8-WAY POWER ADJUSTABLE DRIVERS SEAT', 'AIR CONDITIONING WITH DUAL ZONE CLIMATE CONTROL', 'All Wheel Drive', 'ALL-WHEEL DRIVE']\"\n",
      " \"['Adjustable Steering Wheel', 'Air Conditioning', 'AM/FM Stereo', 'Automatic Headlights', 'Brakes ABS', 'Drivetrain Front Wheel Drive', 'Engine Displacement 3.6L/222.6', 'Engine V6 Cylinder Engine']\"\n",
      " \"['Air bagPassenger Sensing System (Always use safety belts and child restraints. Children are safer when properly secured in a rear seat in the appropriate child restraint. See the Owner&#x27;s Manual for more information.)', 'Air bagsdriver and front passenger frontal (dual stage for passenger)front and rear head curtaindriver side knee (Always use safety belts and child restraints. Children are safer when properly secured in a rear seat in the appropriate child restraint. See the Owner&#x27;s Manual for more information.)', 'Daytime Running LampsLED', 'Door locksrear child security', 'Electric Parking Brake', 'Following Distance Indicator', 'Forward Collision Alert', 'Front and Rear Park Assist (Upgradeable to (UFQ) Automatic Parking Assist when (Y66) Driver Assist Package is ordered)']\"\n",
      " \"['a/c,8-speed a/t,4-wheel disc brakes,4-wheel abs', 'adjustable steering wheel', 'aluminum wheels', 'am/fm stereo', 'Android Auto', 'Antilock Brakes', 'Apple CarPlay', 'auto-off headlights']\"\n",
      " \"['A/C Front', 'Alloy Wheels', 'Alloy Wheels', 'AM/FM Stereo', 'Anti-Lock Brakes', 'Antilock Brakes', 'Audio Controls On Steering Wheel', 'Auxiliary Audio Input']\"\n",
      " \"['Air Conditioned Seats,4x4', 'Air Conditioning', 'Alloy Wheels', 'AM/FM', 'Android Auto', 'Antilock Brakes', 'Apple CarPlay', 'Audio Controls On Steering Wheel']\"\n",
      " \"['3.45 REAR AXLE RATIO(STD)', 'Alloy Wheels', 'Auto Climate Control', 'Automatic Headlights', 'BLACKLEATHER TRIM SEATS W/EDGE WELTING', 'Bluetooth Connection', 'Body-Colored Front Bumper w/Black Rub Strip/Fascia AccentChrome Bumper Insert and 2 Tow Hooks', 'Body-Colored Grille w/Chrome Accents']\"\n",
      " \"['Air Conditioning,4x4,20 Inch Wheels', 'Alloy Wheels', 'Alloy Wheels', 'AM/FM', 'Anti-Lock Brakes', 'Antilock Brakes', 'Audio Controls On Steering Wheel', 'Automatic Headlights']\"\n",
      " \"['ABS brakes,6 Speakers,4-Wheel Disc Brakes,3.45 Rear Axle Ratio,17in x 8.0in Aluminum Wheels', 'Alloy Wheels', 'AM/FM radio', 'Anti-whiplash front head restraints', 'Antilock Brakes', 'Audio Controls On Steering Wheel', 'Automatic temperature control', 'Auxiliary Input']\"\n",
      " \"['Air Conditi', 'Alloy wheels', 'AM/FM radio: SiriusXM', 'Anti-whiplash front head restraints', 'Antilock Brakes', 'Audio Controls On Steering Wheel', 'Audio memory', 'Auto-dimming door mirrors']\"\n",
      " \"['18 Inch Alloy Wheels', '3.6L V6 Engine', 'Audio Steering Wheel Controls', 'Automatic Climate Control', 'Bluetooth', 'Cloth Seats', 'Cruise Control', 'Fog Lights']\"\n",
      " \"['Antilock Brakes', 'Audio Controls On Steering Wheel', 'Auto-dimming doo', 'Auto-dimming Rear-View mirror', 'Automatic temperature control', 'Auxiliary Input', 'Backup Camera', 'Bluetooth']\"\n",
      " \"['Android Auto', 'Antilock Brakes', 'Apple CarPlay', 'Auxiliary Input', 'Backup Camera', 'Blind Spot Monitor', 'BLIND SPOT SENSOR', 'Child Safety Locks']\"\n",
      " \"['4-Wheel Disc Brakes', 'ABS', 'ADVANCED SECURITY PACKAGEincludes (N06) locking steering column(NWM) door lock and latch shields(UTR) self-powered Theft-Deterrent Alarm System(UTU) inclination sensor(UTV) vehicle interior movement sensor and (PB4) locking wheel lugs', 'All Wheel Drive', 'Aluminum Wheels', 'AM/', 'AUDIO SYSTEM FEATUREBOSE STUDIO SURROUND SOUND 14-SPEAKER SYSTEMwith surround amplifier', 'Automatic Headlights']\"\n",
      " \"['abs brakes', 'adjustable foot pedals', 'air conditioning', 'All Wheel Drive', 'alloy wheels', 'am/fm radio', 'Android Auto', 'Antilock Brakes']\"\n",
      " \"['18 Inch Alloy Wheels', '3.6L V6 Engine', 'Adaptive Cruise Control w/Stop', 'Android Auto', 'Apple CarPlay', 'Audio Steering Wheel Controls', 'Automatic Climate Control', 'Bluetooth']\"\n",
      " \"['air conditioning,4-wheel disc brakes,12v power outl', 'airbag - driver', 'airbag - passenger', 'All Wheel Drive', 'all wheel drive', 'am/fm radio', 'Android Auto', 'Antilock Brakes']\"\n",
      " \"['Alloy Wheels', 'Android Auto', 'Antilock Brakes', 'Apple CarPlay', 'Auxiliary Input', 'Backup Camera', 'Blind Spot Monitor', 'brake ass']\"\n",
      " \"['ABS (4-Wheel),4WD', 'Adaptive Cruise Control', 'Air Conditioning', 'Alarm System', 'AM/FM/HD Radio', 'Antilock Brakes', 'Audio Controls On Steering Wheel', 'Auto Leveling Headlights']\"\n",
      " \"['Android Auto', 'Antilock Brakes', 'Apple CarPlay', 'Audio Controls On Steering Wheel', 'Automatic', 'Auxiliary Input', 'Backup Camera', 'Bluetooth']\"\n",
      " \"['Alloy Wheels', 'Android Auto', 'Antilock Brakes', 'Apple CarPlay', 'Automatic tem', 'Auxiliary Input', 'Backup Camera', 'Bluetooth']\"\n",
      " \"['Antilock Brakes', 'Audio Controls On Steering Wheel', 'Auxiliary Input', 'Bluetooth', 'Bra', 'Brake Assist', 'Bumpers: body-color', 'Child Safety Locks']\"\n",
      " \"['AC Outlet', 'Air Conditioning', 'Alloy Wheels', 'Alloy Wheels', 'AM/FM Stereo Radio', 'Android Auto', 'Anti-Lock Braking System', 'Antilock Brakes']\"\n",
      " \"['A/C Front', 'All Wheel Drive', 'Alloy Wheels', 'Alloy Wheels', 'AM/FM Stereo', 'Anti-Lock Brakes', 'Antilock Brakes', 'Audio Controls On Steering Wheel']\"\n",
      " \"['4-Wheel Disc Brakes', 'ABS', 'Adjustable Steering Wheel', 'ALTITUDE III PACKAGE-inc: Black Roof MoldingMIC Black BezelsDark Lens TaillampsDelete Laredo Badge', 'Aluminum Wheels', 'AM/FM Stereo', 'Automatic Headlights', 'Auxiliary Audio Input']\"\n",
      " \"['18 STEEL COMPACT SPARE WHEEL', 'BLACKBLACK SUEDE SEATS W/BLACK STITCHING', 'BRIGHT WHITE CLEARCOAT', 'ENGINE: 3.6L V6 24V VVT UPG I W/ESS(STD)', 'FRONT LICENSE PLATE BRACKET', 'Navigation System', 'POWER SUNROOF', 'Power Sunroof']\"\n",
      " \"['18 WHEEL &amp; 8.4 RADIO GROUP -inc: Nav-Capable! See Dealer for Details Rear View Auto Dim Mirror w/Microphone High Pressure Tires Tracking Tires: P265/60R18 BSW AS On/Off Road LR Uconnect Access (subscription required) For Details Visit DriveUconnect.com 8.4 Touchscreen Display Roadside Assistance &amp; 9-1-1 Call Wheels: 18 x 8.0 Aluminum Radio: Uconnect 8.4', '4-Wheel Disc Brakes', 'ABS', 'Adjustable Steering Wheel', 'Aluminum Wheels', 'AM/FM Stereo', 'Automatic Headlights', 'Auxiliary Audio Input']\"\n",
      " \"['9 AMPLIFIED SPEAKERS W/SUBWOOFER -inc: 506 Watt Amplifier', 'BLACK BLACK SUEDE SEATS W/BLACK STITCHING', 'CARGO COMPARTMENT COVER', 'DIAMOND BLACK CRYSTAL PEARLCOAT', 'ENGINE: 3.6L V6 24V VVT UPG I W/ESS (STD)', 'FULL SIZE SPARE TIRE -inc: Steel Spare Wheel', 'Luggage Rack', 'Power Sunroof']\"\n",
      " \"['20 Inch Wheels', '3.6L V6 Engine', '8.4 Touchscreen Display', 'Altitude III Package', 'Audio Steering Wheel Controls', 'Automatic Climate Control', 'Black Leather Suede Seats w/Black Stitching', 'Cruise Control']\"\n",
      " \"['3.6 liter V6 DOHC engine', '4-wheel ABS brakes', 'Adaptive Cruise Control', 'Air conditioning with dual zone climate control', 'Alloy Wheels', 'Antilock Brakes', 'Audio Controls On Steering Wheel', 'Audio controls on steering wheel']\"\n",
      " \"['Anti-whiplash fr', 'Antilock Brakes', 'Audio Controls On Steering Wheel', 'Audio memory', 'Auto-dimming door mirrors', 'Auto-dimming Rear-View mirror', 'Automatic temperature control', 'Auxiliary Input']\"\n",
      " \"['3.45 REAR AXLE RATIO(STD)', 'ABS', 'Air Suspension', 'Aluminum Wheels', 'Auto-Dimming Rearview Mirror', 'Automatic Headlights', 'Auxiliary Audio Input', 'BLACKLEATHER TRIM SEATS W/EDGE WELTING (HA)']\"\n",
      " \"['Air Conditioning', 'Alloy Wheels', 'Antilock Brakes', 'Audio Controls On Steering Wheel', 'Auto Leveling Headlights', 'Automatic Headlights', 'Auxiliary Input', 'Backup Camera']\"\n",
      " \"['Alloy Wheels', 'ALLOY WHEELS,20 WHEELS', 'AM/FM STEREO RADIO', 'Android Auto', 'ANTI THEFT/SECURITY SYSTEM', 'Antilock Brakes', 'Apple CarPlay', 'AUXILIARY AUDIO INPUT']\"\n",
      " \"['3.09 REAR AXLE RATIO', '4-Wheel Disc Brakes', 'ABS', 'Adaptive Cruise Control', 'Adjustable Steering Wheel', 'Air Suspension', 'Aluminum Wheels', 'AM/FM Stereo']\"\n",
      " \"['4-Wheel Disc Brakes', 'ABS', 'Adjustable Steering Wheel', 'Aluminum Wheels', 'AM/FM Stereo', 'Automatic Headlights', 'Auxiliary Audio Input', 'BLACKBLACK SUEDE SEATS W/BLACK STITCHING']\"\n",
      " \"['Alloy Wheels', 'Audio Controls On Steering Wheel', 'Auxiliary Input', 'Backup Camera', 'Bluetooth', 'Brake Assist', 'Child Safety Locks', 'Dual Climate Control']\"\n",
      " \"['AUDIO SYSTEM FEATUREBOSE STUDIO SURROUND SOUND 14-SPEAKER SYSTEMwith surround amplifier', 'CADILLAC CUE INFORMATION AND MEDIA CONTROL SYSTEM WITH EMBEDDED NAVIGATIONAM/FM STEREOwith 8diagonal color information displayfour USB portstwo auxiliary power outletsauxiliary input jackNatural Voice Recognition and Phone Integration for Apple CarPlay and Android Auto capability for compatible phone', 'CARBON PLUMFULL LEATHER SEATS WITH MINI-PERFORATED INSERTSwith Jet Black accents Includes Black Olive Ash Burl wood trim.', 'CLIMATE CONTROLTRI-ZONE AUTOMATICwith individual climate settings for driverright-front passenger and rear passengers (includes rear air vents)', 'DRIVER AWARENESS PACKAGEincludes Safety Alert Seat(UEU) Forward Collision Alert(UE4) Following Distance Indicator(UHX) Lane Keep Assist with Lane Departure Warning(UKJ) front pedestrian detection(UHY) Front Automatic Braking and (TQ5) IntelliBeam headlamps', 'ENGINE3.6L V6DIVVTWITH AUTOMATIC STOP/START(310 hp [231 kW] @ 6600 rpm271 lb-ft of torque [366 N-m] @ 5000 rpm) (STD)', 'FOLLOWING DISTANCE INDICATOR', 'FORWARD COLLISION ALERT']\"\n",
      " \"['**Clean CarFax Record**', '**ONE OWNER**', '**U-Connect**', 'ABS brakes,6 Speakers,4-Wheel Disc Brakes,3.45 Rear Axle Ratio,17in x 8.0in Aluminum Wheels', 'Air Conditioning', 'Alloy Wheels', 'AM/FM radio', 'Anti-whiplash front head restraints']\"\n",
      " \"['Adaptive Cruise Control', 'Alloy Wheels', 'Android Auto', 'Antilock Brakes', 'Apple CarPlay', 'Audio Controls On Steering Wheel', 'Auxiliary Input', 'Backup Camera']\"\n",
      " \"['Audio Controls On Steering Wheel', 'Auto Leveling Headlights', 'Auxiliary Input', 'Backup Camera', 'Blind Spot Monitor', 'Bluetooth', 'Brake Assist', 'Child Safety Locks']\"\n",
      " \"['ACTIVE SUSPENSION SYSTEM,8-SPEED A/T,4-WHEEL DISC BRAKES,4-WHEEL ABS', 'ADJUSTABLE STEERING WHEEL', 'All Wheel Drive', 'ALL WHEEL DRIVE', 'Alloy Wheels', 'ALUMINUM WHEELS', 'AM/FM STEREO', 'Android Auto']\"\n",
      " \"['3.45 REAR AXLE RATIO (STD)', '4-Wheel Disc Brakes', 'ABS', 'Adjustable Steering Wheel', 'Aluminum Wheels', 'AM/FM Stereo', 'Auto-Dimmin', 'Automatic Headlights']\"\n",
      " \"['ABS brakes,6 Speakers,4WD,4-Wheel Disc Brakes,3.45 Rear Axle Ratio,1-Yr. SIRIUSXM Radio Service', 'Air Conditioning', 'Alloy Wheels', 'Alloy wheels', 'AM/FM radio', 'Anti-whiplash front head restraints', 'Antilock Brakes', 'Audio Controls On Steering Wheel']\"\n",
      " \"['290 hp horsepower', '3.6 liter V6 DOHC engine', '4 Doors', '4-wheel ABS brakes', '4WD Type - Automatic full-time', 'Air conditioning with dual zone climate control', 'All Weather Capability Group', 'Antilock Brakes']\"\n",
      " \"['Alloy Wheels', 'Antilock Brakes', 'Audio Controls On Steering Wheel', 'Automatic temperature', 'Auxiliary Input', 'Backup Camera', 'Bluetooth', 'Brake Assist']\"\n",
      " \"['3.45 REAR AXLE RATIO(STD)', '4-Wheel Disc Brakes', 'ABS', 'Adjustable Steering Wheel', 'Aluminum Wheels', 'AM/FM Stereo', 'Auto-Dimmi', 'Automatic Headlights']\"\n",
      " \"['3.45 REAR AXLE RATIO(STD)', 'Active Safety Pkg.', 'BILLET SILVER METALLIC CLEARCOAT', 'BLACKLEATHER TRIMMED BUCKET SEATS', 'BLIND SPOT &amp; CROSS PATH DETECTION-inc: Auto Dim Exterior Passenger Mirror', 'ENGINE: 3.6L V6 24V VVT UPG I W/ESS(STD)', 'GVWR: 6 500 LBS(STD)', 'Luggage Rack']\"\n",
      " \"['ABS BRAKES', 'AIR CONDITIONING', 'Alloy Wheels', 'ALLOY WHEELS', 'AM/FM RADIO: SIRIUSXM', 'ANTI-WHIPLASH FRONT HEAD RESTRAINTS', 'Antilock Brakes', 'Audio Controls On Steering Wheel']\"\n",
      " \"['3.6 liter V6 DOHC engine', '4 Doors', '4-wheel ABS brakes', '8-way power adjustable drivers seat', '9 Amplified Speakers w/Subwoofer', 'Air conditioning with dual zone climate control', 'Antilock Brakes', 'Audio Controls On Steering Wheel']\"\n",
      " \"['Alloy Wheels', 'Antilock Brakes', 'Audio Controls On Steering Wheel', 'Auxiliary Input', 'back up cam,4x4,20 inch alloy wheels', 'Backup Camera', 'Bluetooth', 'Brake Assist']\"\n",
      " \"['ABS BRAKES,4-WHEEL DISC BRAKES,3.20 AXLE RATIO,155 AMP ALTERNATOR,14 SPEAKERS', 'AIR CONDITIONING', 'All Wheel Drive', 'Android Auto', 'Antilock Brakes', 'Apple CarPlay', 'AUTO-DIMMING DOOR MIRRORS', 'AUTO-DIMMING REAR-VIEW MIRROR']\"\n",
      " \"['4-Wheel Disc Brakes', 'ABS', 'Aluminum Wheels', 'AUDIO SYSTEM FEATUREBOSE STUDIO SURROUND SOUND 14-SPEAKER SYSTEMwith surround amplifier', 'Automatic Headlights', 'CADILLAC CUE INFORMATION AND MEDIA CONTROL SYSTEM WITH EMBEDDED NAVIGATIONAM/FM STEREOwith 8 diagonal color information displayfour USB portstwo auxiliary power outletsauxiliary input jackNatural Voice Recognition and Phone Integration for Apple CarPlay and Android Auto capability for compatible phone', 'CRYSTAL WHITE TRICOAT', 'DRIVER AWARENESS PACKAGEincludes Safety Alert Seat(UEU) Forward Collision Alert(UE4) Following Distance Indicator(UHX) Lane Keep Assist with Lane Departure Warning(UKJ) front pedestrian detection(UHY) Front Automatic Braking and (TQ5) IntelliBeam headlamps']\"\n",
      " \"['3.45 REAR AXLE RATIO(STD)', '4-Wheel Disc Brakes', '9 AMPLIFIED SPEAKERS W/SUBWOOFER', 'ABS', 'Adjustable Steering Whe', 'Aluminum Wheels', 'AM/FM Stereo', 'Automatic Headlights']\"\n",
      " \"['abs brakes', 'air conditioning', 'am/fm', 'Android Auto', 'Antilock Brakes', 'Apple CarPlay', 'Auxiliary Input', 'Backup Camera']\"\n",
      " \"['Altitude Grille,8.4&#x27; Touchscreen Display,5-Year SiriusXM Travel Link Service,5-Year SiriusXM Traffic Service,115V Auxiliary Power Outlet,1-Year SiriusXM Radio Service,1-Year SiriusXM Guardian Trial', 'Altitude IV Package', 'Android Auto', 'Antilock Brakes', 'Apple CarPlay', 'Apple CarPlay', 'Audio Controls On Steering Wheel', 'Auxiliary Input']\"\n",
      " \"['4-Wheel ABS', '4-Wheel Disc Brakes', '8-Speed A/T', 'Active Suspension System', 'Adjustable Steering Wheel', 'All Wheel Drive', 'Aluminum Wheels', 'AM/FM Stereo']\"\n",
      " \"['4-Wheel Disc Brakes', 'ABS', 'Active Suspension', 'Adaptive Cruise Control', 'Adjustable Steering Wheel', 'All Wheel Drive', 'Aluminum Wheels', 'AM/FM Stereo']\"\n",
      " \"['4-Wheel Disc Brakes', 'ABS', 'Aluminum Wheels', 'AM/FM Stereo', 'AUDIO SYSTEM FEATUREBOSE STUDIO SURROUND SOUND 14-SPEAKER SYSTEMwith surround amplifier', 'Automatic Headlights', 'Auxiliary Audio Input', 'Bucket']\"\n",
      " \"['20 Inch Alloy Wheels', '3.6L V6 DI Engine', 'Android Auto Smartphone Integration', 'Apple CarPlay', 'Audio Steering Wheel Controls', 'Automatic Climate Control', 'Auxiliary Input Jack', 'Blind Spot Monitoring System']\"\n",
      " \"['ABS BRAKES', 'AIR CONDITIONING', 'Alloy Wheels', 'AM/FM', 'Android Auto', 'Antilock Brakes', 'Apple CarPlay', 'Auxiliary Input']\"\n",
      " \"['active suspension system,8-speed a/t,4-wheel disc brakes,4-wheel abs', 'adjustable steering wheel', 'Alloy Wheels', 'aluminum wheels', 'am/fm stereo', 'Android Auto', 'Antilock Brakes', 'Apple CarPlay']\"\n",
      " \"['AIR CONDITIONING', 'Alloy Wheels', 'ALLOY WHEELS', 'AM/FM STEREO RADIO', 'Android Auto', 'ANTI THEFT/SECURITY SYSTEM', 'ANTI-LOCK BRAKING SYSTEM', 'Antilock Brakes']\"\n",
      " \"['*CERTIFIED*', '*GREAT CONDITION', '*NON SMOKER*', 'ABS brakes,6 Speakers,4-Wheel Disc Brakes,3.45 Rear Axle Ratio', 'Air Conditioning', 'Alloy Wheels', 'Alloy wheels', 'AM/FM radio']\"\n",
      " \"['Antilock Brakes', 'Audio Controls On Steering Wheel', 'Auxiliary Input', 'Backup Camera', 'Bluetooth', 'Brake Assist', 'Child Safety Locks', 'Driver vanity']\"\n",
      " \"['AUDIO SYSTEM FEATUREBOSE STUDIO SURROUND SOUND 14-SPEAKER SYSTEMwith surround amplifier', 'CADILLAC USER EXPERIENCE WITH EMBEDDED NAVIGATIONAM/FM STEREOwith 8 diagonal color information displayfour USB portstwo auxiliary power outletsauxiliary input jackNatural Voice Recognition and Phone Integration for Apple CarPlay and Android Auto capability for compatible phone', 'CARGO NETLATERAL MESH', 'CIRRUSLEATHER SEATING SURFACES WITH MINI-PERFORATED INSERTSwith Dark Titanium accents (With Diamond Cut aluminum trim.)', 'CLIMATE CONTROLTRI-ZONE AUTOMATICwith individual climate settings for driverright-front passenger and rear passengers (includes rear air vents) Includes (KA6) heated rear seats.)', 'DARK GRANITE METALLIC', 'DRIVER AWARENESS PACKAGEincludes (HS1) Safety Alert Seat(UEU) Forward Collision Alert(UE4) Following Distance Indicator(UHX) Lane Keep Assist with Lane Departure Warning(UKJ) Front Pedestrian Braking(UHY) Low Speed Forward Automatic Braking and (TQ5) IntelliBeam', 'ENGINE3.6L V6DIVVTWITH AUTOMATIC STOP/START(310 hp [231 kW] @ 6600 rpm271 lb-ft of torque [366 N-m] @ 5000 rpm) (STD)']\"\n",
      " \"['ABS', 'Aluminum Wheels', 'Automatic Headlights', 'Auxiliary Audio Input', 'Back-Up Camera', 'BRONZE DUNE METALLIC', 'CADILLAC CUE INFORMATION AND MEDIA CONTROL SYSTEMAM/FM STEREOwith 8 diagonal color information displayfour USB portstwo auxiliary power outletsauxiliary input jackNatural Voice Recognition and Phone Integration for Apple CarPlay and Android Auto capability for compatible phone', 'Child Safety Locks']\"\n",
      " \"['** 4X4 **', '** BACK-UP CAMERA **', '** BLUETOOTH READY **', '** ONE OWNER **', '** SERVICE RECORDS AVAILABLE **', '** WARRANTY INCLUDED SEE BELOW **', 'ABS brakes,6 Speakers,4-Wheel Disc Brakes,3.45 Rear Axle Ratio,17in x 8.0in Aluminum Wheels,1-Yr. SIRIUSXM Radio Service', 'Air Conditioning']\"\n",
      " \"['4-Wheel Disc Brakes', 'ABS', 'Active Suspension', 'Adjustable Steering Wheel', 'Aluminum Wheels', 'AM/FM Stereo', 'Auto-Dimming Rea', 'Automatic Headlights']\"\n",
      " \"['ABS brakes', 'Air Conditioning', 'Alloy wheels', 'AM/FM radio', 'Anti-whiplash front head restraints', 'Automatic temperature control', 'Brake assist', 'Bright Side Roof Rails']\"\n",
      " \"['3.6 liter V6 DOHC engine', '4 Doors', '4-wheel ABS brakes', '8-way power adjustable drivers seat', 'Adaptive Cruise Control', 'Adaptive cruise control', 'Air conditioning with dual zone climate control', 'Antilock Brakes']\"\n",
      " \"['Antilock Brakes', 'Audio Controls On Steering Wheel', 'Auxiliary Input', 'Bluetooth', 'Brake Assist', 'Child Safety Locks', 'Dual Climate Control', 'ENGINE: 3.6L V6 24V VVT,']\"\n",
      " \"['ABS BRAKES,8-WAY POWER FRONT PASSENGER SEAT ADJUSTER,4-WHEEL DISC BRAKES,3.20 AXLE RATIO,14 SPEAKERS', 'AIR CONDITIONING', 'All Wheel Drive', 'Android Auto', 'Antilock Brakes', 'Apple CarPlay', 'AUTO HIGH-BEAM HEADLIGHTS', 'AUTO-DIMMING DOOR MIRRORS']\"\n",
      " \"['ABS brakes', 'Air Conditioning', 'Alloy wheels', 'AM/FM radio: SiriusXM', 'Anti-whiplash front head restraints', 'Audio memory', 'Auto-dimming door mirrors', 'Auto-Dimming Rear-View Mirror']\"\n",
      " \"['ABS brakes,8.4in Touchscree', 'Air Conditioning', 'AM/FM radio', 'Anti-whiplash front head restraints', 'Antilock Brakes', 'Auto-Dimming Rear-View Mirror', 'Automatic temperature control', 'Auxiliary Input']\"\n",
      " \"['3.45 REAR AXLE RATIO(STD)', 'Alloy Wheels', 'BLACKLEATHER TRIM SEATS W/EDGE WELTING', 'BLIND SPOT &amp; CROSS PATH DETECTION', 'Body-Colored Front Bumper w/Black Rub Strip/Fascia AccentChrome Bumper Insert and 2 Tow Hooks', 'Body-Colored Grille w/Chrome Accents', 'Body-Colored Rear Step Bumper w/Black Rub Strip/Fascia Accent and Chrome Bumper Insert', 'BRIGHT WHITE CLEARCOAT']\"\n",
      " \"['Air conditioning', 'Alloy Wheels', 'Alloy Wheels', 'Audio Controls On Steering Wheel', 'Auto Leveling Headlights', 'Automatic Headlights', 'Auxiliary Input', 'Backup Camera']\"\n",
      " \"['ABS (4-Wheel),4WD', 'Adaptive Cruise Control', 'Adaptive Cruise Control', 'Air Conditioning', 'Alarm System', 'AM/FM/HD Radio', 'Antilock Brakes', 'Audio Controls On Steering Wheel']\"\n",
      " \"['Alloy w', 'AM/FM radio: SiriusXM', 'Anti-whiplash front head restraints', 'Antilock Brakes', 'Audio Controls On Steering Wheel', 'Audio memory', 'Auto-dimming door mirrors', 'Auto-dimming Rear-View mirror']\"\n",
      " \"['3.45 REAR AXLE RATIO(STD)', '4-Wheel Disc Brakes', 'ABS', 'Air Suspension', 'Aluminum Wheels', 'AM/FM Stereo', 'Auto-Dimming Rearview Mirror', 'Automatic Headlights']\"\n",
      " \"['Adjustable Steering', 'Alloy Wheels', 'Aluminum Wheels', 'AM/FM Stereo', 'Antilock Brakes', 'Audio Controls On Steering Wheel', 'Auto Transmission w/Manual Mode', 'Auto-Off Headlights']\"\n",
      " \"['**CLEAN AUTO CHECK**', '**ONE OWNER**', 'ABS brakes,6 Speakers,4WD,4-Wheel Disc Brakes,3.45 Rear Axle Ratio', 'Air Conditioning', 'Alloy Wheels', 'Alloy wheels', 'AM/FM radio', 'Anti-whiplash front head restraints']\"\n",
      " \"['Active Seatbelts', 'Alarm', 'All Wheel ABS', 'AM/FM CD/MP3', 'Antilock Brakes', 'Audio Controls On Steering Wheel', 'Auxiliary Input', 'Backup Camera']\"\n",
      " \"['abs brakes,8 speakers,4-wheel independent suspension,4-wheel disc b', 'air conditioning', 'am/fm radio: siriusxm', 'Android Auto', 'Antilock Brakes', 'Apple CarPlay', 'automatic temperature control', 'Auxiliary Input']\"\n",
      " \"['ABS brakes', 'Air Conditioning', 'Alloy wheels', 'AM/FM radio: SiriusXM', 'Anti-whiplash front head restraints', 'Audio memory', 'Auto-dimming door mirrors', 'Auto-dimming Rear-View mirror']\"\n",
      " \"['Antilock Brakes', 'Audio Controls On Steering Wheel', 'Auxiliary Input', 'Backup Camera', 'Bluetooth', 'Brake Assist', 'Child Safety Locks', 'Delay-off headlights']\"\n",
      " \"['ABS brakes,8.4in Touchscreen Display,6 Speakers,6 Month Trial (Registration Required),4-Wheel Disc Brakes,3.45 Rear Axle Ratio,18in', 'Air Conditioning', 'Alloy Wheels', 'AM/FM radio', 'Anti-whiplash front head restraints', 'Antilock Brakes', 'Audio Controls On Steering Wheel', 'Automatic temperature control']\"\n",
      " \"['Alloy Wheels', 'Antilock Brakes', 'Audio Controls On Steering Wheel', 'Auxiliary Input', 'Backup Camera', 'Blind Spot Monitor', 'Brake Assist', 'Child Safety Locks']\"\n",
      " \"['Adaptive Cruise Control', 'Audio Controls On Steering Wheel', 'Auto Leveling Headlights', 'Auxiliary Input', 'Backup Camera', 'Bluetooth', 'Brake Assist', 'Child Safety Locks']\"\n",
      " \"['293 hp horsepower', '3.6 liter V6 DOHC engine', '4 Doors', '4-wheel ABS brakes', '4WD Type - Automatic full-time', '4X4', 'Air conditioning with dual zone climate control', 'Alloy Wheels']\"\n",
      " \"['4-Wheel Disc Brakes', 'ABS', 'Adjustable Steering Wheel', 'Aluminum Wheels', 'AM/FM Stereo', 'AUDIO SYSTEM FEATUREBOSE STUDIO SURROUND SOUND 14-SPEAKER SYSTEMwith surround amplifier', 'Automatic Headlights', 'Auxiliary Audio Input']\"\n",
      " \"['A/C SEATS', 'AIR CONDITIONING', 'Alloy Wheels', 'ALLOY WHEELS', 'AM/FM STEREO RADIO', 'Android Auto', 'ANTI-LOCK BRAKING SYSTEM', 'Antilock Brakes']\"\n",
      " \"['ABS brakes', 'Air Conditioning', 'AM/FM radio: SiriusXM', 'Automatic temperature control', 'Bodyside moldings', 'Bose Premium 8-Speaker Audio System Feature', 'Brake assist', 'Bumpers: body-color']\"\n",
      " \"['ABS brakes,6 Speakers,4-Wheel Disc Brakes,3.', 'Air Conditioning', 'Alloy Wheels', 'Alloy wheels', 'AM/FM radio', 'Anti-whiplash front head restraints', 'Antilock Brakes', 'Audio Controls On Steering Wheel']\"\n",
      " \"['230MM Rear Axle', '3.09 REAR AXLE RATIO', 'Auto Dim Exterior Passenger Mirror', 'Black Side Windows Trim and Black Front Windshield Trim', 'BLIND SPOT &amp; CROSS PATH DETECTION', 'Body-Colored Front Bumper w/Black Rub Strip/Fascia AccentMetal-Look Bumper Insert and 2 Tow Hooks', 'Body-Colored Rear Step Bumper w/Black Rub Strip/Fascia Accent and Black Bumper Insert', 'Chrome Bodyside InsertRocker Panel Extensions and Black Wheel Well Trim']\"\n",
      " \"['3.45 REAR AXLE RATIO(STD)', '4-Wheel Disc Brakes', '9 AMPLIFIED SPEAKERS W/SUBWOOFER-inc: 506 Watt AmplifierActive Noise Control System', 'ABS', 'Adjustable Steering Wheel', 'Aluminum Wheels', 'AM/FM Stereo', 'Auto-Dimming Rearview Mirror']\"\n",
      " \"['ABS brakes', 'Active Noise Control System', 'Air Conditioning', 'AM/FM radio: SiriusXM', 'Anti-whiplash front head restraints', 'Audio memory', 'Auto High-beam Headlights', 'Auto-dimming door mirrors']\"\n",
      " \"['4-Wheel Disc Brakes', 'ABS', 'Active Suspension', 'All Wheel Drive', 'Aluminum Wheels', 'AM/FM Stereo', 'Automatic Headlights', 'Auxiliary Audio Input']\"\n",
      " \"['Adaptive Cruise Control', 'Alloy Wheels', 'Antilock Brakes', 'Audio Controls On Steering Wheel', 'Auxiliary Input', 'Backup Camera', 'Bluetooth', 'Brake Assist']\"\n",
      " \"['3.20 Axle Ratio', 'ABS brakes', 'Adaptive suspension', 'Air Conditioning', 'Alloy wheels', 'AM/FM radio: SiriusXM', 'Auto-dimming door mirrors', 'Auto-dimming Rear-View mirror']\"\n",
      " \"['AIR CONDITIONING,12 VOLT POWER SOURCE', 'Alloy Wheels', 'ALLOY WHEELS', 'AM/FM STEREO RADIO', 'Android Auto', 'ANTI-LOCK BRAKING SYSTEM', 'Antilock Brakes', 'Apple CarPlay']\"\n",
      " \"['Antilock Brakes', 'Audio Controls On Steering Wheel', 'Auxiliary Input', 'Backup Camera', 'Bluetooth', 'Brake Assist', 'Child Safety Locks', 'Driv']\"\n",
      " \"['Antilock Brakes', 'Audio Controls On Steering Wheel', 'Auxiliary Input', 'Backup Camera', 'Bluetooth', 'Brake Assist', 'Child Safety Locks', 'Delay-off he']\"\n",
      " \"['ABS brakes,8.4in Touchscreen Display,4-Wheel Disc Brakes,20in', 'Air Conditioning', 'AM/FM radio', 'Anti-whiplash front head restraints', 'Antilock Brakes', 'Auto-Dimming Rear-View Mirror', 'Automatic temperature control', 'Auxiliary Input']\"\n",
      " \"['Antilock Brakes', 'Audio Controls On Steering Wheel', 'Auxiliary Input', 'Backup Camera', 'Bluetooth', 'Child Safety Locks', 'Dual Climate Control', 'Four Wheel Drive']\"\n",
      " \"['Antilock Brakes', 'Audio Controls On Steering Wheel', 'Auxiliary Input', 'Backup Camera', 'Bluetooth', 'Brake Assist', 'Child Safety Locks', 'Drive']\"\n",
      " \"['A/C Front', 'Adaptive Cruise Control', 'Adaptive Cruise Control', 'Alloy Wheels', 'Alloy Wheels', 'AM/FM Stereo', 'Anti-Lock Brakes', 'Audio Controls On Steering Wheel']\"\n",
      " \"['AM', 'Android Auto', 'Anti-whiplash front head restraints', 'Antilock Brakes', 'Apple CarPlay', 'Audio Controls On Steering Wheel', 'Audio memory', 'Auto-dimming door mirrors']\"\n",
      " \"['ABS brakes', 'Air Conditioning', 'All-Weather Cargo Tray (LPO)', 'All-Weather Floor Mats', 'AM/FM radio: SiriusXM', 'Automatic temperature control', 'Bodyside moldings', 'Bose Premium 8-Speaker Audio System Feature,4-Wheel Disc Brakes']\"\n",
      " \"['ABS BRAKES', 'AIR CONDITIONING', 'All Wheel Drive', 'AM/FM', 'Android Auto', 'Antilock Brakes', 'Apple CarPlay', 'AUDIO SYSTEM FEATURE BOSE STUDIO SURROUND SOUND 14-SPEAKER SYSTEM,']\"\n",
      " \"['ABS,4-Wheel Disc Brakes,', 'Adjustable Steering Wheel', 'Alloy Wheels', 'Aluminum Wheels', 'AM/FM Stereo', 'Automatic Headlights', 'Auxiliary Audio Input', 'BLACK CLOTH LOW BACK BUCKET SEATS']\"\n",
      " \"['AB', 'Air Conditioning', 'AM/FM radio: SiriusXM', 'Anti-whiplash front head restraints', 'Antilock Brakes', 'Audio Controls On Steering Wheel', 'Audio memory', 'Auto-dimming door mirrors']\"\n",
      " \"['Alloy Wheels', 'Antilock Brakes', 'Audio Controls On Steering Wheel', 'Auxiliary Input', 'Backup Camera', 'Bluetooth', 'Brake', 'Brake Assist']\"\n",
      " \"['Adaptive Cruise Control', 'Audio Controls On Steering Wheel', 'Auto Leveling Headlights', 'Automatic Emergency Braking', 'Auxiliary Input', 'Backup Camera', 'Blind Spot Monitor', 'Bluetooth']\"\n",
      " \"['A/C,8-SPEED A/T,4-WHEEL DISC BRAKES,4-WHEEL ABS', 'ADJUSTABLE STEERING WHEEL', 'All Wheel Drive', 'ALL WHEEL DRIVE', 'Alloy Wheels', 'ALUMINUM WHEELS', 'AM/FM STEREO', 'Android Auto']\"\n",
      " \"['..aluminum wheels..', '..auto-off headlights..', '..back-up camera..', '..cooled driver seat..', '..cruise control..', '..daytime running lights..', '..driver air bag..', '..heated driver seat..']\"\n",
      " \"['AUDIO SYSTEM FEATUREBOSE STUDIO SURROUND SOUND 14-SPEAKER SYSTEMwith surround amplifier', 'CADILLAC USER EXPERIENCE WITH EMBEDDED NAVIGATIONAM/FM STEREOwith 8 diagonal color information displayfour USB portstwo auxiliary power outletsauxiliary input jackNatural Voice Recognition and Phone Integration for Apple CarPlay and Android Auto capability for compatible phone', 'CARGO NETLATERAL MESH', 'CLIMATE CONTROLTRI-ZONE AUTOMATICwith individual climate settings for driverright-front passenger and rear passengers (includes rear air vents) Includes (KA6) heated rear seats.)', 'DRIVER AWARENESS PACKAGEincludes (HS1) Safety Alert Seat(UEU) Forward Collision Alert(UE4) Following Distance Indicator(UHX) Lane Keep Assist with Lane Departure Warning(UKJ) Front Pedestrian Braking(UHY) Low Speed Forward Automatic Braking and (TQ5) IntelliBeam', 'ENGINE3.6L V6DIVVTWITH AUTOMATIC STOP/START(310 hp [231 kW] @ 6600 rpm271 lb-ft of torque [366 N-m] @ 5000 rpm) (STD)', 'FOLLOWING DISTANCE INDICATOR', 'FRONT PEDESTRIAN BRAKING']\"\n",
      " \"['4-Wheel Disc Brakes', 'ABS', 'Active Suspension', 'All Wheel Drive', 'ALTERNATOR170 AMPS', 'Aluminum Wheels', 'AM/FM Stereo', 'AUTOMATIC COLLISION BRAKING']\"\n",
      " \"['3.45 REAR AXLE RATIO(STD)', '4-Wheel Disc Brakes', 'A/C', 'ABS', 'Adjustable Stee', 'Aluminum Wheels', 'Auto-Dimming Rearview Mirror', 'Automatic Headlights']\"\n",
      " \"['AIR CONDITIO', 'AM/FM RADIO: SIRIUSXM', 'Android Auto', 'Antilock Brakes', 'Apple CarPlay', 'AUTOMATIC TEMPERATURE CONTROL', 'Auxiliary Input', 'Backup Camera']\"\n",
      " \"['Alloy Wheels', 'AM/FM St', 'Android Auto', 'Antilock Brakes', 'Apple CarPlay', 'Audio Controls On Steering Wheel', 'Auto Leveling Headlights', 'Auto Transmission w/Manual Mode']\"\n",
      " \"['3.45 REAR AXLE RATIO(STD)', '4-Wheel Disc Brakes', '9 AMPLIFIED SPEAKERS W/SUBWOOFER', 'ABS', 'Aluminum Wheels', 'AM/FM Stereo', 'Automatic Headlights', 'Auxil']\"\n",
      " \"['3.45 REAR AXLE RATIO(STD)', '4-Wheel Disc Brakes', 'ABS', 'Aluminum Wheels', 'AM/FM Stereo', 'Automatic Headlights', 'Auxiliary Audio Input', 'BLACKPREMIUM LEATHER TRIMMED BUCKET SEATS']\"\n",
      " \"['ABS Anti-Lock Brakes', 'Air Conditioning', 'Antilock Brakes', 'Audio Controls On Steering Wheel', 'Auxiliary Audio Input', 'Auxiliary Input', 'Bluetooth', 'Bluetooth']\"\n",
      " \"['Air C', 'AM/FM radio: SiriusXM', 'Android Auto', 'Anti-whiplash front head restraints', 'Antilock Brakes', 'Apple CarPlay', 'Audio Controls On Steering Wheel', 'Audio memory']\"\n",
      " \"['ABS brakes,6 Speakers,4-Wheel Disc Brakes,3.45 Rear Axle Ratio,17 x 8.0 Aluminum Wheels', 'Air Conditioning', 'Alloy Wheels', 'Alloy wheels', 'AM/FM radio', 'Anti-whiplash front head restraints', 'Antilock Brakes', 'Audio Controls On Steering Wheel']\"\n",
      " \"['Adaptive Cruise Control', 'Alloy Wheels', 'Android Auto', 'Apple CarPlay', 'Backup Camera', 'Brake Assist', 'DRIVER A', 'DRIVER AIR BAG']\"\n",
      " \"['4-Wheel ABS', '4-Wheel Disc Brakes', '4-Wheel Disc Brakes', '8-Speed A/T', 'A/C', 'ABS', 'Adjustable Steering Wheel', 'Aluminum Wheels']\"\n",
      " \"['4-Wheel Disc Brakes', 'ABS', 'Adjustable Steering Wheel', 'Aluminum Wheels', 'AM/FM Stereo', 'Automatic Headlights', 'Auxiliary Audio Input', 'BLACK CLOTH LOW BACK BUCKET SEATS']\"\n",
      " \"['3.45 REAR AXLE RATIO (STD)', '4-Wheel Disc Brakes', '9 AMPLIFIED SPEAKERS W/SUBWOOFER', 'ABS', 'Aluminum Wheels', 'AM/FM Stereo', 'Automatic Headlights', 'BLACK LEATHER TRIMMED SEATS W/PERFORATED INSERTS']\"\n",
      " \"['air conditioned seats', 'air conditioning', 'alarm system', 'am/fm', 'Android Auto', 'anti-lock brakes', 'Antilock Brakes', 'Apple CarPlay']\"\n",
      " \"['adjustable steering wheel,8-speed a/t,4-wheel disc brakes,4-wheel abs', 'Alloy Wheels', 'aluminum wheels', 'am/fm stereo', 'Android Auto', 'Antilock Brakes', 'Apple CarPlay', 'AUDIO SYSTEM FEATURE BOSE STUDIO SURROUND SOUND 14-SPEAKER SYSTEM,']\"\n",
      " \"['ABS', 'Aluminum Wheels', 'AUDIO SYSTEM FEATUREBOSE STUDIO SURROUND SOUND 14-SPEAKER SYSTEMwith surround amplifier', 'Automatic Headlights', 'Auxiliary Audio Input', 'CADILLAC CUE INFORMATION AND MEDIA CONTROL SYSTEM WITH EMBEDDED NAVIGATIONAM/FM STEREOwith 8 diagonal color information displayfour USB portstwo auxiliary power outletsauxiliary input jackNatural Voice Recognition and Phone Integration for Apple CarPlay and Android Auto capability for compatible phone', 'CADILLAC CUE INFORMATION AND MEDIA CONTROL SYSTEMAM/FM STEREOwith 8 diagonal color information displayfour USB portstwo auxiliary power outletsauxiliary input jackNatural Voice Recognition and Phone Integration for Apple CarPlay and Android Auto capability for compatible phone', 'CIRRUSLEATHER SEATING SURFACES WITH MINI-PERFORATED INSERTSwith Dark Titanium accents (With Diamond Cut aluminum trim.)']\"\n",
      " \"['ABS brakes,8.4in Touchscreen Display,7 &amp; 4 Pin Wiring Harness,6 Speakers,6 Month Trial (Registration Required),4-Wheel', 'Air Conditioning', 'Alloy Wheels', 'Alloy wheels', 'AM/FM radio', 'Anti-whiplash front head restraints', 'Antilock Brakes', 'Audio Controls On Steering Wheel']\"\n",
      " \"['Adjustable Steering Wheel', 'Air Conditioning', 'AM/FM Stereo', 'Automatic Headlights', 'Brakes ABS', 'Drivetrain All Wheel Drive', 'Engine Displacement 3.6L/222.6', 'Engine V6 Cylinder Engine']\"\n",
      " \"['ABS Anti-Lock Brakes', 'Air Conditioning', 'Alloy Wheels', 'Android Auto', 'Antilock Brakes', 'Apple CarPlay', 'Auxiliary Audio Input', 'Auxiliary Input']\"\n",
      " \"['3.45 REAR AXLE RATIO(STD)', '4-Wheel Disc Brakes', 'ABS', 'Adjustable Steering Wheel', 'ADVANCED TECHNOLOGY GROUP-inc: Advanced Brake AssistFull Speed FWD Collision Warn PlusAdaptive Cruise Control w/StopBlind Spot &amp; Cross Path Detection', 'Air Suspension', 'Aluminum Wheels', 'AM/FM Stereo']\"\n",
      " \"['ABS brakes,4-Wheel Disc Brakes,4 Wheel D', 'Air Conditioning', 'Alloy wheels', 'AM/FM radio: SiriusXM', 'Anti-whiplash front head restraints', 'Antilock Brakes', 'Audio Controls On Steering Wheel', 'Audio memory']\"\n",
      " \"['ABS And Driveline Traction Control', 'Airbag Occupancy Sensor', 'Back-Up Camera', 'Curtain 1st And 2nd Row Airbags', 'Driver Knee Airbag', 'Dual Stage Driver And Passenger Front Airbags', 'Dual Stage Driver And Passenger Seat-Mounted Side Airbags', 'Electronic Stability Control (ESC) And Roll Stability Control (RSC)']\"\n",
      " \"['Air Conditioning,', 'Alloy Wheels', 'Alloy Wheels', 'AM/FM radio', 'Anti-whiplash front head restraints', 'Antilock Brakes', 'Audio Controls On Steering Wheel', 'Automatic']\"\n",
      " \"['3.09 REAR AXLE RATIO', '4-Wheel Disc Brakes', 'ABS', 'Adjustable Steering Wheel', 'Aluminum Wheels', 'AM/FM Stereo', 'Auto-Dimming Rearview Mirror', 'Automatic Headlights']\"\n",
      " \"['Air Conditioning', 'Alloy Wheels', 'Alloy Wheels', 'AM/FM Stereo Radio', 'Android Auto', 'Antilock Brakes', 'Apple CarPlay', 'Audio Controls On Steering Wheel']\"\n",
      " \"['Android Auto', 'Antilock Brakes', 'Apple CarPlay', 'Audio Controls On Steering Wheel', 'Automatic temperature contro', 'Auxiliary Input', 'Backup Camera', 'Blind Spot &amp; Cross Path Detection']\"\n",
      " \"['ABS brakes', 'Accident Free History,4x4', 'Air Conditioning', 'Alloy wheels', 'AM/FM radio', 'Anti-whiplash front head restraints', 'Automatic temperature control', 'BLACKCLOTH LOW BACK BUCKET SEATS']\"\n",
      " \"['19 Harman Kardon Speakers With Subwoofer And 825 Watt Amplifier', '19 SPEAKERS HIGH PERFORMANCE AUDIO-inc: 825 Watt Amplifier', '3.09 REAR AXLE RATIO', '4-Wheel Disc Brakes', 'ABS', 'Adjustable Steering Wheel', 'Air Suspension', 'Aluminum Wheels']\"\n",
      " \"['18 WHEEL &amp; 8.4 RADIO GROUP-inc: Rear View Auto Dim MirrorRadio: Uconnect 4C Nav w/8.4 DisplayWheels: 18 x 8.0 Tech Gray Aluminum', '2 Seatback Storage Pockets', '4-Wheel Disc Brakes', 'ABS', 'Adjustable Steering Wheel', 'Aluminum Wheels', 'AM/FM Stereo', 'Automatic Headlights']\"\n",
      " \"['**ONE OWNER**', 'ABS brakes,6 Speakers,4-Wheel Disc Brakes,3.45 Rear Axle Ratio,17in x 8.0in Aluminum Wheels', 'Air Conditioning', 'Alloy Wheels', 'AM/FM radio', 'Anti-whiplash front head restraints', 'Antilock Brakes', 'Audio Controls On Steering Wheel']\"\n",
      " \"['ABS', 'Active Suspension', 'ADVANCED SECURITY PACKAGEincludes (N06) locking steering column(NWM) door lock and latch shields(UTR) self-powered Theft-Deterrent Alarm System(UTU) inclination sensor(UTV) vehicle interior movement sensor and (PB4) locking wheel lugs', 'Aluminum Wheels', 'Automatic Headlights', 'Auxiliary Audio Input', 'Brake Assist', 'CADILLAC CUE INFORMATION AND MEDIA CONTROL SYSTEM WITH EMBEDDED NAVIGATIONAM/FM STEREOwith 8 diagonal color information displayfour USB portstwo auxiliary power outletsauxiliary input jackNatural Voice Recognition and Phone Integration for Apple CarPlay and Android Auto capability for compatible phone']\"\n",
      " \"['4-Wheel Disc Brakes', 'ABS', 'Aluminum Wheels', 'AUDIO SYSTEM FEATUREBOSE STUDIO SURROUND SOUND 14-SPEAKER SYSTEMwith surround amplifier', 'Automatic Headlights', 'CADILLAC USER EXPERIENCE WITH EMBEDDED NAVIGATIONAM/FM STEREOwith 8 diagonal color information displayfour USB portstwo auxiliary power outletsauxiliary input jackNatural Voice Recognition and Phone Integration for Apple CarPlay and Android Auto capability for compatible phone', 'CARGO NETLATERAL MESH', 'DRIVER AWARENESS PACKAGEincludes (HS1) Safety Alert Seat(UEU) Forward Collision Alert(UE4) Following Distance Indicator(UHX) Lane Keep Assist with Lane Departure Warning(UKJ) Front Pedestrian Braking(UHY) Low Speed Forward Automatic Braking and (TQ5) IntelliBeam']\"\n",
      " \"['***HABLO ESPANOL***', 'ABS brakes,6 Speakers,4-Wheel Disc Brakes,3.45 Rear Axle Ratio,2017 Jeep Grand Cherokee Laredo 4x4 ** ALLOY WHEELS ** KEYLESS ENTRY ** KEYLESS START **,17in x 8.0in Aluminum Wheels', 'Air Conditioning', 'Alloy Wheels', 'AM/FM radio', 'Anti-whiplash front head restraints', 'Antilock Brakes', 'Audio Controls On Steering Wheel']\"\n",
      " \"['Adjustable Steering Wheel', 'Alloy Wheels', 'Aluminum Wheels', 'AM/FM Stereo', 'Anti Theft System', 'Anti-Lock Brakes', 'Antilock Brakes', 'Audio Controls On Steering Wheel']\"\n",
      " \"['Alloy Wheels', 'Audio Controls On Steering Wheel', 'Auxiliary Input', 'Backup Camera', 'Bluetooth', 'Brake Assist', 'Child Safety Locks', 'Cooled Driver Seat']\"\n",
      " \"['Brake Assist', 'Heated Seats', 'Memory Seat', 'Navigation System', 'Navigation System Touc', 'Number Of Front Headrests 2', 'Number Of Rear Headrests 2', 'One-Touch Windows: 2']\"\n",
      " \"['(0 P) RED PASSION TINTCOAT', '3.6 LITER V6 DOHC ENGINE', '310 HP HORSEPOWER', '4 DOORS', '4-WHEEL ABS BRAKES', '8-WAY POWER ADJUSTABLE DRIVERS SEAT', 'AIR CONDITIONING WITH DUAL ZONE CLIMATE CONTROL', 'All Wheel Drive']\"\n",
      " \"['Antilock Brakes', 'Audio Controls On Steering Wheel', 'Auto-dimmin', 'Automatic temperature control', 'Auxiliary Input', 'Backup Camera', 'Bluetooth', 'Brake Assist']\"\n",
      " \"['4-Wheel Disc Brakes', 'ABS', 'Active Suspension', 'ADVANCED SECURITY PACKAGEincludes (N06) locking steering column(NWM) door lock and latch shields(UTR) self-powered Theft-Deterrent Alarm System(UTU) inclination sensor(UTV) vehicle interior movement sensor and (PB4) locking wheel lugs', 'Aluminum Wheels', 'AM/FM Stereo', 'Automatic Headlights', 'Brake Assist']\"\n",
      " \"['Alloy Wheels', 'Anti-whiplash front head rest', 'Antilock Brakes', 'Audio Controls On Steering Wheel', 'Audio memory', 'Auto-dimming door mirrors', 'Auto-dimming Rear-View mirror', 'Automatic temperature control']\"\n",
      " \"['4-Wheel Disc Brakes', 'ABS', 'Aluminum Wheels', 'AUDIO SYSTEM FEATUREBOSE STUDIO SURROUND SOUND 14-SPEAKER SYSTEMwith surround amplifier', 'Automatic Headlights', 'CADILLAC CUE INFORMATION AND MEDIA CONTROL SYSTEM WITH EMBEDDED NAVIGATIONAM/FM STEREOwith 8 diagonal color information displayfour USB portstwo auxiliary power outletsauxiliary input jackNatural Voice Recognition and Phone Integration for Apple CarPlay and Android Auto capability for compatible phone', 'CARGO NETLATERAL MESH', 'CLIMATE CONTROLTRI-ZONE AUTOMATICwith individual climate settings for driverright-front passenger and rear passengers (includes rear air vents)']\"\n",
      " \"['Alloy Wheels', 'Audio Controls On Steering Wheel', 'Auxiliary Input', 'Backup Camera', 'Bluetooth', 'Brake Assist', 'Child Safety Locks', 'Compass,']\"\n",
      " \"['A/C FRONT', 'A/C REAR', 'All Wheel Drive', 'ALL WHEEL DRIVE', 'Alloy Wheels', 'ALLOY WHEELS', 'AM/FM STEREO', 'Android Auto']\"\n",
      " \"['** ACCIDENT FREE CARFAX HISTORY **', '** ONE OWNER **', 'ABS brakes,6 Speakers,4-Wheel Disc Brakes,3.45 Rear Axle Ratio,17in x 8.0in Aluminum Wheels', 'Air Conditioning', 'All Weather Capability Group', 'Alloy Wheels', 'AM/FM radio', 'Anti-whiplash front head restraints']\"\n",
      " \"['Adaptive Remote Start', 'Audio system featureBose premium 8-speaker system', 'Automatic Stop/Start', 'Brakes4-wheel antilock4-wheel vented disc', 'Brakesactive control', 'Cadillac CUE Information and Media Control SystemAM/FM stereo with 8 diagonal color information displayfour USB portstwo auxiliary power outletsauxiliary input jackNatural Voice Recognition and Phone Integration for Apple CarPlay and Android Auto capability for compatible phone', 'CADILLAC CUE INFORMATION AND MEDIA CONTROL SYSTEMAM/FM STEREOwith 8 diagonal color information displayfour USB portstwo auxiliary power outletsauxiliary input jackNatural Voice Recognition and Phone Integratio', 'Climate controldual-zone automatic with individual climate settings for driver and front passenger']\"\n",
      " \"['(*23P)OVERLAND-inc: Engine: 3.6L V6 24V VVT UPG I w/ESSTransmission: 8-Speed Automatic (845RE)', '(PAINT)IVORY 3-COAT', '(SEATS)BLACKLEATHER TRIM SEATS W/EDGE WELTING', '4-Wheel Disc Brakes', 'ABS', 'Adjustable Steering Wheel', 'Air Suspension', 'Aluminum Wheels']\"\n",
      " \"['(*23Z)ALTITUDE-inc: Engine: 3.6L V6 24V VVTTransmission: 8-Speed Automatic (845RE)Body Color CladdingsGloss Black Fascia AppliqueBody Color Grille w/Platinum AccentBody Color Shark Fin AntennaDual Bright Exhaust TipsSIRIUSXM Satellite Radio (For more info: 800-643-2112 or www.siriusxm.com)Heated Front SeatsUniversal Garage Door Opener115V Auxiliary Power OutletRemote Start SystemPower LiftgateHeated Steering WheelSecurity AlarmJeep Black Gloss BadgingBlack Headlamp BezelsRear View Auto Dim Mirror w/MicrophoneUconnect AccessFor Details Visit DriveUconnect.comBody Color FasciasPower 4-Way Driver Lumbar AdjustNeutral Gray Satin Gloss Tail LampPower 8-Way Driver/Manual Passenger Seat', '(PAINT)BILLET SILVER METALLIC CLEARCOAT', '(SEATS)BLACKBLACK SUEDE SEATS W/BLACK STITCHING', '*ALTITUDE III PKG-inc: Black Roof MoldingMIC Black BezelsDark Lens TaillampsDelete Laredo Badge', '4-Wheel Disc Brakes', 'ABS', 'Adjustable Steering Wheel', 'Aluminum Wheels']\"\n",
      " \"['**HEATED STEERING WHEEL** 4X4!! 8.4 TOUCHSCREEN!!', 'ABS brakes,8.4in Touchscreen Display,7 &amp; 4 Pin Wiring Harness,6 Speakers,4X4,4-Wheel Disc Brakes,3.45 Rear Axle Ratio,17in x 8.0in Aluminum Wheels', 'Air Conditioning', 'Alloy Wheels', 'AM/FM radio', 'Anti-whiplash front head restraints', 'Antilock Brakes', 'Automatic temperature control']\"\n",
      " \"['Antilock Brakes', 'Audio Controls On Steering Wheel', 'Aux Audio Input Jack', 'Auxiliary Input', 'Backup Camera', 'Bluetooth', 'Body-Colored Front Bumper w/Black Rub Strip/Fascia Accent,500 lbs', 'Brake Assist']\"\n",
      " \"['ABS brakes,4-Wheel Disc Brakes,115V Auxiliary Power Outlet,1-Yr. SIRIUSXM Radio Service', 'Air Conditioning', 'Alloy wheels', 'AM/FM radio', 'Anti-whiplash front head restraints', 'Antilock Brakes', 'Audio Controls On Steering Wheel', 'Automatic temperature control']\"\n",
      " \"['Adaptive Cruise Control', 'Alloy Wheels', 'Antilock Brakes', 'Audio Controls On Steering Wheel', 'Auto Leveling Headlights', 'Automatic Emergency Braking', 'Auxiliary Input', 'Backup Camera']\"\n",
      " \"['4-Wheel Disc Brakes', 'ABS', 'Active Suspension', 'Aluminum Wheels', 'AM/FM Stereo', 'Automatic Headlights', 'Auxiliary Audio Input', 'Bluetooth Connection']\"\n",
      " \"['air conditioning with dual zone climate control,8-way power adjustable drivers seat,4-wheel abs brakes,4 doors,310 hp horsepower,3.6 liter v6 dohc engine', 'All Wheel Drive', 'all-wheel drive', 'Android Auto', 'Antilock Brakes', 'Apple CarPlay', 'audio controls on steering wheel', 'automatic transmission']\"\n",
      " \"['4-Wheel Disc Brakes', 'ABS', 'Adjustable Steering Wheel', 'All Wheel Drive', 'Aluminum Wheels', 'AM/FM Stereo', 'Automatic Headlights', 'Auxiliary Audio Input']\"\n",
      " \"['ABS Brakes', 'Adaptive Cruise Control', 'Adaptive headlights', 'Air Conditioned Seats', 'Air Conditioning', 'Alloy Wheels', 'AM/FM', 'Anti-Theft']\"\n",
      " \"['Air', 'Air Conditioning - Front - Dual Zones', 'Airbags - Driver - Knee', 'Airbags - Front - Dual', 'Airbags - Front - Side', 'Airbags - Front - Side Curtain', 'Airbags - Passenger - Occupant Sensing Deactivation', 'Airbags - Rear - Side Curtain']\"\n",
      " \"['ABS brakes,6 Speakers,4-Wheel Disc Brakes,3.45 Rear Axle Ratio,17in x 8.0in Aluminum Wheels', 'Air Conditioning', 'Alloy Wheels', 'AM/FM radio', 'Anti-whiplash front head restraints', 'Antilock Brakes', 'Audio Controls On Steering Wheel', 'Automatic temperature control']\"\n",
      " \"['ABS', 'AIR CONDITIONING', 'ANTI-THEFT SYSTEM', 'BACK UP CAMERA', 'BLUETOOTH', 'CRUISE CONTROL', 'DRIVER INFO SYSTEM', 'DUAL AIRBAGS']\"\n",
      " \"['3.09 REAR AXLE RATIO', '9 AMPLIFIED SPEAKERS W/SUBWOOFER', 'BLACKLEATHER TRIMMED SEATS W/PERFORATED INSERTS', 'BLIND SPOT &amp; CROSS PATH DETECTION-inc: Auto Dim Exterior Passenger Mirror', 'BRIGHT WHITE CLEARCOAT', 'ENGINE: 5.7L V8 MDS VVT-inc: GVWR: 6 800 lbs230MM Rear Axle3.09 Rear Axle Ratio700 Amp Maintenance Free BatteryAnti-Lock 4-Wheel Disc HD BrakesDual Bright Exhaust Tips', 'FULL SIZE SPARE TIRE-inc: Steel Spare Wheel', 'GVWR: 6 800 LBS']\"\n",
      " \"['4-Wheel Disc Brakes', 'ABS', 'Active Suspension', 'Adaptive Cruise Control', 'Adjustable Steering Wheel', 'Aluminum Wheels', 'AM/FM Stereo', 'Aut']\"\n",
      " \"['ABS brakes', 'Air Conditioning', 'Alloy wheels', 'Altitude IV Package', 'ALTITUDE IV PKG,9 SPEAKER AM/FM/SIRIUS XM WITH 7 UCONNECT AUDIO SYSTEM', 'AM/FM radio', 'Anti-whiplash front head restraints', 'Apple CarPlay']\"\n",
      " \"['Antilock Brakes', 'Audio Controls On Steering Wheel', 'Auxiliary Input', 'Backup Camera', 'BLACK LEATHER TRIMMED SEATS W/PERFORATED INSERTS', 'BLIND SPOT &amp; CROSS PATH DETECTION -inc: Auto Dim Exterior Passenger Mirror', 'Bluetooth', 'Brake Assist']\"\n",
      " \"['** ACCIDENT FREE AUTOCHECK**', '**AUTOCHECK ONE OWNER**', '**BLUETOOTH**', '**ELECTRONIC STABILITY CONTROL**', '**HEATED MIRRORS**', '**HEATED SEATS**', '**HEATED STEERING WHEEL**', '**KEYLESS ENTRY**']\"\n",
      " \"['3.45 REAR AXLE RATIO(STD)', '4-Wheel Disc Brakes', 'ABS', 'Adjustable Steering Wheel', 'Aluminum Wheels', 'AM/FM Stereo', 'Auto-Dimming Rearview M', 'Automatic Headlights']\"\n",
      " \"['3.09 REAR AXLE RATIO', '9 AMPLIFIED SPEAKERS W/SUBWOOFER', 'BLACKLEATHER TRIMMED SEATS W/PERFORATED INSERTS', 'BLIND SPOT &amp; CROSS PATH DETECTION-inc: Auto Dim Exterior Passenger Mirror', 'Compact Spare Tire Mounted Inside Un', 'ENGINE: 5.7L V8 MDS VVT-inc: GVWR: 6 800 lbs230MM Rear Axle3.09 Rear Axle Ratio700 Amp Maintenance Free BatteryAnti-Lock 4-Wheel Disc HD BrakesDual Bright Exhaust Tips', 'Galvanized Steel/Aluminum Panels', 'GRANITE CRYSTAL METALLIC CLEARCOAT']\"\n",
      " \"['Air Conditioning', 'AM/FM RADIO', 'Antilock Brakes', 'Audio Controls On Steering Wheel', 'Auto Leveling Headlights', 'Auxiliary Input', 'Backup Camera', 'Blind Spot Monitor']\"\n",
      " \"['ABS brakes,6 Speakers,4-Wheel Disc Brakes,3.45 Rear Axle Ratio,1 OWNER', 'Accident Free Carfax History', 'Air Conditioning', 'Alloy Wheels', 'Alloy wheels', 'AM/FM radio', 'Anti-whiplash front head restraints', 'Antilock Brakes']\"\n",
      " \"['Alloy Wheels', 'Android Auto', 'Antilock Brakes', 'Apple CarPlay', 'Auxiliary Input', 'Backup Camera', 'Bluetooth', 'Brake Assist']\"\n",
      " \"['Adaptive Remote Start', 'Audio system featureBose Studio Surround Sound 14-speaker system with surround amplifier', 'Cadillac user experience with embedded navigationAM/FM stereo with 8 diagonal color information displayfour USB portstwo auxiliary power outletsauxiliary input jackNatural Voice RecognitionPhone Integration for Apple CarPlay and Android Auto capability for compatible phoneConnected Apps and Teen Driver', 'Climate controltri-zone automatic with individual climate settings for driverright-front passenger and rear passengers (includes rear air vents)', 'Cruise controlelectronic with set and resume speed', 'Defoggerrear-window electric with front and side window outlets for the driver and right-front passenger', 'Door lockspower programmable includes lockout protection and delayed locking', 'Gloveboxlockable']\"\n",
      " \"['***4x4/all wheel drive (awd)***', '***back-up/reverse camera***', '***carfax 1-owner***', '***clean carfax--no accidents!!!***', '***factory warranty!!!***', '***gold check warranty for 90 days or 3', '***local trade-in***', 'abs brakes,4-wheel disc brakes,17in x 8.0in aluminum wheels,000 mile coverage ***']\"\n",
      " \"['a/c,8-speed a/t,4-wheel disc brakes,4-wheel abs', 'adjustable steering wheel', 'All Wheel Drive', 'all wheel drive', 'Alloy Wheels', 'aluminum wheels', 'am/fm stereo', 'Android Auto']\"\n",
      " \"['Antilock Brakes', 'Audio Controls On Steering Wheel', 'Auto Leveling Headlights', 'Auxiliary Input', 'Backup Camera', 'Blind Spot &amp; Cross Path Detection', 'Bluetooth', 'Brake Assist']\"\n",
      " \"['19 SPEAKERS HIGH PERFORMANCE AUDIO-inc: 825 Watt Amplifier', '3.45 REAR AXLE RATIO', '4-Wheel Disc Brakes', 'ABS', 'Air Suspension', 'AM/FM Stereo', 'Automatic Headlights', 'Auxiliary Audio Input']\"\n",
      " \"['(*23H)LIMITED-inc: Engine: 3.6L V6 24V VVT UPG I w/ESSTransmission: 8-Speed Automatic (845RE)', '(PAINT)VELVET RED PEARLCOAT', '(SEATS)BLACKPREMIUM LEATHER TRIMMED BUCKET SEATS', '-RADIO W/ NAV: UCONNECT 8.4 NAV-inc: GPS NavigationHD RadioUconnect AccessFor Details Visit DriveUconnect.com8.4 Touchscreen DisplayRoadside Assistance &amp; 9-1-1 CallIntegrated Voice Command w/BluetoothSiriusXM Satellite Radio1 year SiriusXM Radio ServiceFor more informationcall 800-643-2112NOT AVAILABLE in AlaskaHawaiiPuerto RicoStThomas/Virgin IslandsBarbadosDominican Republic and Guam', '4-Wheel Disc Brakes', 'ABS', 'Adjustable Steering Wheel', 'Aluminum Wheels']\"\n",
      " \"['Antilock Brakes', 'Audio Controls On Steering Wheel', 'Auxiliary Input', 'Bluetooth', 'Brake Assist', 'Child Safety Locks', 'Dela', 'Driver door bin']\"\n",
      " \"['Audio Controls On Steering Wheel', 'Auto Leveling Headlights', 'Auxiliary Input', 'Backup Camera', 'Bluetooth', 'Child Safety Locks', 'Cooled Driver Seat', 'Dual Climate Control']\"\n",
      " \"['** 4X4 **', '** BACK-UP CAMERA **', '** BLUETOOTH READY **', '** ONE OWNER **', '** SERVICE RECORDS AVAILABLE **', '** WARRANTY INCLUDED SEE BELOW **', 'ABS brakes,6 Speakers,4-Wheel Disc Brakes,3.45 Rear Axle Ratio,17in x 8.0in Aluminum Wheels', 'Air Conditioning']\"\n",
      " \"['ABS brakes,6 Speakers,4-Wheel Disc Brakes,3.45 Rear Axle Ratio,17in x 8.0in Aluminum Wheels,000 miles', 'Air Conditioning', 'Alloy Wheels', 'AM/FM radio', 'Anti-whiplash front head restraints', 'Antilock Brakes', 'Audio Controls On Steering Wheel', 'Automatic temperature control']\"\n",
      " \"['Adaptive Cruise Control', 'Alloy Wheels', 'Android Auto', 'Antilock Brakes', 'Apple CarPlay', 'Audio Controls On Steering Wheel', 'Auto Leveling Headlights', 'Automatic Emergency Braking']\"\n",
      " \"['A/C,4-Wheel Disc Brakes', 'ABS', 'Adjustable Steering Wheel', 'Aluminum Wheels', 'AM/FM Stereo', 'Antilock Brakes', 'Audio Controls On Steering Wheel', 'Auto-Dimming Rearview Mirror']\"\n",
      " \"['Antilock Brakes', 'Audio Controls On Steering Wheel', 'Auxiliary Input', 'Backup Camera', 'Bluetooth', 'Brake Assist', 'Child Safety Locks', 'Delay-']\"\n",
      " \"['*AWD / 4WD', '*No Accidents', '*One Owner', 'ABS brakes,6 Speakers,4-Wheel Disc Brakes,3.45 Rear Axle Ratio,17in x 8.0in Aluminum Wheels,1-Yr. SIRIUSXM Radio Service', 'Air Conditioning', 'Alloy Wheels', 'AM/FM radio', 'Anti-whiplash front head restraints']\"\n",
      " \"['Air Conditioni', 'Alloy wheels', 'Altitude III Package', 'AM/FM radio', 'Anti-whiplash front head restraints', 'Antilock Brakes', 'Audio Controls On Steering Wheel', 'Automatic temperature control']\"\n",
      " \"['4-Wheel Disc Brakes', 'ABS', 'Active Suspension', 'Adaptive Cruise Control', 'Adjustable S', 'All Wheel Drive', 'ALTERNATOR170 AMPS', 'Aluminum Wheels']\"\n",
      " \"['A/C,8-Speed A/T,4x4,4-Wheel Disc Brakes,4-Wheel ABS,', 'Adjustable Steering Wheel', 'Alloy Wheels', 'Aluminum Wheels', 'AM/FM Stereo', 'Auto-Off Headlights', 'Back-Up Camera', 'Backup Camera']\"\n",
      " \"['Antilock Brakes', 'Audio Controls On Steering Wheel', 'Auxiliary Input', 'Backup Camera', 'Bluetooth', 'Brake Assist', 'Child Safety Locks', 'Du']\"\n",
      " \"['Audio Controls On Steering Wheel', 'Auto Leveling Headlights', 'Auxiliary Input', 'Backup Camera', 'Bluetooth', 'Child Safety Locks', 'Cooled Driver Seat', 'Diesel Engine']\"\n",
      " \"['Android Auto', 'Antilock Brakes', 'Apple CarPlay', 'Auxiliary Input', 'Backup Camera', 'Blind Spot Monitor', 'Bluetooth', 'bose premium 8-speaker a']\"\n",
      " \"['Engine3.6l v6DiVvtWith automatic stop/start (310 hp [231 kW] @ 6600 rpm271 lb-ft of torque [366 N-m] @ 5000 rpm) Transmission8-speed automatic Luxury preferred equipment group Includes Standard Equipment Wheels18in x 8in (45.7 cm x 20.3 cm) bright machined faced with Light Argent accents TiresP235/65r18 all-seasonH-ratedBlackwall Bronze dune metallic ($625.00 Value When New) SeatsFront bucket includes 8-way power driver seat adjuster Sahara beigeLeather seating surfaces with mini-perforated inserts with Jet Black accents Cadillac user experience with embedded navigationAm/fm stereo with 8in diagonal color information displayfour USB portstwo auxiliary power outletsauxiliary input jackNatural Voice RecognitionPhone Integration for Apple CarPlay and Android Auto capability for compatible phoneConnected Apps and Teen Driver ($1075.00 Value When New) LpoInterior protection package includes (CAV) All-Weather Cargo TrayLPO and (VAV) All-WeatherLPO ($280.00 Value When New) TireCompact spare includes lateral cargo net ($350.00 Value When New) Audio system featureBose studio surround sound 14-speaker system with surround amplifier Cargo netLateral mesh LpoAll-weather cargo tray ($185.00 Value When New) Tool kitRoad emergencySunroofpower UltraView double-sized glass roof that opens over first rowtilt-sliding with Express-Open and power sunshade Headlampshalogen (Upgradeable to (T4L) LED headlamps when (IO6) Cadillac user experience with embedded navigation is ordered.) Mirrorsoutside heatedpower-adjustablepower-folding and driver-side auto-dimmingbody-color Liftgaterear power with memory height Seatsheated driver and front passenger Steering wheelleather-wrapped Steering wheelheatedautomatic All-wheel drivewith twin-clutch system with driver mode select Suspension4-wheel independent Brakes4-wheel antilock4-wheel vented disc Rear Vision Camera Tire Pressure Monitoring System']\"\n",
      " \"['8-W', 'ADVANCED SECURITY PACKAGE', 'AIR CONDITIONING WITH DUAL ZONE CLIMATE CONTROL', 'Android Auto', 'Antilock Brakes', 'Apple CarPlay', 'AUDIO CONTROLS ON STEERING WHEEL', 'AUTOMATIC TRANSMISSION']\"\n",
      " \"['3.45 REAR AXLE RATIO...', 'BLACKLEATHER TRIMMED HEATED FRONT BUCKET SEATS.....2nd Row Heated Seats....', 'NORMAL DUTY SUSPENSION ......', 'ParkSense Rear Parking Sensors......', 'ParkView BACK-UP CAMERA....REVERSE SENSING.....', 'POWER SUNROOF.......', 'RADIO: UCONNECT 3C W/8.4 DISPLAY....NAVIGATION..... 8.4 Touchscreen DisplayRoadside Assistance &amp; 9-1-1 CallIntegrated Voice Command w/Bluetooth.......']\"\n",
      " \"['3.45 REAR AXLE RATIO(STD)', '4-Wheel Disc Brakes', 'ABS', 'Adjustable Steering Wheel', 'Aluminum Wheels', 'AM/FM Stereo', 'Auto-Dimming Rearview Mi', 'Automatic Headlights']\"\n",
      " \"['A/C,8-SPEED A/T,4-WHEEL DISC BRAKES,4-WHEEL ABS', 'ACTIVE SUSPENSION SYSTEM', 'ADJUSTABLE STEERING WHEEL', 'Alloy Wheels', 'ALUMINUM WHEELS', 'AM/FM STEREO', 'Android Auto', 'Antilock Brakes']\"\n",
      " \"['4-Wheel Disc Brakes', 'ABS', 'Adjustable Steering Wheel', 'AM/FM Stereo', 'Automatic Headlights', 'Auxiliary Audio Input', 'BLACKBLACK SUEDE SEATS W/BLACK STITCHING', 'Bluetooth Connection']\"\n",
      " \"['4-Wheel Disc Brakes', 'ABS', 'Aluminum Wheels', 'Automatic Headlights', 'CADILLAC USER EXPERIENCEAM/FM STEREOwith 8 diagonal color information displayfour USB portstwo auxiliary power outletsauxiliary input jackNatural Voice Recognition and Phone Integration for Apple CarPlay and Android Auto capability for compatible phone (STD)', 'CIRRUSLEATHER SEATING SURFACES WITH MINI-PERFORATED INSERTSwith Dark Titanium accents (With Diamond Cut aluminum trim.)', 'DRIVER AWARENESS PACKAGEincludes (HS1) Safety Alert Seat(UEU) Forward Collision Alert(UE4) Following Distance Indicator(UHX) Lane Keep Assist with Lane Departure Warning(UKJ) Front Pedestrian Braking(UHY) Low Speed Forward Automatic Braking and (TQ5) IntelliBeam', 'ENGINE3.6L V6DIVVTWITH AUTOMATIC STOP/START(310 hp [231 kW] @ 6600 rpm271 lb-ft of torque [366 N-m] @ 5000 rpm) (STD)']\"\n",
      " \"['ABS brakes,6 Speakers,4-Wheel Disc Brakes,3.45 Rear Axle Ratio,17in x 8.0in Aluminum Wheels', 'Air Conditioning', 'All Weather Trail Rated Package', 'Alloy Wheels', 'AM/FM radio', 'Anti-whiplash front head restraints', 'Antilock Brakes', 'Audio Controls On Steering Wheel']\"\n",
      " \"['ABS BRAKES,8 SPEAKERS,4-WHEEL INDEPENDENT SUSPENSION,4-WHEEL DISC BRAKES,3.20 AXLE RATIO', 'AIR CONDITIONING', 'AM/FM RADIO: SIRIUSXM', 'Android Auto', 'Antilock Brakes', 'Apple CarPlay', 'AUTOMATIC TEMPERATURE CONTROL', 'Auxiliary Input']\"\n",
      " \"['4x4', 'Active Seatbelts', 'Air Conditioning', 'Alarm', 'All Wheel ABS', 'Alloy Wheels', 'AM/FM CD/MP3', 'Android Auto']\"\n",
      " \"['4-Wheel Disc Brakes', 'ABS', 'Active Suspension', 'Adjustable Steering Wheel', 'Aluminum Wheels', 'AM/FM Stereo', 'Auto-Dimming Rearv', 'Automatic Headlights']\"\n",
      " \"['Alloy wheels', 'AM/FM radio: SiriusXM', 'Android Auto', 'Anti-whiplash front head restraints', 'Antilock Brakes', 'Apple CarPlay', 'Audio Controls On Steering Wheel', 'Audio memory']\"\n",
      " \"['Alloy Wheels', 'AM/FM', 'Antilock Brakes', 'Audio Controls On Steering Wheel', 'Auto Leveling Headlights', 'Auto-Off Headlights', 'Auxiliary Input', 'Backup Camera']\"\n",
      " \"['ABS brakes,6 Speakers,4-Wheel Disc Brakes,3.45 Rear Axle Ratio,17in x 8.0in Aluminum Wheels', 'Air Conditioning', 'Alloy Wheels', 'Alloy wheels', 'AM/FM radio', 'Anti-whiplash front head restraints', 'Antilock Brakes', 'Audio Controls On Steering Wheel']\"\n",
      " \"['3.45 REAR AXLE RATIO(STD)', '4-Wheel Disc Brakes', '99A 98 23110 23106 21797 81 81A JJCPO', 'ABS', 'Adjustable Steering Wheel', 'Aluminum Wheels', 'AM/FM Stereo', 'Auto-Dimming Rearview Mirror']\"\n",
      " \"['Alloy Wheels', 'Backup Camera', 'Bluetooth', 'Brake Assist', 'Heated Seats', 'Leather Seats', 'Memory Seat', 'PASSENGER']\"\n",
      " \"['4-Wheel Disc Brakes', 'ABS', 'Adjustable Steering Wheel', 'AM/FM Stereo', 'Automatic Headlights', 'Auxiliary Audio Input', 'BLACK BLACK SUEDE SEATS W/BLACK STITCHING', 'Bluetooth Connection']\"\n",
      " \"['Air Conditioning,4x4,4WD/AWD,20 inch Black Alloy Wheels', 'All Wheel Drive', 'Alloy Wheels', 'Alloy Wheels', 'AM/FM', 'Antilock Brakes', 'Audio Controls On Steering Wheel', 'Automatic Climate Control']\"\n",
      " \"['A/C,8-Speed', 'Adjustable Steering Wheel', 'Alloy Wheels', 'Aluminum Wheels', 'AM/FM Stereo', 'Android Auto', 'Antilock Brakes', 'Apple CarPlay']\"\n",
      " \"['Android Auto', 'Antilock Brakes', 'Apple CarPlay', 'Auxiliary Input', 'Backup Camera', 'Blind Spot Monitor', 'Child Safety Locks', 'delay-off headli']\"\n",
      " \"['***CERTIFIED***', '***LATE MODEL BUDGET FITTER***', '***LOW MILES***', '***PERFECT 1 OWNER CARFAX***', 'ABS brakes,6 Speakers,4-Wheel Disc Brakes,3.45 Rear Axle Ratio,17in x 8.0in Aluminum Wheels,1-Yr. SIRIUSXM Radio Service', 'Air Conditioning', 'Alloy Wheels', 'Alloy wheels']\"\n",
      " \"['ABS', 'Aluminum Wheels', 'AUDIO SYSTEM FEATUREBOSE STUDIO SURROUND SOUND 14-SPEAKER SYSTEMwith surround amplifier', 'Automatic Headlights', 'Auxiliary Audio Input', 'CADILLAC CUE INFORMATION AND MEDIA CONTROL SYSTEM WITH EMBEDDED NAVIGATIONAM/FM STEREOwith 8 diagonal color information displayfour USB portstwo auxiliary power outletsauxiliary input jackNatural Voice Recognition and Phone Integration for Apple CarPlay and Android Auto capability for compatible phone', 'CADILLAC CUE INFORMATION AND MEDIA CONTROL SYSTEMAM/FM STEREOwith 8 diagonal color information displayfour USB portstwo auxiliary power outletsauxiliary input jackNatural Voice Recognition and Phone Integration for Apple CarPlay and Android Auto capability for compatible phone', 'CRYSTAL WHITE TRICOAT']\"\n",
      " \"['3.45 REAR AXLE RATIO (STD)', '4-Wheel Disc Brakes', 'ABS', 'Adjustable Steering Wheel', 'Air Suspension', 'Aluminum Wheels', 'AM/FM Stereo', 'Automatic Headlights']\"\n",
      " \"['All Wheel Drive', 'Android Auto', 'Antilock Brakes', 'Apple CarPlay', 'Auxiliary Input', 'Backup Camera', 'Blind Spot Monitor', 'br']\"\n",
      " \"['ABS Anti-Lock Brakes,4 Wheel Drive', 'Air Conditioning', 'Alloy Wheels', 'Alloy Wheels', 'AM/FM Audio System', 'Antilock Brakes', 'Audio Controls On Steering Wheel', 'Auto Express Down Window']\"\n",
      " \"['3.09 REAR AXLE RATIO', '4-Wheel Disc Brakes', '9 AMPLIFIED SPEAKERS W/SUBWOOFER-inc: 506 Watt AmplifierActive Noise Control System', 'ABS', 'Aluminum Wheels', 'AM/FM Stereo', 'Automatic Headlights', 'BLACKLEATHER TRIMMED SEATS W/PERFORATED INSERTS']\"\n",
      " \"['* 3.6 LITER V6 ENGINE', '* 8 SPEED AUTOMATIC TRANSMISSION,17 ALUMINUM WHEELS', '4-Wheel Disc Brakes', 'ABS', 'Adjustable Steering Wheel', 'Aluminum Wheels', 'AM/FM Stereo', 'Automatic Headlights']\"\n",
      " \"['Antilock Brakes', 'Audio Controls On Steering Wheel', 'Auxiliary Input', 'Backup Camera', 'Bluetooth', 'Brake Assist', 'Braking assist hill start as', 'Child Safety Locks']\"\n",
      " \"['3.09 REAR AXLE RATIO', '4-Wheel Disc Brakes', '9 AMPLIFIED SPEAKERS W/SUBWOOFER-inc: 506 Watt AmplifierActive Noise Control System', 'ABS', 'Aluminum Wheels', 'BILLET SILVER METALLIC CLEARCOAT', 'BLACKLEATHER TRIMMED SEATS W/PERFORATED INSERTS', 'BLIND SPOT &amp; CROSS PATH DETECTION-inc: Auto Dim Exterior Passenger Mirror']\"\n",
      " \"['Android Auto', 'Antilock Brakes', 'Apple CarPlay', 'Auxiliary Input', 'Backup Camera', 'Blind Spot Monitor', 'Child Safety Locks', 'driver adjustable lumba']\"\n",
      " \"['Alloy Wheels', 'ALUMALLOY WHEELS,3 PASSENGER REAR SEAT', 'AM/FM STEREO RADIO', 'Android Auto', 'ANTI-LOCK BRAKING SYSTEM', 'Antilock Brakes', 'Apple CarPlay', 'AUTO HEADLAMP ON/OFF-DELAY']\"\n",
      " \"['Antilock Brakes', 'Audio Controls On Steering Wheel', 'Auxiliary Input', 'Bluetooth', 'Brake Assist', 'Child Safety Locks', 'Dual Climate Control', 'Dual Stage Drive']\"\n",
      " \"['4-Wheel Disc Brakes', 'ABS', 'Active Suspension', 'Adjustable Steering Wheel', 'All Wheel Drive', 'Aluminum Wheels', 'AM/FM Stereo', 'Auto-Dimming Re']\"\n",
      " \"['Android Auto', 'Anti-whiplas', 'Apple CarPlay', 'Audio Controls On Steering Wheel', 'Audio memory', 'Auto-dimming door mirrors', 'Auto-dimming Rear-View mirror', 'Automatic temperature control']\"\n",
      " \"['Alloy Wheels', 'Android Auto', 'Antilock Brakes', 'Apple CarPlay', 'AUT', 'AUXILIARY AUDIO INPUT', 'Auxiliary Input', 'BACK-UP CAMERA']\"\n",
      " \"['3.45 REAR AXLE RATIO(STD)', '4-Wheel Disc Brakes', 'ABS', 'Adjustable Steering', 'Air Suspension', 'Aluminum Wheels', 'AM/FM Stereo', 'Automatic Headlights']\"\n",
      " \"['295 hp horsepower', '3.6 liter V6 DOHC engine', '4 Doors', '4-wheel ABS brakes', '4WD Type - Automatic full-time', 'Air conditioning with dual zone climate control', 'Alloy Wheels', 'Aluminum Wheels']\"\n",
      " \"['AIR CONDITIONED SEAT(S)', 'AIR CONDITIONING', 'All Wheel Drive', 'Alloy Wheels', 'ALUMALLOY WHEELS', 'AM/FM STEREO RADIO', 'Android Auto', 'Antilock Brakes']\"\n",
      " \"['Antilock Brakes', 'Audio Controls On Steering Wheel', 'Auxiliary Input', 'Backup Camera', 'Bluetooth', 'Brake Assist', 'Child Safety Locks', 'Dual Brig']\"\n",
      " \"['19 SPEAKERS HIGH PERFORMANCE AUDIO-inc: 825 Watt Amplifier', '3.09 REAR AXLE RATIO', '4-Wheel Disc Brakes', 'ABS', 'Adjustable Steering Wheel,', 'Air Suspension', 'Aluminum Wheels', 'AM/FM Stereo']\"\n",
      " \"['Alloy Wheels', 'Android Auto', 'Antilock Brakes', 'Apple CarPlay', 'Auxiliary Input', 'Backup Camera', 'CADILLAC USER EXPERIENCE AM/FM STEREO WITH 8', 'CARGO NET LATERAL MESH']\"\n",
      " \"['Alloy Wheels', 'Alloy Wheels', 'Antilock Brakes', 'Audio Controls On Steering Wheel', 'Automatic Headlights', 'Auxiliary Input', 'Backup Camera', 'Bluetooth']\"\n",
      " \"['Alloy Wheels', 'Audio Controls On Steering Wheel', 'Auxiliary Input', 'Backup Camera', 'Bluetooth', 'Child Safety Locks', 'Climate controlled - Hea', 'Clock - In-radio display']\"\n",
      " \"['Antilock Brakes', 'Audio Controls On Steering Wheel', 'Automatic temperature cont', 'Auxiliary Input', 'Backup Camera', 'Bluetooth', 'Brake Assist', 'Brake assist']\"\n",
      " \"['Android Auto', 'Antilock Brakes', 'Apple CarPlay', 'Auxiliary Input', 'Backup Camera', 'Brake Assist', 'Child Safety Locks', 'Dual Climate Control']\"\n",
      " \"['Antilock Brakes', 'Auxiliary Input', 'Backup Camera', 'Bluetooth', 'Brake Assist', 'Child Safety Locks', 'Dual Climate Control', 'Four Wheel Drive']\"\n",
      " \"['Antilock Brakes', 'Audio Controls On Steering Wheel', 'Auxiliary Input', 'Backup Camera', 'Bluetooth', 'Bra', 'Brake Assist', 'Bumpers: body-color']\"\n",
      " \"['Active Seatbelts', 'Air Conditioning', 'Alarm', 'All Wheel ABS', 'AM/FM CD/DVD', 'AM/FM CD/MP3', 'Antilock Brakes', 'Audio Controls On Steering Wheel']\"\n",
      " \"['A/C,8-Speed A/T,4x4,4-Wheel Disc Brakes,4-Wheel A', 'Adjustable Steering Wheel', 'Alloy Wheels', 'Aluminum Wheels', 'AM/FM Stereo', 'Antilock Brakes', 'Audio Controls On Steering Wheel', 'Auto Transmission w/Manual Mode']\"\n",
      " \"['ABS brakes,7 &amp; 4 Pin Wiring Harness,4-Wheel Disc Brakes,180 Amp Alternator,17&#x27; x 8.0&#x27; Aluminum Wheels', 'Air Conditioning', 'AM/FM radio', 'Anti-whiplash front head restraints', 'Antilock Brakes', 'Automatic temperature control', 'Auxiliary Input', 'Backup Camera']\"\n",
      " \"['Engine3.6l v6DiVvtWith automatic stop/start (310 hp [231 kW] @ 6600 rpm271 lb-ft of torque [366 N-m] @ 5000 rpm) Transmission8-speed automatic Platinum preferred equipment group Includes Standard Equipment Wheels20in x 8in (50.8 cm x 20.3 cm) 12-spoke fully polished Crystal white tricoat ($600.00 Value When New) SeatsFront bucket includes 8-way power driver seat adjuster Maple sugarSemi-aniline full leather seats with chevron perforated inserts with Jet Black accents Cadillac user experience with embedded navigationAm/fm stereo with 8in diagonal color information displayfour USB portstwo auxiliary power outletsauxiliary input jackNatural Voice Recognition and Phone Integration for Apple CarPlay and Android Auto capability for compatible phone Driver assist package includes (KSG) adaptive cruise control(AX7) Automatic Safety Belt Tightening(UFQ) Automatic Parking Assist(UGN) Automatic Collision Braking and (UVZ) Forward/Reverse Automatic Braking ($1595.00 Value When New) LpoInterior protection package includes (CAV) All-Weather Cargo TrayLPO and (VAV) All-WeatherLPO ($280.00 Value When New) TireCompact spare includes lateral cargo net ($350.00 Value When New) Cruise controlAadaptiveFull-speed rangeReverts to cruise control Cargo netLateral mesh LpoAll-weather cargo tray ($185.00 Value When New) Automatic collision braking Automatic parking assist includes frontrearlateral-front parking assist and semi-automatic steering Forward/reverse automatic braking Automatic safety belt tightening Tool kitRoad emergencySunroofpower UltraView double-sized glass roof that opens over first rowtilt-sliding with Express-Open and power sunshade Mirrorsoutside heatedpower-adjustablepower-folding and driver-side auto-dimmingbody-color Hands-Free Liftgateopen and closeprogrammable memory height Seatsheated rear outboard seating positions Steering wheelleather-wrapped Steering wheelheatedautomatic All-wheel drivewith twin-clutch system with driver mode select Brakes4-wheel antilock4-wheel']\"\n",
      " \"['Android Auto', 'Antilock Brakes', 'Apple CarPlay', 'Audio Controls On Steering Wheel', 'Auxiliary Input', 'Backup Camera', 'Blind Spot Monitor', 'Bluetooth']\"\n",
      " \"['(ABS) Anti-Lock Braking System', 'Air Conditioning - Front - Dual Zones', 'Alloy Wheels', 'AM/FM Stereo Radio', 'Anti Theft/Security System', 'Antilock Brakes', 'Audio Controls On Steering Wheel', 'Auxiliary Audio Input']\"\n",
      " \"['ADAPTIVE REMOTE START', 'AIR BAG', 'AIR BAGS', 'AIR FILTER', 'AIR VENTS', 'Alloy Wheels', 'ALTERNATOR', 'Android Auto']\"\n",
      " \"['Adaptive Cruise Control', 'Alloy Wheels', 'Audio Controls On Steering Wheel', 'Auto Leveling Headlights', 'Auxiliary Input', 'Backup Camera', 'Blind Spot Monitor', 'Bluetooth']\"\n",
      " \"['18 WHEEL &amp; 8.4 RADIO GROUP-inc: Nav-Capable! See Dealer for DetailsWheels: 18 x 8.0 Satin Silver AluminumTires: P265/60R18 BSW AS All TerrainRear View Auto Dim MirrorUconnect Access6 Month Trial (Registration Required)For Details Visit DriveUconnect.com8.4 Touchscreen DisplayRoadside Assistance &amp; 9-1-1 CallInstrument Cluster w/Off-Road DispPagesRadio: Uconnect 3C w/8.4 DisplaySiriusXM Satellite RadioFor More InfoCall 800-643-21121-Year SiriusXM Radio Service', '4-Wheel Disc Brakes', 'ABS', 'ALL WEATHER TRAIL RATED PACKAGE-inc: Engine Block HeaterFuel Tank Skid Plate ShieldTransfer Case Skid Plate ShieldUnderbody Skid PlateMOPAR Cargo Area LinerFront Suspension Skid PlateTow HooksHeated Steering WheelSelec-Terrain SystemQuadra-Trac II 4WD SystemMOPAR Slush MatsHeated Front SeatsSkid Plate GroupRemote Start SystemHill Descent ControlTrail Rated BadgeFull Size Spare TireSteel Spare Wheel', 'Aluminum Wheels', 'BLACKCLOTH LOW BACK BUCKET SEATS', 'Brake Assist', 'Daytime Running Ligh']\"\n",
      " \"['Air bagPassenger Sensing System (Always use safety belts and child restraints. Children are safer when properly secured in a rear seat in the appropriate child restraint. See the Owner&#x27;s Manual for more information.)', 'Air bagsdriver and front passenger frontal (dual stage for passenger)front and rear head curtaindriver side knee (Always use safety belts and child restraints. Children are safer when properly secured in a rear seat in the appropriate child restraint. See the Owner&#x27;s Manual for more information.)', 'Cadillac Connected Access with 10 years of standard connectivity which enables services such asVehicle DiagnosticsDealer Maintenance NotificationCadillac Smart DriverMarketplace and more EFFECTIVE WITH SALES STARTING 5/1/2018 (Limitations apply. Not transferable. Standard connectivity available to original purchaser for ten years from the date of initial vehicle purchase for model year 2018 or newer Cadillac vehicles. See onstar.com for details and further plan limitations. Connected Access does not include emergency or security services. Availability and additional services enabled by Connected Access are subject to change.)', 'Daytime Running LampsLED', 'Door locksrear child security', 'Electric Parking Brake', 'Following Distance Indicator', 'Forward Collision Alert']\"\n",
      " \"['Antilock Brakes', 'Audio Controls On Steering Wheel', 'Auto Leveling Headlights', 'Auxiliary Input', 'Backup Camera', 'Blind Spot Monitor', 'Bluetooth', 'Child Safety Locks']\"\n",
      " \"['ABS And Driveline Traction Control', 'Airbag Occupancy Sensor', 'Curtain 1st And 2nd Row Airbags', 'Driver Knee Airbag', 'Dual Stage Driver And Passenger Front Airbags', 'Dual Stage Driver And Passenger Seat-Mounted Side Airbags', 'Electronic Stability Control (ESC) And Roll Stability Control (RSC)', 'Outboard Front Lap And Shoulder Safety Belts -inc: Rear Center 3 PointHeight Adjusters and Pretensioners']\"\n",
      " \"['Antilock Brakes', 'Audio Controls On Steering Wheel', 'Auxiliary Input', 'BLACK CLOTH LOW BACK BUCKET SEATS', 'Bluetooth', 'Brake Assist', 'BRIGHT WHITE CLEARCOAT', 'Child Safety Locks']\"\n",
      " \"['Antilock Brakes', 'Audio Controls On Steering Wheel', 'Auxiliary Input', 'Backup Camera', 'Bluetooth', 'Brake Assist', 'Child Safety Locks', 'Diesel Engine']\"\n",
      " \"['4-Wheel Disc Brakes', 'ABS', 'Active Suspension', 'Adjustable Steering Wheel', 'Aluminum Wheels', 'AM/FM Stereo', 'Auto-Dimming Rearvi', 'Automatic Headlights']\"\n",
      " \"['Air Conditioning,4x4', 'Alloy Wheels', 'Alloy Wheels', 'Antilock Brakes', 'Audio Controls On Steering Wheel', 'Auxiliary Input', 'Backup Camera', 'Bluetooth']\"\n",
      " \"['3.45 REAR AXLE RATIO(STD)', 'Alloy Wheels', 'Auto Climate Cont', 'BLACK/DARK SIENNA BROWNLEATHER TRIMMED BUCKET SEATS', 'Body-Colored Front Bumper w/Black Rub Strip/Fascia Accent and Chrome Bumper Insert', 'Body-Colored Grille w/Chrome Accents', 'Body-Colored Rear Step Bumper w/Black Rub Strip/Fascia Accent and Chrome Bumper Insert', 'BRIGHT WHITE CLEARCOAT']\"\n",
      " \"['ABS brakes,6 Speakers,4-Wheel Disc Brakes,3.45 Rear Axle Ratio,17in x 8.0in Aluminum Wheels', 'Air Conditioning', 'Alloy Wheels', 'Alloy wheels / Premium Wheels', 'AM/FM radio', 'Anti-whiplash front head restraints', 'Antilock Brakes', 'Audio Controls On Steering Wheel']\"\n",
      " \"['ABS brakes', 'ABS BREAKING SYSTEM WITH TRACTION CONTROL,3.6L V6 24V ENGINE,8 SPEED AUTOMATIC TRANSMISSION', 'Air Conditioning', 'Alloy wheels', 'AM/FM radio', 'Anti-whiplash front head restraints', 'Apple CarPlay', 'Automatic temperature control']\"\n",
      " \"['*4X4', '*ACCIDENT FREE TITLE', '*NEW TIRES', '*ONE OWNER', '*TOUCHSCREEN', '*U-CONNECT', 'ABS brakes,7 &amp; 4 Pin Wiring Harness,6 Speakers,4-Wheel Disc Brakes,3.45 Rear Axle Ratio,180 Amp Alternator,17in x 8.0in Aluminum Wheels,1-Yr. SIRIUSXM Radio Service', 'Air Conditioning']\"\n",
      " \"['a/c,8-speed a/t,4-wheel disc brakes,4-wheel abs', 'adjustable steering wheel', 'Alloy Wheels', 'aluminum wheels', 'am/fm stereo', 'Android Auto', 'Antilock Brakes', 'Apple CarPlay']\"\n",
      " \"['ABS brakes', 'Air Conditioning', 'Auto-dimming door mirrors', 'Automatic temperature control', 'Body-Color Heated Power-Adjustable Outside Mirrors', 'Bodyside moldings', 'Bose Studio Surround Sound w/14 Speakers', 'Brake assist']\"\n",
      " \"['ABS,4-Wheel Disc Brakes,18 WHEEL &amp; 8.4 RADIO GROUP -inc: Nav-Capable! See Dealer for Details Rear View Auto Dim Mirror w/Mic', 'Adjustable Steering Wheel', 'Alloy Wheels', 'Aluminum Wheels', 'AM/FM Stereo', 'Antilock Brakes', 'Audio Controls On Steering Wheel', 'Automatic Headlights']\"\n",
      " \"['Alloy Wheels', 'Android Auto', 'Antilock Brakes', 'Apple CarPlay', 'AUX', 'Auxiliary Input', 'BACK UP SONAR', 'Backup Camera']\"\n",
      " \"['**', 'ABS brakes,6 Speakers,4-Wheel Disc Brakes,3.45 Rear Axle Ratio,18in x 8.0in Aluminum Wheels,18in Wheel &amp; 8.4in Radio Group,1-Yr. SIRIUSXM Radio Service,000 Mile Limited Power train Warranty. Please ask your salesperson for additional', 'Air Conditioning', 'Alloy Wheels', 'Alloy wheels', 'AM/FM radio', 'Anti-whiplash front head restraints', 'Antilock Brakes']\"\n",
      " \"['ABS brakes,8.4in Touchscreen Display,4-Wheel Disc Brakes,20in Alloy Wheels,1-Year SiriusXM Radio Service', 'Air Conditioning', 'Alloy Wheels', 'AM/FM radio', 'Anti-whiplash front head restraints', 'Antilock Brakes', 'Automatic temperature control', 'Auxiliary Input']\"\n",
      " \"['Air Con', 'AM/FM radio: SiriusXM', 'Anti-whiplash front head restraints', 'Antilock Brakes', 'Audio Controls On Steering Wheel', 'Audio memory', 'Auto-dimming door mirrors', 'Auto-dimming Rear-View mirror']\"\n",
      " \"['ACCIDENT RESPONSE', 'AIR CONDITIONED SEATS', 'Alloy Wheels', 'ALLOY WHEELS', 'AM/FM STEREO', 'Android Auto', 'ANTI-LOCK BRAKES', 'Antilock Brakes']\"\n",
      " \"['abs brakes', 'adjustable foot pedals', 'air conditioning', 'Alloy Wheels', 'alloy wheels', 'am/fm radio', 'Antilock Brakes', 'Auxiliary Input']\"\n",
      " \"['ABS brakes', 'Air Conditioning', 'Alloy wheels', 'AM/FM radio: SiriusXM', 'Automatic temperature control', 'Bodyside moldings', 'Bose Premium 8-Speaker Audio System Feature', 'Brake assist']\"\n",
      " \"['Antilock Brakes', 'Auxiliary Input', 'Backup Camera', 'Bluetooth', 'Brake Assist', 'Child Safety Locks', 'Dela', 'Driver door bin']\"\n",
      " \"['Antilock Brakes', 'Audio Controls On Steering Wheel', 'Auxiliary Input', 'Backup Camera', 'Bluetooth', 'Brake Assist', 'Child Safety Locks', 'Delay-off headli']\"\n",
      " \"['4-Wh', 'ABS', 'ADVANCED SECURITY PACKAGEincludes (N06) locking steering column(NWM) door lock and latch shields(UTR) self-powered Theft-Deterrent Alarm System(UTU) inclination sensor(UTV) vehicle interior movement sensor and (PB4) locking wheel lugs', 'AUDIO SYSTEM FEATUREBOSE STUDIO SURROUND SOUND 14-SPEAKER SYSTEMwith surround amplifier', 'CADILLAC CUE INFORMATION AND MEDIA CONTROL SYSTEM WITH EMBEDDED NAVIGATIONAM/FM STEREOwith 8 diagonal color information displayfour USB portstwo auxiliary power outletsauxiliary input jackNatural Voice Recognition and Phone Integration for Apple CarPlay and Android Auto capability for compatible phone', 'CARGO NETLATERAL MESH', 'DOOR LOCK AND LATCH SHIELDS', 'DRIVER AWARENESS PACKAGEincludes Safety Alert Seat(UEU) Forward Collision Alert(UE4) Following Distance Indicator(UHX) Lane Keep Assist with Lane Departure Warning(UKJ) front pedestrian detection(UHY) Front Automatic Braking and (TQ5) IntelliBeam headlamps']\"\n",
      " \"['(*23H)LIMITED-inc: Engine: 3.6L V6 24V VVT UPG I w/ESSTransmission: 8-Speed Automatic (845RE)', '(PAINT)BRILLIANT BLACK CRYSTAL PEARLCOAT (BLACK ONYX CRYSTAL PEARL COAT)', '(SEATS)BLACKLEATHER TRIMMED SEATS W/PERFORATED INSERTS', '*LUXURY GRP II-inc: Ventilated Front Seats506 Watt AmplifierBi-Xenon HID HeadlampsAuto High Beam Headlamp ControlPower Tilt/Telescope Steering ColumnRain Sensitive Windshield WipersAutomatic Headlamp Leveling SystemDual-Pane Panoramic SunroofLED Daytime Running Headlamps9 Amplified Speakers w/SubwooferRadio: Uconnect 8.4Nav-Capable! See Dealer for DetailsUconnect AccessFor Details Visit DriveUconnect.com8.4 Touchscreen DisplayRoadside Assistance &amp; 9-1-1 CallIntegrated Voice Command w/BluetoothSiriusXM Satellite Radio1 year SiriusXM Radio ServiceFor more informationcall 800-643-2112NOT AVAILABLE in AlaskaHawaiiPuerto RicoStThomas/Virgin IslandsBarbadosDominican Republic and Guam', '-RADIO W/ NAV: UCONNECT 8.4 NAV-inc: GPS NavigationHD RadioUconnect AccessFor Details Visit DriveUconnect.com8.4 Touchscreen DisplayRoadside Assistance &amp; 9-1-1 CallIntegrated Voice Command w/BluetoothSiriusXM Satellite Radio1 year SiriusXM Radio ServiceFor more informationcall 800-643-2112NOT AVAILABLE in AlaskaHawaiiPuerto RicoStThomas/Virgin IslandsBarbadosDominican Republic and Guam', '4-Wheel Disc Brakes', 'ABS', 'Aluminum Wheels']\"\n",
      " \"['75th Anniversary Luxury Group (DISC) - Includ', '8-way power adjustable drivers seat', 'Air conditioning with dual zone climate control', 'Antilock Brakes', 'Audio Controls On Steering Wheel', 'Audio controls on steering wheel', 'Automatic Transmission', 'Auxiliary Input']\"\n",
      " \"['ABS Brakes,4x4,4WD/AWD', 'Air Conditioning', 'Alarm System', 'Alloy Wheels', 'Alloy Wheels', 'AM/FM', 'Anti-Lock Brakes', 'Antilock Brakes']\"]\n"
     ]
    }
   ],
   "source": [
    "feature_analyzer('VehFeats')"
   ]
  },
  {
   "cell_type": "code",
   "execution_count": 86,
   "id": "eda54094",
   "metadata": {},
   "outputs": [],
   "source": [
    "x['VehFeatsCount'] = x['VehFeats'].apply(lambda x: len(x.split(',')))"
   ]
  },
  {
   "cell_type": "code",
   "execution_count": 87,
   "id": "7a96ebf6",
   "metadata": {},
   "outputs": [
    {
     "data": {
      "text/plain": [
       "0"
      ]
     },
     "execution_count": 87,
     "metadata": {},
     "output_type": "execute_result"
    }
   ],
   "source": [
    "x['VehFeatsCount'].isnull().sum()"
   ]
  },
  {
   "cell_type": "code",
   "execution_count": 88,
   "id": "5e2d552a",
   "metadata": {},
   "outputs": [
    {
     "name": "stdout",
     "output_type": "stream",
     "text": [
      "Numerical Feature\n"
     ]
    },
    {
     "data": {
      "image/png": "[encoded data removed]",
      "text/plain": [
       "<Figure size 640x480 with 1 Axes>"
      ]
     },
     "metadata": {},
     "output_type": "display_data"
    }
   ],
   "source": [
    "feature_analyzer('VehFeatsCount')"
   ]
  },
  {
   "cell_type": "code",
   "execution_count": 89,
   "id": "8661538f",
   "metadata": {},
   "outputs": [
    {
     "name": "stdout",
     "output_type": "stream",
     "text": [
      "Total count:  5012\n"
     ]
    },
    {
     "data": {
      "text/html": [
       "<div>\n",
       "<style scoped>\n",
       "    .dataframe tbody tr th:only-of-type {\n",
       "        vertical-align: middle;\n",
       "    }\n",
       "\n",
       "    .dataframe tbody tr th {\n",
       "        vertical-align: top;\n",
       "    }\n",
       "\n",
       "    .dataframe thead th {\n",
       "        text-align: right;\n",
       "    }\n",
       "</style>\n",
       "<table border=\"1\" class=\"dataframe\">\n",
       "  <thead>\n",
       "    <tr style=\"text-align: right;\">\n",
       "      <th></th>\n",
       "      <th></th>\n",
       "      <th>Counts</th>\n",
       "      <th>Percent</th>\n",
       "    </tr>\n",
       "    <tr>\n",
       "      <th>Column</th>\n",
       "      <th>Value</th>\n",
       "      <th></th>\n",
       "      <th></th>\n",
       "    </tr>\n",
       "  </thead>\n",
       "  <tbody>\n",
       "    <tr>\n",
       "      <th rowspan=\"11\" valign=\"top\">VehFeatsCount</th>\n",
       "      <th>8</th>\n",
       "      <td>4749</td>\n",
       "      <td>94.752594</td>\n",
       "    </tr>\n",
       "    <tr>\n",
       "      <th>9</th>\n",
       "      <td>114</td>\n",
       "      <td>2.274541</td>\n",
       "    </tr>\n",
       "    <tr>\n",
       "      <th>12</th>\n",
       "      <td>58</td>\n",
       "      <td>1.157223</td>\n",
       "    </tr>\n",
       "    <tr>\n",
       "      <th>11</th>\n",
       "      <td>39</td>\n",
       "      <td>0.778132</td>\n",
       "    </tr>\n",
       "    <tr>\n",
       "      <th>13</th>\n",
       "      <td>26</td>\n",
       "      <td>0.518755</td>\n",
       "    </tr>\n",
       "    <tr>\n",
       "      <th>10</th>\n",
       "      <td>12</td>\n",
       "      <td>0.239425</td>\n",
       "    </tr>\n",
       "    <tr>\n",
       "      <th>15</th>\n",
       "      <td>5</td>\n",
       "      <td>0.099761</td>\n",
       "    </tr>\n",
       "    <tr>\n",
       "      <th>14</th>\n",
       "      <td>4</td>\n",
       "      <td>0.079808</td>\n",
       "    </tr>\n",
       "    <tr>\n",
       "      <th>1</th>\n",
       "      <td>2</td>\n",
       "      <td>0.039904</td>\n",
       "    </tr>\n",
       "    <tr>\n",
       "      <th>7</th>\n",
       "      <td>2</td>\n",
       "      <td>0.039904</td>\n",
       "    </tr>\n",
       "    <tr>\n",
       "      <th>6</th>\n",
       "      <td>1</td>\n",
       "      <td>0.019952</td>\n",
       "    </tr>\n",
       "  </tbody>\n",
       "</table>\n",
       "</div>"
      ],
      "text/plain": [
       "                     Counts    Percent\n",
       "Column        Value                   \n",
       "VehFeatsCount 8        4749  94.752594\n",
       "              9         114   2.274541\n",
       "              12         58   1.157223\n",
       "              11         39   0.778132\n",
       "              13         26   0.518755\n",
       "              10         12   0.239425\n",
       "              15          5   0.099761\n",
       "              14          4   0.079808\n",
       "              1           2   0.039904\n",
       "              7           2   0.039904\n",
       "              6           1   0.019952"
      ]
     },
     "execution_count": 89,
     "metadata": {},
     "output_type": "execute_result"
    }
   ],
   "source": [
    "single_value_counts_info('VehFeatsCount')"
   ]
  },
  {
   "cell_type": "code",
   "execution_count": 90,
   "id": "399f5a4b",
   "metadata": {},
   "outputs": [],
   "source": [
    "categorical_features.append('VehFeats')"
   ]
  },
  {
   "cell_type": "markdown",
   "id": "39305677",
   "metadata": {},
   "source": [
    "15. VehFuel"
   ]
  },
  {
   "cell_type": "code",
   "execution_count": 91,
   "id": "91465cd8",
   "metadata": {},
   "outputs": [
    {
     "name": "stdout",
     "output_type": "stream",
     "text": [
      "Categorical feature\n",
      "Number of Unique values: 4\n",
      "Missing values 0, % missing values 0.0\n",
      "\n",
      "Unique Values:\n",
      "['Gasoline' 'Diesel' 'E85 Flex Fuel' 'Unknown']\n"
     ]
    }
   ],
   "source": [
    "feature_analyzer('VehFuel')"
   ]
  },
  {
   "cell_type": "code",
   "execution_count": 92,
   "id": "85c491c6",
   "metadata": {},
   "outputs": [
    {
     "name": "stdout",
     "output_type": "stream",
     "text": [
      "Total count:  5012\n"
     ]
    },
    {
     "data": {
      "text/html": [
       "<div>\n",
       "<style scoped>\n",
       "    .dataframe tbody tr th:only-of-type {\n",
       "        vertical-align: middle;\n",
       "    }\n",
       "\n",
       "    .dataframe tbody tr th {\n",
       "        vertical-align: top;\n",
       "    }\n",
       "\n",
       "    .dataframe thead th {\n",
       "        text-align: right;\n",
       "    }\n",
       "</style>\n",
       "<table border=\"1\" class=\"dataframe\">\n",
       "  <thead>\n",
       "    <tr style=\"text-align: right;\">\n",
       "      <th></th>\n",
       "      <th></th>\n",
       "      <th>Counts</th>\n",
       "      <th>Percent</th>\n",
       "    </tr>\n",
       "    <tr>\n",
       "      <th>Column</th>\n",
       "      <th>Value</th>\n",
       "      <th></th>\n",
       "      <th></th>\n",
       "    </tr>\n",
       "  </thead>\n",
       "  <tbody>\n",
       "    <tr>\n",
       "      <th rowspan=\"4\" valign=\"top\">VehFuel</th>\n",
       "      <th>Gasoline</th>\n",
       "      <td>4662</td>\n",
       "      <td>93.016760</td>\n",
       "    </tr>\n",
       "    <tr>\n",
       "      <th>E85 Flex Fuel</th>\n",
       "      <td>310</td>\n",
       "      <td>6.185156</td>\n",
       "    </tr>\n",
       "    <tr>\n",
       "      <th>Diesel</th>\n",
       "      <td>35</td>\n",
       "      <td>0.698324</td>\n",
       "    </tr>\n",
       "    <tr>\n",
       "      <th>Unknown</th>\n",
       "      <td>5</td>\n",
       "      <td>0.099761</td>\n",
       "    </tr>\n",
       "  </tbody>\n",
       "</table>\n",
       "</div>"
      ],
      "text/plain": [
       "                       Counts    Percent\n",
       "Column  Value                           \n",
       "VehFuel Gasoline         4662  93.016760\n",
       "        E85 Flex Fuel     310   6.185156\n",
       "        Diesel             35   0.698324\n",
       "        Unknown             5   0.099761"
      ]
     },
     "execution_count": 92,
     "metadata": {},
     "output_type": "execute_result"
    }
   ],
   "source": [
    "single_value_counts_info('VehFuel')"
   ]
  },
  {
   "cell_type": "code",
   "execution_count": 93,
   "id": "0d3f0f08",
   "metadata": {},
   "outputs": [],
   "source": [
    "categorical_features.append('VehFuel')"
   ]
  },
  {
   "cell_type": "markdown",
   "id": "ccb89184",
   "metadata": {},
   "source": [
    "16. VehHistory "
   ]
  },
  {
   "cell_type": "code",
   "execution_count": 94,
   "id": "024800c0",
   "metadata": {},
   "outputs": [
    {
     "name": "stdout",
     "output_type": "stream",
     "text": [
      "Categorical feature\n",
      "Number of Unique values: 32\n",
      "Missing values 0, % missing values 0.0\n",
      "\n",
      "Unique Values:\n",
      "['1 Owner, Buyback Protection Eligible'\n",
      " '1 Owner, Non-Personal Use Reported, Buyback Protection Eligible'\n",
      " '1 Owner, Accident(s) Reported, Non-Personal Use Reported, Buyback Protection Eligible'\n",
      " '1 Owner, Accident(s) Reported, Buyback Protection Eligible'\n",
      " '0 Owners, Accident(s) Reported, Non-Personal Use Reported, Title Issue(s) Reported'\n",
      " '2 Owners, Non-Personal Use Reported, Buyback Protection Eligible'\n",
      " '2 Owners, Buyback Protection Eligible'\n",
      " '0 Owners, Buyback Protection Eligible'\n",
      " '1 Owner, Title Issue(s) Reported'\n",
      " '2 Owners, Accident(s) Reported, Buyback Protection Eligible'\n",
      " '0 Owners, Accident(s) Reported, Buyback Protection Eligible'\n",
      " '3 Owners, Buyback Protection Eligible'\n",
      " '1 Owner, Accident(s) Reported, Title Issue(s) Reported'\n",
      " '1 Owner, Title Issue(s) Reported, Buyback Protection Eligible'\n",
      " '0 Owners, Non-Personal Use Reported, Buyback Protection Eligible'\n",
      " '3 Owners, Non-Personal Use Reported, Buyback Protection Eligible'\n",
      " '2 Owners, Accident(s) Reported, Non-Personal Use Reported, Buyback Protection Eligible'\n",
      " '1 Owner, Accident(s) Reported, Non-Personal Use Reported, Title Issue(s) Reported, Buyback Protection Eligible'\n",
      " '4 Owners, Buyback Protection Eligible'\n",
      " '1 Owner, Non-Personal Use Reported, Title Issue(s) Reported'\n",
      " '2 Owners, Non-Personal Use Reported, Title Issue(s) Reported, Buyback Protection Eligible'\n",
      " '3 Owners, Accident(s) Reported, Title Issue(s) Reported'\n",
      " '2 Owners, Accident(s) Reported, Title Issue(s) Reported'\n",
      " '0 Owners, Accident(s) Reported, Title Issue(s) Reported, Buyback Protection Eligible'\n",
      " '1 Owner, Non-Personal Use Reported, Title Issue(s) Reported, Buyback Protection Eligible'\n",
      " '2 Owners, Title Issue(s) Reported' '1 Owner'\n",
      " '1 Owner, Accident(s) Reported, Title Issue(s) Reported, Buyback Protection Eligible'\n",
      " '3 Owners, Accident(s) Reported, Buyback Protection Eligible'\n",
      " '2 Owners, Accident(s) Reported, Non-Personal Use Reported, Title Issue(s) Reported'\n",
      " '2 Owners'\n",
      " '2 Owners, Accident(s) Reported, Title Issue(s) Reported, Buyback Protection Eligible']\n"
     ]
    }
   ],
   "source": [
    "feature_analyzer('VehHistory')"
   ]
  },
  {
   "cell_type": "code",
   "execution_count": 95,
   "id": "ddb87b48",
   "metadata": {},
   "outputs": [
    {
     "name": "stdout",
     "output_type": "stream",
     "text": [
      "['Accident(s) Reported', '1 Owner', '2 Owners', 'Title Issue(s) Reported', '4 Owners', '3 Owners', '0 Owners', 'Non-Personal Use Reported', 'Buyback Protection Eligible']\n"
     ]
    }
   ],
   "source": [
    "unique_labels = set()\n",
    "\n",
    "for entry in x.VehHistory.unique():\n",
    "    # Split by comma and strip each substring to remove leading/trailing spaces\n",
    "    labels = [label.strip() for label in entry.split(',')]\n",
    "    unique_labels.update(labels)\n",
    "\n",
    "# Convert set back to a list\n",
    "unique_labels_list = list(unique_labels)\n",
    "print(unique_labels_list)"
   ]
  },
  {
   "cell_type": "markdown",
   "id": "2af83849",
   "metadata": {},
   "source": [
    "1. Extract the number of owners.\n",
    "2. Create a binary feature to indicate if accidents were reported.\n",
    "3. Create a binary feature to indicate if the vehicle had non-personal use.\n",
    "4. Create a binary feature to indicate if there's a title issue.\n",
    "5. Create a binary feature to indicate if there's buyback protection eligibility."
   ]
  },
  {
   "cell_type": "code",
   "execution_count": 96,
   "id": "3ebae425",
   "metadata": {},
   "outputs": [],
   "source": [
    "# Extract number of owners and create a new column\n",
    "x['Num_Owners'] = x['VehHistory'].str.extract(r'(\\d+) Owner').astype(int)\n",
    "\n",
    "# Check if accidents were reported\n",
    "x['AccidentReported'] = x['VehHistory'].str.contains(r'Accident\\(s\\) Reported').astype(bool)\n",
    "\n",
    "# Check if non-personal use was reported\n",
    "x['NonPersonalUse'] = x['VehHistory'].str.contains('Non-Personal Use Reported').astype(bool)\n",
    "\n",
    "# Check for title issues\n",
    "x['TitleIssues'] = x['VehHistory'].str.contains(r'Title Issue\\(s\\) Reported').astype(bool)\n",
    "\n",
    "# Check for buyback protection eligibility\n",
    "x['BuybackProtection'] = x['VehHistory'].str.contains('Buyback Protection Eligible').astype(bool)\n"
   ]
  },
  {
   "cell_type": "code",
   "execution_count": 97,
   "id": "1ffff1cc",
   "metadata": {},
   "outputs": [
    {
     "name": "stdout",
     "output_type": "stream",
     "text": [
      "Boolean feature\n",
      "Missing values 0, % missing values 0.0\n",
      "False count 183, True count 4829\n"
     ]
    }
   ],
   "source": [
    "feature_analyzer('BuybackProtection')"
   ]
  },
  {
   "cell_type": "code",
   "execution_count": 98,
   "id": "4b9488ff",
   "metadata": {},
   "outputs": [
    {
     "name": "stdout",
     "output_type": "stream",
     "text": [
      "Total count:  5012\n"
     ]
    },
    {
     "data": {
      "text/html": [
       "<div>\n",
       "<style scoped>\n",
       "    .dataframe tbody tr th:only-of-type {\n",
       "        vertical-align: middle;\n",
       "    }\n",
       "\n",
       "    .dataframe tbody tr th {\n",
       "        vertical-align: top;\n",
       "    }\n",
       "\n",
       "    .dataframe thead th {\n",
       "        text-align: right;\n",
       "    }\n",
       "</style>\n",
       "<table border=\"1\" class=\"dataframe\">\n",
       "  <thead>\n",
       "    <tr style=\"text-align: right;\">\n",
       "      <th></th>\n",
       "      <th></th>\n",
       "      <th>Counts</th>\n",
       "      <th>Percent</th>\n",
       "    </tr>\n",
       "    <tr>\n",
       "      <th>Column</th>\n",
       "      <th>Value</th>\n",
       "      <th></th>\n",
       "      <th></th>\n",
       "    </tr>\n",
       "  </thead>\n",
       "  <tbody>\n",
       "    <tr>\n",
       "      <th rowspan=\"5\" valign=\"top\">Num_Owners</th>\n",
       "      <th>1</th>\n",
       "      <td>4446</td>\n",
       "      <td>88.707103</td>\n",
       "    </tr>\n",
       "    <tr>\n",
       "      <th>2</th>\n",
       "      <td>302</td>\n",
       "      <td>6.025539</td>\n",
       "    </tr>\n",
       "    <tr>\n",
       "      <th>0</th>\n",
       "      <td>244</td>\n",
       "      <td>4.868316</td>\n",
       "    </tr>\n",
       "    <tr>\n",
       "      <th>3</th>\n",
       "      <td>16</td>\n",
       "      <td>0.319234</td>\n",
       "    </tr>\n",
       "    <tr>\n",
       "      <th>4</th>\n",
       "      <td>4</td>\n",
       "      <td>0.079808</td>\n",
       "    </tr>\n",
       "  </tbody>\n",
       "</table>\n",
       "</div>"
      ],
      "text/plain": [
       "                  Counts    Percent\n",
       "Column     Value                   \n",
       "Num_Owners 1        4446  88.707103\n",
       "           2         302   6.025539\n",
       "           0         244   4.868316\n",
       "           3          16   0.319234\n",
       "           4           4   0.079808"
      ]
     },
     "execution_count": 98,
     "metadata": {},
     "output_type": "execute_result"
    }
   ],
   "source": [
    "single_value_counts_info('Num_Owners')\n"
   ]
  },
  {
   "cell_type": "code",
   "execution_count": 99,
   "id": "c6736bb2",
   "metadata": {},
   "outputs": [
    {
     "name": "stdout",
     "output_type": "stream",
     "text": [
      "Total count:  5012\n"
     ]
    },
    {
     "data": {
      "text/html": [
       "<div>\n",
       "<style scoped>\n",
       "    .dataframe tbody tr th:only-of-type {\n",
       "        vertical-align: middle;\n",
       "    }\n",
       "\n",
       "    .dataframe tbody tr th {\n",
       "        vertical-align: top;\n",
       "    }\n",
       "\n",
       "    .dataframe thead th {\n",
       "        text-align: right;\n",
       "    }\n",
       "</style>\n",
       "<table border=\"1\" class=\"dataframe\">\n",
       "  <thead>\n",
       "    <tr style=\"text-align: right;\">\n",
       "      <th></th>\n",
       "      <th></th>\n",
       "      <th>Counts</th>\n",
       "      <th>Percent</th>\n",
       "    </tr>\n",
       "    <tr>\n",
       "      <th>Column</th>\n",
       "      <th>Value</th>\n",
       "      <th></th>\n",
       "      <th></th>\n",
       "    </tr>\n",
       "  </thead>\n",
       "  <tbody>\n",
       "    <tr>\n",
       "      <th rowspan=\"2\" valign=\"top\">AccidentReported</th>\n",
       "      <th>False</th>\n",
       "      <td>4466</td>\n",
       "      <td>89.106145</td>\n",
       "    </tr>\n",
       "    <tr>\n",
       "      <th>True</th>\n",
       "      <td>546</td>\n",
       "      <td>10.893855</td>\n",
       "    </tr>\n",
       "  </tbody>\n",
       "</table>\n",
       "</div>"
      ],
      "text/plain": [
       "                        Counts    Percent\n",
       "Column           Value                   \n",
       "AccidentReported False    4466  89.106145\n",
       "                 True      546  10.893855"
      ]
     },
     "execution_count": 99,
     "metadata": {},
     "output_type": "execute_result"
    }
   ],
   "source": [
    "single_value_counts_info('AccidentReported')\n"
   ]
  },
  {
   "cell_type": "code",
   "execution_count": 100,
   "id": "65d5fd56",
   "metadata": {},
   "outputs": [],
   "source": [
    "categorical_features.append('VehHistory')"
   ]
  },
  {
   "cell_type": "markdown",
   "id": "e0f59d7f",
   "metadata": {},
   "source": [
    "17. VehListdays"
   ]
  },
  {
   "cell_type": "code",
   "execution_count": 101,
   "id": "bc1e3007",
   "metadata": {
    "scrolled": false
   },
   "outputs": [
    {
     "name": "stdout",
     "output_type": "stream",
     "text": [
      "Numerical Feature\n"
     ]
    },
    {
     "data": {
      "image/png": "[encoded data removed]",
      "text/plain": [
       "<Figure size 640x480 with 1 Axes>"
      ]
     },
     "metadata": {},
     "output_type": "display_data"
    }
   ],
   "source": [
    "feature_analyzer('VehListdays')"
   ]
  },
  {
   "cell_type": "code",
   "execution_count": 102,
   "id": "73aeb94e",
   "metadata": {},
   "outputs": [],
   "source": [
    "x['VehListdays_log'] = np.log1p(x['VehListdays']+1)"
   ]
  },
  {
   "cell_type": "code",
   "execution_count": 103,
   "id": "7ba75bf0",
   "metadata": {},
   "outputs": [
    {
     "name": "stdout",
     "output_type": "stream",
     "text": [
      "Numerical Feature\n"
     ]
    },
    {
     "data": {
      "image/png": "[encoded data removed]",
      "text/plain": [
       "<Figure size 640x480 with 1 Axes>"
      ]
     },
     "metadata": {},
     "output_type": "display_data"
    }
   ],
   "source": [
    "feature_analyzer('VehListdays_log')"
   ]
  },
  {
   "cell_type": "code",
   "execution_count": 104,
   "id": "98681b46",
   "metadata": {},
   "outputs": [],
   "source": [
    "numerical_features.append('VehListdays')"
   ]
  },
  {
   "cell_type": "markdown",
   "id": "fceece0b",
   "metadata": {},
   "source": [
    "18. VehMake "
   ]
  },
  {
   "cell_type": "code",
   "execution_count": 105,
   "id": "7171da6f",
   "metadata": {},
   "outputs": [
    {
     "name": "stdout",
     "output_type": "stream",
     "text": [
      "Categorical feature\n",
      "Number of Unique values: 2\n",
      "Missing values 0, % missing values 0.0\n",
      "\n",
      "Unique Values:\n",
      "['Jeep' 'Cadillac']\n"
     ]
    }
   ],
   "source": [
    "feature_analyzer('VehMake')"
   ]
  },
  {
   "cell_type": "code",
   "execution_count": 106,
   "id": "d59d598b",
   "metadata": {},
   "outputs": [
    {
     "name": "stdout",
     "output_type": "stream",
     "text": [
      "Total count:  5012\n"
     ]
    },
    {
     "data": {
      "text/html": [
       "<div>\n",
       "<style scoped>\n",
       "    .dataframe tbody tr th:only-of-type {\n",
       "        vertical-align: middle;\n",
       "    }\n",
       "\n",
       "    .dataframe tbody tr th {\n",
       "        vertical-align: top;\n",
       "    }\n",
       "\n",
       "    .dataframe thead th {\n",
       "        text-align: right;\n",
       "    }\n",
       "</style>\n",
       "<table border=\"1\" class=\"dataframe\">\n",
       "  <thead>\n",
       "    <tr style=\"text-align: right;\">\n",
       "      <th></th>\n",
       "      <th></th>\n",
       "      <th>Counts</th>\n",
       "      <th>Percent</th>\n",
       "    </tr>\n",
       "    <tr>\n",
       "      <th>Column</th>\n",
       "      <th>Value</th>\n",
       "      <th></th>\n",
       "      <th></th>\n",
       "    </tr>\n",
       "  </thead>\n",
       "  <tbody>\n",
       "    <tr>\n",
       "      <th rowspan=\"2\" valign=\"top\">VehMake</th>\n",
       "      <th>Jeep</th>\n",
       "      <td>3395</td>\n",
       "      <td>67.73743</td>\n",
       "    </tr>\n",
       "    <tr>\n",
       "      <th>Cadillac</th>\n",
       "      <td>1617</td>\n",
       "      <td>32.26257</td>\n",
       "    </tr>\n",
       "  </tbody>\n",
       "</table>\n",
       "</div>"
      ],
      "text/plain": [
       "                  Counts   Percent\n",
       "Column  Value                     \n",
       "VehMake Jeep        3395  67.73743\n",
       "        Cadillac    1617  32.26257"
      ]
     },
     "execution_count": 106,
     "metadata": {},
     "output_type": "execute_result"
    }
   ],
   "source": [
    "single_value_counts_info('VehMake')"
   ]
  },
  {
   "cell_type": "code",
   "execution_count": 107,
   "id": "bf18b8d5",
   "metadata": {},
   "outputs": [],
   "source": [
    "categorical_features.append('VehMake')"
   ]
  },
  {
   "cell_type": "markdown",
   "id": "91d256ab",
   "metadata": {},
   "source": [
    "19. VehMileage \n"
   ]
  },
  {
   "cell_type": "code",
   "execution_count": 108,
   "id": "2164e221",
   "metadata": {},
   "outputs": [
    {
     "name": "stdout",
     "output_type": "stream",
     "text": [
      "Numerical Feature\n"
     ]
    },
    {
     "data": {
      "image/png": "[encoded data removed]",
      "text/plain": [
       "<Figure size 640x480 with 1 Axes>"
      ]
     },
     "metadata": {},
     "output_type": "display_data"
    }
   ],
   "source": [
    "feature_analyzer('VehMileage')"
   ]
  },
  {
   "cell_type": "code",
   "execution_count": 109,
   "id": "4415e930",
   "metadata": {},
   "outputs": [],
   "source": [
    "numerical_features.append('VehMileage')"
   ]
  },
  {
   "cell_type": "markdown",
   "id": "d21d344b",
   "metadata": {},
   "source": [
    "20. VehModel\n",
    "- DROP: they are repetitive to `VehMake`"
   ]
  },
  {
   "cell_type": "code",
   "execution_count": 110,
   "id": "7dc81278",
   "metadata": {},
   "outputs": [
    {
     "name": "stdout",
     "output_type": "stream",
     "text": [
      "Categorical feature\n",
      "Number of Unique values: 2\n",
      "Missing values 0, % missing values 0.0\n",
      "\n",
      "Unique Values:\n",
      "['Grand Cherokee' 'XT5']\n"
     ]
    }
   ],
   "source": [
    "feature_analyzer('VehModel')"
   ]
  },
  {
   "cell_type": "markdown",
   "id": "2cb1ead2",
   "metadata": {},
   "source": [
    " 21. VehPriceLabel\n",
    " - DROP!: potential data leakage"
   ]
  },
  {
   "cell_type": "code",
   "execution_count": 111,
   "id": "20812fd7",
   "metadata": {},
   "outputs": [
    {
     "name": "stdout",
     "output_type": "stream",
     "text": [
      "Categorical feature\n",
      "Number of Unique values: 3\n",
      "Missing values 0, % missing values 0.0\n",
      "\n",
      "Unique Values:\n",
      "['Good Deal' 'Great Deal' 'Fair Price']\n"
     ]
    }
   ],
   "source": [
    "feature_analyzer('VehPriceLabel')"
   ]
  },
  {
   "cell_type": "code",
   "execution_count": 112,
   "id": "6b6b78cd",
   "metadata": {},
   "outputs": [
    {
     "name": "stdout",
     "output_type": "stream",
     "text": [
      "Total count:  5012\n"
     ]
    },
    {
     "data": {
      "text/html": [
       "<div>\n",
       "<style scoped>\n",
       "    .dataframe tbody tr th:only-of-type {\n",
       "        vertical-align: middle;\n",
       "    }\n",
       "\n",
       "    .dataframe tbody tr th {\n",
       "        vertical-align: top;\n",
       "    }\n",
       "\n",
       "    .dataframe thead th {\n",
       "        text-align: right;\n",
       "    }\n",
       "</style>\n",
       "<table border=\"1\" class=\"dataframe\">\n",
       "  <thead>\n",
       "    <tr style=\"text-align: right;\">\n",
       "      <th></th>\n",
       "      <th></th>\n",
       "      <th>Counts</th>\n",
       "      <th>Percent</th>\n",
       "    </tr>\n",
       "    <tr>\n",
       "      <th>Column</th>\n",
       "      <th>Value</th>\n",
       "      <th></th>\n",
       "      <th></th>\n",
       "    </tr>\n",
       "  </thead>\n",
       "  <tbody>\n",
       "    <tr>\n",
       "      <th rowspan=\"3\" valign=\"top\">VehPriceLabel</th>\n",
       "      <th>Good Deal</th>\n",
       "      <td>3727</td>\n",
       "      <td>74.361532</td>\n",
       "    </tr>\n",
       "    <tr>\n",
       "      <th>Great Deal</th>\n",
       "      <td>725</td>\n",
       "      <td>14.465283</td>\n",
       "    </tr>\n",
       "    <tr>\n",
       "      <th>Fair Price</th>\n",
       "      <td>560</td>\n",
       "      <td>11.173184</td>\n",
       "    </tr>\n",
       "  </tbody>\n",
       "</table>\n",
       "</div>"
      ],
      "text/plain": [
       "                          Counts    Percent\n",
       "Column        Value                        \n",
       "VehPriceLabel Good Deal     3727  74.361532\n",
       "              Great Deal     725  14.465283\n",
       "              Fair Price     560  11.173184"
      ]
     },
     "execution_count": 112,
     "metadata": {},
     "output_type": "execute_result"
    }
   ],
   "source": [
    "single_value_counts_info('VehPriceLabel')"
   ]
  },
  {
   "cell_type": "markdown",
   "id": "21acd378",
   "metadata": {},
   "source": [
    "Wen need to be aware of potential **data leakage**, especially if: </br>\n",
    "`VehPriceLabel` is determined using the `Dealer_Listing_Price`. In that scenario, using both could lead to over-optimistic estimates of model performance. You would need to know the exact mechanism by which VehPriceLabel is determined. If it's purely based on Dealer_Listing_Price, you might consider excluding it from the features when predicting the price to avoid this leakage."
   ]
  },
  {
   "cell_type": "markdown",
   "id": "dbf65828",
   "metadata": {},
   "source": [
    "22.  VehSellerNotes\n",
    "- NLP needed!\n"
   ]
  },
  {
   "cell_type": "code",
   "execution_count": 113,
   "id": "ced956dc",
   "metadata": {
    "scrolled": true
   },
   "outputs": [
    {
     "name": "stdout",
     "output_type": "stream",
     "text": [
      "Categorical feature\n",
      "Number of Unique values: 4171\n",
      "Missing values 0, % missing values 0.0\n",
      "\n",
      "Unique Values:\n",
      "['Backed by a rigorous 125-point inspection by factory-trained technicians and an additional (up to) 100,000 mile warranty, this CERTIFIED PRE-OWNED VEHICLE offers the PEACE OF MIND you&#x27;ve been searching for. ... Wilde is your one-stop shop for new Chrysler, Jeep, Dodge, Ram and SRT sales, used and certified pre-owned vehicle sales, service and parts in Southeastern Wisconsin. We are fully-stocked with hundreds of cars, trucks, mini-vans and SUVs for every budget. CALL our knowledgeable staff at 262-544-5400, learn more about us and VIEW OUR ENTIRE INVENTORY online at www.wildedodge.com or VISIT us in person, conveniently located at 1710 Hwy 164 in Waukesha, WI. We look forward to serving you! It is the policy of this dealership that prices are plus tax, tag, title, and Dealer Service Fee of $219.00. All prices, specifications and availability subject to change without notice. Contact dealer for most current information. Dealer not responsible for misprints, omissions or typographical errors.'\n",
      " 'Drop by to see us and you will quickly see how Century&#x27;s spirit of providing our customers with the highest level of service and product in the automobile industry will make YOU BELIEVE too!'\n",
      " 'Luxury, Exterior Parking Camera Rear, Front Dual Zone A/C, Heated Steering Wheel, Leather Seating Surface, Heated Front Seats, Memory Seat, Navigation System, Power Moonroof, Remote Keyless Entry. CARFAX One-Owner. Clean CARFAX. 26/19 Highway/City MPGFaster. Simpler. More Transparent. Superior Automotive Group has helped thousands of customers find the right car by leveraging one of Arkansas&#x27; largest selections of new and pre-owned vehicles at unparalleled prices. Yet, it&#x27;s our extra-mile customer service and uncommonly candid and respectful staff that have won the trust and loyalty of Arkansas drivers for 30 years. Come visit one of our Superior dealerships today and let us exceed your expectations. Superior BuickGMC is committed to making the purchase of your new vehicle easy for you. No matter where you are in your purchase decision, we are here to assist you. Let us know if you have any questions about this vehicle or any other vehicle in our inventory.Superior has over 1000 used cars and 15 different new car franchises in the company.   We will find the right vehicle for you!'\n",
      " ...\n",
      " '**REMOTE START**, **REAR BACKUP CAMERA**, **WELL MAINTAINED**, **CLEAN**, This is a one owner!, **POWER SUNROOF/MOONROOF**, This vehicle was locally owned and traded, HEATED SEATS!!!, CHRYSLER CERTIFIED!!!!, Grand Cherokee Altitude, 4WD, Brilliant Black Crystal Pearlcoat, Black w/Leather Seats w/Perforated Suede, 115V Auxiliary Power Outlet, 9 Amplified Speakers w/Subwoofer, Altitude III Package, Black Headlamp Bezels, Black Roof Molding, Black Suede Seats w/Black Stitching, Body Color Claddings, Body Color Fascias, Body Color Grille w/Platinum Accent, Body Color Shark Fin Antenna, Cargo Compartment Cover, Dark Lens Taillamps, Delete Laredo Badge, Dual Bright Exhaust Tips, Gloss Black Fascia Applique, Jeep Black Gloss Badging, MIC Black Bezels, Neutral Gray Satin Gloss Tail Lamp, Power 4-Way Driver Lumbar Adjust, Power 8-Way Driver/Manual Passenger Seat, Power Liftgate, Quick Order Package 23Z Altitude, Radio: Uconnect 8.4, Rear-View Auto-Dimming Mirror w/Microphone, Security &amp; Convenience Group, Security Alarm, SIRIUSXM Satellite Radio, Universal Garage Door Opener, Wheels: 20 x 8.0 Gloss Black Aluminum. Certified. Odometer is 9967 miles below market average! FCA US Certified Pre-Owned Details: * Vehicle History * Limited Warranty: 3 Month/3,000 Mile (whichever comes first) after new car warranty expires or from certified purchase date * Roadside Assistance * Includes First Day Rental, Car Rental Allowance, and Trip Interruption Benefits * Transferable Warranty * Powertrain Limited Warranty: 84 Month/100,000 Mile (whichever comes first) from original in-service date * 125 Point Inspection * Warranty Deductible: $100 Bud&#x27;s is proud to be one of 124 national Customer First award winning dealerships, we have great service with great deals! Reviews: * Strong and fuel-efficient engine lineup, including diesel V6; upscale interior; plenty of luxury and technology-oriented features; irrefutable off-road ability; outlandish SRT model. Source: Edmunds'\n",
      " 'Clean CARFAX. Certified. Black 2018 Cadillac XT5 Luxury FWD 8-Speed Automatic 3.6L V6 DI VVTRecent Arrival! 26/19 Highway/City MPGCadillac Certified Pre-Owned Details: * Roadside Assistance * 172 Point Inspection * Warranty Deductible: $50 * Limited Warranty: 72 Month/100,000 Mile (whichever comes first) from original in-service date * Transferable Warranty * Vehicle History We Know You Will Enjoy Your Test Drive Towards Ownership! From the moment you walk into our showroom, you&#x27;ll know our commitment to Customer Service is second to none. We strive to make your experience with Cadillac of Dublin a good one for the life of your vehicle. Our inventory is online to serve you.'\n",
      " 'Black 2017 Cadillac XT5 Luxury FWD 8-Speed Automatic 3.6L V6 DI VVT 19/27 City/Highway MPG We can find any vehicle with any option...such as Navigation, Leather, Heated &amp; Cooled Seats, Sunroof, Moonroof, 4WD, AWD, Back Up Camera, Bluetooth, Premium Audio, Premium Wheels, Tow Package, Trailer Hitch, Lift Kits, Power Windows &amp; Locks, DVD and more! Call (419)625-1313 anytime to start your personalized experience. Awards: * 2017 IIHS Top Safety Pick with optional front crash prevention Pricing subject to change without notice. Reviews: * Pleasing ride and handling; generous interior space; excellent forward visibility. Source: Edmunds Shopping for a USED vehicle can get sketchy fast.  Not to worry, Foster Chevrolet Cadillac completes a full 172 point inspection of ALL used vehicles up for sale!']\n"
     ]
    }
   ],
   "source": [
    "feature_analyzer('VehSellerNotes')"
   ]
  },
  {
   "cell_type": "markdown",
   "id": "57b139a2",
   "metadata": {},
   "source": [
    " 23. VehType\n",
    "- DROP: no new information"
   ]
  },
  {
   "cell_type": "code",
   "execution_count": 114,
   "id": "31a3676b",
   "metadata": {},
   "outputs": [
    {
     "name": "stdout",
     "output_type": "stream",
     "text": [
      "Categorical feature\n",
      "Number of Unique values: 1\n",
      "Missing values 0, % missing values 0.0\n",
      "\n",
      "Unique Values:\n",
      "['Used']\n"
     ]
    }
   ],
   "source": [
    "feature_analyzer('VehType')"
   ]
  },
  {
   "cell_type": "markdown",
   "id": "94da8e0a",
   "metadata": {},
   "source": [
    "24.  VehTransmission \n",
    "- DROP"
   ]
  },
  {
   "cell_type": "code",
   "execution_count": 115,
   "id": "ae7e7fd7",
   "metadata": {},
   "outputs": [
    {
     "name": "stdout",
     "output_type": "stream",
     "text": [
      "Categorical feature\n",
      "Number of Unique values: 27\n",
      "Missing values 0, % missing values 0.0\n",
      "\n",
      "Unique Values:\n",
      "['8-Speed Automatic w/OD' 'Automatic' '8-Speed Automatic' '8-Speed A/T'\n",
      " '8-Speed Automatic (845RE)' 'AUTOMATIC' '8-Speed Shiftable Automatic'\n",
      " '8-Speed' '8 Speed Automatic' 'Automatic 8-Speed'\n",
      " '8-Spd TorqueFlite Automatic' '8-Speed Automatic (850RE)'\n",
      " '8-Speed Automatic (8HP70)' '8-Spd Auto 850RE Trans (Make'\n",
      " '8-SPEED AUTOMATIC' 'AUTO' '8-Speed TorqueFlite Automatic'\n",
      " 'Automatic w/OD' '6-Speed Automatic' 'aujtomatic' 'Automatic, 8-Spd' 'A'\n",
      " '8 speed automatic' 'Not Specified' '8-Spd Auto 850RE Trans (Make)'\n",
      " 'automatic' 'Shiftable Automatic']\n"
     ]
    }
   ],
   "source": [
    "feature_analyzer('VehTransmission')"
   ]
  },
  {
   "cell_type": "markdown",
   "id": "fb6ebfda",
   "metadata": {},
   "source": [
    "25.  VehYear   \n"
   ]
  },
  {
   "cell_type": "code",
   "execution_count": 116,
   "id": "257af9f9",
   "metadata": {},
   "outputs": [],
   "source": [
    "CURRENT_YEAR = 2023\n",
    "# the older the car the cheaper it can be\n",
    "x['VehAge'] = CURRENT_YEAR - x['VehYear']"
   ]
  },
  {
   "cell_type": "code",
   "execution_count": 117,
   "id": "7899ad8f",
   "metadata": {},
   "outputs": [
    {
     "name": "stdout",
     "output_type": "stream",
     "text": [
      "Numerical Feature\n"
     ]
    },
    {
     "data": {
      "image/png": "[encoded data removed]",
      "text/plain": [
       "<Figure size 640x480 with 1 Axes>"
      ]
     },
     "metadata": {},
     "output_type": "display_data"
    }
   ],
   "source": [
    "feature_analyzer('VehAge')"
   ]
  },
  {
   "cell_type": "code",
   "execution_count": 118,
   "id": "e773c4c3",
   "metadata": {},
   "outputs": [],
   "source": [
    "numerical_features.append('VehYear')"
   ]
  },
  {
   "cell_type": "markdown",
   "id": "f7b05c3a",
   "metadata": {},
   "source": [
    "# Create a function for processing features\n",
    "- will be used for the test as well"
   ]
  },
  {
   "cell_type": "code",
   "execution_count": 119,
   "id": "aff2cc8e",
   "metadata": {},
   "outputs": [],
   "source": [
    "# Load the datasets\n",
    "df = pd.read_csv('data/Training_dataset.csv')\n",
    "test_df = pd.read_csv('data/Test_dataset.csv')"
   ]
  },
  {
   "cell_type": "code",
   "execution_count": 120,
   "id": "63ad164a",
   "metadata": {},
   "outputs": [],
   "source": [
    "def preprocessing(df):\n",
    "    \n",
    "    CURRENT_YEAR = 2023\n",
    "\n",
    "    def one_hot_fn(dataframe: pd.DataFrame, feature_name: str):\n",
    "        # One-hot encode the 'feature' column\n",
    "        encoded_columns = pd.get_dummies(dataframe[feature_name], prefix=feature_name)\n",
    "        # Drop the original 'feature' column\n",
    "        dataframe.drop(feature_name, axis=1, inplace=True)\n",
    "        # Concatenate the original DataFrame and the one-hot encoded columns\n",
    "        dataframe = pd.concat([dataframe, encoded_columns], axis=1)\n",
    "        return dataframe\n",
    "    \n",
    "    # DONE\n",
    "    def veh_drive_train_transform(df):\n",
    "        drivetrain_mapping = {\n",
    "        '4x4/4WD': 'all_drive',\n",
    "        '4WD': 'all_drive',\n",
    "        'FWD': 'front_drive',\n",
    "        'AWD': 'all_drive',\n",
    "        '4x4': 'all_drive',\n",
    "        'Four Wheel Drive': 'all_drive',\n",
    "        '4X4': 'all_drive',\n",
    "        'All Wheel Drive': 'all_drive',\n",
    "        'ALL-WHEEL DRIVE WITH LOCKING AND LIMITED-SLIP DIFFERENTIAL': 'all_drive',\n",
    "        'AWD or 4x4': 'all_drive',\n",
    "        'Front Wheel Drive': 'all_drive',\n",
    "        'All-wheel Drive': 'all_drive',\n",
    "        'ALL WHEEL': 'all_drive',\n",
    "        'AllWheelDrive': 'all_drive',\n",
    "        '4WD/AWD': 'all_drive'}\n",
    "\n",
    "        df['VehDrive'] = df['VehDriveTrain'].replace(drivetrain_mapping)\n",
    "        # Determine the most frequent value after mapping\n",
    "        most_frequent = df['VehDrive'].mode()[0]\n",
    "        # Replace NaN values with the most frequent value\n",
    "        df['VehDrive'].fillna(most_frequent, inplace=True)\n",
    "        \n",
    "        # Handle unknown categories\n",
    "        known_values = set(drivetrain_mapping.values())\n",
    "        df.loc[~df['VehDrive'].isin(known_values), 'VehDrive'] = 'other'\n",
    "        \n",
    "        # one hot encode\n",
    "        df = one_hot_fn(df, 'VehDrive')\n",
    "        df.drop('VehDriveTrain', axis=1, inplace=True)\n",
    "        return df\n",
    "    \n",
    "    # DONE\n",
    "    def veh_feats_transform(df):\n",
    "        # Perform mapping to count the features per vehicle\n",
    "        df['VehFeatsCount'] = df['VehFeats'].apply(lambda x: len(str(x).split(',')) if not pd.isna(x) else None)\n",
    "        # Determine the most frequent count value\n",
    "        most_frequent = df['VehFeatsCount'].mode()[0]\n",
    "        # Use the most frequent value for imputation of NaN values\n",
    "        df['VehFeatsCount'].fillna(most_frequent, inplace=True)\n",
    "        # Drop the original 'VehFeats' column\n",
    "        df.drop('VehFeats', axis=1, inplace=True)\n",
    "\n",
    "        return df\n",
    "\n",
    "    # DONE\n",
    "    def veh_color_ext_transform(df):\n",
    "        # NaNs will be filled with color White! - most popular color\n",
    "        def basic_color(color):\n",
    "            if pd.isna(color):\n",
    "                return 'White'\n",
    "            elif not isinstance(color, str):\n",
    "                return 'Other'\n",
    "\n",
    "            base_colors = ['Black', 'White', 'Red', 'Silver', 'Blue', 'Gray', 'Brown', 'Gold']\n",
    "            for base in base_colors:\n",
    "                if base.lower() in color.lower():\n",
    "                    return base\n",
    "            return 'Other'\n",
    "\n",
    "        df['BasicExtColor'] = df['VehColorExt'].apply(basic_color)\n",
    "        df.drop('VehColorExt', axis=1, inplace=True)\n",
    "        df = one_hot_fn(df, 'BasicExtColor')\n",
    "        \n",
    "        return df\n",
    "    \n",
    "    # DONE!\n",
    "    def veh_color_int_transform(df):\n",
    "        # Nans -> False/ 0 (because non-leather cars are more popular)\n",
    "        df['ContainsLeather'] = df['VehColorInt'].str.contains('leather', case=False, na=False).astype(bool)\n",
    "        df.drop('VehColorInt', axis=1, inplace=True)\n",
    "        df['ContainsLeather'] = df['ContainsLeather'].astype(int)\n",
    "        return df\n",
    "    \n",
    "    # DONE\n",
    "    def veh_engine_transform(df):\n",
    "        def get_displacement(engine):\n",
    "            if pd.isna(engine) or not isinstance(engine, str):\n",
    "                return 0\n",
    "            match = re.search(r'(\\d+\\.\\d+)', engine)\n",
    "            return float(match.group(1)) if match else 0\n",
    "\n",
    "        df['Displacement'] = df['VehEngine'].apply(get_displacement)\n",
    "\n",
    "        engine_types = ['turbo', 'supercharged', 'diesel', 'hemi']\n",
    "\n",
    "        def categorize_engine(engine):\n",
    "            if pd.isna(engine) or not isinstance(engine, str):\n",
    "                return 'Other'\n",
    "            for etype in engine_types:\n",
    "                if etype in engine.lower():\n",
    "                    return etype.capitalize()\n",
    "            return 'Other'\n",
    "\n",
    "        df['Engine_Category'] = df['VehEngine'].apply(categorize_engine)\n",
    "        df.drop('VehEngine', axis=1, inplace=True)\n",
    "\n",
    "        # Assuming one_hot_fn is a function that takes in a dataframe and a column name to one-hot encode.\n",
    "        df = one_hot_fn(df, 'Engine_Category')\n",
    "        return df\n",
    "    \n",
    "    #DONE\n",
    "    def veh_history_transform(df):\n",
    "        # Extract number of owners and create a new column\n",
    "        df['Num_Owners'] = df['VehHistory'].str.extract(r'(\\d+) Owner')\n",
    "\n",
    "        # Check if accidents were reported\n",
    "        df['AccidentReported'] = df['VehHistory'].str.contains(r'Accident\\(s\\) Reported')\n",
    "\n",
    "        # Check if non-personal use was reported\n",
    "        df['NonPersonalUse'] = df['VehHistory'].str.contains('Non-Personal Use Reported')\n",
    "\n",
    "        # Check for title issues\n",
    "        df['TitleIssues'] = df['VehHistory'].str.contains(r'Title Issue\\(s\\) Reported')\n",
    "\n",
    "        # Check for buyback protection eligibility\n",
    "        df['BuybackProtection'] = df['VehHistory'].str.contains('Buyback Protection Eligible')\n",
    "\n",
    "        # Impute NaNs for each new feature using the most frequent value of that feature\n",
    "        new_features = ['Num_Owners', 'AccidentReported', 'NonPersonalUse', 'TitleIssues', 'BuybackProtection']\n",
    "        for feature in new_features:\n",
    "            most_common = df[feature].mode()[0]\n",
    "            df[feature].fillna(most_common, inplace=True)\n",
    "\n",
    "        # Convert boolean and object columns to integers\n",
    "        df['Num_Owners'] = df['Num_Owners'].astype(int)\n",
    "        df['AccidentReported'] = df['AccidentReported'].astype(int)\n",
    "        df['NonPersonalUse'] = df['NonPersonalUse'].astype(int)\n",
    "        df['TitleIssues'] = df['TitleIssues'].astype(int)\n",
    "        df['BuybackProtection'] = df['BuybackProtection'].astype(int)\n",
    "\n",
    "        # Drop the original 'VehHistory' column\n",
    "        df.drop('VehHistory', axis=1, inplace=True)\n",
    "        return df\n",
    "    \n",
    "    # DONE\n",
    "    def veh_make_transform(df):\n",
    "        vehmake_mapping = {\n",
    "        \"Jeep\": 1,\n",
    "        \"Cadillac\": 0}\n",
    "\n",
    "        df['Is_Jeep'] = df['VehMake'].map(vehmake_mapping)\n",
    "        df.drop('VehMake', axis=1, inplace=True)\n",
    "        return df\n",
    "    \n",
    "    # DONE\n",
    "    def veh_mileage_transform(df):\n",
    "        # Calculate the mean of the 'VehMileage' column\n",
    "        mileage_mean = df['VehMileage'].mean()\n",
    "        # Impute NaN values in the 'VehMileage' column with the computed mean\n",
    "        df['VehMileage'].fillna(mileage_mean, inplace=True)\n",
    "        return df\n",
    "\n",
    "    df.set_index('ListingID', inplace=True)\n",
    "\n",
    "    # dropping unused features\n",
    "    unused_features = ['VehTransmission','VehBodystyle','SellerZip','VehType','VehSellerNotes',\n",
    "                       'VehPriceLabel','VehModel','SellerIsPriv','SellerName','SellerCity']\n",
    "    \n",
    "    df = df.drop(unused_features, axis=1)\n",
    "    \n",
    "    # features requiring one-hot-encoding\n",
    "    df = one_hot_fn(df, 'SellerListSrc')\n",
    "    df = one_hot_fn(df, 'VehFuel')\n",
    "    df = one_hot_fn(df, 'SellerState')\n",
    "\n",
    "    # features requiring log transform\n",
    "    df['SellerRevCnt'] = np.log1p(df['SellerRevCnt'])\n",
    "    df['VehListdays'] = np.log1p(df['VehListdays'])\n",
    "\n",
    "    # new feature\n",
    "    df['VehAge'] = CURRENT_YEAR - df['VehYear']\n",
    "    df.drop('VehYear', axis=1, inplace=True)\n",
    "    \n",
    "    # boolean encoding\n",
    "    df['VehCertified'] = df['VehCertified'].astype(int)\n",
    "    \n",
    "    # new feature\n",
    "    df = veh_drive_train_transform(df)\n",
    "    df = veh_feats_transform(df)\n",
    "    df = veh_color_ext_transform(df)\n",
    "    df = veh_color_int_transform(df)\n",
    "    df = veh_engine_transform(df)\n",
    "    df = veh_history_transform(df)\n",
    "    df = veh_make_transform(df)\n",
    "    df = veh_mileage_transform(df)\n",
    "    \n",
    "    # drop any remaining nans\n",
    "    df = df.dropna()\n",
    "\n",
    "    \n",
    "    # deal with badly parsed column names\n",
    "    df.columns = [col.replace(' ', '_') for col in df.columns]\n",
    "    \n",
    "\n",
    "    return df\n",
    "\n",
    "\n",
    "def preprocessing_target_features(df):\n",
    "    \n",
    "    df = df.dropna(subset=['Vehicle_Trim', 'Dealer_Listing_Price'])\n",
    "\n",
    "    # Mapping dictionary\n",
    "    jeep_mapping = {\n",
    "        'Limited 75th Anniversary Edition': 'Limited',\n",
    "        'Limited X': 'Limited',\n",
    "        'Limited 4x4': 'Limited',\n",
    "        'Limited 75th Anniversary': 'Limited',\n",
    "\n",
    "        'Laredo E': 'Laredo',\n",
    "\n",
    "        'SRT Night': 'SRT',\n",
    "\n",
    "        'Summit': 'Overland',\n",
    "\n",
    "        'Trackhawk': 'Trailhawk',\n",
    "\n",
    "        'High Altitude': 'Altitude'}\n",
    "\n",
    "    # Replace and groupby\n",
    "    df['Vehicle_Trim'] = df['Vehicle_Trim'].replace(jeep_mapping)\n",
    "    # dropping \n",
    "    jeep_drop_trims = ['75th Anniversary Edition', 'Upland','75th Anniversary','Sterling Edition']\n",
    "\n",
    "    df = df[~df['Vehicle_Trim'].isin(jeep_drop_trims)]\n",
    "\n",
    "    # Mapping dictionary\n",
    "    cadillac_mapping = {\n",
    "        'Premium Luxury AWD': 'Premium',\n",
    "        'Premium Luxury FWD': 'Premium',\n",
    "        'Premium Luxury': 'Premium',\n",
    "\n",
    "        'Luxury FWD': 'Luxury',\n",
    "        'Luxury': 'Luxury',\n",
    "        'Luxury AWD': 'Luxury',\n",
    "\n",
    "        'Base': 'Base',\n",
    "        'FWD': 'Base',\n",
    "\n",
    "        'Platinum': 'Platinum',\n",
    "        'Platinum AWD': 'Platinum'}\n",
    "\n",
    "    # Replace and groupby\n",
    "    df['Vehicle_Trim'] = df['Vehicle_Trim'].replace(cadillac_mapping)\n",
    "    \n",
    "    return df"
   ]
  },
  {
   "cell_type": "code",
   "execution_count": 121,
   "id": "631c72f1",
   "metadata": {},
   "outputs": [
    {
     "data": {
      "text/plain": [
       "Index(['ListingID', 'SellerCity', 'SellerIsPriv', 'SellerListSrc',\n",
       "       'SellerName', 'SellerRating', 'SellerRevCnt', 'SellerState',\n",
       "       'SellerZip', 'VehBodystyle', 'VehCertified', 'VehColorExt',\n",
       "       'VehColorInt', 'VehDriveTrain', 'VehEngine', 'VehFeats', 'VehFuel',\n",
       "       'VehHistory', 'VehListdays', 'VehMake', 'VehMileage', 'VehModel',\n",
       "       'VehPriceLabel', 'VehSellerNotes', 'VehType', 'VehTransmission',\n",
       "       'VehYear', 'Vehicle_Trim', 'Dealer_Listing_Price'],\n",
       "      dtype='object')"
      ]
     },
     "execution_count": 121,
     "metadata": {},
     "output_type": "execute_result"
    }
   ],
   "source": [
    "df.columns"
   ]
  },
  {
   "cell_type": "code",
   "execution_count": 122,
   "id": "438a9ba1",
   "metadata": {},
   "outputs": [
    {
     "data": {
      "text/plain": [
       "(6298, 29)"
      ]
     },
     "execution_count": 122,
     "metadata": {},
     "output_type": "execute_result"
    }
   ],
   "source": [
    "df.shape"
   ]
  },
  {
   "cell_type": "code",
   "execution_count": 123,
   "id": "fc0aa39d",
   "metadata": {},
   "outputs": [
    {
     "data": {
      "text/plain": [
       "Index(['ListingID', 'SellerCity', 'SellerIsPriv', 'SellerListSrc',\n",
       "       'SellerName', 'SellerRating', 'SellerRevCnt', 'SellerState',\n",
       "       'SellerZip', 'VehBodystyle', 'VehCertified', 'VehColorExt',\n",
       "       'VehColorInt', 'VehDriveTrain', 'VehEngine', 'VehFeats', 'VehFuel',\n",
       "       'VehHistory', 'VehListdays', 'VehMake', 'VehMileage', 'VehModel',\n",
       "       'VehPriceLabel', 'VehSellerNotes', 'VehType', 'VehTransmission',\n",
       "       'VehYear', 'Vehicle_Trim', 'Dealer_Listing_Price'],\n",
       "      dtype='object')"
      ]
     },
     "execution_count": 123,
     "metadata": {},
     "output_type": "execute_result"
    }
   ],
   "source": [
    "df.columns"
   ]
  },
  {
   "cell_type": "code",
   "execution_count": 124,
   "id": "de4be60b",
   "metadata": {},
   "outputs": [],
   "source": [
    "preprocessed_df = preprocessing(df)\n",
    "df_final = preprocessing_target_features(preprocessed_df)"
   ]
  },
  {
   "cell_type": "code",
   "execution_count": 125,
   "id": "79daf069",
   "metadata": {},
   "outputs": [
    {
     "name": "stdout",
     "output_type": "stream",
     "text": [
      "Index([], dtype='object')\n"
     ]
    }
   ],
   "source": [
    "null_columns = df_final.columns[df_final.isnull().sum() > 0]\n",
    "print(null_columns)"
   ]
  },
  {
   "cell_type": "code",
   "execution_count": 126,
   "id": "66fd955d",
   "metadata": {},
   "outputs": [
    {
     "data": {
      "text/plain": [
       "1    3990\n",
       "0    1811\n",
       "Name: Is_Jeep, dtype: int64"
      ]
     },
     "execution_count": 126,
     "metadata": {},
     "output_type": "execute_result"
    }
   ],
   "source": [
    "df_final.Is_Jeep.value_counts()"
   ]
  }
 ],
 "metadata": {
  "kernelspec": {
   "display_name": "Python 3 (ipykernel)",
   "language": "python",
   "name": "python3"
  },
  "language_info": {
   "codemirror_mode": {
    "name": "ipython",
    "version": 3
   },
   "file_extension": ".py",
   "mimetype": "text/x-python",
   "name": "python",
   "nbconvert_exporter": "python",
   "pygments_lexer": "ipython3",
   "version": "3.10.9"
  }
 },
 "nbformat": 4,
 "nbformat_minor": 5
}
