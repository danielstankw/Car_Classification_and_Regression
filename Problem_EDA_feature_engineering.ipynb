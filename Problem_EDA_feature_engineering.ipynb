{
 "cells": [
  {
   "cell_type": "code",
   "execution_count": 1,
   "id": "83acc28b",
   "metadata": {},
   "outputs": [],
   "source": [
    "import numpy as np\n",
    "import pandas as pd\n",
    "import matplotlib.pyplot as plt\n",
    "import seaborn as sns\n",
    "import re\n",
    "import xgboost as xgb\n",
    "import optuna\n",
    "\n",
    "from sklearn.preprocessing import LabelEncoder\n",
    "from sklearn.model_selection import train_test_split, KFold\n",
    "from sklearn.metrics import accuracy_score, classification_report, confusion_matrix, roc_auc_score"
   ]
  },
  {
   "cell_type": "code",
   "execution_count": 2,
   "id": "5db72519",
   "metadata": {},
   "outputs": [],
   "source": [
    "# set visibility for all the columns\n",
    "pd.set_option('display.max_columns', None)"
   ]
  },
  {
   "cell_type": "code",
   "execution_count": 3,
   "id": "73f84de0",
   "metadata": {},
   "outputs": [],
   "source": [
    "# Load the datasets\n",
    "df = pd.read_csv('Training_dataset.csv')\n",
    "test_df = pd.read_csv('Test_dataset.csv')"
   ]
  },
  {
   "cell_type": "code",
   "execution_count": null,
   "id": "e0b5390f",
   "metadata": {},
   "outputs": [],
   "source": [
    "def missing_data_info(df):\n",
    "    total_missing = df.isnull().sum()\n",
    "    percent_missing = (df.isnull().sum() / df.shape[0]) * 100\n",
    "    \n",
    "    # Combine the results into a DataFrame and sort by the 'Percent' column\n",
    "    missing_data = pd.concat([total_missing, percent_missing], axis=1, keys=['Total', 'Percent'])\n",
    "    missing_data = missing_data[missing_data['Percent'] > 0].sort_values(by='Percent', ascending=False)\n",
    "    \n",
    "    return missing_data"
   ]
  },
  {
   "cell_type": "code",
   "execution_count": null,
   "id": "09a6aa83",
   "metadata": {},
   "outputs": [],
   "source": [
    "missing_data_info(test_df)"
   ]
  },
  {
   "cell_type": "code",
   "execution_count": null,
   "id": "9d5b21f4",
   "metadata": {},
   "outputs": [],
   "source": [
    "imputation_features = ['VehColorExt','VehColorInt','VehDriveTrain','VehEngine','VehFeats','VehHistory','VehMileage',\n",
    "                      'VehPriceLabel','VehSellerNotes','VehTransmission']"
   ]
  },
  {
   "cell_type": "code",
   "execution_count": null,
   "id": "18bf0acd",
   "metadata": {},
   "outputs": [],
   "source": [
    "test_df.shape"
   ]
  },
  {
   "cell_type": "markdown",
   "id": "93a940a6",
   "metadata": {},
   "source": [
    "# Frame the problem\n",
    "The problem is:\n",
    "- Regression: predict the price at which car was listed by the dealer\n",
    "- Classification: classify the value of the trim\n",
    "\n",
    "We are dealing with:\n",
    "- [Cadillac XT5](https://en.wikipedia.org/wiki/Cadillac_XT5) </br>\n",
    "- [Jeep Grand Cherokee (WK2)](https://en.wikipedia.org/wiki/Jeep_Grand_Cherokee_%28WK2%29)"
   ]
  },
  {
   "cell_type": "markdown",
   "id": "35c5b24a",
   "metadata": {},
   "source": [
    "### Small Theory"
   ]
  },
  {
   "cell_type": "markdown",
   "id": "02d9876a",
   "metadata": {},
   "source": [
    "#### Cadilac XT5\n",
    "1. Trim levels ( 4 kinds)\n",
    "- Base\n",
    "- Luxury\n",
    "- Premium Luxury\n",
    "- Platinum\n",
    "\n",
    "#### Jeep Cherokee\n",
    "2. Trim levels (many)\n",
    "- Laredo\n",
    "- Laredo E\n",
    "- Upland\n",
    "- Laredo X\n",
    "- Trail Hawk\n",
    "- Limited\n",
    "- Sterling Edition\n",
    "- Overland\n",
    "- Overland Summit/ Summit\n",
    "- SRT\n",
    "- Trackhawk"
   ]
  },
  {
   "cell_type": "markdown",
   "id": "2038575b",
   "metadata": {},
   "source": [
    "- Regression: RMSE\n",
    "- Classification: AUC"
   ]
  },
  {
   "cell_type": "markdown",
   "id": "ff699d28",
   "metadata": {},
   "source": [
    "# Data Exploration - train/ validation data"
   ]
  },
  {
   "cell_type": "code",
   "execution_count": null,
   "id": "36016ce1",
   "metadata": {},
   "outputs": [],
   "source": [
    "df.shape"
   ]
  },
  {
   "cell_type": "code",
   "execution_count": null,
   "id": "539ae5aa",
   "metadata": {
    "scrolled": true
   },
   "outputs": [],
   "source": [
    "df.head(2)"
   ]
  },
  {
   "cell_type": "code",
   "execution_count": null,
   "id": "c0060960",
   "metadata": {},
   "outputs": [],
   "source": [
    "df.set_index('ListingID', inplace=True)"
   ]
  },
  {
   "cell_type": "code",
   "execution_count": null,
   "id": "2fa7a577",
   "metadata": {
    "scrolled": true
   },
   "outputs": [],
   "source": [
    "df.columns"
   ]
  },
  {
   "cell_type": "code",
   "execution_count": null,
   "id": "70e082ba",
   "metadata": {},
   "outputs": [],
   "source": [
    "df.info()"
   ]
  },
  {
   "cell_type": "code",
   "execution_count": null,
   "id": "b9185ede",
   "metadata": {},
   "outputs": [],
   "source": [
    "duplicate_count = df[df.duplicated()].shape[0]\n",
    "print(f\"There are {duplicate_count} duplicate rows.\")"
   ]
  },
  {
   "cell_type": "markdown",
   "id": "545cc730",
   "metadata": {},
   "source": [
    "# 1.Target variables\n",
    "- show missing values\n",
    "- delete missing values"
   ]
  },
  {
   "cell_type": "code",
   "execution_count": null,
   "id": "958c6cac",
   "metadata": {},
   "outputs": [],
   "source": [
    "target_variables = ['Vehicle_Trim','Dealer_Listing_Price']"
   ]
  },
  {
   "cell_type": "code",
   "execution_count": null,
   "id": "93251b9b",
   "metadata": {},
   "outputs": [],
   "source": [
    "missing_data_info(df)"
   ]
  },
  {
   "cell_type": "code",
   "execution_count": null,
   "id": "3d6fb7f5",
   "metadata": {},
   "outputs": [],
   "source": [
    "# dropping target NaN's as we cant do anything about them \n",
    "df = df.dropna(subset=['Vehicle_Trim', 'Dealer_Listing_Price'])"
   ]
  },
  {
   "cell_type": "code",
   "execution_count": null,
   "id": "b0e3f64d",
   "metadata": {},
   "outputs": [],
   "source": [
    "y = df[target_variables]"
   ]
  },
  {
   "cell_type": "code",
   "execution_count": null,
   "id": "5d633a17",
   "metadata": {},
   "outputs": [],
   "source": [
    "y.head(4)"
   ]
  },
  {
   "cell_type": "code",
   "execution_count": null,
   "id": "e21299f2",
   "metadata": {},
   "outputs": [],
   "source": [
    "df.shape"
   ]
  },
  {
   "cell_type": "markdown",
   "id": "c983309b",
   "metadata": {},
   "source": [
    "# 2. EDA - target variables"
   ]
  },
  {
   "cell_type": "markdown",
   "id": "10c151a6",
   "metadata": {},
   "source": [
    "### Target variables - `Vehicle_Trim`"
   ]
  },
  {
   "cell_type": "code",
   "execution_count": null,
   "id": "37027e17",
   "metadata": {},
   "outputs": [],
   "source": [
    "# Get unique trims for Jeep\n",
    "jeep_trims = df[df['VehMake'] == 'Jeep']['Vehicle_Trim'].unique()\n",
    "jeep_trims_df = pd.DataFrame({'Jeep Trims' : pd.Series(jeep_trims)})\n",
    "\n",
    "# Get unique trims for Cadillac\n",
    "cadillac_trims = df[df['VehMake'] == 'Cadillac']['Vehicle_Trim'].unique()\n",
    "cadilac_trims_df = pd.DataFrame({'Jeep Trims' : pd.Series(cadillac_trims)})\n",
    "\n",
    "def value_counts_info(df):\n",
    "    all_data = []\n",
    "    \n",
    "    for column in df.columns:\n",
    "        counts = df[column].value_counts()\n",
    "        percent = (df[column].value_counts() / df.shape[0]) * 100\n",
    "        \n",
    "        data = pd.concat([counts, percent], axis=1, keys=['Counts', 'Percent']).reset_index()\n",
    "        data.rename(columns={'index': 'Value'}, inplace=True)\n",
    "        data['Column'] = column\n",
    "        all_data.append(data)\n",
    "        print('Total count: ',counts.sum())\n",
    "        \n",
    "    final_df = pd.concat(all_data, axis=0, ignore_index=True).pivot_table(index=['Column', 'Value'], values=['Counts', 'Percent'], aggfunc='first')\n",
    "    final_df = final_df.sort_values(by='Percent', ascending=False)\n",
    "\n",
    "    return final_df"
   ]
  },
  {
   "cell_type": "markdown",
   "id": "26dce89b",
   "metadata": {},
   "source": [
    "### 2.1. Jeeps\n",
    "\n",
    "#### Jeep Cherokee\n",
    "1. Trim levels (many)\n",
    "- Laredo\n",
    "- Laredo E\n",
    "- Upland\n",
    "- Laredo X\n",
    "- Trail Hawk\n",
    "- Limited\n",
    "- Sterling Edition\n",
    "- Overland\n",
    "- Overland Summit/ Summit\n",
    "- SRT\n",
    "- Trackhawk"
   ]
  },
  {
   "cell_type": "code",
   "execution_count": null,
   "id": "2ea9b646",
   "metadata": {
    "scrolled": false
   },
   "outputs": [],
   "source": [
    "jeep_trims_df"
   ]
  },
  {
   "cell_type": "code",
   "execution_count": null,
   "id": "c9088658",
   "metadata": {
    "scrolled": false
   },
   "outputs": [],
   "source": [
    "# Jeep\n",
    "value_counts_info(pd.DataFrame(df[df['VehMake'] == 'Jeep']['Vehicle_Trim']))"
   ]
  },
  {
   "cell_type": "code",
   "execution_count": null,
   "id": "f7720b79",
   "metadata": {},
   "outputs": [],
   "source": [
    "# Mapping dictionary\n",
    "mapping = {\n",
    "    'Limited 75th Anniversary Edition': 'Limited',\n",
    "    'Limited X': 'Limited',\n",
    "    'Limited 4x4': 'Limited',\n",
    "    'Limited 75th Anniversary': 'Limited',\n",
    "\n",
    "    'Laredo E': 'Laredo',\n",
    "\n",
    "    'SRT Night': 'SRT',\n",
    "    \n",
    "    'Summit': 'Overland',\n",
    "\n",
    "    'Trackhawk': 'Trailhawk',\n",
    "    \n",
    "    'High Altitude': 'Altitude'}\n",
    "\n",
    "# Replace and groupby\n",
    "df['Vehicle_Trim'] = df['Vehicle_Trim'].replace(mapping)\n",
    "# dropping \n",
    "jeep_drop_trims = ['75th Anniversary Edition', 'Upland','75th Anniversary','Sterling Edition']\n",
    "\n",
    "original_row_count = len(df)\n",
    "df = df[~df['Vehicle_Trim'].isin(jeep_drop_trims)]\n",
    "\n",
    "# Calculate the number of removed rows\n",
    "removed_rows_count = original_row_count - len(df)\n",
    "print(removed_rows_count)"
   ]
  },
  {
   "cell_type": "code",
   "execution_count": null,
   "id": "12c0d302",
   "metadata": {
    "scrolled": true
   },
   "outputs": [],
   "source": [
    "value_counts_info(pd.DataFrame(df[df['VehMake'] == 'Jeep']['Vehicle_Trim']))"
   ]
  },
  {
   "cell_type": "code",
   "execution_count": null,
   "id": "151981b3",
   "metadata": {},
   "outputs": [],
   "source": [
    "jeep_trims = df[df['VehMake'] == 'Jeep']['Vehicle_Trim'].value_counts()\n",
    "\n",
    "# Plotting the bar chart\n",
    "ax = jeep_trims.plot(kind='bar', color='skyblue', figsize=(8,5))\n",
    "plt.xlabel('Vehicle Trim')\n",
    "plt.ylabel('Counts')\n",
    "plt.title('Jeep Vehicle Trim Distribution')\n",
    "plt.grid()\n",
    "plt.xticks(rotation=45)\n",
    "\n",
    "# Adding count annotations to each bar\n",
    "for p in ax.patches:\n",
    "    ax.annotate(str(p.get_height()), (p.get_x() + p.get_width() / 2., p.get_height()),\n",
    "                ha='center', va='center', xytext=(0, 10), textcoords='offset points')\n",
    "\n",
    "plt.show()"
   ]
  },
  {
   "cell_type": "markdown",
   "id": "d1e96829",
   "metadata": {},
   "source": [
    "### 2.2. Cadillac\n",
    "\n",
    "#### Cadillac XT5\n",
    "1. Trim levels ( 4 kinds)\n",
    "- Base\n",
    "- Luxury\n",
    "- Premium Luxury\n",
    "- Platinum\n"
   ]
  },
  {
   "cell_type": "code",
   "execution_count": null,
   "id": "a297d009",
   "metadata": {},
   "outputs": [],
   "source": [
    "cadilac_trims_df"
   ]
  },
  {
   "cell_type": "code",
   "execution_count": null,
   "id": "6474d645",
   "metadata": {},
   "outputs": [],
   "source": [
    "# Cadilac\n",
    "value_counts_info(pd.DataFrame(df[df['VehMake'] == 'Cadillac']['Vehicle_Trim']))"
   ]
  },
  {
   "cell_type": "code",
   "execution_count": null,
   "id": "aa685981",
   "metadata": {},
   "outputs": [],
   "source": [
    "# Mapping dictionary\n",
    "mapping = {\n",
    "    'Premium Luxury AWD': 'Premium',\n",
    "    'Premium Luxury FWD': 'Premium',\n",
    "    'Premium Luxury': 'Premium',\n",
    "    \n",
    "    'Luxury FWD': 'Luxury',\n",
    "    'Luxury': 'Luxury',\n",
    "    'Luxury AWD': 'Luxury',\n",
    "    \n",
    "    'Base': 'Base',\n",
    "    'FWD': 'Base',\n",
    "    \n",
    "    'Platinum': 'Platinum',\n",
    "    'Platinum AWD': 'Platinum'}\n",
    "\n",
    "# Replace and groupby\n",
    "df['Vehicle_Trim'] = df['Vehicle_Trim'].replace(mapping)\n",
    "\n",
    "# dropping \n",
    "# cadillac_drop_trims = ['NaN']\n",
    "\n",
    "# original_row_count = len(df)\n",
    "# df = df[~df['Vehicle_Trim'].isin(cadillac_drop_trims)]\n",
    "\n",
    "# # Calculate the number of removed rows\n",
    "# removed_rows_count = original_row_count - len(df)\n",
    "# print(removed_rows_count)"
   ]
  },
  {
   "cell_type": "code",
   "execution_count": null,
   "id": "e98e7c82",
   "metadata": {},
   "outputs": [],
   "source": [
    "value_counts_info(pd.DataFrame(df[df['VehMake'] == 'Cadillac']['Vehicle_Trim']))"
   ]
  },
  {
   "cell_type": "code",
   "execution_count": null,
   "id": "ce996bf4",
   "metadata": {},
   "outputs": [],
   "source": [
    "jeep_trims = df[df['VehMake'] == 'Cadillac']['Vehicle_Trim'].value_counts()\n",
    "\n",
    "# Plotting the bar chart\n",
    "ax = jeep_trims.plot(kind='bar', color='skyblue', figsize=(8,5))\n",
    "plt.xlabel('Vehicle Trim')\n",
    "plt.ylabel('Counts')\n",
    "plt.title('Cadillac Vehicle Trim Distribution')\n",
    "plt.grid()\n",
    "plt.xticks(rotation=45)\n",
    "\n",
    "# Adding count annotations to each bar\n",
    "for p in ax.patches:\n",
    "    ax.annotate(str(p.get_height()), (p.get_x() + p.get_width() / 2., p.get_height()),\n",
    "                ha='center', va='center', xytext=(0, 10), textcoords='offset points')\n",
    "\n",
    "plt.show()"
   ]
  },
  {
   "cell_type": "code",
   "execution_count": null,
   "id": "1682f3a2",
   "metadata": {},
   "outputs": [],
   "source": [
    "df.shape"
   ]
  },
  {
   "cell_type": "code",
   "execution_count": null,
   "id": "5a662041",
   "metadata": {},
   "outputs": [],
   "source": [
    "value_counts_info(pd.DataFrame(df[['Vehicle_Trim']]))"
   ]
  },
  {
   "cell_type": "code",
   "execution_count": null,
   "id": "10932efb",
   "metadata": {},
   "outputs": [],
   "source": [
    "df['Vehicle_Trim'].isnull().sum()"
   ]
  },
  {
   "cell_type": "markdown",
   "id": "cb01bd53",
   "metadata": {},
   "source": [
    "### Target Variable - `Dealer_Listing_Price`"
   ]
  },
  {
   "cell_type": "code",
   "execution_count": null,
   "id": "ea0b0d7d",
   "metadata": {},
   "outputs": [],
   "source": [
    "y.Dealer_Listing_Price.describe()"
   ]
  },
  {
   "cell_type": "code",
   "execution_count": null,
   "id": "4297ad0c",
   "metadata": {},
   "outputs": [],
   "source": [
    "cad_price = df[df['VehMake'] == 'Cadillac']['Dealer_Listing_Price']\n",
    "jeep_price = df[df['VehMake'] == 'Jeep']['Dealer_Listing_Price']"
   ]
  },
  {
   "cell_type": "code",
   "execution_count": null,
   "id": "47ed5aaa",
   "metadata": {},
   "outputs": [],
   "source": [
    "plt.figure()\n",
    "sns.histplot(cad_price, label='Cadillac', alpha=0.6)\n",
    "sns.histplot(jeep_price, label='Jeep',alpha=0.6)\n",
    "plt.legend()\n",
    "plt.grid()\n",
    "plt.show()"
   ]
  },
  {
   "cell_type": "markdown",
   "id": "2bdd0c27",
   "metadata": {},
   "source": [
    "# 3. EDA - features"
   ]
  },
  {
   "cell_type": "code",
   "execution_count": null,
   "id": "fa362c56",
   "metadata": {},
   "outputs": [],
   "source": [
    "target_variables"
   ]
  },
  {
   "cell_type": "code",
   "execution_count": null,
   "id": "73f86fdc",
   "metadata": {},
   "outputs": [],
   "source": [
    "df.shape"
   ]
  },
  {
   "cell_type": "code",
   "execution_count": null,
   "id": "4a8c393d",
   "metadata": {},
   "outputs": [],
   "source": [
    "df.head(2)"
   ]
  },
  {
   "cell_type": "code",
   "execution_count": null,
   "id": "c002d489",
   "metadata": {},
   "outputs": [],
   "source": [
    "x = df.copy()#.drop(columns=target_variables)"
   ]
  },
  {
   "cell_type": "code",
   "execution_count": null,
   "id": "7b3d4d77",
   "metadata": {
    "scrolled": false
   },
   "outputs": [],
   "source": [
    "missing_data_info(x)"
   ]
  },
  {
   "cell_type": "code",
   "execution_count": null,
   "id": "389029a9",
   "metadata": {},
   "outputs": [],
   "source": [
    "x = x.dropna()\n",
    "print(x.shape)"
   ]
  },
  {
   "cell_type": "code",
   "execution_count": null,
   "id": "bf3e81b7",
   "metadata": {},
   "outputs": [],
   "source": [
    "missing_data_info(x)"
   ]
  },
  {
   "cell_type": "code",
   "execution_count": null,
   "id": "2626159e",
   "metadata": {},
   "outputs": [],
   "source": [
    "x.info()"
   ]
  },
  {
   "cell_type": "code",
   "execution_count": null,
   "id": "a21b564e",
   "metadata": {},
   "outputs": [],
   "source": [
    "X_LEN = len(x)"
   ]
  },
  {
   "cell_type": "code",
   "execution_count": null,
   "id": "85a21574",
   "metadata": {},
   "outputs": [],
   "source": [
    "numerical_features = []\n",
    "categorical_features = []"
   ]
  },
  {
   "cell_type": "code",
   "execution_count": null,
   "id": "e94ffb34",
   "metadata": {},
   "outputs": [],
   "source": [
    "def feature_analyzer(feature: str):\n",
    "    if x[feature].dtype == 'O':\n",
    "        print('Categorical feature')\n",
    "        print('Number of Unique values:',len(x[feature].unique()))\n",
    "        print(f'Missing values {x[feature].isnull().sum()}, % missing values {np.round(x[feature].isnull().sum()/X_LEN*100, 2)}')\n",
    "        print()\n",
    "        print('Unique Values:')\n",
    "        print(x[feature].unique())\n",
    "        \n",
    "    elif x[feature].dtype == 'bool':\n",
    "            print('Boolean feature')\n",
    "            print(f'Missing values {x[feature].isnull().sum()}, % missing values {np.round(x[feature].isnull().sum()/X_LEN*100, 2)}')\n",
    "            print(f\"False count {len(x[feature])-x[feature].sum()}, True count {x[feature].sum()}\")\n",
    "    else:\n",
    "        print('Numerical Feature')\n",
    "        plt.figure()\n",
    "        plt.title(feature)\n",
    "        sns.histplot(x[feature], label=feature)\n",
    "        plt.legend()\n",
    "        plt.grid()\n",
    "        plt.show()\n",
    "        \n",
    "        \n",
    "def single_value_counts_info(feature):\n",
    "    \n",
    "    df = pd.DataFrame(x[feature])\n",
    "    all_data = []\n",
    "    \n",
    "    for column in df.columns:\n",
    "        counts = df[column].value_counts()\n",
    "        percent = (df[column].value_counts() / df.shape[0]) * 100\n",
    "        \n",
    "        data = pd.concat([counts, percent], axis=1, keys=['Counts', 'Percent']).reset_index()\n",
    "        data.rename(columns={'index': 'Value'}, inplace=True)\n",
    "        data['Column'] = column\n",
    "        all_data.append(data)\n",
    "        print('Total count: ',counts.sum())\n",
    "        \n",
    "    final_df = pd.concat(all_data, axis=0, ignore_index=True).pivot_table(index=['Column', 'Value'], values=['Counts', 'Percent'], aggfunc='first')\n",
    "    final_df = final_df.sort_values(by='Percent', ascending=False)\n",
    "\n",
    "    return final_df"
   ]
  },
  {
   "cell_type": "markdown",
   "id": "b6fa96a4",
   "metadata": {},
   "source": [
    "#### Going through each and every feature"
   ]
  },
  {
   "cell_type": "markdown",
   "id": "8fd6b193",
   "metadata": {},
   "source": [
    "1. `SellerCity`\n",
    "- DROP: too many values "
   ]
  },
  {
   "cell_type": "code",
   "execution_count": null,
   "id": "04f11139",
   "metadata": {},
   "outputs": [],
   "source": [
    "feature_analyzer('SellerCity')"
   ]
  },
  {
   "cell_type": "markdown",
   "id": "94406fbd",
   "metadata": {},
   "source": [
    "2. `SellerIsPriv`\n",
    "- DROP: has only one value"
   ]
  },
  {
   "cell_type": "code",
   "execution_count": null,
   "id": "f6c1a5af",
   "metadata": {},
   "outputs": [],
   "source": [
    "feature_analyzer('SellerIsPriv')"
   ]
  },
  {
   "cell_type": "markdown",
   "id": "8cf4f643",
   "metadata": {},
   "source": [
    "3. SellerListSrc\n",
    "- Added to categorical: one hot encoding"
   ]
  },
  {
   "cell_type": "code",
   "execution_count": null,
   "id": "c6542ef4",
   "metadata": {
    "scrolled": true
   },
   "outputs": [],
   "source": [
    "feature_analyzer('SellerListSrc')"
   ]
  },
  {
   "cell_type": "code",
   "execution_count": null,
   "id": "846060e9",
   "metadata": {},
   "outputs": [],
   "source": [
    "single_value_counts_info('SellerListSrc')"
   ]
  },
  {
   "cell_type": "code",
   "execution_count": null,
   "id": "77aab7ed",
   "metadata": {},
   "outputs": [],
   "source": [
    "categorical_features.append('SellerListSrc')"
   ]
  },
  {
   "cell_type": "markdown",
   "id": "31324237",
   "metadata": {},
   "source": [
    "4. SellerName\n",
    "- DROP"
   ]
  },
  {
   "cell_type": "code",
   "execution_count": null,
   "id": "2054bb4d",
   "metadata": {},
   "outputs": [],
   "source": [
    "feature_analyzer('SellerName')"
   ]
  },
  {
   "cell_type": "markdown",
   "id": "190c6ef8",
   "metadata": {},
   "source": [
    "5. SellerRating\n",
    "- added to numerical"
   ]
  },
  {
   "cell_type": "code",
   "execution_count": null,
   "id": "ee67eea5",
   "metadata": {},
   "outputs": [],
   "source": [
    "feature_analyzer('SellerRating')"
   ]
  },
  {
   "cell_type": "code",
   "execution_count": null,
   "id": "f66d9ebb",
   "metadata": {},
   "outputs": [],
   "source": [
    "numerical_features.append('SellerRating')"
   ]
  },
  {
   "cell_type": "markdown",
   "id": "6ef2c703",
   "metadata": {},
   "source": [
    "6. SellerRevCnt\n",
    "- use log transform and add that as numerical"
   ]
  },
  {
   "cell_type": "code",
   "execution_count": null,
   "id": "4c7cf341",
   "metadata": {},
   "outputs": [],
   "source": [
    "feature_analyzer('SellerRevCnt')"
   ]
  },
  {
   "cell_type": "code",
   "execution_count": null,
   "id": "abc0f161",
   "metadata": {},
   "outputs": [],
   "source": [
    "x['SellerRevCnt_log'] = np.log1p(x['SellerRevCnt']+1)"
   ]
  },
  {
   "cell_type": "code",
   "execution_count": null,
   "id": "9efa93f2",
   "metadata": {
    "scrolled": false
   },
   "outputs": [],
   "source": [
    "feature_analyzer('SellerRevCnt_log')"
   ]
  },
  {
   "cell_type": "code",
   "execution_count": null,
   "id": "e5516978",
   "metadata": {},
   "outputs": [],
   "source": [
    "numerical_features.append('SellerRevCnt')"
   ]
  },
  {
   "cell_type": "markdown",
   "id": "3a7e5730",
   "metadata": {},
   "source": [
    "7. SellerState\n",
    "- one hot"
   ]
  },
  {
   "cell_type": "code",
   "execution_count": null,
   "id": "15c7ad80",
   "metadata": {},
   "outputs": [],
   "source": [
    "feature_analyzer('SellerState')"
   ]
  },
  {
   "cell_type": "code",
   "execution_count": null,
   "id": "5056d40b",
   "metadata": {},
   "outputs": [],
   "source": [
    "single_value_counts_info('SellerState')"
   ]
  },
  {
   "cell_type": "code",
   "execution_count": null,
   "id": "f10c21b7",
   "metadata": {},
   "outputs": [],
   "source": [
    "categorical_features.append('SellerState')"
   ]
  },
  {
   "cell_type": "markdown",
   "id": "a5bcee30",
   "metadata": {},
   "source": [
    "8. SellerZip\n",
    "- drop, we already have the state "
   ]
  },
  {
   "cell_type": "code",
   "execution_count": null,
   "id": "ad2bb089",
   "metadata": {},
   "outputs": [],
   "source": [
    "feature_analyzer('SellerZip')"
   ]
  },
  {
   "cell_type": "markdown",
   "id": "9e0105f9",
   "metadata": {},
   "source": [
    "9. VehBodystyle\n",
    "- DROP: has one value only"
   ]
  },
  {
   "cell_type": "code",
   "execution_count": null,
   "id": "5be87dc7",
   "metadata": {},
   "outputs": [],
   "source": [
    "feature_analyzer('VehBodystyle')"
   ]
  },
  {
   "cell_type": "markdown",
   "id": "31efeac8",
   "metadata": {},
   "source": [
    " 10. VehCertified\n",
    " - bool added \n"
   ]
  },
  {
   "cell_type": "code",
   "execution_count": null,
   "id": "33e42aae",
   "metadata": {},
   "outputs": [],
   "source": [
    "feature_analyzer('VehCertified')"
   ]
  },
  {
   "cell_type": "code",
   "execution_count": null,
   "id": "0b88e5d4",
   "metadata": {},
   "outputs": [],
   "source": [
    "categorical_features.append('VehCertified')"
   ]
  },
  {
   "cell_type": "markdown",
   "id": "d6adcf8d",
   "metadata": {},
   "source": [
    " 10. VehColorExt\n",
    " - categorical added, but extracted colors"
   ]
  },
  {
   "cell_type": "code",
   "execution_count": null,
   "id": "53c95c75",
   "metadata": {},
   "outputs": [],
   "source": [
    "feature_analyzer('VehColorExt')"
   ]
  },
  {
   "cell_type": "code",
   "execution_count": null,
   "id": "b2b0ba90",
   "metadata": {},
   "outputs": [],
   "source": [
    "def basic_color(color):\n",
    "    base_colors = ['Black', 'White', 'Red', 'Silver', 'Blue', 'Gray', 'Brown', 'Gold' ]\n",
    "    for base in base_colors:\n",
    "        if base.lower() in color.lower():\n",
    "            return base\n",
    "    return 'Other'\n",
    "\n",
    "x['BasicExtColor'] = x['VehColorExt'].apply(basic_color)"
   ]
  },
  {
   "cell_type": "code",
   "execution_count": null,
   "id": "291b6585",
   "metadata": {},
   "outputs": [],
   "source": [
    "single_value_counts_info('BasicExtColor')"
   ]
  },
  {
   "cell_type": "code",
   "execution_count": null,
   "id": "afa23199",
   "metadata": {},
   "outputs": [],
   "source": [
    "categorical_features.append('VehColorExt')"
   ]
  },
  {
   "cell_type": "markdown",
   "id": "0284888c",
   "metadata": {},
   "source": [
    " 11. VehColorInt\n",
    " - changed to boolean whether has leather or not\n"
   ]
  },
  {
   "cell_type": "code",
   "execution_count": null,
   "id": "c8f6ef6e",
   "metadata": {},
   "outputs": [],
   "source": [
    "feature_analyzer('VehColorInt')"
   ]
  },
  {
   "cell_type": "code",
   "execution_count": null,
   "id": "8f6aff0a",
   "metadata": {},
   "outputs": [],
   "source": [
    "x['ContainsLeather'] = x['VehColorInt'].str.contains('leather', case=False).astype(bool)"
   ]
  },
  {
   "cell_type": "code",
   "execution_count": null,
   "id": "fe0e82cf",
   "metadata": {},
   "outputs": [],
   "source": [
    "feature_analyzer('ContainsLeather')"
   ]
  },
  {
   "cell_type": "code",
   "execution_count": null,
   "id": "0fab7db3",
   "metadata": {},
   "outputs": [],
   "source": [
    "categorical_features.append('VehColorInt')"
   ]
  },
  {
   "cell_type": "markdown",
   "id": "bb8bf731",
   "metadata": {},
   "source": [
    " 12. VehDriveTrain\n"
   ]
  },
  {
   "cell_type": "code",
   "execution_count": null,
   "id": "ee414192",
   "metadata": {},
   "outputs": [],
   "source": [
    "feature_analyzer('VehDriveTrain')"
   ]
  },
  {
   "cell_type": "code",
   "execution_count": null,
   "id": "260b6fe6",
   "metadata": {},
   "outputs": [],
   "source": [
    "drivetrain_mapping = {\n",
    "    '4x4/4WD': 'all_drive',\n",
    "    '4WD': 'all_drive',\n",
    "    'FWD': 'front_drive',\n",
    "    'AWD': 'all_drive',\n",
    "    '4x4': 'all_drive',\n",
    "    'Four Wheel Drive': 'all_drive',\n",
    "    '4X4': 'all_drive',\n",
    "    'All Wheel Drive': 'all_drive',\n",
    "    'ALL-WHEEL DRIVE WITH LOCKING AND LIMITED-SLIP DIFFERENTIAL': 'all_drive',\n",
    "    'AWD or 4x4': 'all_drive',\n",
    "    'Front Wheel Drive': 'all_drive',\n",
    "    'All-wheel Drive': 'all_drive',\n",
    "    'ALL WHEEL': 'all_drive',\n",
    "    'AllWheelDrive': 'all_drive',\n",
    "    '4WD/AWD': 'all_drive'\n",
    "}\n",
    "\n",
    "x['Drivetrain'] = x['VehDriveTrain'].replace(drivetrain_mapping).astype('O')"
   ]
  },
  {
   "cell_type": "code",
   "execution_count": null,
   "id": "335074fb",
   "metadata": {},
   "outputs": [],
   "source": [
    "feature_analyzer('Drivetrain')"
   ]
  },
  {
   "cell_type": "code",
   "execution_count": null,
   "id": "d137dfdf",
   "metadata": {},
   "outputs": [],
   "source": [
    "single_value_counts_info('Drivetrain')"
   ]
  },
  {
   "cell_type": "code",
   "execution_count": null,
   "id": "246d1d4d",
   "metadata": {},
   "outputs": [],
   "source": [
    "categorical_features.append('VehDriveTrain')"
   ]
  },
  {
   "cell_type": "markdown",
   "id": "02d01b75",
   "metadata": {},
   "source": [
    " 13. VehEngine\n"
   ]
  },
  {
   "cell_type": "code",
   "execution_count": null,
   "id": "1e73873b",
   "metadata": {},
   "outputs": [],
   "source": [
    "feature_analyzer('VehEngine')"
   ]
  },
  {
   "cell_type": "code",
   "execution_count": null,
   "id": "86310af0",
   "metadata": {},
   "outputs": [],
   "source": [
    "import re\n",
    "x['Displacement'] = x['VehEngine'].apply(lambda x: float(re.search(r'(\\d+\\.\\d+)', x).group(1)) if re.search(r'(\\d+\\.\\d+)', x) else 0)\n",
    "\n",
    "engine_types = ['turbo', 'supercharged', 'diesel', 'hemi']\n",
    "\n",
    "def categorize_engine(engine):\n",
    "    for etype in engine_types:\n",
    "        if etype in engine.lower():\n",
    "            return etype.capitalize()\n",
    "    return 'Other'\n",
    "\n",
    "# Apply function to the 'VehEngine' column\n",
    "x['Engine_Category'] = x['VehEngine'].apply(categorize_engine)"
   ]
  },
  {
   "cell_type": "code",
   "execution_count": null,
   "id": "72fde072",
   "metadata": {},
   "outputs": [],
   "source": [
    "feature_analyzer('Engine_Category')"
   ]
  },
  {
   "cell_type": "code",
   "execution_count": null,
   "id": "be1eeb80",
   "metadata": {},
   "outputs": [],
   "source": [
    "single_value_counts_info('Engine_Category')"
   ]
  },
  {
   "cell_type": "code",
   "execution_count": null,
   "id": "2aa1db7e",
   "metadata": {},
   "outputs": [],
   "source": [
    "categorical_features.append('VehEngine')"
   ]
  },
  {
   "cell_type": "markdown",
   "id": "152e0775",
   "metadata": {},
   "source": [
    " 14. VehFeats\n",
    " - too many features, so will combine them and return count of features\n"
   ]
  },
  {
   "cell_type": "code",
   "execution_count": null,
   "id": "98fa5005",
   "metadata": {
    "scrolled": true
   },
   "outputs": [],
   "source": [
    "feature_analyzer('VehFeats')"
   ]
  },
  {
   "cell_type": "code",
   "execution_count": null,
   "id": "eda54094",
   "metadata": {},
   "outputs": [],
   "source": [
    "x['VehFeatsCount'] = x['VehFeats'].apply(lambda x: len(x.split(',')))"
   ]
  },
  {
   "cell_type": "code",
   "execution_count": null,
   "id": "7a96ebf6",
   "metadata": {},
   "outputs": [],
   "source": [
    "x['VehFeatsCount'].isnull().sum()"
   ]
  },
  {
   "cell_type": "code",
   "execution_count": null,
   "id": "5e2d552a",
   "metadata": {},
   "outputs": [],
   "source": [
    "feature_analyzer('VehFeatsCount')"
   ]
  },
  {
   "cell_type": "code",
   "execution_count": null,
   "id": "8661538f",
   "metadata": {},
   "outputs": [],
   "source": [
    "single_value_counts_info('VehFeatsCount')"
   ]
  },
  {
   "cell_type": "code",
   "execution_count": null,
   "id": "399f5a4b",
   "metadata": {},
   "outputs": [],
   "source": [
    "categorical_features.append('VehFeats')"
   ]
  },
  {
   "cell_type": "markdown",
   "id": "39305677",
   "metadata": {},
   "source": [
    "15. VehFuel"
   ]
  },
  {
   "cell_type": "code",
   "execution_count": null,
   "id": "91465cd8",
   "metadata": {},
   "outputs": [],
   "source": [
    "feature_analyzer('VehFuel')"
   ]
  },
  {
   "cell_type": "code",
   "execution_count": null,
   "id": "85c491c6",
   "metadata": {},
   "outputs": [],
   "source": [
    "single_value_counts_info('VehFuel')"
   ]
  },
  {
   "cell_type": "code",
   "execution_count": null,
   "id": "0d3f0f08",
   "metadata": {},
   "outputs": [],
   "source": [
    "categorical_features.append('VehFuel')"
   ]
  },
  {
   "cell_type": "markdown",
   "id": "ccb89184",
   "metadata": {},
   "source": [
    "16. VehHistory "
   ]
  },
  {
   "cell_type": "code",
   "execution_count": null,
   "id": "024800c0",
   "metadata": {},
   "outputs": [],
   "source": [
    "feature_analyzer('VehHistory')"
   ]
  },
  {
   "cell_type": "code",
   "execution_count": null,
   "id": "ddb87b48",
   "metadata": {},
   "outputs": [],
   "source": [
    "unique_labels = set()\n",
    "\n",
    "for entry in x.VehHistory.unique():\n",
    "    # Split by comma and strip each substring to remove leading/trailing spaces\n",
    "    labels = [label.strip() for label in entry.split(',')]\n",
    "    unique_labels.update(labels)\n",
    "\n",
    "# Convert set back to a list\n",
    "unique_labels_list = list(unique_labels)\n",
    "print(unique_labels_list)"
   ]
  },
  {
   "cell_type": "markdown",
   "id": "2af83849",
   "metadata": {},
   "source": [
    "1. Extract the number of owners.\n",
    "2. Create a binary feature to indicate if accidents were reported.\n",
    "3. Create a binary feature to indicate if the vehicle had non-personal use.\n",
    "4. Create a binary feature to indicate if there's a title issue.\n",
    "5. Create a binary feature to indicate if there's buyback protection eligibility."
   ]
  },
  {
   "cell_type": "code",
   "execution_count": null,
   "id": "3ebae425",
   "metadata": {},
   "outputs": [],
   "source": [
    "# Extract number of owners and create a new column\n",
    "x['Num_Owners'] = x['VehHistory'].str.extract(r'(\\d+) Owner').astype(int)\n",
    "\n",
    "# Check if accidents were reported\n",
    "x['AccidentReported'] = x['VehHistory'].str.contains(r'Accident\\(s\\) Reported').astype(bool)\n",
    "\n",
    "# Check if non-personal use was reported\n",
    "x['NonPersonalUse'] = x['VehHistory'].str.contains('Non-Personal Use Reported').astype(bool)\n",
    "\n",
    "# Check for title issues\n",
    "x['TitleIssues'] = x['VehHistory'].str.contains(r'Title Issue\\(s\\) Reported').astype(bool)\n",
    "\n",
    "# Check for buyback protection eligibility\n",
    "x['BuybackProtection'] = x['VehHistory'].str.contains('Buyback Protection Eligible').astype(bool)\n"
   ]
  },
  {
   "cell_type": "code",
   "execution_count": null,
   "id": "1ffff1cc",
   "metadata": {},
   "outputs": [],
   "source": [
    "feature_analyzer('BuybackProtection')"
   ]
  },
  {
   "cell_type": "code",
   "execution_count": null,
   "id": "4b9488ff",
   "metadata": {},
   "outputs": [],
   "source": [
    "single_value_counts_info('Num_Owners')\n"
   ]
  },
  {
   "cell_type": "code",
   "execution_count": null,
   "id": "c6736bb2",
   "metadata": {},
   "outputs": [],
   "source": [
    "single_value_counts_info('AccidentReported')\n"
   ]
  },
  {
   "cell_type": "code",
   "execution_count": null,
   "id": "65d5fd56",
   "metadata": {},
   "outputs": [],
   "source": [
    "categorical_features.append('VehHistory')"
   ]
  },
  {
   "cell_type": "markdown",
   "id": "e0f59d7f",
   "metadata": {},
   "source": [
    "17. VehListdays"
   ]
  },
  {
   "cell_type": "code",
   "execution_count": null,
   "id": "bc1e3007",
   "metadata": {
    "scrolled": false
   },
   "outputs": [],
   "source": [
    "feature_analyzer('VehListdays')"
   ]
  },
  {
   "cell_type": "code",
   "execution_count": null,
   "id": "73aeb94e",
   "metadata": {},
   "outputs": [],
   "source": [
    "x['VehListdays_log'] = np.log1p(x['VehListdays']+1)"
   ]
  },
  {
   "cell_type": "code",
   "execution_count": null,
   "id": "7ba75bf0",
   "metadata": {},
   "outputs": [],
   "source": [
    "feature_analyzer('VehListdays_log')"
   ]
  },
  {
   "cell_type": "code",
   "execution_count": null,
   "id": "98681b46",
   "metadata": {},
   "outputs": [],
   "source": [
    "numerical_features.append('VehListdays')"
   ]
  },
  {
   "cell_type": "markdown",
   "id": "fceece0b",
   "metadata": {},
   "source": [
    "18. VehMake "
   ]
  },
  {
   "cell_type": "code",
   "execution_count": null,
   "id": "7171da6f",
   "metadata": {},
   "outputs": [],
   "source": [
    "feature_analyzer('VehMake')"
   ]
  },
  {
   "cell_type": "code",
   "execution_count": null,
   "id": "d59d598b",
   "metadata": {},
   "outputs": [],
   "source": [
    "single_value_counts_info('VehMake')"
   ]
  },
  {
   "cell_type": "code",
   "execution_count": null,
   "id": "bf18b8d5",
   "metadata": {},
   "outputs": [],
   "source": [
    "categorical_features.append('VehMake')"
   ]
  },
  {
   "cell_type": "markdown",
   "id": "91d256ab",
   "metadata": {},
   "source": [
    "19. VehMileage \n"
   ]
  },
  {
   "cell_type": "code",
   "execution_count": null,
   "id": "2164e221",
   "metadata": {},
   "outputs": [],
   "source": [
    "feature_analyzer('VehMileage')"
   ]
  },
  {
   "cell_type": "code",
   "execution_count": null,
   "id": "4415e930",
   "metadata": {},
   "outputs": [],
   "source": [
    "numerical_features.append('VehMileage')"
   ]
  },
  {
   "cell_type": "markdown",
   "id": "d21d344b",
   "metadata": {},
   "source": [
    "20. VehModel\n",
    "- DROP: they are repetitive to `VehMake`"
   ]
  },
  {
   "cell_type": "code",
   "execution_count": null,
   "id": "7dc81278",
   "metadata": {},
   "outputs": [],
   "source": [
    "feature_analyzer('VehModel')"
   ]
  },
  {
   "cell_type": "markdown",
   "id": "2cb1ead2",
   "metadata": {},
   "source": [
    " 21. VehPriceLabel\n",
    " - DROP!: potential data leakage"
   ]
  },
  {
   "cell_type": "code",
   "execution_count": null,
   "id": "20812fd7",
   "metadata": {},
   "outputs": [],
   "source": [
    "feature_analyzer('VehPriceLabel')"
   ]
  },
  {
   "cell_type": "code",
   "execution_count": null,
   "id": "6b6b78cd",
   "metadata": {},
   "outputs": [],
   "source": [
    "single_value_counts_info('VehPriceLabel')"
   ]
  },
  {
   "cell_type": "markdown",
   "id": "21acd378",
   "metadata": {},
   "source": [
    "Wen need to be aware of potential **data leakage**, especially if: </br>\n",
    "`VehPriceLabel` is determined using the `Dealer_Listing_Price`. In that scenario, using both could lead to over-optimistic estimates of model performance. You would need to know the exact mechanism by which VehPriceLabel is determined. If it's purely based on Dealer_Listing_Price, you might consider excluding it from the features when predicting the price to avoid this leakage."
   ]
  },
  {
   "cell_type": "markdown",
   "id": "dbf65828",
   "metadata": {},
   "source": [
    "22.  VehSellerNotes\n",
    "- NLP needed!\n"
   ]
  },
  {
   "cell_type": "code",
   "execution_count": null,
   "id": "ced956dc",
   "metadata": {
    "scrolled": true
   },
   "outputs": [],
   "source": [
    "feature_analyzer('VehSellerNotes')"
   ]
  },
  {
   "cell_type": "markdown",
   "id": "57b139a2",
   "metadata": {},
   "source": [
    " 23. VehType\n",
    "- DROP: no new information"
   ]
  },
  {
   "cell_type": "code",
   "execution_count": null,
   "id": "31a3676b",
   "metadata": {},
   "outputs": [],
   "source": [
    "feature_analyzer('VehType')"
   ]
  },
  {
   "cell_type": "markdown",
   "id": "94da8e0a",
   "metadata": {},
   "source": [
    "24.  VehTransmission \n",
    "- DROP"
   ]
  },
  {
   "cell_type": "code",
   "execution_count": null,
   "id": "ae7e7fd7",
   "metadata": {},
   "outputs": [],
   "source": [
    "feature_analyzer('VehTransmission')"
   ]
  },
  {
   "cell_type": "markdown",
   "id": "fb6ebfda",
   "metadata": {},
   "source": [
    "25.  VehYear   \n"
   ]
  },
  {
   "cell_type": "code",
   "execution_count": null,
   "id": "257af9f9",
   "metadata": {},
   "outputs": [],
   "source": [
    "CURRENT_YEAR = 2023\n",
    "# the older the car the cheaper it can be\n",
    "x['VehAge'] = CURRENT_YEAR - x['VehYear']"
   ]
  },
  {
   "cell_type": "code",
   "execution_count": null,
   "id": "7899ad8f",
   "metadata": {},
   "outputs": [],
   "source": [
    "feature_analyzer('VehAge')"
   ]
  },
  {
   "cell_type": "code",
   "execution_count": null,
   "id": "e773c4c3",
   "metadata": {},
   "outputs": [],
   "source": [
    "numerical_features.append('VehYear')"
   ]
  },
  {
   "cell_type": "markdown",
   "id": "f7b05c3a",
   "metadata": {},
   "source": [
    "# Create a function for processing features\n",
    "- will be used for the test as well"
   ]
  },
  {
   "cell_type": "code",
   "execution_count": 91,
   "id": "aff2cc8e",
   "metadata": {},
   "outputs": [],
   "source": [
    "# Load the datasets\n",
    "df = pd.read_csv('Training_dataset.csv')\n",
    "test_df = pd.read_csv('Test_dataset.csv')"
   ]
  },
  {
   "cell_type": "code",
   "execution_count": 60,
   "id": "63ad164a",
   "metadata": {},
   "outputs": [],
   "source": [
    "def preprocessing(df):\n",
    "    \n",
    "    CURRENT_YEAR = 2023\n",
    "\n",
    "    def one_hot_fn(dataframe: pd.DataFrame, feature_name: str):\n",
    "        # One-hot encode the 'feature' column\n",
    "        encoded_columns = pd.get_dummies(dataframe[feature_name], prefix=feature_name)\n",
    "        # Drop the original 'feature' column\n",
    "        dataframe.drop(feature_name, axis=1, inplace=True)\n",
    "        # Concatenate the original DataFrame and the one-hot encoded columns\n",
    "        dataframe = pd.concat([dataframe, encoded_columns], axis=1)\n",
    "        return dataframe\n",
    "    \n",
    "    # DONE\n",
    "    def veh_drive_train_transform(df):\n",
    "        drivetrain_mapping = {\n",
    "        '4x4/4WD': 'all_drive',\n",
    "        '4WD': 'all_drive',\n",
    "        'FWD': 'front_drive',\n",
    "        'AWD': 'all_drive',\n",
    "        '4x4': 'all_drive',\n",
    "        'Four Wheel Drive': 'all_drive',\n",
    "        '4X4': 'all_drive',\n",
    "        'All Wheel Drive': 'all_drive',\n",
    "        'ALL-WHEEL DRIVE WITH LOCKING AND LIMITED-SLIP DIFFERENTIAL': 'all_drive',\n",
    "        'AWD or 4x4': 'all_drive',\n",
    "        'Front Wheel Drive': 'all_drive',\n",
    "        'All-wheel Drive': 'all_drive',\n",
    "        'ALL WHEEL': 'all_drive',\n",
    "        'AllWheelDrive': 'all_drive',\n",
    "        '4WD/AWD': 'all_drive'}\n",
    "\n",
    "        df['VehDrive'] = df['VehDriveTrain'].replace(drivetrain_mapping)\n",
    "        # Determine the most frequent value after mapping\n",
    "        most_frequent = df['VehDrive'].mode()[0]\n",
    "        # Replace NaN values with the most frequent value\n",
    "        df['VehDrive'].fillna(most_frequent, inplace=True)\n",
    "        \n",
    "        # Handle unknown categories\n",
    "        known_values = set(drivetrain_mapping.values())\n",
    "        df.loc[~df['VehDrive'].isin(known_values), 'VehDrive'] = 'other'\n",
    "        \n",
    "        # one hot encode\n",
    "        df = one_hot_fn(df, 'VehDrive')\n",
    "        df.drop('VehDriveTrain', axis=1, inplace=True)\n",
    "        return df\n",
    "    \n",
    "    # DONE\n",
    "    def veh_feats_transform(df):\n",
    "        # Perform mapping to count the features per vehicle\n",
    "        df['VehFeatsCount'] = df['VehFeats'].apply(lambda x: len(str(x).split(',')) if not pd.isna(x) else None)\n",
    "        # Determine the most frequent count value\n",
    "        most_frequent = df['VehFeatsCount'].mode()[0]\n",
    "        # Use the most frequent value for imputation of NaN values\n",
    "        df['VehFeatsCount'].fillna(most_frequent, inplace=True)\n",
    "        # Drop the original 'VehFeats' column\n",
    "        df.drop('VehFeats', axis=1, inplace=True)\n",
    "\n",
    "        return df\n",
    "\n",
    "    # DONE\n",
    "    def veh_color_ext_transform(df):\n",
    "        # NaNs will be filled with color White! - most popular color\n",
    "        def basic_color(color):\n",
    "            if pd.isna(color):\n",
    "                return 'White'\n",
    "            elif not isinstance(color, str):\n",
    "                return 'Other'\n",
    "\n",
    "            base_colors = ['Black', 'White', 'Red', 'Silver', 'Blue', 'Gray', 'Brown', 'Gold']\n",
    "            for base in base_colors:\n",
    "                if base.lower() in color.lower():\n",
    "                    return base\n",
    "            return 'Other'\n",
    "\n",
    "        df['BasicExtColor'] = df['VehColorExt'].apply(basic_color)\n",
    "        df.drop('VehColorExt', axis=1, inplace=True)\n",
    "        df = one_hot_fn(df, 'BasicExtColor')\n",
    "        \n",
    "        return df\n",
    "    \n",
    "    # DONE!\n",
    "    def veh_color_int_transform(df):\n",
    "        # Nans -> False/ 0 (because non-leather cars are more popular)\n",
    "        df['ContainsLeather'] = df['VehColorInt'].str.contains('leather', case=False, na=False).astype(bool)\n",
    "        df.drop('VehColorInt', axis=1, inplace=True)\n",
    "        df['ContainsLeather'] = df['ContainsLeather'].astype(int)\n",
    "        return df\n",
    "    \n",
    "    # DONE\n",
    "    def veh_engine_transform(df):\n",
    "        def get_displacement(engine):\n",
    "            if pd.isna(engine) or not isinstance(engine, str):\n",
    "                return 0\n",
    "            match = re.search(r'(\\d+\\.\\d+)', engine)\n",
    "            return float(match.group(1)) if match else 0\n",
    "\n",
    "        df['Displacement'] = df['VehEngine'].apply(get_displacement)\n",
    "\n",
    "        engine_types = ['turbo', 'supercharged', 'diesel', 'hemi']\n",
    "\n",
    "        def categorize_engine(engine):\n",
    "            if pd.isna(engine) or not isinstance(engine, str):\n",
    "                return 'Other'\n",
    "            for etype in engine_types:\n",
    "                if etype in engine.lower():\n",
    "                    return etype.capitalize()\n",
    "            return 'Other'\n",
    "\n",
    "        df['Engine_Category'] = df['VehEngine'].apply(categorize_engine)\n",
    "        df.drop('VehEngine', axis=1, inplace=True)\n",
    "\n",
    "        # Assuming one_hot_fn is a function that takes in a dataframe and a column name to one-hot encode.\n",
    "        df = one_hot_fn(df, 'Engine_Category')\n",
    "        return df\n",
    "    \n",
    "    #DONE\n",
    "    def veh_history_transform(df):\n",
    "        # Extract number of owners and create a new column\n",
    "        df['Num_Owners'] = df['VehHistory'].str.extract(r'(\\d+) Owner')\n",
    "\n",
    "        # Check if accidents were reported\n",
    "        df['AccidentReported'] = df['VehHistory'].str.contains(r'Accident\\(s\\) Reported')\n",
    "\n",
    "        # Check if non-personal use was reported\n",
    "        df['NonPersonalUse'] = df['VehHistory'].str.contains('Non-Personal Use Reported')\n",
    "\n",
    "        # Check for title issues\n",
    "        df['TitleIssues'] = df['VehHistory'].str.contains(r'Title Issue\\(s\\) Reported')\n",
    "\n",
    "        # Check for buyback protection eligibility\n",
    "        df['BuybackProtection'] = df['VehHistory'].str.contains('Buyback Protection Eligible')\n",
    "\n",
    "        # Impute NaNs for each new feature using the most frequent value of that feature\n",
    "        new_features = ['Num_Owners', 'AccidentReported', 'NonPersonalUse', 'TitleIssues', 'BuybackProtection']\n",
    "        for feature in new_features:\n",
    "            most_common = df[feature].mode()[0]\n",
    "            df[feature].fillna(most_common, inplace=True)\n",
    "\n",
    "        # Convert boolean and object columns to integers\n",
    "        df['Num_Owners'] = df['Num_Owners'].astype(int)\n",
    "        df['AccidentReported'] = df['AccidentReported'].astype(int)\n",
    "        df['NonPersonalUse'] = df['NonPersonalUse'].astype(int)\n",
    "        df['TitleIssues'] = df['TitleIssues'].astype(int)\n",
    "        df['BuybackProtection'] = df['BuybackProtection'].astype(int)\n",
    "\n",
    "        # Drop the original 'VehHistory' column\n",
    "        df.drop('VehHistory', axis=1, inplace=True)\n",
    "        return df\n",
    "    \n",
    "    # DONE\n",
    "    def veh_make_transform(df):\n",
    "        vehmake_mapping = {\n",
    "        \"Jeep\": 1,\n",
    "        \"Cadillac\": 0}\n",
    "\n",
    "        df['Is_Jeep'] = df['VehMake'].map(vehmake_mapping)\n",
    "        df.drop('VehMake', axis=1, inplace=True)\n",
    "        return df\n",
    "    \n",
    "    # DONE\n",
    "    def veh_mileage_transform(df):\n",
    "        # Calculate the mean of the 'VehMileage' column\n",
    "        mileage_mean = df['VehMileage'].mean()\n",
    "        # Impute NaN values in the 'VehMileage' column with the computed mean\n",
    "        df['VehMileage'].fillna(mileage_mean, inplace=True)\n",
    "        return df\n",
    "\n",
    "    df.set_index('ListingID', inplace=True)\n",
    "\n",
    "    # dropping unused features\n",
    "    unused_features = ['VehTransmission','VehBodystyle','SellerZip','VehType','VehSellerNotes',\n",
    "                       'VehPriceLabel','VehModel','SellerIsPriv','SellerName','SellerCity']\n",
    "    \n",
    "    df = df.drop(unused_features, axis=1)\n",
    "    \n",
    "    # features requiring one-hot-encoding\n",
    "    df = one_hot_fn(df, 'SellerListSrc')\n",
    "    df = one_hot_fn(df, 'VehFuel')\n",
    "    df = one_hot_fn(df, 'SellerState')\n",
    "\n",
    "    # features requiring log transform\n",
    "    df['SellerRevCnt'] = np.log1p(df['SellerRevCnt'])\n",
    "    df['VehListdays'] = np.log1p(df['VehListdays'])\n",
    "\n",
    "    # new feature\n",
    "    df['VehAge'] = CURRENT_YEAR - df['VehYear']\n",
    "    df.drop('VehYear', axis=1, inplace=True)\n",
    "    \n",
    "    # boolean encoding\n",
    "    df['VehCertified'] = df['VehCertified'].astype(int)\n",
    "    \n",
    "    # new feature\n",
    "    df = veh_drive_train_transform(df)\n",
    "    df = veh_feats_transform(df)\n",
    "    df = veh_color_ext_transform(df)\n",
    "    df = veh_color_int_transform(df)\n",
    "    df = veh_engine_transform(df)\n",
    "    df = veh_history_transform(df)\n",
    "    df = veh_make_transform(df)\n",
    "    df = veh_mileage_transform(df)\n",
    "    \n",
    "    # drop any remaining nans\n",
    "    df = df.dropna()\n",
    "\n",
    "    \n",
    "    # deal with badly parsed column names\n",
    "    df.columns = [col.replace(' ', '_') for col in df.columns]\n",
    "    \n",
    "\n",
    "    return df\n",
    "\n",
    "\n",
    "def preprocessing_target_features(df):\n",
    "    \n",
    "    df = df.dropna(subset=['Vehicle_Trim', 'Dealer_Listing_Price'])\n",
    "\n",
    "    # Mapping dictionary\n",
    "    jeep_mapping = {\n",
    "        'Limited 75th Anniversary Edition': 'Limited',\n",
    "        'Limited X': 'Limited',\n",
    "        'Limited 4x4': 'Limited',\n",
    "        'Limited 75th Anniversary': 'Limited',\n",
    "\n",
    "        'Laredo E': 'Laredo',\n",
    "\n",
    "        'SRT Night': 'SRT',\n",
    "\n",
    "        'Summit': 'Overland',\n",
    "\n",
    "        'Trackhawk': 'Trailhawk',\n",
    "\n",
    "        'High Altitude': 'Altitude'}\n",
    "\n",
    "    # Replace and groupby\n",
    "    df['Vehicle_Trim'] = df['Vehicle_Trim'].replace(jeep_mapping)\n",
    "    # dropping \n",
    "    jeep_drop_trims = ['75th Anniversary Edition', 'Upland','75th Anniversary','Sterling Edition']\n",
    "\n",
    "    df = df[~df['Vehicle_Trim'].isin(jeep_drop_trims)]\n",
    "\n",
    "    # Mapping dictionary\n",
    "    cadillac_mapping = {\n",
    "        'Premium Luxury AWD': 'Premium',\n",
    "        'Premium Luxury FWD': 'Premium',\n",
    "        'Premium Luxury': 'Premium',\n",
    "\n",
    "        'Luxury FWD': 'Luxury',\n",
    "        'Luxury': 'Luxury',\n",
    "        'Luxury AWD': 'Luxury',\n",
    "\n",
    "        'Base': 'Base',\n",
    "        'FWD': 'Base',\n",
    "\n",
    "        'Platinum': 'Platinum',\n",
    "        'Platinum AWD': 'Platinum'}\n",
    "\n",
    "    # Replace and groupby\n",
    "    df['Vehicle_Trim'] = df['Vehicle_Trim'].replace(cadillac_mapping)\n",
    "    \n",
    "    return df"
   ]
  },
  {
   "cell_type": "code",
   "execution_count": 83,
   "id": "631c72f1",
   "metadata": {},
   "outputs": [
    {
     "data": {
      "text/plain": [
       "Index(['ListingID', 'SellerCity', 'SellerIsPriv', 'SellerListSrc',\n",
       "       'SellerName', 'SellerRating', 'SellerRevCnt', 'SellerState',\n",
       "       'SellerZip', 'VehBodystyle', 'VehCertified', 'VehColorExt',\n",
       "       'VehColorInt', 'VehDriveTrain', 'VehEngine', 'VehFeats', 'VehFuel',\n",
       "       'VehHistory', 'VehListdays', 'VehMake', 'VehMileage', 'VehModel',\n",
       "       'VehPriceLabel', 'VehSellerNotes', 'VehType', 'VehTransmission',\n",
       "       'VehYear', 'Vehicle_Trim', 'Dealer_Listing_Price'],\n",
       "      dtype='object')"
      ]
     },
     "execution_count": 83,
     "metadata": {},
     "output_type": "execute_result"
    }
   ],
   "source": [
    "df.columns"
   ]
  },
  {
   "cell_type": "code",
   "execution_count": 84,
   "id": "438a9ba1",
   "metadata": {},
   "outputs": [
    {
     "data": {
      "text/plain": [
       "(6298, 29)"
      ]
     },
     "execution_count": 84,
     "metadata": {},
     "output_type": "execute_result"
    }
   ],
   "source": [
    "df.shape"
   ]
  },
  {
   "cell_type": "code",
   "execution_count": 85,
   "id": "fc0aa39d",
   "metadata": {},
   "outputs": [
    {
     "data": {
      "text/plain": [
       "Index(['ListingID', 'SellerCity', 'SellerIsPriv', 'SellerListSrc',\n",
       "       'SellerName', 'SellerRating', 'SellerRevCnt', 'SellerState',\n",
       "       'SellerZip', 'VehBodystyle', 'VehCertified', 'VehColorExt',\n",
       "       'VehColorInt', 'VehDriveTrain', 'VehEngine', 'VehFeats', 'VehFuel',\n",
       "       'VehHistory', 'VehListdays', 'VehMake', 'VehMileage', 'VehModel',\n",
       "       'VehPriceLabel', 'VehSellerNotes', 'VehType', 'VehTransmission',\n",
       "       'VehYear', 'Vehicle_Trim', 'Dealer_Listing_Price'],\n",
       "      dtype='object')"
      ]
     },
     "execution_count": 85,
     "metadata": {},
     "output_type": "execute_result"
    }
   ],
   "source": [
    "df.columns"
   ]
  },
  {
   "cell_type": "code",
   "execution_count": 86,
   "id": "de4be60b",
   "metadata": {},
   "outputs": [],
   "source": [
    "preprocessed_df = preprocessing(df)\n",
    "df_final = preprocessing_target_features(preprocessed_df)"
   ]
  },
  {
   "cell_type": "code",
   "execution_count": 87,
   "id": "79daf069",
   "metadata": {},
   "outputs": [
    {
     "name": "stdout",
     "output_type": "stream",
     "text": [
      "Index([], dtype='object')\n"
     ]
    }
   ],
   "source": [
    "null_columns = df_final.columns[df_final.isnull().sum() > 0]\n",
    "print(null_columns)"
   ]
  },
  {
   "cell_type": "code",
   "execution_count": 88,
   "id": "66fd955d",
   "metadata": {},
   "outputs": [
    {
     "data": {
      "text/plain": [
       "1    3990\n",
       "0    1811\n",
       "Name: Is_Jeep, dtype: int64"
      ]
     },
     "execution_count": 88,
     "metadata": {},
     "output_type": "execute_result"
    }
   ],
   "source": [
    "df_final.Is_Jeep.value_counts()"
   ]
  },
  {
   "cell_type": "markdown",
   "id": "43abc29e",
   "metadata": {},
   "source": [
    "Test set checking"
   ]
  },
  {
   "cell_type": "code",
   "execution_count": 89,
   "id": "91679050",
   "metadata": {},
   "outputs": [],
   "source": [
    "def align_datasets(train, test):\n",
    "    \"\"\"Align train and test dataframes to have the same columns.\"\"\"\n",
    "    # Keep only columns present in both dataframes and fill missing values\n",
    "    train, test = train.align(test, join='left', axis=1)\n",
    "    test = test.fillna(0)  # Assuming you want to fill missing values in test with 0\n",
    "    return train, test"
   ]
  },
  {
   "cell_type": "code",
   "execution_count": 92,
   "id": "693e9014",
   "metadata": {},
   "outputs": [],
   "source": [
    "df_train_final = preprocessing(df)\n",
    "df_test_final = preprocessing(test_df)"
   ]
  },
  {
   "cell_type": "code",
   "execution_count": 93,
   "id": "89c578d9",
   "metadata": {},
   "outputs": [
    {
     "name": "stdout",
     "output_type": "stream",
     "text": [
      "Train shape (5839, 96)\n",
      "Test shape (1000, 84)\n"
     ]
    }
   ],
   "source": [
    "print('Train shape',df_train_final.shape)\n",
    "print('Test shape',df_test_final.shape)"
   ]
  },
  {
   "cell_type": "code",
   "execution_count": 96,
   "id": "9449b8c8",
   "metadata": {},
   "outputs": [
    {
     "data": {
      "text/plain": [
       "Index(['SellerRating', 'SellerRevCnt', 'VehCertified', 'VehListdays',\n",
       "       'VehMileage', 'SellerListSrc_Cadillac_Certified_Program',\n",
       "       'SellerListSrc_Digital_Motorworks_(DMi)',\n",
       "       'SellerListSrc_HomeNet_Automotive',\n",
       "       'SellerListSrc_Inventory_Command_Center',\n",
       "       'SellerListSrc_Jeep_Certified_Program',\n",
       "       'SellerListSrc_My_Dealer_Center', 'SellerListSrc_Sell_It_Yourself',\n",
       "       'VehFuel_Diesel', 'VehFuel_E85_Flex_Fuel', 'VehFuel_Gasoline',\n",
       "       'SellerState_AK', 'SellerState_AL', 'SellerState_AR', 'SellerState_AZ',\n",
       "       'SellerState_CA', 'SellerState_CO', 'SellerState_CT', 'SellerState_DE',\n",
       "       'SellerState_FL', 'SellerState_GA', 'SellerState_IA', 'SellerState_ID',\n",
       "       'SellerState_IL', 'SellerState_IN', 'SellerState_KS', 'SellerState_KY',\n",
       "       'SellerState_LA', 'SellerState_MA', 'SellerState_MD', 'SellerState_MI',\n",
       "       'SellerState_MN', 'SellerState_MO', 'SellerState_MS', 'SellerState_NC',\n",
       "       'SellerState_ND', 'SellerState_NE', 'SellerState_NH', 'SellerState_NJ',\n",
       "       'SellerState_NV', 'SellerState_NY', 'SellerState_OH', 'SellerState_OK',\n",
       "       'SellerState_PA', 'SellerState_RI', 'SellerState_SC', 'SellerState_SD',\n",
       "       'SellerState_TN', 'SellerState_TX', 'SellerState_UT', 'SellerState_VA',\n",
       "       'SellerState_WA', 'SellerState_WI', 'SellerState_WV', 'SellerState_WY',\n",
       "       'VehAge', 'VehDrive_all_drive', 'VehDrive_front_drive',\n",
       "       'VehDrive_other', 'VehFeatsCount', 'BasicExtColor_Black',\n",
       "       'BasicExtColor_Blue', 'BasicExtColor_Brown', 'BasicExtColor_Gray',\n",
       "       'BasicExtColor_Other', 'BasicExtColor_Red', 'BasicExtColor_Silver',\n",
       "       'BasicExtColor_White', 'ContainsLeather', 'Displacement',\n",
       "       'Engine_Category_Hemi', 'Engine_Category_Other',\n",
       "       'Engine_Category_Supercharged', 'Engine_Category_Turbo', 'Num_Owners',\n",
       "       'AccidentReported', 'NonPersonalUse', 'TitleIssues',\n",
       "       'BuybackProtection', 'Is_Jeep'],\n",
       "      dtype='object')"
      ]
     },
     "execution_count": 96,
     "metadata": {},
     "output_type": "execute_result"
    }
   ],
   "source": [
    "df_test_final.columns"
   ]
  },
  {
   "cell_type": "code",
   "execution_count": 94,
   "id": "2016f83c",
   "metadata": {},
   "outputs": [],
   "source": [
    "train_align, test_align = align_datasets(df_train_final, df_test_final)"
   ]
  },
  {
   "cell_type": "code",
   "execution_count": 95,
   "id": "2cfd4528",
   "metadata": {},
   "outputs": [
    {
     "name": "stdout",
     "output_type": "stream",
     "text": [
      "Train align shape (5839, 96)\n",
      "Test align shape (1000, 96)\n"
     ]
    }
   ],
   "source": [
    "print('Train align shape',train_align.shape)\n",
    "print('Test align shape',test_align.shape)"
   ]
  },
  {
   "cell_type": "code",
   "execution_count": 97,
   "id": "51759b4c",
   "metadata": {},
   "outputs": [
    {
     "data": {
      "text/plain": [
       "Index(['SellerRating', 'SellerRevCnt', 'VehCertified', 'VehListdays',\n",
       "       'VehMileage', 'Vehicle_Trim', 'Dealer_Listing_Price',\n",
       "       'SellerListSrc_Cadillac_Certified_Program',\n",
       "       'SellerListSrc_Digital_Motorworks_(DMi)',\n",
       "       'SellerListSrc_Five_Star_Certified_Program',\n",
       "       'SellerListSrc_HomeNet_Automotive',\n",
       "       'SellerListSrc_Inventory_Command_Center',\n",
       "       'SellerListSrc_Jeep_Certified_Program',\n",
       "       'SellerListSrc_My_Dealer_Center', 'SellerListSrc_Sell_It_Yourself',\n",
       "       'VehFuel_Diesel', 'VehFuel_E85_Flex_Fuel', 'VehFuel_Gasoline',\n",
       "       'VehFuel_Unknown', 'SellerState_AK', 'SellerState_AL', 'SellerState_AR',\n",
       "       'SellerState_AZ', 'SellerState_CA', 'SellerState_CO', 'SellerState_CT',\n",
       "       'SellerState_DE', 'SellerState_FL', 'SellerState_GA', 'SellerState_HI',\n",
       "       'SellerState_IA', 'SellerState_ID', 'SellerState_IL', 'SellerState_IN',\n",
       "       'SellerState_KS', 'SellerState_KY', 'SellerState_LA', 'SellerState_MA',\n",
       "       'SellerState_MD', 'SellerState_ME', 'SellerState_MI', 'SellerState_MN',\n",
       "       'SellerState_MO', 'SellerState_MS', 'SellerState_MT', 'SellerState_NC',\n",
       "       'SellerState_ND', 'SellerState_NE', 'SellerState_NH', 'SellerState_NJ',\n",
       "       'SellerState_NM', 'SellerState_NV', 'SellerState_NY', 'SellerState_OH',\n",
       "       'SellerState_OK', 'SellerState_OR', 'SellerState_PA', 'SellerState_RI',\n",
       "       'SellerState_SC', 'SellerState_SD', 'SellerState_TN', 'SellerState_TX',\n",
       "       'SellerState_UT', 'SellerState_VA', 'SellerState_VT', 'SellerState_WA',\n",
       "       'SellerState_WI', 'SellerState_WV', 'SellerState_WY', 'VehAge',\n",
       "       'VehDrive_all_drive', 'VehDrive_front_drive', 'VehDrive_other',\n",
       "       'VehFeatsCount', 'BasicExtColor_Black', 'BasicExtColor_Blue',\n",
       "       'BasicExtColor_Brown', 'BasicExtColor_Gold', 'BasicExtColor_Gray',\n",
       "       'BasicExtColor_Other', 'BasicExtColor_Red', 'BasicExtColor_Silver',\n",
       "       'BasicExtColor_White', 'ContainsLeather', 'Displacement',\n",
       "       'Engine_Category_Diesel', 'Engine_Category_Hemi',\n",
       "       'Engine_Category_Other', 'Engine_Category_Supercharged',\n",
       "       'Engine_Category_Turbo', 'Num_Owners', 'AccidentReported',\n",
       "       'NonPersonalUse', 'TitleIssues', 'BuybackProtection', 'Is_Jeep'],\n",
       "      dtype='object')"
      ]
     },
     "execution_count": 97,
     "metadata": {},
     "output_type": "execute_result"
    }
   ],
   "source": [
    "test_align.columns"
   ]
  },
  {
   "cell_type": "markdown",
   "id": "544f98a6",
   "metadata": {},
   "source": [
    "### Feature Selection"
   ]
  },
  {
   "cell_type": "markdown",
   "id": "7b0bbfb2",
   "metadata": {},
   "source": [
    "To do!"
   ]
  },
  {
   "cell_type": "markdown",
   "id": "cb36e412",
   "metadata": {},
   "source": [
    "### ML Vehicle Trim"
   ]
  },
  {
   "cell_type": "code",
   "execution_count": 28,
   "id": "34a406d5",
   "metadata": {},
   "outputs": [],
   "source": [
    "# Label Encoding\n",
    "le = LabelEncoder()\n",
    "df_final['Vehicle_Trim'] = le.fit_transform(df_final['Vehicle_Trim'])"
   ]
  },
  {
   "cell_type": "code",
   "execution_count": 29,
   "id": "50236448",
   "metadata": {},
   "outputs": [],
   "source": [
    "# Splitting data into training and test sets\n",
    "X = df_final.drop(['Vehicle_Trim', 'Dealer_Listing_Price'], axis=1)\n",
    "y = df_final['Vehicle_Trim']"
   ]
  },
  {
   "cell_type": "code",
   "execution_count": 30,
   "id": "39d89c26",
   "metadata": {},
   "outputs": [
    {
     "name": "stdout",
     "output_type": "stream",
     "text": [
      "Fold 1 ROC AUC Score: 0.9433505239926359\n",
      "Fold 2 ROC AUC Score: 0.9346908642852444\n",
      "Fold 3 ROC AUC Score: 0.9356851736598456\n",
      "Fold 4 ROC AUC Score: 0.9394546051080411\n",
      "Fold 5 ROC AUC Score: 0.934444610895188\n",
      "\n",
      "The average ROC AUC Score: 0.9375251555881909\n"
     ]
    }
   ],
   "source": [
    "# K-Fold Cross Validation\n",
    "FOLDS=5\n",
    "fold_num = 1\n",
    "kf = KFold(n_splits=FOLDS, shuffle=True, random_state=42)\n",
    "\n",
    "\n",
    "roc_auc_scores = []\n",
    "y_valid_probs = []\n",
    "\n",
    "for train_index, valid_index in kf.split(X):\n",
    "    X_train, X_valid = X.iloc[train_index], X.iloc[valid_index]\n",
    "    y_train, y_valid = y.iloc[train_index], y.iloc[valid_index]\n",
    "    \n",
    "\n",
    "    model = xgb.XGBClassifier(use_label_encoder=False, eval_metric='merror')\n",
    "    model.fit(X_train, y_train) \n",
    "    \n",
    "    # Predictions\n",
    "    y_valid_prob  = model.predict_proba(X_valid)\n",
    "    y_valid_probs.append(y_valid_prob)\n",
    "    \n",
    "    # Evaluate the model for current fold\n",
    "    roc_auc = roc_auc_score(y_valid, y_valid_prob, multi_class='ovr')\n",
    "    roc_auc_scores.append(roc_auc)\n",
    "    \n",
    "    print(f\"Fold {fold_num} ROC AUC Score: {roc_auc}\")\n",
    "    fold_num += 1\n",
    "    \n",
    "print()\n",
    "print(f\"The average ROC AUC Score: {np.mean(roc_auc_scores)}\")"
   ]
  },
  {
   "cell_type": "markdown",
   "id": "3584b5b4",
   "metadata": {},
   "source": [
    "The `roc_auc_score` is typically used for binary classification problems. When dealing with multiclass classification, we can compute a ROC AUC score by treating each class as binary (one-vs-all) and then averaging over all classes.\n",
    "\n",
    "We have two options: \n",
    "1. `ovo (one-vs-one)`: For n classes it trains n(n-1)/2 binary classifiers. \n",
    "2. `ovr (one-vs-rest)` For n classes, it trains n binary classifiers. For each classifier, one class is treated as positive while all others are negative.\n"
   ]
  },
  {
   "cell_type": "markdown",
   "id": "56cf6ab4",
   "metadata": {},
   "source": [
    "#### Training model"
   ]
  },
  {
   "cell_type": "code",
   "execution_count": 36,
   "id": "c6e2e55b",
   "metadata": {
    "scrolled": false
   },
   "outputs": [
    {
     "name": "stdout",
     "output_type": "stream",
     "text": [
      "ROC Score:  0.9433505239926359\n",
      "              precision    recall  f1-score   support\n",
      "\n",
      "           0       0.51      0.33      0.40        80\n",
      "           1       0.67      0.42      0.51        43\n",
      "           2       0.59      0.47      0.53       139\n",
      "           3       0.68      0.86      0.76       383\n",
      "           4       0.57      0.75      0.65       133\n",
      "           5       0.64      0.50      0.56       122\n",
      "           6       0.70      0.61      0.66        31\n",
      "           7       0.80      0.70      0.74       171\n",
      "           8       1.00      1.00      1.00        18\n",
      "           9       0.48      0.27      0.34        41\n",
      "\n",
      "    accuracy                           0.66      1161\n",
      "   macro avg       0.66      0.59      0.62      1161\n",
      "weighted avg       0.66      0.66      0.65      1161\n",
      "\n"
     ]
    },
    {
     "data": {
      "image/png": "[encoded data removed]",
      "text/plain": [
       "<Figure size 800x600 with 2 Axes>"
      ]
     },
     "metadata": {},
     "output_type": "display_data"
    }
   ],
   "source": [
    "X_train, X_valid, y_train, y_valid = train_test_split(X, y, test_size=0.2, random_state=42)\n",
    "\n",
    "\n",
    "model = xgb.XGBClassifier(use_label_encoder=False, eval_metric='merror')\n",
    "model.fit(X_train, y_train) \n",
    "\n",
    "# Predictions\n",
    "y_valid_prob  = model.predict_proba(X_valid)\n",
    "y_valid_label = np.argmax(y_valid_prob, axis=1)\n",
    "\n",
    "roc_auc = roc_auc_score(y_valid, y_valid_prob, multi_class='ovr')\n",
    "\n",
    "print('ROC Score: ',roc_auc)\n",
    "\n",
    "report = classification_report(y_valid, y_valid_label)\n",
    "print(report)\n",
    "\n",
    "cm = confusion_matrix(y_valid, y_valid_label)\n",
    "plt.figure(figsize=(8,6))\n",
    "sns.heatmap(cm, annot=True, fmt=\"d\", cmap=\"Blues\")\n",
    "plt.ylabel('True Label')\n",
    "plt.xlabel('Predicted Label')\n",
    "plt.show()"
   ]
  },
  {
   "cell_type": "markdown",
   "id": "81256ea8",
   "metadata": {},
   "source": [
    "### Hyperparameter tunning using optuna"
   ]
  },
  {
   "cell_type": "code",
   "execution_count": 37,
   "id": "96b82c20",
   "metadata": {},
   "outputs": [],
   "source": [
    "X_train, X_valid, y_train, y_valid = train_test_split(X, y, test_size=0.2, random_state=42)"
   ]
  },
  {
   "cell_type": "code",
   "execution_count": 38,
   "id": "d23c5f49",
   "metadata": {},
   "outputs": [],
   "source": [
    "def objective(trial):\n",
    "    # Define hyperparameter search space\n",
    "    print('Trial: ', trial.number)\n",
    "\n",
    "        \n",
    "    param = {\n",
    "        'n_estimators': trial.suggest_int('n_estimators', 100, 1000),\n",
    "        'max_depth': trial.suggest_int('max_depth', 3, 9),\n",
    "        'learning_rate': trial.suggest_float('learning_rate', 0.005, 0.5, log=True),\n",
    "        'subsample': trial.suggest_float('subsample', 0.5, 1),\n",
    "        'colsample_bytree': trial.suggest_float('colsample_bytree', 0.5, 1),\n",
    "        'gamma': trial.suggest_float('gamma', 0, 0.5),\n",
    "        'lambda': trial.suggest_float('lambda', 1e-8, 1.0, log=True),\n",
    "        'alpha': trial.suggest_float('alpha', 1e-8, 1.0, log=True),\n",
    "        'min_child_weight': trial.suggest_int('min_child_weight', 1, 10),\n",
    "        'use_label_encoder': False,\n",
    "        'eval_metric': 'merror'\n",
    "    }\n",
    "\n",
    "    # Initialize and train classifier\n",
    "    model = xgb.XGBClassifier(**param)\n",
    "    model.fit(X_train, y_train, eval_set=[(X_valid, y_valid)], verbose=False)\n",
    "\n",
    "    # Predictions\n",
    "    y_valid_prob = model.predict_proba(X_valid)\n",
    "\n",
    "    # Return AUC\n",
    "    return roc_auc_score(y_valid, y_valid_prob, multi_class='ovr')"
   ]
  },
  {
   "cell_type": "markdown",
   "id": "775cbd06",
   "metadata": {},
   "source": [
    "ROC"
   ]
  },
  {
   "cell_type": "code",
   "execution_count": 39,
   "id": "fbd7dd3f",
   "metadata": {},
   "outputs": [],
   "source": [
    "# def objective(trial):\n",
    "#     # Define hyperparameter search space\n",
    "    \n",
    "#     print('Trial: ', trial.number)\n",
    "    \n",
    "#     param = {\n",
    "#         'objective': 'multi:softprob',  # Set objective to multi:softprob for multiclass classification\n",
    "#         'n_estimators': trial.suggest_int('n_estimators', 100, 1000),\n",
    "#         'max_depth': trial.suggest_int('max_depth', 3, 9),\n",
    "#         'learning_rate': trial.suggest_float('learning_rate', 0.005, 0.5, log=True),\n",
    "#         'subsample': trial.suggest_float('subsample', 0.5, 1),\n",
    "#         'colsample_bytree': trial.suggest_float('colsample_bytree', 0.5, 1),\n",
    "#         'gamma': trial.suggest_float('gamma', 0, 0.5),\n",
    "#         'lambda': trial.suggest_float('lambda', 1e-8, 1.0, log=True),\n",
    "#         'alpha': trial.suggest_float('alpha', 1e-8, 1.0, log=True),\n",
    "#         'min_child_weight': trial.suggest_int('min_child_weight', 1, 10),\n",
    "#         'num_class': len(np.unique(y_train)),  # Assuming y_train is globally available\n",
    "#         'use_label_encoder': False,\n",
    "#         'eval_metric': 'mlogloss'  # Multi-class log loss\n",
    "#     }\n",
    "\n",
    "#     # Initialize and train classifier\n",
    "#     model = xgb.XGBClassifier(**param)\n",
    "#     model.fit(X_train, y_train, eval_set=[(X_test, y_test)], verbose=False)\n",
    "\n",
    "#     # Predictions\n",
    "#     y_test_prob = model.predict_proba(X_test)\n",
    "\n",
    "#     # Return AUC\n",
    "#     return roc_auc_score(y_test, y_test_prob, multi_class='ovr')"
   ]
  },
  {
   "cell_type": "code",
   "execution_count": 40,
   "id": "17c73b74",
   "metadata": {
    "scrolled": false
   },
   "outputs": [
    {
     "name": "stderr",
     "output_type": "stream",
     "text": [
      "[I 2023-10-22 15:29:13,566] A new study created in memory with name: no-name-535d479c-4653-491e-b6d1-ef5747be7174\n"
     ]
    },
    {
     "name": "stdout",
     "output_type": "stream",
     "text": [
      "Trial:  0\n"
     ]
    },
    {
     "name": "stderr",
     "output_type": "stream",
     "text": [
      "[I 2023-10-22 15:29:20,573] Trial 0 finished with value: 0.9390895848732006 and parameters: {'n_estimators': 459, 'max_depth': 3, 'learning_rate': 0.041075528299448785, 'subsample': 0.8833304253311647, 'colsample_bytree': 0.7277794689746316, 'gamma': 0.1858916721282704, 'lambda': 8.515097959747286e-08, 'alpha': 1.809940578851941e-07, 'min_child_weight': 4}. Best is trial 0 with value: 0.9390895848732006.\n"
     ]
    },
    {
     "name": "stdout",
     "output_type": "stream",
     "text": [
      "Trial:  1\n"
     ]
    },
    {
     "name": "stderr",
     "output_type": "stream",
     "text": [
      "[I 2023-10-22 15:29:36,015] Trial 1 finished with value: 0.9345597751496101 and parameters: {'n_estimators': 849, 'max_depth': 5, 'learning_rate': 0.08734558718984821, 'subsample': 0.538296817569771, 'colsample_bytree': 0.685094753361567, 'gamma': 0.421172133326688, 'lambda': 6.545992845645004e-05, 'alpha': 5.687288802456769e-07, 'min_child_weight': 10}. Best is trial 0 with value: 0.9390895848732006.\n"
     ]
    },
    {
     "name": "stdout",
     "output_type": "stream",
     "text": [
      "Number of finished trials: 2\n",
      "\n",
      "Best trial parameters: {'n_estimators': 459, 'max_depth': 3, 'learning_rate': 0.041075528299448785, 'subsample': 0.8833304253311647, 'colsample_bytree': 0.7277794689746316, 'gamma': 0.1858916721282704, 'lambda': 8.515097959747286e-08, 'alpha': 1.809940578851941e-07, 'min_child_weight': 4}\n",
      "\n",
      "Best AUC: 0.9390895848732006\n"
     ]
    }
   ],
   "source": [
    "# Initiate the optimizer\n",
    "study = optuna.create_study(direction='maximize')\n",
    "study.optimize(objective, n_trials=2)\n",
    "\n",
    "# Results\n",
    "print(f\"Number of finished trials: {len(study.trials)}\\n\")\n",
    "print(f\"Best trial parameters: {study.best_trial.params}\\n\")\n",
    "print(f\"Best AUC: {study.best_value}\")"
   ]
  },
  {
   "cell_type": "markdown",
   "id": "a8c27179",
   "metadata": {},
   "source": [
    "### Final/ Best Model - train on full dataset"
   ]
  },
  {
   "cell_type": "code",
   "execution_count": 41,
   "id": "20ee5b8b",
   "metadata": {},
   "outputs": [
    {
     "name": "stdout",
     "output_type": "stream",
     "text": [
      "{'n_estimators': 459, 'max_depth': 3, 'learning_rate': 0.041075528299448785, 'subsample': 0.8833304253311647, 'colsample_bytree': 0.7277794689746316, 'gamma': 0.1858916721282704, 'lambda': 8.515097959747286e-08, 'alpha': 1.809940578851941e-07, 'min_child_weight': 4}\n"
     ]
    }
   ],
   "source": [
    "best_params = study.best_params\n",
    "print(best_params)"
   ]
  },
  {
   "cell_type": "code",
   "execution_count": 42,
   "id": "d7375143",
   "metadata": {},
   "outputs": [
    {
     "data": {
      "text/html": [
       "<style>#sk-container-id-1 {color: black;background-color: white;}#sk-container-id-1 pre{padding: 0;}#sk-container-id-1 div.sk-toggleable {background-color: white;}#sk-container-id-1 label.sk-toggleable__label {cursor: pointer;display: block;width: 100%;margin-bottom: 0;padding: 0.3em;box-sizing: border-box;text-align: center;}#sk-container-id-1 label.sk-toggleable__label-arrow:before {content: \"▸\";float: left;margin-right: 0.25em;color: #696969;}#sk-container-id-1 label.sk-toggleable__label-arrow:hover:before {color: black;}#sk-container-id-1 div.sk-estimator:hover label.sk-toggleable__label-arrow:before {color: black;}#sk-container-id-1 div.sk-toggleable__content {max-height: 0;max-width: 0;overflow: hidden;text-align: left;background-color: #f0f8ff;}#sk-container-id-1 div.sk-toggleable__content pre {margin: 0.2em;color: black;border-radius: 0.25em;background-color: #f0f8ff;}#sk-container-id-1 input.sk-toggleable__control:checked~div.sk-toggleable__content {max-height: 200px;max-width: 100%;overflow: auto;}#sk-container-id-1 input.sk-toggleable__control:checked~label.sk-toggleable__label-arrow:before {content: \"▾\";}#sk-container-id-1 div.sk-estimator input.sk-toggleable__control:checked~label.sk-toggleable__label {background-color: #d4ebff;}#sk-container-id-1 div.sk-label input.sk-toggleable__control:checked~label.sk-toggleable__label {background-color: #d4ebff;}#sk-container-id-1 input.sk-hidden--visually {border: 0;clip: rect(1px 1px 1px 1px);clip: rect(1px, 1px, 1px, 1px);height: 1px;margin: -1px;overflow: hidden;padding: 0;position: absolute;width: 1px;}#sk-container-id-1 div.sk-estimator {font-family: monospace;background-color: #f0f8ff;border: 1px dotted black;border-radius: 0.25em;box-sizing: border-box;margin-bottom: 0.5em;}#sk-container-id-1 div.sk-estimator:hover {background-color: #d4ebff;}#sk-container-id-1 div.sk-parallel-item::after {content: \"\";width: 100%;border-bottom: 1px solid gray;flex-grow: 1;}#sk-container-id-1 div.sk-label:hover label.sk-toggleable__label {background-color: #d4ebff;}#sk-container-id-1 div.sk-serial::before {content: \"\";position: absolute;border-left: 1px solid gray;box-sizing: border-box;top: 0;bottom: 0;left: 50%;z-index: 0;}#sk-container-id-1 div.sk-serial {display: flex;flex-direction: column;align-items: center;background-color: white;padding-right: 0.2em;padding-left: 0.2em;position: relative;}#sk-container-id-1 div.sk-item {position: relative;z-index: 1;}#sk-container-id-1 div.sk-parallel {display: flex;align-items: stretch;justify-content: center;background-color: white;position: relative;}#sk-container-id-1 div.sk-item::before, #sk-container-id-1 div.sk-parallel-item::before {content: \"\";position: absolute;border-left: 1px solid gray;box-sizing: border-box;top: 0;bottom: 0;left: 50%;z-index: -1;}#sk-container-id-1 div.sk-parallel-item {display: flex;flex-direction: column;z-index: 1;position: relative;background-color: white;}#sk-container-id-1 div.sk-parallel-item:first-child::after {align-self: flex-end;width: 50%;}#sk-container-id-1 div.sk-parallel-item:last-child::after {align-self: flex-start;width: 50%;}#sk-container-id-1 div.sk-parallel-item:only-child::after {width: 0;}#sk-container-id-1 div.sk-dashed-wrapped {border: 1px dashed gray;margin: 0 0.4em 0.5em 0.4em;box-sizing: border-box;padding-bottom: 0.4em;background-color: white;}#sk-container-id-1 div.sk-label label {font-family: monospace;font-weight: bold;display: inline-block;line-height: 1.2em;}#sk-container-id-1 div.sk-label-container {text-align: center;}#sk-container-id-1 div.sk-container {/* jupyter's `normalize.less` sets `[hidden] { display: none; }` but bootstrap.min.css set `[hidden] { display: none !important; }` so we also need the `!important` here to be able to override the default hidden behavior on the sphinx rendered scikit-learn.org. See: https://github.com/scikit-learn/scikit-learn/issues/21755 */display: inline-block !important;position: relative;}#sk-container-id-1 div.sk-text-repr-fallback {display: none;}</style><div id=\"sk-container-id-1\" class=\"sk-top-container\"><div class=\"sk-text-repr-fallback\"><pre>XGBClassifier(alpha=1.809940578851941e-07, base_score=None, booster=None,\n",
       "              callbacks=None, colsample_bylevel=None, colsample_bynode=None,\n",
       "              colsample_bytree=0.7277794689746316, device=None,\n",
       "              early_stopping_rounds=None, enable_categorical=False,\n",
       "              eval_metric=&#x27;merror&#x27;, feature_types=None,\n",
       "              gamma=0.1858916721282704, grow_policy=None, importance_type=None,\n",
       "              interaction_constraints=None, lambda=8.515097959747286e-08,\n",
       "              learning_rate=0.041075528299448785, max_bin=None,\n",
       "              max_cat_threshold=None, max_cat_to_onehot=None,\n",
       "              max_delta_step=None, max_depth=3, max_leaves=None,\n",
       "              min_child_weight=4, missing=nan, monotone_constraints=None,\n",
       "              multi_strategy=None, n_estimators=459, n_jobs=None, ...)</pre><b>In a Jupyter environment, please rerun this cell to show the HTML representation or trust the notebook. <br />On GitHub, the HTML representation is unable to render, please try loading this page with nbviewer.org.</b></div><div class=\"sk-container\" hidden><div class=\"sk-item\"><div class=\"sk-estimator sk-toggleable\"><input class=\"sk-toggleable__control sk-hidden--visually\" id=\"sk-estimator-id-1\" type=\"checkbox\" checked><label for=\"sk-estimator-id-1\" class=\"sk-toggleable__label sk-toggleable__label-arrow\">XGBClassifier</label><div class=\"sk-toggleable__content\"><pre>XGBClassifier(alpha=1.809940578851941e-07, base_score=None, booster=None,\n",
       "              callbacks=None, colsample_bylevel=None, colsample_bynode=None,\n",
       "              colsample_bytree=0.7277794689746316, device=None,\n",
       "              early_stopping_rounds=None, enable_categorical=False,\n",
       "              eval_metric=&#x27;merror&#x27;, feature_types=None,\n",
       "              gamma=0.1858916721282704, grow_policy=None, importance_type=None,\n",
       "              interaction_constraints=None, lambda=8.515097959747286e-08,\n",
       "              learning_rate=0.041075528299448785, max_bin=None,\n",
       "              max_cat_threshold=None, max_cat_to_onehot=None,\n",
       "              max_delta_step=None, max_depth=3, max_leaves=None,\n",
       "              min_child_weight=4, missing=nan, monotone_constraints=None,\n",
       "              multi_strategy=None, n_estimators=459, n_jobs=None, ...)</pre></div></div></div></div></div>"
      ],
      "text/plain": [
       "XGBClassifier(alpha=1.809940578851941e-07, base_score=None, booster=None,\n",
       "              callbacks=None, colsample_bylevel=None, colsample_bynode=None,\n",
       "              colsample_bytree=0.7277794689746316, device=None,\n",
       "              early_stopping_rounds=None, enable_categorical=False,\n",
       "              eval_metric='merror', feature_types=None,\n",
       "              gamma=0.1858916721282704, grow_policy=None, importance_type=None,\n",
       "              interaction_constraints=None, lambda=8.515097959747286e-08,\n",
       "              learning_rate=0.041075528299448785, max_bin=None,\n",
       "              max_cat_threshold=None, max_cat_to_onehot=None,\n",
       "              max_delta_step=None, max_depth=3, max_leaves=None,\n",
       "              min_child_weight=4, missing=nan, monotone_constraints=None,\n",
       "              multi_strategy=None, n_estimators=459, n_jobs=None, ...)"
      ]
     },
     "execution_count": 42,
     "metadata": {},
     "output_type": "execute_result"
    }
   ],
   "source": [
    "# Add fixed parameters\n",
    "best_params['use_label_encoder'] = False\n",
    "best_params['eval_metric'] = 'merror'\n",
    "best_params['num_class'] = len(np.unique(y))\n",
    "\n",
    "# Train the model using the best parameters\n",
    "final_model = xgb.XGBClassifier(**best_params)\n",
    "final_model.fit(X, y)  # Here, I'm training on the entire dataset X, y."
   ]
  },
  {
   "cell_type": "code",
   "execution_count": 43,
   "id": "b6371f7e",
   "metadata": {
    "scrolled": false
   },
   "outputs": [
    {
     "data": {
      "image/png": "[encoded data removed]",
      "text/plain": [
       "<Figure size 640x480 with 1 Axes>"
      ]
     },
     "metadata": {},
     "output_type": "display_data"
    }
   ],
   "source": [
    "xgb.plot_importance(final_model, max_num_features=10)\n",
    "plt.title('Top 10 Feature Importance')\n",
    "plt.show()"
   ]
  },
  {
   "cell_type": "code",
   "execution_count": 55,
   "id": "c3fa01a8",
   "metadata": {
    "scrolled": true
   },
   "outputs": [
    {
     "data": {
      "text/plain": [
       "Index(['SellerCity', 'SellerIsPriv', 'SellerListSrc', 'SellerName',\n",
       "       'SellerRating', 'SellerRevCnt', 'SellerState', 'SellerZip',\n",
       "       'VehBodystyle', 'VehCertified', 'VehColorExt', 'VehColorInt',\n",
       "       'VehDriveTrain', 'VehEngine', 'VehFeats', 'VehFuel', 'VehHistory',\n",
       "       'VehListdays', 'VehMake', 'VehMileage', 'VehModel', 'VehPriceLabel',\n",
       "       'VehSellerNotes', 'VehType', 'VehTransmission', 'VehYear'],\n",
       "      dtype='object')"
      ]
     },
     "execution_count": 55,
     "metadata": {},
     "output_type": "execute_result"
    }
   ],
   "source": [
    "test_df.columns"
   ]
  },
  {
   "cell_type": "code",
   "execution_count": 57,
   "id": "67852272",
   "metadata": {},
   "outputs": [
    {
     "data": {
      "text/plain": [
       "44"
      ]
     },
     "execution_count": 57,
     "metadata": {},
     "output_type": "execute_result"
    }
   ],
   "source": [
    "len(test_df.SellerState.value_counts())"
   ]
  },
  {
   "cell_type": "code",
   "execution_count": 58,
   "id": "417f4e71",
   "metadata": {},
   "outputs": [
    {
     "data": {
      "text/plain": [
       "50"
      ]
     },
     "execution_count": 58,
     "metadata": {},
     "output_type": "execute_result"
    }
   ],
   "source": [
    "len(df.SellerState.value_counts())"
   ]
  },
  {
   "cell_type": "code",
   "execution_count": 49,
   "id": "66abee73",
   "metadata": {},
   "outputs": [],
   "source": [
    "X_test = preprocessing(test_df)"
   ]
  },
  {
   "cell_type": "code",
   "execution_count": 50,
   "id": "3ae01e87",
   "metadata": {},
   "outputs": [
    {
     "data": {
      "text/plain": [
       "Index([], dtype='object')"
      ]
     },
     "execution_count": 50,
     "metadata": {},
     "output_type": "execute_result"
    }
   ],
   "source": [
    "X_test.columns[X_test.isnull().sum()>0]"
   ]
  },
  {
   "cell_type": "code",
   "execution_count": 54,
   "id": "5c327660",
   "metadata": {},
   "outputs": [
    {
     "data": {
      "text/plain": [
       "Index(['SellerRating', 'SellerRevCnt', 'VehCertified', 'VehListdays',\n",
       "       'VehMileage', 'SellerListSrc_Cadillac_Certified_Program',\n",
       "       'SellerListSrc_Digital_Motorworks_(DMi)',\n",
       "       'SellerListSrc_HomeNet_Automotive',\n",
       "       'SellerListSrc_Inventory_Command_Center',\n",
       "       'SellerListSrc_Jeep_Certified_Program',\n",
       "       'SellerListSrc_My_Dealer_Center', 'SellerListSrc_Sell_It_Yourself',\n",
       "       'VehFuel_Diesel', 'VehFuel_E85_Flex_Fuel', 'VehFuel_Gasoline',\n",
       "       'SellerState_AK', 'SellerState_AL', 'SellerState_AR', 'SellerState_AZ',\n",
       "       'SellerState_CA', 'SellerState_CO', 'SellerState_CT', 'SellerState_DE',\n",
       "       'SellerState_FL', 'SellerState_GA', 'SellerState_IA', 'SellerState_ID',\n",
       "       'SellerState_IL', 'SellerState_IN', 'SellerState_KS', 'SellerState_KY',\n",
       "       'SellerState_LA', 'SellerState_MA', 'SellerState_MD', 'SellerState_MI',\n",
       "       'SellerState_MN', 'SellerState_MO', 'SellerState_MS', 'SellerState_NC',\n",
       "       'SellerState_ND', 'SellerState_NE', 'SellerState_NH', 'SellerState_NJ',\n",
       "       'SellerState_NV', 'SellerState_NY', 'SellerState_OH', 'SellerState_OK',\n",
       "       'SellerState_PA', 'SellerState_RI', 'SellerState_SC', 'SellerState_SD',\n",
       "       'SellerState_TN', 'SellerState_TX', 'SellerState_UT', 'SellerState_VA',\n",
       "       'SellerState_WA', 'SellerState_WI', 'SellerState_WV', 'SellerState_WY',\n",
       "       'VehAge', 'VehDrive_all_drive', 'VehDrive_front_drive',\n",
       "       'VehDrive_other', 'VehFeatsCount', 'BasicExtColor_Black',\n",
       "       'BasicExtColor_Blue', 'BasicExtColor_Brown', 'BasicExtColor_Gray',\n",
       "       'BasicExtColor_Other', 'BasicExtColor_Red', 'BasicExtColor_Silver',\n",
       "       'BasicExtColor_White', 'ContainsLeather', 'Displacement',\n",
       "       'Engine_Category_Hemi', 'Engine_Category_Other',\n",
       "       'Engine_Category_Supercharged', 'Engine_Category_Turbo', 'Num_Owners',\n",
       "       'AccidentReported', 'NonPersonalUse', 'TitleIssues',\n",
       "       'BuybackProtection', 'Is_Jeep'],\n",
       "      dtype='object')"
      ]
     },
     "execution_count": 54,
     "metadata": {},
     "output_type": "execute_result"
    }
   ],
   "source": [
    "X_test.columns"
   ]
  },
  {
   "cell_type": "code",
   "execution_count": 53,
   "id": "89a3f710",
   "metadata": {},
   "outputs": [
    {
     "ename": "ValueError",
     "evalue": "feature_names mismatch: ['SellerRating', 'SellerRevCnt', 'VehCertified', 'VehListdays', 'VehMileage', 'SellerListSrc_Cadillac_Certified_Program', 'SellerListSrc_Digital_Motorworks_(DMi)', 'SellerListSrc_Five_Star_Certified_Program', 'SellerListSrc_HomeNet_Automotive', 'SellerListSrc_Inventory_Command_Center', 'SellerListSrc_Jeep_Certified_Program', 'SellerListSrc_My_Dealer_Center', 'SellerListSrc_Sell_It_Yourself', 'VehFuel_Diesel', 'VehFuel_E85_Flex_Fuel', 'VehFuel_Gasoline', 'VehFuel_Unknown', 'SellerState_AK', 'SellerState_AL', 'SellerState_AR', 'SellerState_AZ', 'SellerState_CA', 'SellerState_CO', 'SellerState_CT', 'SellerState_DE', 'SellerState_FL', 'SellerState_GA', 'SellerState_HI', 'SellerState_IA', 'SellerState_ID', 'SellerState_IL', 'SellerState_IN', 'SellerState_KS', 'SellerState_KY', 'SellerState_LA', 'SellerState_MA', 'SellerState_MD', 'SellerState_ME', 'SellerState_MI', 'SellerState_MN', 'SellerState_MO', 'SellerState_MS', 'SellerState_MT', 'SellerState_NC', 'SellerState_ND', 'SellerState_NE', 'SellerState_NH', 'SellerState_NJ', 'SellerState_NM', 'SellerState_NV', 'SellerState_NY', 'SellerState_OH', 'SellerState_OK', 'SellerState_OR', 'SellerState_PA', 'SellerState_RI', 'SellerState_SC', 'SellerState_SD', 'SellerState_TN', 'SellerState_TX', 'SellerState_UT', 'SellerState_VA', 'SellerState_VT', 'SellerState_WA', 'SellerState_WI', 'SellerState_WV', 'SellerState_WY', 'VehAge', 'VehDrive_all_drive', 'VehDrive_front_drive', 'VehDrive_other', 'VehFeatsCount', 'BasicExtColor_Black', 'BasicExtColor_Blue', 'BasicExtColor_Brown', 'BasicExtColor_Gold', 'BasicExtColor_Gray', 'BasicExtColor_Other', 'BasicExtColor_Red', 'BasicExtColor_Silver', 'BasicExtColor_White', 'ContainsLeather', 'Displacement', 'Engine_Category_Diesel', 'Engine_Category_Hemi', 'Engine_Category_Other', 'Engine_Category_Supercharged', 'Engine_Category_Turbo', 'Num_Owners', 'AccidentReported', 'NonPersonalUse', 'TitleIssues', 'BuybackProtection', 'Is_Jeep'] ['SellerRating', 'SellerRevCnt', 'VehCertified', 'VehListdays', 'VehMileage', 'SellerListSrc_Cadillac_Certified_Program', 'SellerListSrc_Digital_Motorworks_(DMi)', 'SellerListSrc_HomeNet_Automotive', 'SellerListSrc_Inventory_Command_Center', 'SellerListSrc_Jeep_Certified_Program', 'SellerListSrc_My_Dealer_Center', 'SellerListSrc_Sell_It_Yourself', 'VehFuel_Diesel', 'VehFuel_E85_Flex_Fuel', 'VehFuel_Gasoline', 'SellerState_AK', 'SellerState_AL', 'SellerState_AR', 'SellerState_AZ', 'SellerState_CA', 'SellerState_CO', 'SellerState_CT', 'SellerState_DE', 'SellerState_FL', 'SellerState_GA', 'SellerState_IA', 'SellerState_ID', 'SellerState_IL', 'SellerState_IN', 'SellerState_KS', 'SellerState_KY', 'SellerState_LA', 'SellerState_MA', 'SellerState_MD', 'SellerState_MI', 'SellerState_MN', 'SellerState_MO', 'SellerState_MS', 'SellerState_NC', 'SellerState_ND', 'SellerState_NE', 'SellerState_NH', 'SellerState_NJ', 'SellerState_NV', 'SellerState_NY', 'SellerState_OH', 'SellerState_OK', 'SellerState_PA', 'SellerState_RI', 'SellerState_SC', 'SellerState_SD', 'SellerState_TN', 'SellerState_TX', 'SellerState_UT', 'SellerState_VA', 'SellerState_WA', 'SellerState_WI', 'SellerState_WV', 'SellerState_WY', 'VehAge', 'VehDrive_all_drive', 'VehDrive_front_drive', 'VehDrive_other', 'VehFeatsCount', 'BasicExtColor_Black', 'BasicExtColor_Blue', 'BasicExtColor_Brown', 'BasicExtColor_Gray', 'BasicExtColor_Other', 'BasicExtColor_Red', 'BasicExtColor_Silver', 'BasicExtColor_White', 'ContainsLeather', 'Displacement', 'Engine_Category_Hemi', 'Engine_Category_Other', 'Engine_Category_Supercharged', 'Engine_Category_Turbo', 'Num_Owners', 'AccidentReported', 'NonPersonalUse', 'TitleIssues', 'BuybackProtection', 'Is_Jeep']\nexpected VehFuel_Unknown, SellerState_MT, SellerState_VT, SellerState_OR, Engine_Category_Diesel, SellerState_ME, SellerState_HI, BasicExtColor_Gold, SellerState_NM, SellerListSrc_Five_Star_Certified_Program in input data",
     "output_type": "error",
     "traceback": [
      "\u001b[1;31m---------------------------------------------------------------------------\u001b[0m",
      "\u001b[1;31mValueError\u001b[0m                                Traceback (most recent call last)",
      "Cell \u001b[1;32mIn[53], line 1\u001b[0m\n\u001b[1;32m----> 1\u001b[0m y_test_prob  \u001b[38;5;241m=\u001b[39m \u001b[43mfinal_model\u001b[49m\u001b[38;5;241;43m.\u001b[39;49m\u001b[43mpredict_proba\u001b[49m\u001b[43m(\u001b[49m\u001b[43mX_test\u001b[49m\u001b[43m)\u001b[49m\n\u001b[0;32m      2\u001b[0m y_pred_label \u001b[38;5;241m=\u001b[39m np\u001b[38;5;241m.\u001b[39margmax(y_test_prob, axis\u001b[38;5;241m=\u001b[39m\u001b[38;5;241m1\u001b[39m)\n",
      "File \u001b[1;32m~\\anaconda3\\envs\\ml\\lib\\site-packages\\xgboost\\sklearn.py:1628\u001b[0m, in \u001b[0;36mXGBClassifier.predict_proba\u001b[1;34m(self, X, validate_features, base_margin, iteration_range)\u001b[0m\n\u001b[0;32m   1626\u001b[0m     class_prob \u001b[38;5;241m=\u001b[39m softmax(raw_predt, axis\u001b[38;5;241m=\u001b[39m\u001b[38;5;241m1\u001b[39m)\n\u001b[0;32m   1627\u001b[0m     \u001b[38;5;28;01mreturn\u001b[39;00m class_prob\n\u001b[1;32m-> 1628\u001b[0m class_probs \u001b[38;5;241m=\u001b[39m \u001b[38;5;28;43msuper\u001b[39;49m\u001b[43m(\u001b[49m\u001b[43m)\u001b[49m\u001b[38;5;241;43m.\u001b[39;49m\u001b[43mpredict\u001b[49m\u001b[43m(\u001b[49m\n\u001b[0;32m   1629\u001b[0m \u001b[43m    \u001b[49m\u001b[43mX\u001b[49m\u001b[38;5;241;43m=\u001b[39;49m\u001b[43mX\u001b[49m\u001b[43m,\u001b[49m\n\u001b[0;32m   1630\u001b[0m \u001b[43m    \u001b[49m\u001b[43mvalidate_features\u001b[49m\u001b[38;5;241;43m=\u001b[39;49m\u001b[43mvalidate_features\u001b[49m\u001b[43m,\u001b[49m\n\u001b[0;32m   1631\u001b[0m \u001b[43m    \u001b[49m\u001b[43mbase_margin\u001b[49m\u001b[38;5;241;43m=\u001b[39;49m\u001b[43mbase_margin\u001b[49m\u001b[43m,\u001b[49m\n\u001b[0;32m   1632\u001b[0m \u001b[43m    \u001b[49m\u001b[43miteration_range\u001b[49m\u001b[38;5;241;43m=\u001b[39;49m\u001b[43miteration_range\u001b[49m\u001b[43m,\u001b[49m\n\u001b[0;32m   1633\u001b[0m \u001b[43m\u001b[49m\u001b[43m)\u001b[49m\n\u001b[0;32m   1634\u001b[0m \u001b[38;5;28;01mreturn\u001b[39;00m _cls_predict_proba(\u001b[38;5;28mself\u001b[39m\u001b[38;5;241m.\u001b[39mn_classes_, class_probs, np\u001b[38;5;241m.\u001b[39mvstack)\n",
      "File \u001b[1;32m~\\anaconda3\\envs\\ml\\lib\\site-packages\\xgboost\\sklearn.py:1164\u001b[0m, in \u001b[0;36mXGBModel.predict\u001b[1;34m(self, X, output_margin, validate_features, base_margin, iteration_range)\u001b[0m\n\u001b[0;32m   1162\u001b[0m \u001b[38;5;28;01mif\u001b[39;00m \u001b[38;5;28mself\u001b[39m\u001b[38;5;241m.\u001b[39m_can_use_inplace_predict():\n\u001b[0;32m   1163\u001b[0m     \u001b[38;5;28;01mtry\u001b[39;00m:\n\u001b[1;32m-> 1164\u001b[0m         predts \u001b[38;5;241m=\u001b[39m \u001b[38;5;28;43mself\u001b[39;49m\u001b[38;5;241;43m.\u001b[39;49m\u001b[43mget_booster\u001b[49m\u001b[43m(\u001b[49m\u001b[43m)\u001b[49m\u001b[38;5;241;43m.\u001b[39;49m\u001b[43minplace_predict\u001b[49m\u001b[43m(\u001b[49m\n\u001b[0;32m   1165\u001b[0m \u001b[43m            \u001b[49m\u001b[43mdata\u001b[49m\u001b[38;5;241;43m=\u001b[39;49m\u001b[43mX\u001b[49m\u001b[43m,\u001b[49m\n\u001b[0;32m   1166\u001b[0m \u001b[43m            \u001b[49m\u001b[43miteration_range\u001b[49m\u001b[38;5;241;43m=\u001b[39;49m\u001b[43miteration_range\u001b[49m\u001b[43m,\u001b[49m\n\u001b[0;32m   1167\u001b[0m \u001b[43m            \u001b[49m\u001b[43mpredict_type\u001b[49m\u001b[38;5;241;43m=\u001b[39;49m\u001b[38;5;124;43m\"\u001b[39;49m\u001b[38;5;124;43mmargin\u001b[39;49m\u001b[38;5;124;43m\"\u001b[39;49m\u001b[43m \u001b[49m\u001b[38;5;28;43;01mif\u001b[39;49;00m\u001b[43m \u001b[49m\u001b[43moutput_margin\u001b[49m\u001b[43m \u001b[49m\u001b[38;5;28;43;01melse\u001b[39;49;00m\u001b[43m \u001b[49m\u001b[38;5;124;43m\"\u001b[39;49m\u001b[38;5;124;43mvalue\u001b[39;49m\u001b[38;5;124;43m\"\u001b[39;49m\u001b[43m,\u001b[49m\n\u001b[0;32m   1168\u001b[0m \u001b[43m            \u001b[49m\u001b[43mmissing\u001b[49m\u001b[38;5;241;43m=\u001b[39;49m\u001b[38;5;28;43mself\u001b[39;49m\u001b[38;5;241;43m.\u001b[39;49m\u001b[43mmissing\u001b[49m\u001b[43m,\u001b[49m\n\u001b[0;32m   1169\u001b[0m \u001b[43m            \u001b[49m\u001b[43mbase_margin\u001b[49m\u001b[38;5;241;43m=\u001b[39;49m\u001b[43mbase_margin\u001b[49m\u001b[43m,\u001b[49m\n\u001b[0;32m   1170\u001b[0m \u001b[43m            \u001b[49m\u001b[43mvalidate_features\u001b[49m\u001b[38;5;241;43m=\u001b[39;49m\u001b[43mvalidate_features\u001b[49m\u001b[43m,\u001b[49m\n\u001b[0;32m   1171\u001b[0m \u001b[43m        \u001b[49m\u001b[43m)\u001b[49m\n\u001b[0;32m   1172\u001b[0m         \u001b[38;5;28;01mif\u001b[39;00m _is_cupy_array(predts):\n\u001b[0;32m   1173\u001b[0m             \u001b[38;5;28;01mimport\u001b[39;00m \u001b[38;5;21;01mcupy\u001b[39;00m  \u001b[38;5;66;03m# pylint: disable=import-error\u001b[39;00m\n",
      "File \u001b[1;32m~\\anaconda3\\envs\\ml\\lib\\site-packages\\xgboost\\core.py:2416\u001b[0m, in \u001b[0;36mBooster.inplace_predict\u001b[1;34m(self, data, iteration_range, predict_type, missing, validate_features, base_margin, strict_shape)\u001b[0m\n\u001b[0;32m   2414\u001b[0m     data, fns, _ \u001b[38;5;241m=\u001b[39m _transform_pandas_df(data, enable_categorical)\n\u001b[0;32m   2415\u001b[0m     \u001b[38;5;28;01mif\u001b[39;00m validate_features:\n\u001b[1;32m-> 2416\u001b[0m         \u001b[38;5;28;43mself\u001b[39;49m\u001b[38;5;241;43m.\u001b[39;49m\u001b[43m_validate_features\u001b[49m\u001b[43m(\u001b[49m\u001b[43mfns\u001b[49m\u001b[43m)\u001b[49m\n\u001b[0;32m   2417\u001b[0m \u001b[38;5;28;01mif\u001b[39;00m _is_list(data) \u001b[38;5;129;01mor\u001b[39;00m _is_tuple(data):\n\u001b[0;32m   2418\u001b[0m     data \u001b[38;5;241m=\u001b[39m np\u001b[38;5;241m.\u001b[39marray(data)\n",
      "File \u001b[1;32m~\\anaconda3\\envs\\ml\\lib\\site-packages\\xgboost\\core.py:2968\u001b[0m, in \u001b[0;36mBooster._validate_features\u001b[1;34m(self, feature_names)\u001b[0m\n\u001b[0;32m   2962\u001b[0m \u001b[38;5;28;01mif\u001b[39;00m my_missing:\n\u001b[0;32m   2963\u001b[0m     msg \u001b[38;5;241m+\u001b[39m\u001b[38;5;241m=\u001b[39m (\n\u001b[0;32m   2964\u001b[0m         \u001b[38;5;124m\"\u001b[39m\u001b[38;5;130;01m\\n\u001b[39;00m\u001b[38;5;124mtraining data did not have the following fields: \u001b[39m\u001b[38;5;124m\"\u001b[39m\n\u001b[0;32m   2965\u001b[0m         \u001b[38;5;241m+\u001b[39m \u001b[38;5;124m\"\u001b[39m\u001b[38;5;124m, \u001b[39m\u001b[38;5;124m\"\u001b[39m\u001b[38;5;241m.\u001b[39mjoin(\u001b[38;5;28mstr\u001b[39m(s) \u001b[38;5;28;01mfor\u001b[39;00m s \u001b[38;5;129;01min\u001b[39;00m my_missing)\n\u001b[0;32m   2966\u001b[0m     )\n\u001b[1;32m-> 2968\u001b[0m \u001b[38;5;28;01mraise\u001b[39;00m \u001b[38;5;167;01mValueError\u001b[39;00m(msg\u001b[38;5;241m.\u001b[39mformat(\u001b[38;5;28mself\u001b[39m\u001b[38;5;241m.\u001b[39mfeature_names, feature_names))\n",
      "\u001b[1;31mValueError\u001b[0m: feature_names mismatch: ['SellerRating', 'SellerRevCnt', 'VehCertified', 'VehListdays', 'VehMileage', 'SellerListSrc_Cadillac_Certified_Program', 'SellerListSrc_Digital_Motorworks_(DMi)', 'SellerListSrc_Five_Star_Certified_Program', 'SellerListSrc_HomeNet_Automotive', 'SellerListSrc_Inventory_Command_Center', 'SellerListSrc_Jeep_Certified_Program', 'SellerListSrc_My_Dealer_Center', 'SellerListSrc_Sell_It_Yourself', 'VehFuel_Diesel', 'VehFuel_E85_Flex_Fuel', 'VehFuel_Gasoline', 'VehFuel_Unknown', 'SellerState_AK', 'SellerState_AL', 'SellerState_AR', 'SellerState_AZ', 'SellerState_CA', 'SellerState_CO', 'SellerState_CT', 'SellerState_DE', 'SellerState_FL', 'SellerState_GA', 'SellerState_HI', 'SellerState_IA', 'SellerState_ID', 'SellerState_IL', 'SellerState_IN', 'SellerState_KS', 'SellerState_KY', 'SellerState_LA', 'SellerState_MA', 'SellerState_MD', 'SellerState_ME', 'SellerState_MI', 'SellerState_MN', 'SellerState_MO', 'SellerState_MS', 'SellerState_MT', 'SellerState_NC', 'SellerState_ND', 'SellerState_NE', 'SellerState_NH', 'SellerState_NJ', 'SellerState_NM', 'SellerState_NV', 'SellerState_NY', 'SellerState_OH', 'SellerState_OK', 'SellerState_OR', 'SellerState_PA', 'SellerState_RI', 'SellerState_SC', 'SellerState_SD', 'SellerState_TN', 'SellerState_TX', 'SellerState_UT', 'SellerState_VA', 'SellerState_VT', 'SellerState_WA', 'SellerState_WI', 'SellerState_WV', 'SellerState_WY', 'VehAge', 'VehDrive_all_drive', 'VehDrive_front_drive', 'VehDrive_other', 'VehFeatsCount', 'BasicExtColor_Black', 'BasicExtColor_Blue', 'BasicExtColor_Brown', 'BasicExtColor_Gold', 'BasicExtColor_Gray', 'BasicExtColor_Other', 'BasicExtColor_Red', 'BasicExtColor_Silver', 'BasicExtColor_White', 'ContainsLeather', 'Displacement', 'Engine_Category_Diesel', 'Engine_Category_Hemi', 'Engine_Category_Other', 'Engine_Category_Supercharged', 'Engine_Category_Turbo', 'Num_Owners', 'AccidentReported', 'NonPersonalUse', 'TitleIssues', 'BuybackProtection', 'Is_Jeep'] ['SellerRating', 'SellerRevCnt', 'VehCertified', 'VehListdays', 'VehMileage', 'SellerListSrc_Cadillac_Certified_Program', 'SellerListSrc_Digital_Motorworks_(DMi)', 'SellerListSrc_HomeNet_Automotive', 'SellerListSrc_Inventory_Command_Center', 'SellerListSrc_Jeep_Certified_Program', 'SellerListSrc_My_Dealer_Center', 'SellerListSrc_Sell_It_Yourself', 'VehFuel_Diesel', 'VehFuel_E85_Flex_Fuel', 'VehFuel_Gasoline', 'SellerState_AK', 'SellerState_AL', 'SellerState_AR', 'SellerState_AZ', 'SellerState_CA', 'SellerState_CO', 'SellerState_CT', 'SellerState_DE', 'SellerState_FL', 'SellerState_GA', 'SellerState_IA', 'SellerState_ID', 'SellerState_IL', 'SellerState_IN', 'SellerState_KS', 'SellerState_KY', 'SellerState_LA', 'SellerState_MA', 'SellerState_MD', 'SellerState_MI', 'SellerState_MN', 'SellerState_MO', 'SellerState_MS', 'SellerState_NC', 'SellerState_ND', 'SellerState_NE', 'SellerState_NH', 'SellerState_NJ', 'SellerState_NV', 'SellerState_NY', 'SellerState_OH', 'SellerState_OK', 'SellerState_PA', 'SellerState_RI', 'SellerState_SC', 'SellerState_SD', 'SellerState_TN', 'SellerState_TX', 'SellerState_UT', 'SellerState_VA', 'SellerState_WA', 'SellerState_WI', 'SellerState_WV', 'SellerState_WY', 'VehAge', 'VehDrive_all_drive', 'VehDrive_front_drive', 'VehDrive_other', 'VehFeatsCount', 'BasicExtColor_Black', 'BasicExtColor_Blue', 'BasicExtColor_Brown', 'BasicExtColor_Gray', 'BasicExtColor_Other', 'BasicExtColor_Red', 'BasicExtColor_Silver', 'BasicExtColor_White', 'ContainsLeather', 'Displacement', 'Engine_Category_Hemi', 'Engine_Category_Other', 'Engine_Category_Supercharged', 'Engine_Category_Turbo', 'Num_Owners', 'AccidentReported', 'NonPersonalUse', 'TitleIssues', 'BuybackProtection', 'Is_Jeep']\nexpected VehFuel_Unknown, SellerState_MT, SellerState_VT, SellerState_OR, Engine_Category_Diesel, SellerState_ME, SellerState_HI, BasicExtColor_Gold, SellerState_NM, SellerListSrc_Five_Star_Certified_Program in input data"
     ]
    }
   ],
   "source": [
    "y_test_prob  = final_model.predict_proba(X_test)\n",
    "y_pred_label = np.argmax(y_test_prob, axis=1)"
   ]
  },
  {
   "cell_type": "code",
   "execution_count": null,
   "id": "66e2e531",
   "metadata": {
    "scrolled": true
   },
   "outputs": [],
   "source": [
    "X.info()"
   ]
  },
  {
   "cell_type": "code",
   "execution_count": null,
   "id": "7ab4451d",
   "metadata": {},
   "outputs": [],
   "source": [
    "def compare_distributions(train, test, column_name):\n",
    "    ALPHA=0.4\n",
    "    \n",
    "    plt.figure()\n",
    "    plt.title(column_name)\n",
    "    sns.histplot(train[column_name], label='Train', alpha=ALPHA,color='blue')\n",
    "    sns.histplot(test[column_name], label='Test', alpha=ALPHA,color='red')\n",
    "    plt.xlabel(column_name)\n",
    "    plt.ylabel('Counts')\n",
    "    plt.grid()\n",
    "    plt.legend()\n",
    "    plt.show()\n",
    "\n",
    "# Example usage:\n",
    "compare_distributions(X, X_test, 'SellerRating')\n",
    "compare_distributions(X, X_test, 'Displacement')"
   ]
  },
  {
   "cell_type": "code",
   "execution_count": null,
   "id": "52effa99",
   "metadata": {},
   "outputs": [],
   "source": [
    "    ALPHA=0.4\n",
    "    \n",
    "    plt.figure()\n",
    "    plt.title(column_name)\n",
    "    sns.histplot(train[column_name], label='Train', alpha=ALPHA,color='blue')\n",
    "    sns.histplot(test[column_name], label='Test', alpha=ALPHA,color='red')\n",
    "    plt.xlabel(column_name)\n",
    "    plt.ylabel('Counts')\n",
    "    plt.grid()\n",
    "    plt.legend()\n",
    "    plt.show()\n"
   ]
  },
  {
   "cell_type": "code",
   "execution_count": null,
   "id": "e37d983d",
   "metadata": {},
   "outputs": [],
   "source": []
  },
  {
   "cell_type": "markdown",
   "id": "af10fc76",
   "metadata": {},
   "source": [
    "### VehMakeCadilac!!!! - change\n",
    "### Do the same on test set, and change above from test to valid? "
   ]
  },
  {
   "cell_type": "code",
   "execution_count": null,
   "id": "ac2cca61",
   "metadata": {},
   "outputs": [],
   "source": []
  },
  {
   "cell_type": "code",
   "execution_count": null,
   "id": "69e9f97f",
   "metadata": {},
   "outputs": [],
   "source": []
  },
  {
   "cell_type": "code",
   "execution_count": null,
   "id": "55b57208",
   "metadata": {},
   "outputs": [],
   "source": []
  },
  {
   "cell_type": "code",
   "execution_count": null,
   "id": "7e83d28d",
   "metadata": {},
   "outputs": [],
   "source": []
  },
  {
   "cell_type": "code",
   "execution_count": null,
   "id": "842bfe70",
   "metadata": {},
   "outputs": [],
   "source": []
  },
  {
   "cell_type": "code",
   "execution_count": null,
   "id": "90698dce",
   "metadata": {},
   "outputs": [],
   "source": []
  },
  {
   "cell_type": "code",
   "execution_count": null,
   "id": "242746ec",
   "metadata": {},
   "outputs": [],
   "source": []
  },
  {
   "cell_type": "code",
   "execution_count": null,
   "id": "b86f6d7b",
   "metadata": {},
   "outputs": [],
   "source": []
  },
  {
   "cell_type": "code",
   "execution_count": null,
   "id": "33172643",
   "metadata": {},
   "outputs": [],
   "source": []
  },
  {
   "cell_type": "code",
   "execution_count": null,
   "id": "a97664e7",
   "metadata": {},
   "outputs": [],
   "source": []
  },
  {
   "cell_type": "code",
   "execution_count": null,
   "id": "cc66ca75",
   "metadata": {},
   "outputs": [],
   "source": []
  },
  {
   "cell_type": "code",
   "execution_count": null,
   "id": "3e570b38",
   "metadata": {},
   "outputs": [],
   "source": []
  },
  {
   "cell_type": "code",
   "execution_count": null,
   "id": "04edb748",
   "metadata": {},
   "outputs": [],
   "source": []
  },
  {
   "cell_type": "code",
   "execution_count": null,
   "id": "a99c0606",
   "metadata": {},
   "outputs": [],
   "source": []
  },
  {
   "cell_type": "code",
   "execution_count": null,
   "id": "a5f0d37d",
   "metadata": {},
   "outputs": [],
   "source": []
  },
  {
   "cell_type": "code",
   "execution_count": null,
   "id": "a79e927b",
   "metadata": {},
   "outputs": [],
   "source": []
  },
  {
   "cell_type": "code",
   "execution_count": null,
   "id": "1ed06b69",
   "metadata": {},
   "outputs": [],
   "source": []
  },
  {
   "cell_type": "code",
   "execution_count": null,
   "id": "e0fa4ae0",
   "metadata": {},
   "outputs": [],
   "source": []
  }
 ],
 "metadata": {
  "kernelspec": {
   "display_name": "Python 3 (ipykernel)",
   "language": "python",
   "name": "python3"
  },
  "language_info": {
   "codemirror_mode": {
    "name": "ipython",
    "version": 3
   },
   "file_extension": ".py",
   "mimetype": "text/x-python",
   "name": "python",
   "nbconvert_exporter": "python",
   "pygments_lexer": "ipython3",
   "version": "3.10.9"
  }
 },
 "nbformat": 4,
 "nbformat_minor": 5
}
